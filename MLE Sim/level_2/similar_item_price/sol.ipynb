{
 "cells": [
  {
   "cell_type": "code",
   "execution_count": 30,
   "metadata": {},
   "outputs": [],
   "source": [
    "import pandas as pd\n",
    "import numpy as np\n",
    "from typing import Dict, Tuple, List\n",
    "from itertools import combinations"
   ]
  },
  {
   "cell_type": "code",
   "execution_count": 9,
   "metadata": {},
   "outputs": [],
   "source": [
    "embeddings = {\n",
    "    1: np.array([-26.57, -76.61, 81.61, -9.11, 74.8, 54.23, 32.56, -22.62, -72.44, -82.78]),\n",
    "    2: np.array([-55.98, 82.87, 86.07, 18.71, -18.66, -46.74, -68.18, 60.29, 98.92, -78.95]),\n",
    "    3: np.array([-27.97, 25.39, -96.85, 3.51, 95.57, -27.48, -80.27, 8.39, 89.96, -36.68]),\n",
    "    4: np.array([-37.0, -49.39, 43.3, 73.36, 29.98, -56.44, -15.91, -56.46, 24.54, 12.43]),\n",
    "    5: np.array([-22.71, 4.47, -65.42, 10.11, 98.34, 17.96, -10.77, 2.5, -26.55, 69.16])\n",
    "}\n",
    "\n",
    "\n",
    "prices = {\n",
    "    1: 100.5,\n",
    "    2: 12.2,\n",
    "    3: 60.0,\n",
    "    4: 11.1,\n",
    "    5: 245.2\n",
    "}\n"
   ]
  },
  {
   "cell_type": "code",
   "execution_count": 97,
   "metadata": {},
   "outputs": [],
   "source": [
    "@staticmethod\n",
    "def similarity(embeddings: Dict[int, np.ndarray]) -> Dict[Tuple[int, int], float]:\n",
    "    \"\"\"Calculate pairwise similarities between each item\n",
    "    in embedding.\n",
    "\n",
    "    Args:\n",
    "        embeddings (Dict[int, np.ndarray]): Items embeddings.\n",
    "\n",
    "    Returns:\n",
    "        Tuple[List[str], Dict[Tuple[int, int], float]]:\n",
    "        List of all items + Pairwise similarities dict\n",
    "        Keys are in form of (i, j) - combinations pairs of item_ids\n",
    "        with i < j.\n",
    "        Round each value to 8 decimal places.\n",
    "    \"\"\"\n",
    "    possible_combinations = list(combinations(embeddings.keys(), 2))\n",
    "    \n",
    "    def get_similarity(first_product: np.array, second_product: np.array) -> float:\n",
    "        \"\"\"\n",
    "        Func calculates cosine distance between embeddings\n",
    "\n",
    "        Parameters\n",
    "        ----------\n",
    "        first_product : np.array[float]\n",
    "            first product embedding\n",
    "        second_product : np.array[float]\n",
    "            second product embedding\n",
    "\n",
    "        Returns\n",
    "        -------\n",
    "        float\n",
    "            Cosine distance\n",
    "        \"\"\"\n",
    "        return round(sum(first_product * second_product) / (np.sqrt(sum(first_product ** 2)) * np.sqrt(sum(second_product ** 2))), 8)\n",
    "        \n",
    "    result_dict = {}\n",
    "    for i in possible_combinations:\n",
    "        result_dict[i] = get_similarity(embeddings[i[0]], embeddings[i[1]]) \n",
    "        \n",
    "    return result_dict\n"
   ]
  },
  {
   "cell_type": "code",
   "execution_count": 130,
   "metadata": {},
   "outputs": [],
   "source": [
    "@staticmethod\n",
    "def knn(\n",
    "    sim: Dict[Tuple[int, int], float], top: int\n",
    ") -> Dict[int, List[Tuple[int, float]]]:\n",
    "    \"\"\"Return closest neighbors for each item.\n",
    "\n",
    "    Args:\n",
    "        sim (Dict[Tuple[int, int], float]): <similarity> method output.\n",
    "        top (int): Number of top neighbors to consider.\n",
    "\n",
    "    Returns:\n",
    "        Dict[int, List[Tuple[int, float]]]: Dict with top closest neighbors\n",
    "        for each item.\n",
    "    \"\"\"\n",
    "    sorted_dict = dict(sorted(sim.items(), key=lambda x: x[1], reverse=True))\n",
    "    \n",
    "    n = 1\n",
    "    res_dict = {}\n",
    "    for i in sorted_dict.items():\n",
    "        res_dict[n] = list(i)\n",
    "        n += 1\n",
    "    \n",
    "    return res_dict"
   ]
  },
  {
   "cell_type": "code",
   "execution_count": 142,
   "metadata": {},
   "outputs": [
    {
     "data": {
      "text/plain": [
       "{(3, 5): 0.43696494,\n",
       " (2, 3): 0.31346095,\n",
       " (1, 4): 0.18181101,\n",
       " (2, 4): 0.14582334,\n",
       " (3, 4): 0.10573868,\n",
       " (4, 5): 0.03519999,\n",
       " (1, 5): -0.03886083,\n",
       " (1, 2): -0.15456349,\n",
       " (1, 3): -0.27053417,\n",
       " (2, 5): -0.45207678}"
      ]
     },
     "execution_count": 142,
     "metadata": {},
     "output_type": "execute_result"
    }
   ],
   "source": [
    "t = similarity(embeddings=embeddings)\n",
    "t = dict(sorted(t.items(), key=lambda x: x[1], reverse=True))\n",
    "t"
   ]
  },
  {
   "cell_type": "code",
   "execution_count": 146,
   "metadata": {},
   "outputs": [
    {
     "data": {
      "text/plain": [
       "{1: [(3, 5), 0.43696494], 2: [(2, 3), 0.31346095]}"
      ]
     },
     "execution_count": 146,
     "metadata": {},
     "output_type": "execute_result"
    }
   ],
   "source": [
    "n = 1\n",
    "res_dict = {}\n",
    "for i in t.items():\n",
    "    res_dict[n] = list(i)\n",
    "    n += 1\n",
    "    \n",
    "dict(list(res_dict.items())[:2])"
   ]
  },
  {
   "cell_type": "code",
   "execution_count": 154,
   "metadata": {},
   "outputs": [
    {
     "data": {
      "text/plain": [
       "{1: [(3, 5), 0.43696494], 2: [(2, 3), 0.31346095]}"
      ]
     },
     "execution_count": 154,
     "metadata": {},
     "output_type": "execute_result"
    }
   ],
   "source": [
    "{i: res_dict[i] for i in list(res_dict.keys())[:2]}"
   ]
  },
  {
   "cell_type": "code",
   "execution_count": null,
   "metadata": {},
   "outputs": [],
   "source": []
  }
 ],
 "metadata": {
  "kernelspec": {
   "display_name": "standart_venv",
   "language": "python",
   "name": "python3"
  },
  "language_info": {
   "codemirror_mode": {
    "name": "ipython",
    "version": 3
   },
   "file_extension": ".py",
   "mimetype": "text/x-python",
   "name": "python",
   "nbconvert_exporter": "python",
   "pygments_lexer": "ipython3",
   "version": "3.10.8"
  },
  "orig_nbformat": 4
 },
 "nbformat": 4,
 "nbformat_minor": 2
}
