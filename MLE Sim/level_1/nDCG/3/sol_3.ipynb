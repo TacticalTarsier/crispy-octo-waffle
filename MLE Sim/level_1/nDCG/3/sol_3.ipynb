{
 "cells": [
  {
   "cell_type": "code",
   "execution_count": 101,
   "metadata": {},
   "outputs": [],
   "source": [
    "from typing import List\n",
    "\n",
    "import numpy as np\n",
    "\n",
    "\n",
    "def normalized_dcg(relevance: List[float], k: int, method: str = \"standard\") -> float:\n",
    "    \"\"\"Normalized Discounted Cumulative Gain.\n",
    "\n",
    "    Parameters\n",
    "    ----------\n",
    "    relevance : `List[float]`\n",
    "        Video relevance list\n",
    "    k : `int`\n",
    "        Count relevance to compute\n",
    "    method : `str`, optional\n",
    "        Metric implementation method, takes the values\n",
    "        `standard` - adds weight to the denominator\n",
    "        `industry` - adds weights to the numerator and denominator\n",
    "        `raise ValueError` - for any value\n",
    "\n",
    "    Returns\n",
    "    -------\n",
    "    score : `float`\n",
    "        Metric score\n",
    "    \"\"\"\n",
    "    relevance = np.array(relevance[:k])\n",
    "    sorted_relevance = -np.sort(-relevance)[:k]\n",
    "    l_arr = np.log2(np.arange(2, k + 2))\n",
    "\n",
    "    if method == 'standard':\n",
    "        dcg = np.sum(relevance / l_arr)\n",
    "        idcg = np.sum(sorted_relevance / l_arr)\n",
    "        return dcg / idcg\n",
    "    if method == 'industry':\n",
    "        dcg = np.sum((np.power(2, relevance) - 1) /\n",
    "                     (l_arr))\n",
    "        idcg = np.sum((np.power(2, sorted_relevance) - 1) /\n",
    "                      (l_arr))\n",
    "        return dcg / idcg\n",
    "    raise ValueError\n"
   ]
  },
  {
   "cell_type": "code",
   "execution_count": 102,
   "metadata": {},
   "outputs": [
    {
     "name": "stdout",
     "output_type": "stream",
     "text": [
      "0.9953188437374725\n"
     ]
    }
   ],
   "source": [
    "relevance = [0.99, 0.94, 0.74, 0.88, 0.71, 0.68]\n",
    "k = 5\n",
    "method = 'industry'\n",
    "print(normalized_dcg(relevance, k, method))"
   ]
  }
 ],
 "metadata": {
  "kernelspec": {
   "display_name": ".venv",
   "language": "python",
   "name": "python3"
  },
  "language_info": {
   "codemirror_mode": {
    "name": "ipython",
    "version": 3
   },
   "file_extension": ".py",
   "mimetype": "text/x-python",
   "name": "python",
   "nbconvert_exporter": "python",
   "pygments_lexer": "ipython3",
   "version": "3.11.6"
  }
 },
 "nbformat": 4,
 "nbformat_minor": 2
}
