{
 "cells": [
  {
   "cell_type": "code",
   "execution_count": 119,
   "metadata": {},
   "outputs": [],
   "source": [
    "from typing import List\n",
    "from functools import reduce\n",
    "\n",
    "def sales_with_tax(sales: List[float], tax_rate: float, threshold: float = 300) -> List[float]:\n",
    "    sales_filtered = list(filter(lambda x: x > threshold, sales))\n",
    "    sales_taxed = list(map(lambda x: x * (1 + tax_rate), sales_filtered))\n",
    "    \n",
    "    return sales_taxed\n",
    "\n",
    "def sum_sales(sales: List[float], threshold: float = 300) -> float:\n",
    "    sales_filtered = list(filter(lambda x: x > threshold, sales))\n",
    "    sales_sum = float(reduce(lambda x, y: x+y, sales_filtered))\n",
    "\n",
    "    return sales_sum\n",
    "\n",
    "def average_age(ages: List[int], threshold: int = 30) -> float:\n",
    "    ages_filtered = list(filter(lambda x: x > threshold, ages))\n",
    "    ages_sum = reduce(lambda x, y: x+y, ages_filtered)\n",
    "    ages_len = len(ages_filtered)\n",
    "    \n",
    "    return ages_sum / ages_len\n",
    "\n",
    "def increased_prices(prices: List[float], increase_rate: int = 0.2, threshold: float = 300) -> List[float]:\n",
    "    increased_prices = list(map(lambda x: x * (1 + increase_rate), prices))\n",
    "    filtered_prices = list(filter(lambda x: x > threshold, increased_prices))\n",
    "    \n",
    "    return filtered_prices\n",
    "\n",
    "def weighted_sale_price(sales: List[float]) -> float:\n",
    "    sales_cnt = int(reduce(lambda x, y: x + y, list(map(lambda x: x[1], sales))))\n",
    "    sales_w = list(map(lambda x: x[0] * x[1] / sales_cnt, sales))\n",
    "\n",
    "    return float(reduce(lambda x, y: (x + y) / len(sales_w), sales_w))\n"
   ]
  },
  {
   "cell_type": "code",
   "execution_count": 139,
   "metadata": {},
   "outputs": [],
   "source": [
    "def weighted_sale_price(sales: List[float]) -> float:\n",
    "    sales_cnt = int(reduce(lambda x, y: x + y, list(map(lambda x: x[1], sales))))\n",
    "    sales_w = list(map(lambda x: x[0] * x[1], sales))\n",
    "\n",
    "    return reduce(lambda x, y: x + y, sales_w) / sales_cnt"
   ]
  },
  {
   "cell_type": "code",
   "execution_count": 140,
   "metadata": {},
   "outputs": [
    {
     "data": {
      "text/plain": [
       "366.6666666666667"
      ]
     },
     "execution_count": 140,
     "metadata": {},
     "output_type": "execute_result"
    }
   ],
   "source": [
    "weighted_sale_price([(100, 1), (200, 2), (300, 3), (400, 4), (500, 5)])"
   ]
  },
  {
   "cell_type": "code",
   "execution_count": null,
   "metadata": {},
   "outputs": [],
   "source": []
  }
 ],
 "metadata": {
  "kernelspec": {
   "display_name": ".venv",
   "language": "python",
   "name": "python3"
  },
  "language_info": {
   "codemirror_mode": {
    "name": "ipython",
    "version": 3
   },
   "file_extension": ".py",
   "mimetype": "text/x-python",
   "name": "python",
   "nbconvert_exporter": "python",
   "pygments_lexer": "ipython3",
   "version": "3.11.6"
  }
 },
 "nbformat": 4,
 "nbformat_minor": 2
}
