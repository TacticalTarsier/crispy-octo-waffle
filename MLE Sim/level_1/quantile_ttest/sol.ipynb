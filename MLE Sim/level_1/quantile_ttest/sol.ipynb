{
 "cells": [
  {
   "cell_type": "code",
   "execution_count": 4,
   "metadata": {},
   "outputs": [],
   "source": [
    "from typing import List, Tuple\n",
    "from scipy.stats import ttest_ind\n",
    "import numpy as np"
   ]
  },
  {
   "cell_type": "code",
   "execution_count": 3,
   "metadata": {},
   "outputs": [],
   "source": [
    "def ttest(\n",
    "    control: List[float],\n",
    "    experiment: List[float],\n",
    "    alpha: float = 0.05,\n",
    ") -> Tuple[float, bool]:\n",
    "    \"\"\"Two-sample t-test for the means of two independent samples\"\"\"\n",
    "\n",
    "    _, p_value = ttest_ind(a=control,\n",
    "                           b=experiment)\n",
    "\n",
    "    result = bool(p_value <= alpha)\n",
    "\n",
    "    return p_value, result"
   ]
  },
  {
   "cell_type": "code",
   "execution_count": null,
   "metadata": {},
   "outputs": [],
   "source": [
    "from typing import List, Tuple\n",
    "\n",
    "import numpy as np\n",
    "from scipy.stats import ttest_ind\n",
    "\n",
    "\n",
    "def bootstrapped_quantile(x: List[float], n_bootstraps: int = 10_000, quantile: float = 0.5) -> List[float]:\n",
    "    \"\"\"Bootstrapped median distribution\"\"\"\n",
    "    bootstrapped = []\n",
    "\n",
    "    for _ in range(n_bootstraps):\n",
    "        bootstrapped_sample = np.random.choice(x, size=len(x), replace=True)\n",
    "        bootstrapped.append(np.quantile(bootstrapped_sample, quantile))\n",
    "\n",
    "    return bootstrapped\n",
    "\n",
    "\n",
    "def quantile_ttest(\n",
    "    control: List[float],\n",
    "    experiment: List[float],\n",
    "    alpha: float = 0.05,\n",
    "    quantile: float = 0.95,\n",
    "    n_bootstraps: int = 1000,\n",
    ") -> Tuple[float, bool]:\n",
    "    \"\"\"\n",
    "    Bootstrapped t-test for quantiles of two samples.\n",
    "    \"\"\"\n",
    "    control_quantiles = bootstrapped_quantile(control, quantile=quantile)\n",
    "    experiment_quantiles = bootstrapped_quantile(experiment, quantile=quantile)\n",
    "\n",
    "    _, p_value = ttest_ind(control_quantiles, experiment_quantiles)\n",
    "\n",
    "    result = bool(p_value <= alpha)\n",
    "    return p_value, result"
   ]
  }
 ],
 "metadata": {
  "kernelspec": {
   "display_name": "standart_venv",
   "language": "python",
   "name": "python3"
  },
  "language_info": {
   "codemirror_mode": {
    "name": "ipython",
    "version": 3
   },
   "file_extension": ".py",
   "mimetype": "text/x-python",
   "name": "python",
   "nbconvert_exporter": "python",
   "pygments_lexer": "ipython3",
   "version": "3.10.10"
  },
  "orig_nbformat": 4
 },
 "nbformat": 4,
 "nbformat_minor": 2
}
