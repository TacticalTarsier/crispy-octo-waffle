{
 "cells": [
  {
   "cell_type": "code",
   "execution_count": 23,
   "metadata": {},
   "outputs": [
    {
     "name": "stdout",
     "output_type": "stream",
     "text": [
      "1 Sophia Garcia\n",
      "2 Max Miller\n",
      "3 Liam Miller\n"
     ]
    }
   ],
   "source": [
    "import random\n",
    "\n",
    "\n",
    "def username_generator(n: int, first_names: list = custom_first_names, last_names: list = custom_last_names) -> dict:\n",
    "    \"\"\"Generates dict with ids, names of a username\n",
    "\n",
    "    Args:\n",
    "        n (int): _description_\n",
    "        first_names (str, optional): _description_. Defaults to None.\n",
    "        last_names (str, optional): _description_. Defaults to None.\n",
    "\n",
    "    Yields:\n",
    "        dict: usernames and ids dict\n",
    "    \"\"\"\n",
    "    for i in range(1, n+1):\n",
    "        yield {'id': i,\n",
    "               'first_name': random.choice(first_names),\n",
    "               'last_name': random.choice(last_names)}\n",
    "\n",
    "\n",
    "# Example of use\n",
    "custom_first_names = [\"Max\", \"Sophia\", \"Liam\"]\n",
    "custom_last_names = [\"Miller\", \"Davis\", \"Garcia\"]\n",
    "for user in username_generator(3, custom_first_names, custom_last_names):\n",
    "    print(user['id'], user['first_name'], user['last_name'])"
   ]
  },
  {
   "cell_type": "code",
   "execution_count": 20,
   "metadata": {},
   "outputs": [
    {
     "name": "stdout",
     "output_type": "stream",
     "text": [
      "(0, 57)\n",
      "(1, 12)\n",
      "(2, 0)\n"
     ]
    }
   ],
   "source": [
    "\n",
    "\n",
    "def data_generator(n: int):\n",
    "    \"\"\"Generates tuple of two value: (x, y)\n",
    "\n",
    "    Args:\n",
    "        n (int): number of points\n",
    "\n",
    "    Yields:\n",
    "        Tuple: (x, y))\n",
    "    \"\"\"\n",
    "    for i in range(0, n):\n",
    "        yield (i, random.randint(0, 100))\n",
    "\n",
    "\n",
    "# Example of use\n",
    "for data in data_generator(3):\n",
    "    print(data)\n",
    "\n",
    "# Example of output:\n",
    "# (0, 49)\n",
    "# (1, 27)\n",
    "# (2, 88)"
   ]
  }
 ],
 "metadata": {
  "kernelspec": {
   "display_name": "standart_venv",
   "language": "python",
   "name": "python3"
  },
  "language_info": {
   "codemirror_mode": {
    "name": "ipython",
    "version": 3
   },
   "file_extension": ".py",
   "mimetype": "text/x-python",
   "name": "python",
   "nbconvert_exporter": "python",
   "pygments_lexer": "ipython3",
   "version": "3.11.6"
  }
 },
 "nbformat": 4,
 "nbformat_minor": 2
}
