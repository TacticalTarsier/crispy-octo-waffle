{
 "cells": [
  {
   "cell_type": "code",
   "execution_count": 70,
   "metadata": {},
   "outputs": [],
   "source": [
    "import itertools\n",
    "\n",
    "def word_count_native(texts):\n",
    "    count = {}\n",
    "    for text in texts:\n",
    "        for word in text.split():\n",
    "            count[word] = count.get(word, 0) + 1\n",
    "    return count\n",
    "\n",
    "def word_count(batch, count={}):\n",
    "    for text in batch:\n",
    "        for word in text.split():\n",
    "            count[word] = count.get(word, 0) + 1\n",
    "    return count"
   ]
  },
  {
   "cell_type": "code",
   "execution_count": 73,
   "metadata": {},
   "outputs": [
    {
     "name": "stdout",
     "output_type": "stream",
     "text": [
      "result={'a': 24, 'b': 18, 'c': 18}\n",
      "texts=['a b c', 'a b', 'a', 'a b c', 'a b c', 'a b', 'a', 'c c', 'b c', 'a']\n",
      "result={'a': 8, 'b': 6, 'c': 6}\n"
     ]
    }
   ],
   "source": [
    "batches = [\n",
    "    [\"a b c\", \"a b\", \"a\"],\n",
    "    [\"a b c\", \"a b c\", \"a b\", \"a\"],\n",
    "    [\"c c\", \"b c\", \"a\"],\n",
    "]\n",
    "result = word_count(batches[0])\n",
    "result = word_count(batches[1], result)\n",
    "result = word_count(batches[2], result)\n",
    "print(f\"{result=}\")\n",
    "\n",
    "texts = list(itertools.chain(*batches))\n",
    "print(f\"{texts=}\")\n",
    "result = word_count_native(texts)\n",
    "print(f\"{result=}\")"
   ]
  },
  {
   "cell_type": "code",
   "execution_count": null,
   "metadata": {},
   "outputs": [],
   "source": []
  }
 ],
 "metadata": {
  "kernelspec": {
   "display_name": ".venv",
   "language": "python",
   "name": "python3"
  },
  "language_info": {
   "codemirror_mode": {
    "name": "ipython",
    "version": 3
   },
   "file_extension": ".py",
   "mimetype": "text/x-python",
   "name": "python",
   "nbconvert_exporter": "python",
   "pygments_lexer": "ipython3",
   "version": "3.11.6"
  }
 },
 "nbformat": 4,
 "nbformat_minor": 2
}
