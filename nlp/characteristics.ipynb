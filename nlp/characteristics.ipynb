{
 "cells": [
  {
   "cell_type": "code",
   "execution_count": 1,
   "metadata": {
    "collapsed": false,
    "pycharm": {
     "is_executing": true
    }
   },
   "outputs": [
    {
     "ename": "ModuleNotFoundError",
     "evalue": "No module named 'seaborn'",
     "output_type": "error",
     "traceback": [
      "\u001b[0;31m---------------------------------------------------------------------------\u001b[0m",
      "\u001b[0;31mModuleNotFoundError\u001b[0m                       Traceback (most recent call last)",
      "\u001b[0;32m/var/folders/69/5q4hf9x56rb_wd5yv511rrt80000gn/T/ipykernel_37299/1469964493.py\u001b[0m in \u001b[0;36m<module>\u001b[0;34m\u001b[0m\n\u001b[1;32m      5\u001b[0m \u001b[0;34m\u001b[0m\u001b[0m\n\u001b[1;32m      6\u001b[0m \u001b[0;31m# import matplotlib.pyplot as plt\u001b[0m\u001b[0;34m\u001b[0m\u001b[0;34m\u001b[0m\u001b[0m\n\u001b[0;32m----> 7\u001b[0;31m \u001b[0;32mimport\u001b[0m \u001b[0mseaborn\u001b[0m \u001b[0;32mas\u001b[0m \u001b[0msns\u001b[0m\u001b[0;34m\u001b[0m\u001b[0;34m\u001b[0m\u001b[0m\n\u001b[0m\u001b[1;32m      8\u001b[0m \u001b[0;34m\u001b[0m\u001b[0m\n\u001b[1;32m      9\u001b[0m \u001b[0;32mimport\u001b[0m \u001b[0mpandas\u001b[0m \u001b[0;32mas\u001b[0m \u001b[0mpd\u001b[0m\u001b[0;34m\u001b[0m\u001b[0;34m\u001b[0m\u001b[0m\n",
      "\u001b[0;31mModuleNotFoundError\u001b[0m: No module named 'seaborn'"
     ]
    }
   ],
   "source": [
    "# импорт библиотек\n",
    "import warnings\n",
    "\n",
    "warnings.simplefilter('ignore', UserWarning)\n",
    "\n",
    "# import matplotlib.pyplot as plt\n",
    "import seaborn as sns\n",
    "\n",
    "import pandas as pd\n",
    "import spacy\n",
    "import numpy as np\n",
    "\n",
    "from tqdm import tqdm\n",
    "# from sklearn.model_selection import train_test_split\n",
    "# from sklearn.ensemble import RandomForestClassifier\n",
    "# from sklearn.linear_model import LogisticRegression\n",
    "# from sklearn.metrics import confusion_matrix, classification_report, roc_auc_score\n",
    "\n",
    "# from itertools import product"
   ]
  },
  {
   "cell_type": "code",
   "execution_count": 2,
   "metadata": {
    "pycharm": {
     "is_executing": true
    }
   },
   "outputs": [],
   "source": [
    "sns.set_style('whitegrid')"
   ]
  },
  {
   "cell_type": "code",
   "execution_count": 3,
   "metadata": {
    "pycharm": {
     "is_executing": true
    }
   },
   "outputs": [],
   "source": [
    "# загрузка модели для обработки текста\n",
    "nlp = spacy.load('ru_core_news_lg')"
   ]
  },
  {
   "cell_type": "code",
   "execution_count": 4,
   "metadata": {
    "pycharm": {
     "is_executing": true
    }
   },
   "outputs": [
    {
     "name": "stderr",
     "output_type": "stream",
     "text": [
      "/var/folders/69/5q4hf9x56rb_wd5yv511rrt80000gn/T/ipykernel_5359/3596266331.py:8: DtypeWarning: Columns (6,10) have mixed types. Specify dtype option on import or set low_memory=False.\n",
      "  wb_chars = pd.read_csv('bazungaru_platfo_table_wb_characteristics.csv',\n"
     ]
    }
   ],
   "source": [
    "# import data\n",
    "ozon_cats = pd.read_csv('bazungaru_platfo_table_ozon_categories.csv', names=['id', 'title', 'pid'])\n",
    "ozon_chars = pd.read_csv('bazungaru_platfo_table_ozon_characteristics.csv',\n",
    "                         names=['description', 'dictionary_id', 'group_id', 'group_name', 'id', 'is_collection',\n",
    "                                'is_required', 'name', 'type', 'category_id'])\n",
    "\n",
    "wb_cats = pd.read_csv('bazungaru_platfo_table_wb_categories.csv', names=['id', 'pid', 'title'])\n",
    "wb_chars = pd.read_csv('bazungaru_platfo_table_wb_characteristics.csv',\n",
    "                       names=['id', 'pid', 'object_name', 'charcid', 'name', 'required', 'unitName', 'maxCount',\n",
    "                              'popular', 'aocid', 'aocName', 'charcType', 'allowUserVals', 'sort'])"
   ]
  },
  {
   "cell_type": "code",
   "execution_count": 5,
   "metadata": {
    "pycharm": {
     "is_executing": true
    }
   },
   "outputs": [],
   "source": [
    "ozon_text = ozon_cats['title'].drop_duplicates().reset_index(drop=True).apply(lambda x: x.lower()).to_list()\n",
    "\n",
    "wb_text = wb_cats['title'].drop_duplicates().reset_index(drop=True).apply(lambda x: x.lower()).to_list()"
   ]
  },
  {
   "cell_type": "code",
   "execution_count": 6,
   "metadata": {
    "pycharm": {
     "is_executing": true
    }
   },
   "outputs": [],
   "source": [
    "ozon_cats['title'] = ozon_cats['title'].apply(lambda x: x.lower())\n",
    "\n",
    "wb_cats['title'] = wb_cats['title'].apply(lambda x: x.lower())"
   ]
  },
  {
   "cell_type": "markdown",
   "metadata": {
    "collapsed": false
   },
   "source": [
    "### Многоуровневая классификация"
   ]
  },
  {
   "cell_type": "markdown",
   "metadata": {
    "collapsed": false
   },
   "source": [
    "#### Ozon"
   ]
  },
  {
   "cell_type": "code",
   "execution_count": 7,
   "metadata": {
    "collapsed": false,
    "pycharm": {
     "is_executing": true
    }
   },
   "outputs": [],
   "source": [
    "ozon_merged = ozon_cats.merge(ozon_cats, left_on='id', right_on='pid').rename(columns={'id_x': 'second_id',\n",
    "                                                                                       'id_y': 'third_id'}).merge(\n",
    "    ozon_cats, left_on='pid_x', right_on='id').rename(columns={'title_x': 'second_name',\n",
    "                                                               'title_y': 'third_name',\n",
    "                                                               'title': 'first_name',\n",
    "                                                               'id': 'first_id'})[\n",
    "    ['first_id', 'second_id', 'third_id', 'first_name', 'second_name', 'third_name']]"
   ]
  },
  {
   "cell_type": "markdown",
   "metadata": {
    "collapsed": false
   },
   "source": [
    "#### Wildberries"
   ]
  },
  {
   "cell_type": "code",
   "execution_count": 8,
   "metadata": {
    "collapsed": false
   },
   "outputs": [],
   "source": [
    "wb_merged = wb_cats.merge(wb_chars, left_on='id', right_on='pid').rename(columns={'id_x': 'first_id',\n",
    "                                                                                  'id_y': 'second_id',\n",
    "                                                                                  'title': 'first_name',\n",
    "                                                                                  'object_name': 'second_name'})[\n",
    "    ['first_id', 'second_id', 'first_name', 'second_name']].drop_duplicates().reset_index(drop=True)"
   ]
  },
  {
   "cell_type": "markdown",
   "metadata": {
    "collapsed": false
   },
   "source": [
    "## Предобработка данных, вычисление \"схожести\""
   ]
  },
  {
   "cell_type": "code",
   "execution_count": 9,
   "metadata": {
    "collapsed": false
   },
   "outputs": [],
   "source": [
    "def get_clear_text(x):\n",
    "    doc = nlp(x)\n",
    "    new_text = [token.lemma_ for token in doc if token.lemma_ not in nlp.Defaults.stop_words and not token.is_punct]\n",
    "    vectors = all(token.vector_norm for token in doc)\n",
    "    if vectors:\n",
    "        return ' '.join(new_text)\n",
    "    else:\n",
    "        return 'null_vector'"
   ]
  },
  {
   "cell_type": "code",
   "execution_count": null,
   "metadata": {
    "collapsed": false
   },
   "outputs": [],
   "source": [
    "# списки из объектов spacy\n",
    "ozon_nlp = list(nlp.pipe(ozon_text))\n",
    "wb_nlp = list(nlp.pipe(wb_text))"
   ]
  },
  {
   "cell_type": "markdown",
   "metadata": {},
   "source": [
    "### Первая итерация\n",
    "\n",
    "Не используется предобработка текста"
   ]
  },
  {
   "cell_type": "code",
   "execution_count": null,
   "metadata": {},
   "outputs": [],
   "source": [
    "def get_similarity(first_list, second_list, first_root_list=ozon_text, second_root_list=wb_text):\n",
    "    df = pd.DataFrame()\n",
    "\n",
    "    for i in tqdm(range(len(first_list))):\n",
    "        l = np.array([first_list[i].similarity(k) for k in second_list])\n",
    "        temp_df = pd.DataFrame({'first_list': first_root_list[i],\n",
    "                                'second_list': second_root_list[l.argmax()],\n",
    "                                'similarity': max(l)},\n",
    "                               index=[i])\n",
    "\n",
    "        df = pd.concat([df, temp_df])\n",
    "\n",
    "    return df"
   ]
  },
  {
   "cell_type": "code",
   "execution_count": 58,
   "metadata": {},
   "outputs": [
    {
     "data": {
      "application/vnd.jupyter.widget-view+json": {
       "model_id": "217547875a964405850aa80c47ca2f52",
       "version_major": 2,
       "version_minor": 0
      },
      "text/plain": [
       "  0%|          | 0/10346 [00:00<?, ?it/s]"
      ]
     },
     "metadata": {},
     "output_type": "display_data"
    }
   ],
   "source": [
    "df = get_similarity(ozon_nlp, wb_nlp)"
   ]
  },
  {
   "cell_type": "code",
   "execution_count": 60,
   "metadata": {},
   "outputs": [],
   "source": [
    "def get_group(df):\n",
    "    \"\"\"\n",
    "    Функция добавляет столбец в ДФ в зависимости от \"схожести\"\n",
    "    :param df:  ДФ с метрикой \"схожести\"\n",
    "    \"\"\"\n",
    "    # q = df['similarity'].quantile(0.5)\n",
    "    q = 0.6\n",
    "    df.loc[df['similarity'] >= 1, 'group'] = 'Точное совпадение'\n",
    "    df.loc[(df['similarity'] > q) & (df['similarity'] < 1), 'group'] = 'Хорошее совпадение'\n",
    "    df.loc[df['similarity'] <= q, 'group'] = 'Плохое совпадение'\n",
    "    print('Results are grouped')"
   ]
  },
  {
   "cell_type": "code",
   "execution_count": 61,
   "metadata": {
    "collapsed": false
   },
   "outputs": [
    {
     "name": "stdout",
     "output_type": "stream",
     "text": [
      "Results are grouped\n"
     ]
    }
   ],
   "source": [
    "get_group(df)"
   ]
  },
  {
   "cell_type": "markdown",
   "metadata": {},
   "source": [
    "### Вторая итерация\n",
    "\n",
    "В качестве обработки используются:\n",
    "1. лемматизация слов;\n",
    "2. удаление стоп-слов;\n",
    "3. удаление пунктуации."
   ]
  },
  {
   "cell_type": "code",
   "execution_count": 80,
   "metadata": {},
   "outputs": [],
   "source": [
    "def preprocess_data(l):\n",
    "    \"\"\"\n",
    "    Функция обрабатывает подаваемый список: лемматизирует слова, удаляем стоп-слова и пунктуацию.\n",
    "\n",
    "    :param l: список из объектов spacy\n",
    "    :return: обработанный список из объектов spacy, обработанный список из строк, список нулевых векторов\n",
    "    \"\"\"\n",
    "    res_list_lemma = []\n",
    "    res_list_text = []\n",
    "    null_vectors_list = []\n",
    "\n",
    "    for chunk in tqdm(range(len(l))):\n",
    "        new_chunk_lemma = ' '.join(\n",
    "            [token.lemma_ for token in l[chunk] if not token.is_punct and token.lemma_ not in nlp.Defaults.stop_words])\n",
    "        new_chunk_text = ' '.join([token.text for token in l[chunk]])\n",
    "        has_null_vector = int(not all([token.vector_norm for token in nlp(new_chunk_lemma)]))\n",
    "\n",
    "        if has_null_vector:\n",
    "            null_vectors_list.append(l[chunk])\n",
    "        else:\n",
    "            res_list_lemma.append(new_chunk_lemma)\n",
    "            res_list_text.append(new_chunk_text)\n",
    "\n",
    "    return list(nlp.pipe(res_list_lemma)), res_list_text, set(null_vectors_list)"
   ]
  },
  {
   "cell_type": "code",
   "execution_count": 66,
   "metadata": {},
   "outputs": [
    {
     "data": {
      "application/vnd.jupyter.widget-view+json": {
       "model_id": "5794e28a271f41c68cbdcc963eb4bdad",
       "version_major": 2,
       "version_minor": 0
      },
      "text/plain": [
       "  0%|          | 0/10346 [00:00<?, ?it/s]"
      ]
     },
     "metadata": {},
     "output_type": "display_data"
    },
    {
     "data": {
      "application/vnd.jupyter.widget-view+json": {
       "model_id": "cc4eabfb6e024b168d4ce7b326743b84",
       "version_major": 2,
       "version_minor": 0
      },
      "text/plain": [
       "  0%|          | 0/7368 [00:00<?, ?it/s]"
      ]
     },
     "metadata": {},
     "output_type": "display_data"
    }
   ],
   "source": [
    "ozon_second_lemma, ozon_second_text, ozon_second_null = preprocess_data(ozon_nlp)\n",
    "wb_second_lemma, wb_second_text, wb_second_null = preprocess_data(wb_nlp)"
   ]
  },
  {
   "cell_type": "code",
   "execution_count": 68,
   "metadata": {},
   "outputs": [
    {
     "data": {
      "application/vnd.jupyter.widget-view+json": {
       "model_id": "9a8795862eef4106a3c6558c291525b7",
       "version_major": 2,
       "version_minor": 0
      },
      "text/plain": [
       "  0%|          | 0/7773 [00:00<?, ?it/s]"
      ]
     },
     "metadata": {},
     "output_type": "display_data"
    },
    {
     "name": "stdout",
     "output_type": "stream",
     "text": [
      "Results are grouped\n"
     ]
    }
   ],
   "source": [
    "second_res = get_similarity(ozon_second_lemma, wb_second_lemma, ozon_second_text, wb_second_text)\n",
    "get_group(second_res)"
   ]
  },
  {
   "cell_type": "markdown",
   "metadata": {},
   "source": [
    "### Третья итерация\n",
    "\n",
    "В качестве обработки используются:\n",
    "1. лемматизация слов;\n",
    "2. удаление стоп-слов;\n",
    "3. удаление пунктуации;\n",
    "4. сравниваются только одинаковые по количеству слов характеристики."
   ]
  },
  {
   "cell_type": "code",
   "execution_count": null,
   "metadata": {},
   "outputs": [],
   "source": [
    "def get_similarity_len(first_list, second_list):\n",
    "    df = pd.DataFrame()\n",
    "\n",
    "    for i in tqdm.notebook.tqdm_notebook(range(len(first_list))):\n",
    "        l = np.array([first_list[i].similarity(k) for k in second_list if len(first_list[i]) == len(k)])\n",
    "        try:\n",
    "            temp_df = pd.DataFrame({'first_list': first_list[i].text,\n",
    "                                    'second_list': second_list[l.argmax()].text,\n",
    "                                    'similarity': max(l)},\n",
    "                                   index=[i])\n",
    "        except:\n",
    "            temp_df = pd.DataFrame({'first_list': first_list[i].text,\n",
    "                                    'second_list': -1,\n",
    "                                    'similarity': -1},\n",
    "                                   index=[i])\n",
    "\n",
    "        df = pd.concat([df, temp_df])\n",
    "\n",
    "    return df"
   ]
  },
  {
   "cell_type": "code",
   "execution_count": null,
   "metadata": {},
   "outputs": [],
   "source": [
    "third_res = get_similarity_len(ozon_second, wb_second)"
   ]
  },
  {
   "cell_type": "markdown",
   "metadata": {},
   "source": [
    "### Четвёртая итерация\n",
    "\n",
    "В качестве обработки используются:\n",
    "1. удаление стоп-слов;\n",
    "2. удаление пунктуации"
   ]
  },
  {
   "cell_type": "code",
   "execution_count": null,
   "metadata": {},
   "outputs": [],
   "source": [
    "def preprocess_data_text(l):\n",
    "    \"\"\"\n",
    "    Args:\n",
    "        l (list): list of spacy objects\n",
    "\n",
    "    Returns:\n",
    "        list of preprocessed objects and list of objects with null vectors\n",
    "    \"\"\"\n",
    "\n",
    "    res_list = []\n",
    "    null_vectors_list = []\n",
    "\n",
    "    for chunk in tqdm.notebook.tqdm_notebook(range(len(l))):\n",
    "        new_chunk = ' '.join(\n",
    "            [token.text for token in l[chunk] if not token.is_punct and token.lemma_ not in nlp.Defaults.stop_words])\n",
    "        has_null_vector = int(not all([token.vector_norm for token in nlp(new_chunk)]))\n",
    "\n",
    "        if has_null_vector:\n",
    "            null_vectors_list.append(l[chunk])\n",
    "        else:\n",
    "            res_list.append(new_chunk)\n",
    "\n",
    "    return list(nlp.pipe(res_list)), null_vectors_list"
   ]
  },
  {
   "cell_type": "code",
   "execution_count": null,
   "metadata": {},
   "outputs": [],
   "source": [
    "ozon_prep_text, ozon_nulls = preprocess_data_text(ozon_nlp)\n",
    "wb_prep_text, wb_null = preprocess_data_text(wb_nlp)"
   ]
  },
  {
   "cell_type": "code",
   "execution_count": null,
   "metadata": {},
   "outputs": [],
   "source": [
    "fourth_res = get_similarity(ozon_prep_text, wb_prep_text)"
   ]
  },
  {
   "cell_type": "code",
   "execution_count": null,
   "metadata": {},
   "outputs": [],
   "source": [
    "fourth_res.sort_values('similarity', ascending=False)"
   ]
  },
  {
   "cell_type": "markdown",
   "metadata": {},
   "source": [
    "### Пятая итерация\n",
    "Предобработка не осуществляется"
   ]
  },
  {
   "cell_type": "code",
   "execution_count": null,
   "metadata": {},
   "outputs": [],
   "source": [
    "def preprocess_data_5(l):\n",
    "    \"\"\"\n",
    "    Args:\n",
    "        l (list): list of spacy objects\n",
    "\n",
    "    Returns:\n",
    "        list of preprocessed objects and list of objects with null vectors\n",
    "    \"\"\"\n",
    "\n",
    "    res_list = []\n",
    "    null_vectors_list = []\n",
    "\n",
    "    for chunk in tqdm.notebook.tqdm_notebook(range(len(l))):\n",
    "        new_chunk = ' '.join([token.text for token in l[chunk]])\n",
    "        has_null_vector = int(not all([token.vector_norm for token in nlp(new_chunk)]))\n",
    "\n",
    "        if has_null_vector:\n",
    "            null_vectors_list.append(l[chunk])\n",
    "        else:\n",
    "            res_list.append(new_chunk)\n",
    "\n",
    "    return list(nlp.pipe(res_list)), null_vectors_list"
   ]
  },
  {
   "cell_type": "code",
   "execution_count": null,
   "metadata": {},
   "outputs": [],
   "source": [
    "ozon_fifth, _ = preprocess_data_5(ozon_nlp)\n",
    "wb_fifth, _ = preprocess_data_5(wb_nlp)"
   ]
  },
  {
   "cell_type": "code",
   "execution_count": null,
   "metadata": {},
   "outputs": [],
   "source": [
    "fifth_res = get_similarity(ozon_fifth, wb_fifth)"
   ]
  },
  {
   "cell_type": "code",
   "execution_count": null,
   "metadata": {},
   "outputs": [],
   "source": [
    "fig, ax = plt.subplots(ncols=2, nrows=2, figsize=(25, 13))\n",
    "sns.boxplot(y=second_res['similarity'], ax=ax[0, 0])\n",
    "sns.histplot(data=second_res, x='similarity', ax=ax[0, 1], hue='group')\n",
    "sns.boxplot(y=fourth_res['similarity'], ax=ax[1, 0])\n",
    "sns.histplot(data=fourth_res, x='similarity', ax=ax[1, 1], hue='group')"
   ]
  },
  {
   "cell_type": "code",
   "execution_count": null,
   "metadata": {},
   "outputs": [],
   "source": [
    "second_res.query(\"group != 'Плохое совпадение'\").sort_values('similarity')"
   ]
  },
  {
   "cell_type": "markdown",
   "metadata": {
    "collapsed": false
   },
   "source": [
    "### Шестая итерация\n",
    "\n",
    "Схожесть вычисляется по двум уровням: где она выше, то значение и будет итогом."
   ]
  },
  {
   "cell_type": "code",
   "execution_count": 104,
   "metadata": {
    "collapsed": false
   },
   "outputs": [
    {
     "data": {
      "application/vnd.jupyter.widget-view+json": {
       "model_id": "84a0e8edf9d34111b19af005f2bc294f",
       "version_major": 2,
       "version_minor": 0
      },
      "text/plain": [
       "  0%|          | 0/7069 [00:00<?, ?it/s]"
      ]
     },
     "metadata": {},
     "output_type": "display_data"
    }
   ],
   "source": [
    "test = get_similarity_v2(ozon_1_preprocessed, wb_1_preprocessed, wb_2_preprocessed, ozon_1_text, wb_1_text, wb_2_text)"
   ]
  },
  {
   "cell_type": "code",
   "execution_count": 9,
   "metadata": {
    "collapsed": false
   },
   "outputs": [],
   "source": [
    "# создание комплексных id\n",
    "ozon_merged['complex_id'] = ozon_merged[['first_id', 'second_id', 'third_id']].astype(str).apply('_'.join, axis=1)\n",
    "wb_merged['complex_id'] = wb_merged[['first_id', 'second_id']].astype(str).apply('_'.join, axis=1)"
   ]
  },
  {
   "cell_type": "code",
   "execution_count": 10,
   "metadata": {
    "collapsed": false
   },
   "outputs": [
    {
     "data": {
      "text/html": [
       "<div>\n",
       "<style scoped>\n",
       "    .dataframe tbody tr th:only-of-type {\n",
       "        vertical-align: middle;\n",
       "    }\n",
       "\n",
       "    .dataframe tbody tr th {\n",
       "        vertical-align: top;\n",
       "    }\n",
       "\n",
       "    .dataframe thead th {\n",
       "        text-align: right;\n",
       "    }\n",
       "</style>\n",
       "<table border=\"1\" class=\"dataframe\">\n",
       "  <thead>\n",
       "    <tr style=\"text-align: right;\">\n",
       "      <th></th>\n",
       "      <th>first_id</th>\n",
       "      <th>second_id</th>\n",
       "      <th>third_id</th>\n",
       "      <th>first_name</th>\n",
       "      <th>second_name</th>\n",
       "      <th>third_name</th>\n",
       "      <th>complex_id</th>\n",
       "    </tr>\n",
       "  </thead>\n",
       "  <tbody>\n",
       "    <tr>\n",
       "      <th>0</th>\n",
       "      <td>29</td>\n",
       "      <td>52</td>\n",
       "      <td>17034470</td>\n",
       "      <td>печатные издания</td>\n",
       "      <td>букинистическая книга</td>\n",
       "      <td>букинистика</td>\n",
       "      <td>29_52_17034470</td>\n",
       "    </tr>\n",
       "    <tr>\n",
       "      <th>1</th>\n",
       "      <td>29</td>\n",
       "      <td>52</td>\n",
       "      <td>88044280</td>\n",
       "      <td>печатные издания</td>\n",
       "      <td>букинистическая книга</td>\n",
       "      <td>букинистика: детям и родителям</td>\n",
       "      <td>29_52_88044280</td>\n",
       "    </tr>\n",
       "    <tr>\n",
       "      <th>2</th>\n",
       "      <td>29</td>\n",
       "      <td>52</td>\n",
       "      <td>88044549</td>\n",
       "      <td>печатные издания</td>\n",
       "      <td>букинистическая книга</td>\n",
       "      <td>букинистика: комиксы</td>\n",
       "      <td>29_52_88044549</td>\n",
       "    </tr>\n",
       "    <tr>\n",
       "      <th>3</th>\n",
       "      <td>29</td>\n",
       "      <td>52</td>\n",
       "      <td>88044560</td>\n",
       "      <td>печатные издания</td>\n",
       "      <td>букинистическая книга</td>\n",
       "      <td>букинистика: манга</td>\n",
       "      <td>29_52_88044560</td>\n",
       "    </tr>\n",
       "    <tr>\n",
       "      <th>4</th>\n",
       "      <td>29</td>\n",
       "      <td>52</td>\n",
       "      <td>88044561</td>\n",
       "      <td>печатные издания</td>\n",
       "      <td>букинистическая книга</td>\n",
       "      <td>букинистика: бизнес-литература</td>\n",
       "      <td>29_52_88044561</td>\n",
       "    </tr>\n",
       "    <tr>\n",
       "      <th>...</th>\n",
       "      <td>...</td>\n",
       "      <td>...</td>\n",
       "      <td>...</td>\n",
       "      <td>...</td>\n",
       "      <td>...</td>\n",
       "      <td>...</td>\n",
       "      <td>...</td>\n",
       "    </tr>\n",
       "    <tr>\n",
       "      <th>9451</th>\n",
       "      <td>200000175</td>\n",
       "      <td>200000353</td>\n",
       "      <td>1000001834</td>\n",
       "      <td>питомцы</td>\n",
       "      <td>икра для разведения рыб</td>\n",
       "      <td>икра для разведения аквариумных рыб</td>\n",
       "      <td>200000175_200000353_1000001834</td>\n",
       "    </tr>\n",
       "    <tr>\n",
       "      <th>9452</th>\n",
       "      <td>200000175</td>\n",
       "      <td>200000847</td>\n",
       "      <td>1000003360</td>\n",
       "      <td>питомцы</td>\n",
       "      <td>пауки</td>\n",
       "      <td>паук (живой)</td>\n",
       "      <td>200000175_200000847_1000003360</td>\n",
       "    </tr>\n",
       "    <tr>\n",
       "      <th>9453</th>\n",
       "      <td>200000175</td>\n",
       "      <td>200000848</td>\n",
       "      <td>1000003362</td>\n",
       "      <td>питомцы</td>\n",
       "      <td>ящерицы</td>\n",
       "      <td>ящерица (живая)</td>\n",
       "      <td>200000175_200000848_1000003362</td>\n",
       "    </tr>\n",
       "    <tr>\n",
       "      <th>9454</th>\n",
       "      <td>200000175</td>\n",
       "      <td>200000851</td>\n",
       "      <td>1000003361</td>\n",
       "      <td>питомцы</td>\n",
       "      <td>змеи</td>\n",
       "      <td>змея (живая)</td>\n",
       "      <td>200000175_200000851_1000003361</td>\n",
       "    </tr>\n",
       "    <tr>\n",
       "      <th>9455</th>\n",
       "      <td>200000175</td>\n",
       "      <td>200000855</td>\n",
       "      <td>1000003359</td>\n",
       "      <td>питомцы</td>\n",
       "      <td>скорпионы</td>\n",
       "      <td>скорпион (живой)</td>\n",
       "      <td>200000175_200000855_1000003359</td>\n",
       "    </tr>\n",
       "  </tbody>\n",
       "</table>\n",
       "<p>9456 rows × 7 columns</p>\n",
       "</div>"
      ],
      "text/plain": [
       "       first_id  second_id    third_id        first_name  \\\n",
       "0            29         52    17034470  печатные издания   \n",
       "1            29         52    88044280  печатные издания   \n",
       "2            29         52    88044549  печатные издания   \n",
       "3            29         52    88044560  печатные издания   \n",
       "4            29         52    88044561  печатные издания   \n",
       "...         ...        ...         ...               ...   \n",
       "9451  200000175  200000353  1000001834           питомцы   \n",
       "9452  200000175  200000847  1000003360           питомцы   \n",
       "9453  200000175  200000848  1000003362           питомцы   \n",
       "9454  200000175  200000851  1000003361           питомцы   \n",
       "9455  200000175  200000855  1000003359           питомцы   \n",
       "\n",
       "                  second_name                           third_name  \\\n",
       "0       букинистическая книга                          букинистика   \n",
       "1       букинистическая книга       букинистика: детям и родителям   \n",
       "2       букинистическая книга                 букинистика: комиксы   \n",
       "3       букинистическая книга                   букинистика: манга   \n",
       "4       букинистическая книга       букинистика: бизнес-литература   \n",
       "...                       ...                                  ...   \n",
       "9451  икра для разведения рыб  икра для разведения аквариумных рыб   \n",
       "9452                    пауки                         паук (живой)   \n",
       "9453                  ящерицы                      ящерица (живая)   \n",
       "9454                     змеи                         змея (живая)   \n",
       "9455                скорпионы                     скорпион (живой)   \n",
       "\n",
       "                          complex_id  \n",
       "0                     29_52_17034470  \n",
       "1                     29_52_88044280  \n",
       "2                     29_52_88044549  \n",
       "3                     29_52_88044560  \n",
       "4                     29_52_88044561  \n",
       "...                              ...  \n",
       "9451  200000175_200000353_1000001834  \n",
       "9452  200000175_200000847_1000003360  \n",
       "9453  200000175_200000848_1000003362  \n",
       "9454  200000175_200000851_1000003361  \n",
       "9455  200000175_200000855_1000003359  \n",
       "\n",
       "[9456 rows x 7 columns]"
      ]
     },
     "execution_count": 10,
     "metadata": {},
     "output_type": "execute_result"
    }
   ],
   "source": [
    "ozon_merged"
   ]
  },
  {
   "cell_type": "code",
   "execution_count": 12,
   "metadata": {
    "collapsed": false
   },
   "outputs": [
    {
     "data": {
      "text/html": [
       "<div>\n",
       "<style scoped>\n",
       "    .dataframe tbody tr th:only-of-type {\n",
       "        vertical-align: middle;\n",
       "    }\n",
       "\n",
       "    .dataframe tbody tr th {\n",
       "        vertical-align: top;\n",
       "    }\n",
       "\n",
       "    .dataframe thead th {\n",
       "        text-align: right;\n",
       "    }\n",
       "</style>\n",
       "<table border=\"1\" class=\"dataframe\">\n",
       "  <thead>\n",
       "    <tr style=\"text-align: right;\">\n",
       "      <th></th>\n",
       "      <th>first_id</th>\n",
       "      <th>second_id</th>\n",
       "      <th>first_name</th>\n",
       "      <th>second_name</th>\n",
       "      <th>complex_id</th>\n",
       "    </tr>\n",
       "  </thead>\n",
       "  <tbody>\n",
       "    <tr>\n",
       "      <th>0</th>\n",
       "      <td>1</td>\n",
       "      <td>11</td>\n",
       "      <td>одежда</td>\n",
       "      <td>Брюки</td>\n",
       "      <td>1_11</td>\n",
       "    </tr>\n",
       "    <tr>\n",
       "      <th>1</th>\n",
       "      <td>1</td>\n",
       "      <td>38</td>\n",
       "      <td>одежда</td>\n",
       "      <td>Юбки</td>\n",
       "      <td>1_38</td>\n",
       "    </tr>\n",
       "    <tr>\n",
       "      <th>2</th>\n",
       "      <td>1</td>\n",
       "      <td>41</td>\n",
       "      <td>одежда</td>\n",
       "      <td>Блузки</td>\n",
       "      <td>1_41</td>\n",
       "    </tr>\n",
       "    <tr>\n",
       "      <th>3</th>\n",
       "      <td>1</td>\n",
       "      <td>69</td>\n",
       "      <td>одежда</td>\n",
       "      <td>Платья</td>\n",
       "      <td>1_69</td>\n",
       "    </tr>\n",
       "    <tr>\n",
       "      <th>4</th>\n",
       "      <td>1</td>\n",
       "      <td>70</td>\n",
       "      <td>одежда</td>\n",
       "      <td>Сарафаны</td>\n",
       "      <td>1_70</td>\n",
       "    </tr>\n",
       "    <tr>\n",
       "      <th>...</th>\n",
       "      <td>...</td>\n",
       "      <td>...</td>\n",
       "      <td>...</td>\n",
       "      <td>...</td>\n",
       "      <td>...</td>\n",
       "    </tr>\n",
       "    <tr>\n",
       "      <th>7295</th>\n",
       "      <td>7580</td>\n",
       "      <td>6477</td>\n",
       "      <td>мебель</td>\n",
       "      <td>Ламели для кровати</td>\n",
       "      <td>7580_6477</td>\n",
       "    </tr>\n",
       "    <tr>\n",
       "      <th>7296</th>\n",
       "      <td>7580</td>\n",
       "      <td>7430</td>\n",
       "      <td>мебель</td>\n",
       "      <td>Столешницы для кухни</td>\n",
       "      <td>7580_7430</td>\n",
       "    </tr>\n",
       "    <tr>\n",
       "      <th>7297</th>\n",
       "      <td>7580</td>\n",
       "      <td>6416</td>\n",
       "      <td>мебель</td>\n",
       "      <td>Домкраты для мебели</td>\n",
       "      <td>7580_6416</td>\n",
       "    </tr>\n",
       "    <tr>\n",
       "      <th>7298</th>\n",
       "      <td>7580</td>\n",
       "      <td>7071</td>\n",
       "      <td>мебель</td>\n",
       "      <td>Стойки ресепшн</td>\n",
       "      <td>7580_7071</td>\n",
       "    </tr>\n",
       "    <tr>\n",
       "      <th>7299</th>\n",
       "      <td>7580</td>\n",
       "      <td>2361</td>\n",
       "      <td>мебель</td>\n",
       "      <td>Накладки-протекторы для мебели</td>\n",
       "      <td>7580_2361</td>\n",
       "    </tr>\n",
       "  </tbody>\n",
       "</table>\n",
       "<p>7300 rows × 5 columns</p>\n",
       "</div>"
      ],
      "text/plain": [
       "      first_id  second_id first_name                     second_name  \\\n",
       "0            1         11     одежда                           Брюки   \n",
       "1            1         38     одежда                            Юбки   \n",
       "2            1         41     одежда                          Блузки   \n",
       "3            1         69     одежда                          Платья   \n",
       "4            1         70     одежда                        Сарафаны   \n",
       "...        ...        ...        ...                             ...   \n",
       "7295      7580       6477     мебель              Ламели для кровати   \n",
       "7296      7580       7430     мебель            Столешницы для кухни   \n",
       "7297      7580       6416     мебель             Домкраты для мебели   \n",
       "7298      7580       7071     мебель                  Стойки ресепшн   \n",
       "7299      7580       2361     мебель  Накладки-протекторы для мебели   \n",
       "\n",
       "     complex_id  \n",
       "0          1_11  \n",
       "1          1_38  \n",
       "2          1_41  \n",
       "3          1_69  \n",
       "4          1_70  \n",
       "...         ...  \n",
       "7295  7580_6477  \n",
       "7296  7580_7430  \n",
       "7297  7580_6416  \n",
       "7298  7580_7071  \n",
       "7299  7580_2361  \n",
       "\n",
       "[7300 rows x 5 columns]"
      ]
     },
     "execution_count": 12,
     "metadata": {},
     "output_type": "execute_result"
    }
   ],
   "source": [
    "wb_merged"
   ]
  },
  {
   "cell_type": "code",
   "execution_count": 12,
   "metadata": {
    "collapsed": false
   },
   "outputs": [],
   "source": [
    "def get_similarity_v2(df_1, df_2):\n",
    "    # столбцы с наименованиями групп\n",
    "    df_1_names = [name for name in df_1.columns if 'name' in name]\n",
    "    df_2_names = [name for name in df_2.columns if 'name' in name]\n",
    "\n",
    "    for i in tqdm(df_1_names):\n",
    "        nlp_1, text_1, null_1 = preprocess_data(list(nlp.pipe(df_1[i].to_list())))\n",
    "        for j in tqdm(df_2_names):\n",
    "            nlp_2, text_2, null_2 = preprocess_data(list(nlp.pipe(df_2[i].to_list())))\n",
    "            lim_list = [first_list[i].similarity(k) for k in second_list]\n"
   ]
  },
  {
   "cell_type": "code",
   "execution_count": 18,
   "metadata": {
    "collapsed": false
   },
   "outputs": [],
   "source": [
    "res_list = []"
   ]
  },
  {
   "cell_type": "code",
   "execution_count": 81,
   "metadata": {
    "collapsed": false
   },
   "outputs": [],
   "source": [
    "wb_list = list(nlp.pipe(wb_merged['first_name'].to_list()))"
   ]
  },
  {
   "cell_type": "code",
   "execution_count": 82,
   "metadata": {
    "collapsed": false
   },
   "outputs": [
    {
     "name": "stderr",
     "output_type": "stream",
     "text": [
      "100%|██████████| 7300/7300 [00:51<00:00, 142.21it/s]\n"
     ]
    }
   ],
   "source": [
    "wb_preprocessed, wb_text, wb_nulls = preprocess_data(wb_list)"
   ]
  },
  {
   "cell_type": "code",
   "execution_count": 83,
   "metadata": {
    "collapsed": false
   },
   "outputs": [],
   "source": [
    "ozon_list = list(nlp.pipe(ozon_merged['first_name'].to_list()))"
   ]
  },
  {
   "cell_type": "code",
   "execution_count": 84,
   "metadata": {
    "collapsed": false
   },
   "outputs": [
    {
     "name": "stderr",
     "output_type": "stream",
     "text": [
      "100%|██████████| 9456/9456 [01:04<00:00, 147.65it/s]\n"
     ]
    }
   ],
   "source": [
    "ozon_preprocessed, ozon_text, ozon_nulls = preprocess_data(ozon_list)"
   ]
  },
  {
   "cell_type": "code",
   "execution_count": null,
   "metadata": {
    "collapsed": false
   },
   "outputs": [],
   "source": []
  },
  {
   "cell_type": "code",
   "execution_count": null,
   "metadata": {
    "collapsed": false
   },
   "outputs": [],
   "source": []
  },
  {
   "cell_type": "code",
   "execution_count": null,
   "metadata": {
    "collapsed": false
   },
   "outputs": [],
   "source": []
  },
  {
   "cell_type": "code",
   "execution_count": null,
   "metadata": {
    "collapsed": false
   },
   "outputs": [],
   "source": []
  },
  {
   "cell_type": "code",
   "execution_count": null,
   "metadata": {
    "collapsed": false
   },
   "outputs": [],
   "source": []
  },
  {
   "cell_type": "code",
   "execution_count": null,
   "metadata": {
    "collapsed": false
   },
   "outputs": [],
   "source": []
  },
  {
   "cell_type": "code",
   "execution_count": null,
   "metadata": {
    "collapsed": false
   },
   "outputs": [],
   "source": []
  },
  {
   "cell_type": "code",
   "execution_count": null,
   "metadata": {
    "collapsed": false
   },
   "outputs": [],
   "source": []
  },
  {
   "cell_type": "code",
   "execution_count": 66,
   "metadata": {
    "collapsed": false
   },
   "outputs": [],
   "source": [
    "ozon_1 = list(nlp.pipe(ozon_merged['third_name'].unique()))\n",
    "wb_1 = list(nlp.pipe(wb_merged['second_name'].unique()))"
   ]
  },
  {
   "cell_type": "code",
   "execution_count": 67,
   "metadata": {
    "collapsed": false
   },
   "outputs": [
    {
     "data": {
      "application/vnd.jupyter.widget-view+json": {
       "model_id": "4d8a84e784a949949235fb0db9ae25ee",
       "version_major": 2,
       "version_minor": 0
      },
      "text/plain": [
       "  0%|          | 0/9456 [00:00<?, ?it/s]"
      ]
     },
     "metadata": {},
     "output_type": "display_data"
    },
    {
     "data": {
      "application/vnd.jupyter.widget-view+json": {
       "model_id": "d6be73bb6a52421ea8bcaa879574e065",
       "version_major": 2,
       "version_minor": 0
      },
      "text/plain": [
       "  0%|          | 0/7300 [00:00<?, ?it/s]"
      ]
     },
     "metadata": {},
     "output_type": "display_data"
    }
   ],
   "source": [
    "ozon_1_preprocessed, ozon_1_text, ozon_1_nulls = preprocess_data(ozon_1)\n",
    "wb_1_preprocessed, wb_1_text, wb_1_nulls = preprocess_data(wb_1)"
   ]
  },
  {
   "cell_type": "code",
   "execution_count": 70,
   "metadata": {
    "collapsed": false
   },
   "outputs": [
    {
     "data": {
      "application/vnd.jupyter.widget-view+json": {
       "model_id": "40433296695140d8889fc8515a4e4799",
       "version_major": 2,
       "version_minor": 0
      },
      "text/plain": [
       "  0%|          | 0/7069 [00:00<?, ?it/s]"
      ]
     },
     "metadata": {},
     "output_type": "display_data"
    }
   ],
   "source": [
    "res_1 = get_similarity(ozon_1_preprocessed, wb_1_preprocessed, ozon_1_text, wb_1_text)"
   ]
  },
  {
   "cell_type": "code",
   "execution_count": 79,
   "metadata": {
    "collapsed": false
   },
   "outputs": [
    {
     "data": {
      "application/vnd.jupyter.widget-view+json": {
       "model_id": "3200207d66eb4592a96d753053883ef9",
       "version_major": 2,
       "version_minor": 0
      },
      "text/plain": [
       "  0%|          | 0/68 [00:00<?, ?it/s]"
      ]
     },
     "metadata": {},
     "output_type": "display_data"
    }
   ],
   "source": [
    "wb_2 = list(nlp.pipe(wb_merged['first_name'].unique()))\n",
    "wb_2_preprocessed, wb_2_text, wb_2_nulls = preprocess_data(wb_2)"
   ]
  },
  {
   "cell_type": "code",
   "execution_count": 82,
   "metadata": {
    "collapsed": false
   },
   "outputs": [
    {
     "data": {
      "application/vnd.jupyter.widget-view+json": {
       "model_id": "d909da631c7847dfaee5baf46e2c2a8f",
       "version_major": 2,
       "version_minor": 0
      },
      "text/plain": [
       "  0%|          | 0/7069 [00:00<?, ?it/s]"
      ]
     },
     "metadata": {},
     "output_type": "display_data"
    }
   ],
   "source": [
    "res_2 = get_similarity(ozon_1_preprocessed, wb_2_preprocessed, ozon_1_text, wb_2_text)"
   ]
  },
  {
   "cell_type": "code",
   "execution_count": 83,
   "metadata": {
    "collapsed": false
   },
   "outputs": [],
   "source": [
    "res_2 = res_2.rename(columns={'second_list': 'second_list_second_try',\n",
    "                              'similarity': 'second_similarity'})"
   ]
  },
  {
   "cell_type": "code",
   "execution_count": 85,
   "metadata": {
    "collapsed": false
   },
   "outputs": [
    {
     "data": {
      "text/html": [
       "<div>\n",
       "<style scoped>\n",
       "    .dataframe tbody tr th:only-of-type {\n",
       "        vertical-align: middle;\n",
       "    }\n",
       "\n",
       "    .dataframe tbody tr th {\n",
       "        vertical-align: top;\n",
       "    }\n",
       "\n",
       "    .dataframe thead th {\n",
       "        text-align: right;\n",
       "    }\n",
       "</style>\n",
       "<table border=\"1\" class=\"dataframe\">\n",
       "  <thead>\n",
       "    <tr style=\"text-align: right;\">\n",
       "      <th></th>\n",
       "      <th>first_list</th>\n",
       "      <th>second_list</th>\n",
       "      <th>similarity</th>\n",
       "      <th>second_list_second_try</th>\n",
       "      <th>second_similarity</th>\n",
       "    </tr>\n",
       "  </thead>\n",
       "  <tbody>\n",
       "    <tr>\n",
       "      <th>29</th>\n",
       "      <td>книги : страхование</td>\n",
       "      <td>Страхование техники</td>\n",
       "      <td>0.688830</td>\n",
       "      <td>страхование</td>\n",
       "      <td>0.739926</td>\n",
       "    </tr>\n",
       "    <tr>\n",
       "      <th>100</th>\n",
       "      <td>книги : красота , здоровье и спорт</td>\n",
       "      <td>Книги</td>\n",
       "      <td>0.530251</td>\n",
       "      <td>здоровье</td>\n",
       "      <td>0.630474</td>\n",
       "    </tr>\n",
       "    <tr>\n",
       "      <th>257</th>\n",
       "      <td>мужская ортопедическая обувь</td>\n",
       "      <td>Дезодоранты для обуви</td>\n",
       "      <td>0.659245</td>\n",
       "      <td>спортивная обувь</td>\n",
       "      <td>0.680235</td>\n",
       "    </tr>\n",
       "    <tr>\n",
       "      <th>268</th>\n",
       "      <td>женская ортопедическая обувь</td>\n",
       "      <td>Карнавальная обувь</td>\n",
       "      <td>0.656805</td>\n",
       "      <td>спортивная обувь</td>\n",
       "      <td>0.659502</td>\n",
       "    </tr>\n",
       "    <tr>\n",
       "      <th>278</th>\n",
       "      <td>ботинки спортивные для девочки</td>\n",
       "      <td>Брюки спортивные</td>\n",
       "      <td>0.721188</td>\n",
       "      <td>спортивная обувь</td>\n",
       "      <td>0.723451</td>\n",
       "    </tr>\n",
       "    <tr>\n",
       "      <th>...</th>\n",
       "      <td>...</td>\n",
       "      <td>...</td>\n",
       "      <td>...</td>\n",
       "      <td>...</td>\n",
       "      <td>...</td>\n",
       "    </tr>\n",
       "    <tr>\n",
       "      <th>6822</th>\n",
       "      <td>по - для обработки фото и видео</td>\n",
       "      <td>Диски для записи</td>\n",
       "      <td>0.518316</td>\n",
       "      <td>фото и видеотехника</td>\n",
       "      <td>0.651780</td>\n",
       "    </tr>\n",
       "    <tr>\n",
       "      <th>6823</th>\n",
       "      <td>дистрибутив - для обработки фото и видео</td>\n",
       "      <td>Диски для записи</td>\n",
       "      <td>0.504064</td>\n",
       "      <td>фото и видеотехника</td>\n",
       "      <td>0.600119</td>\n",
       "    </tr>\n",
       "    <tr>\n",
       "      <th>6838</th>\n",
       "      <td>цифровой контент - офисное приложение</td>\n",
       "      <td>Видеокамеры цифровые</td>\n",
       "      <td>0.575407</td>\n",
       "      <td>сетевое оборудование</td>\n",
       "      <td>0.575619</td>\n",
       "    </tr>\n",
       "    <tr>\n",
       "      <th>6854</th>\n",
       "      <td>цифровой контент - игра для xbox</td>\n",
       "      <td>Картриджи игровые</td>\n",
       "      <td>0.564280</td>\n",
       "      <td>игровые консоли и игры</td>\n",
       "      <td>0.615449</td>\n",
       "    </tr>\n",
       "    <tr>\n",
       "      <th>7018</th>\n",
       "      <td>одежда для работы с медом</td>\n",
       "      <td>Одежда для кукол</td>\n",
       "      <td>0.596521</td>\n",
       "      <td>одежда</td>\n",
       "      <td>0.704170</td>\n",
       "    </tr>\n",
       "  </tbody>\n",
       "</table>\n",
       "<p>238 rows × 5 columns</p>\n",
       "</div>"
      ],
      "text/plain": [
       "                                    first_list            second_list  \\\n",
       "29                         книги : страхование    Страхование техники   \n",
       "100         книги : красота , здоровье и спорт                  Книги   \n",
       "257               мужская ортопедическая обувь  Дезодоранты для обуви   \n",
       "268               женская ортопедическая обувь     Карнавальная обувь   \n",
       "278             ботинки спортивные для девочки       Брюки спортивные   \n",
       "...                                        ...                    ...   \n",
       "6822           по - для обработки фото и видео       Диски для записи   \n",
       "6823  дистрибутив - для обработки фото и видео       Диски для записи   \n",
       "6838     цифровой контент - офисное приложение   Видеокамеры цифровые   \n",
       "6854          цифровой контент - игра для xbox      Картриджи игровые   \n",
       "7018                 одежда для работы с медом       Одежда для кукол   \n",
       "\n",
       "      similarity  second_list_second_try  second_similarity  \n",
       "29      0.688830             страхование           0.739926  \n",
       "100     0.530251                здоровье           0.630474  \n",
       "257     0.659245        спортивная обувь           0.680235  \n",
       "268     0.656805        спортивная обувь           0.659502  \n",
       "278     0.721188        спортивная обувь           0.723451  \n",
       "...          ...                     ...                ...  \n",
       "6822    0.518316     фото и видеотехника           0.651780  \n",
       "6823    0.504064     фото и видеотехника           0.600119  \n",
       "6838    0.575407    сетевое оборудование           0.575619  \n",
       "6854    0.564280  игровые консоли и игры           0.615449  \n",
       "7018    0.596521                  одежда           0.704170  \n",
       "\n",
       "[238 rows x 5 columns]"
      ]
     },
     "execution_count": 85,
     "metadata": {},
     "output_type": "execute_result"
    }
   ],
   "source": [
    "res_1.merge(res_2, on='first_list').query('similarity < second_similarity')"
   ]
  },
  {
   "cell_type": "markdown",
   "metadata": {},
   "source": [
    "## Расстояние Жаккарта"
   ]
  },
  {
   "cell_type": "code",
   "execution_count": null,
   "metadata": {},
   "outputs": [],
   "source": [
    "ozon_prep, _ = preprocess_data(ozon_nlp)"
   ]
  },
  {
   "cell_type": "code",
   "execution_count": null,
   "metadata": {},
   "outputs": [],
   "source": [
    "wb_prep, _ = preprocess_data(wb_nlp)"
   ]
  },
  {
   "cell_type": "code",
   "execution_count": null,
   "metadata": {},
   "outputs": [],
   "source": [
    "def get_similarity_jak(first_list, second_list):\n",
    "    df = pd.DataFrame()\n",
    "\n",
    "    for i in tqdm(range(len(first_list))):\n",
    "        a = set(str(first_list[i]).split())\n",
    "        temp_arr = np.array([])\n",
    "        for k in second_list:\n",
    "            b = set(str(k).split())\n",
    "            shared = len(a.intersection(b))\n",
    "            total = len(a.union(b))\n",
    "            try:\n",
    "                jak = shared / total\n",
    "            except:\n",
    "                jak = 0\n",
    "\n",
    "            temp_arr = np.append(temp_arr, jak)\n",
    "\n",
    "        temp_df = pd.DataFrame({'first_list': first_list[i],\n",
    "                                'second_list': second_list[temp_arr.argmax()],\n",
    "                                'similarity': max(temp_arr)},\n",
    "                               index=[i])\n",
    "\n",
    "        df = pd.concat([df, temp_df])\n",
    "\n",
    "    return df"
   ]
  },
  {
   "cell_type": "code",
   "execution_count": null,
   "metadata": {},
   "outputs": [],
   "source": [
    "jak_res = get_similarity_jak(ozon_prep, wb_prep)"
   ]
  },
  {
   "cell_type": "code",
   "execution_count": null,
   "metadata": {},
   "outputs": [],
   "source": [
    "get_group(jak_res)"
   ]
  },
  {
   "cell_type": "code",
   "execution_count": null,
   "metadata": {},
   "outputs": [],
   "source": [
    "fig, ax = plt.subplots(ncols=2, figsize=(25, 13))\n",
    "sns.boxplot(y=jak_res['similarity'], ax=ax[0])\n",
    "sns.histplot(data=jak_res, x='similarity', ax=ax[1], hue='group')"
   ]
  },
  {
   "cell_type": "code",
   "execution_count": null,
   "metadata": {},
   "outputs": [],
   "source": [
    "jak_res.sort_values('similarity', ascending=False)"
   ]
  },
  {
   "cell_type": "code",
   "execution_count": null,
   "metadata": {},
   "outputs": [],
   "source": []
  },
  {
   "cell_type": "markdown",
   "metadata": {},
   "source": [
    "# Rubert-tiny2"
   ]
  },
  {
   "cell_type": "code",
   "execution_count": null,
   "metadata": {},
   "outputs": [],
   "source": [
    "import torch\n",
    "from transformers import AutoTokenizer, AutoModel\n",
    "from scipy.spatial.distance import cosine"
   ]
  },
  {
   "cell_type": "code",
   "execution_count": null,
   "metadata": {},
   "outputs": [],
   "source": [
    "tokenizer = AutoTokenizer.from_pretrained(\"cointegrated/rubert-tiny2\")\n",
    "model = AutoModel.from_pretrained(\"cointegrated/rubert-tiny2\")"
   ]
  },
  {
   "cell_type": "code",
   "execution_count": null,
   "metadata": {},
   "outputs": [],
   "source": [
    "def embed_bert_cls(text, model=model, tokenizer=tokenizer):\n",
    "    t = tokenizer(text, padding=True, truncation=True, return_tensors='pt')\n",
    "    with torch.no_grad():\n",
    "        model_output = model(**{k: v.to(model.device) for k, v in t.items()})\n",
    "    embeddings = model_output.last_hidden_state[:, 0, :]\n",
    "    embeddings = torch.nn.functional.normalize(embeddings)\n",
    "    return embeddings[0].cpu().numpy()"
   ]
  },
  {
   "cell_type": "code",
   "execution_count": null,
   "metadata": {},
   "outputs": [],
   "source": [
    "def get_similarity_rubert(first_list, second_list):\n",
    "    df = pd.DataFrame()\n",
    "\n",
    "    for i in tqdm(range(len(first_list))):\n",
    "        i_emb = embed_bert_cls(first_list[i].text)\n",
    "        l = np.array([1 - cosine(i_emb, embed_bert_cls(k.text)) for k in second_list])\n",
    "\n",
    "        temp_df = pd.DataFrame({'first_list': first_list[i].text,\n",
    "                                'second_list': second_list[l.argmax()].text,\n",
    "                                'similarity': max(l)},\n",
    "                               index=[i])\n",
    "\n",
    "        df = pd.concat([df, temp_df])\n",
    "\n",
    "    return df"
   ]
  },
  {
   "cell_type": "code",
   "execution_count": null,
   "metadata": {},
   "outputs": [],
   "source": [
    "rubert_res = get_similarity_rubert(ozon_prep, wb_prep)"
   ]
  },
  {
   "cell_type": "code",
   "execution_count": null,
   "metadata": {},
   "outputs": [],
   "source": [
    "rubert_res.sort_values('similarity', ascending=False)"
   ]
  },
  {
   "cell_type": "code",
   "execution_count": null,
   "metadata": {},
   "outputs": [],
   "source": [
    "fig, ax = plt.subplots(ncols=2, figsize=(25, 13))\n",
    "sns.boxplot(y=rubert_res['similarity'], ax=ax[0])\n",
    "sns.histplot(data=rubert_res, x='similarity', ax=ax[1])"
   ]
  },
  {
   "cell_type": "code",
   "execution_count": null,
   "metadata": {},
   "outputs": [],
   "source": [
    "rubert_res.sort_values('similarity', ascending=False)"
   ]
  },
  {
   "cell_type": "code",
   "execution_count": null,
   "metadata": {},
   "outputs": [],
   "source": [
    "res =\n",
    "ozon_cats.merge(second_res, left_on='title', right_on='first_list', how='left').merge(wb_cats, left_on='second_list',\n",
    "                                                                                      right_on='title',\n",
    "                                                                                      how='left').rename(\n",
    "    columns={'title_x': 'ozon',\n",
    "             'id_x': 'id_ozon',\n",
    "             'pid_x': 'pid_ozon',\n",
    "             'title_y': 'wb',\n",
    "             'id_y': 'id_wb',\n",
    "             'pid_y': 'pid_wb'})\n",
    "[['id_ozon', 'pid_ozon', 'ozon', 'id_wb', 'pid_wb', 'wb', 'similarity', 'group']].fillna(0).astype({'id_wb': 'int',\n",
    "                                                                                                    'pid_wb': 'int'})"
   ]
  },
  {
   "cell_type": "code",
   "execution_count": null,
   "metadata": {},
   "outputs": [],
   "source": [
    "res =\n",
    "wb_cats.merge(second_res, left_on='title', right_on='second_list', how='left').merge(ozon_cats, left_on='first_list',\n",
    "                                                                                     right_on='title',\n",
    "                                                                                     how='right').rename(\n",
    "    columns={'title_x': 'wb',\n",
    "             'id_x': 'id_wb',\n",
    "             'pid_x': 'pid_wb',\n",
    "             'title_y': 'ozon',\n",
    "             'id_y': 'id_ozon',\n",
    "             'pid_y': 'pid_ozon'})[\n",
    "    ['id_ozon', 'pid_ozon', 'ozon', 'id_wb', 'pid_wb', 'wb', 'similarity', 'group']].fillna(0).astype({'id_wb': 'int',\n",
    "                                                                                                       'pid_wb': 'int'})"
   ]
  },
  {
   "cell_type": "code",
   "execution_count": null,
   "metadata": {},
   "outputs": [],
   "source": [
    "res.loc[res['similarity'] > 1, 'similarity'] = 1"
   ]
  },
  {
   "cell_type": "code",
   "execution_count": null,
   "metadata": {},
   "outputs": [],
   "source": [
    "def highlight(df):\n",
    "    m1 = df['group'] == 0 & df['similarity'] == 0\n",
    "\n",
    "    color = 'background-color: {}'.format\n",
    "\n",
    "    style = pd.Series([color('')] * df.shape[0])\n",
    "    style = style.mask(m1, color('orange'))\n",
    "    style = pd.concat([style] * df.shape[1], axis=1)\n",
    "    style.columns = df.columns\n",
    "    style.index = df.index\n",
    "\n",
    "    return style\n"
   ]
  },
  {
   "cell_type": "code",
   "execution_count": null,
   "metadata": {},
   "outputs": [],
   "source": [
    "r = res.style.apply(highlight, axis=None)"
   ]
  },
  {
   "cell_type": "markdown",
   "metadata": {},
   "source": [
    "# Классификация"
   ]
  },
  {
   "cell_type": "code",
   "execution_count": 8,
   "metadata": {},
   "outputs": [],
   "source": [
    "mapped =\n",
    "pd.read_excel('mapping_wb_ozon_full_17.11.xlsx', skiprows=10).drop(['Unnamed: 0', 'Unnamed: 7'], axis=1).rename(\n",
    "    columns={'название категории': 'cat',\n",
    "             'название параметра': 'param',\n",
    "             'прямой мэтч': 'match',\n",
    "             'id наиболее подходящей категории': 'similar_id',\n",
    "             'название наиболее подходящего параметра': 'similar_param'})[\n",
    "    ['charcId', 'similar_id', 'cat', 'param', 'match', 'similar_param']]"
   ]
  },
  {
   "cell_type": "code",
   "execution_count": 9,
   "metadata": {},
   "outputs": [],
   "source": [
    "cat_param = mapped[['cat', 'param']].sort_values('cat').reset_index(drop=True)"
   ]
  },
  {
   "cell_type": "code",
   "execution_count": 10,
   "metadata": {},
   "outputs": [
    {
     "data": {
      "application/vnd.jupyter.widget-view+json": {
       "model_id": "9a2c7131b1ea4b0f86d2384007f81691",
       "version_major": 2,
       "version_minor": 0
      },
      "text/plain": [
       "  0%|          | 0/5129 [00:00<?, ?it/s]"
      ]
     },
     "metadata": {},
     "output_type": "display_data"
    }
   ],
   "source": [
    "res_df = pd.DataFrame()\n",
    "for i in tqdm.notebook.tqdm(cat_param.index):\n",
    "    temp_df = pd.DataFrame()\n",
    "    temp = nlp(cat_param.iloc[i, 1])\n",
    "    new_chunk_lemma = ' '.join(\n",
    "        [token.lemma_ for token in temp if not token.is_punct and token.lemma_ not in nlp.Defaults.stop_words])\n",
    "    has_null_vector = int(not all([token.vector_norm for token in nlp(new_chunk_lemma)]))\n",
    "\n",
    "    if not has_null_vector:\n",
    "        temp_df = pd.DataFrame({'cat': cat_param.iloc[i, 0],\n",
    "                                'param': new_chunk_lemma},\n",
    "                               index=[i])\n",
    "\n",
    "    res_df = pd.concat([res_df, temp_df])"
   ]
  },
  {
   "cell_type": "code",
   "execution_count": 11,
   "metadata": {},
   "outputs": [],
   "source": [
    "x = res_df['param']\n",
    "y = res_df['cat']"
   ]
  },
  {
   "cell_type": "code",
   "execution_count": 12,
   "metadata": {},
   "outputs": [],
   "source": [
    "x_train, x_test, y_train, y_test = train_test_split(x, y, test_size=0.3)"
   ]
  },
  {
   "cell_type": "code",
   "execution_count": 13,
   "metadata": {},
   "outputs": [],
   "source": [
    "x = np.array([x.vector for x in list(nlp.pipe(x))])\n",
    "x_train = np.array([x.vector for x in list(nlp.pipe(x_train))])\n",
    "x_test = np.array([x.vector for x in list(nlp.pipe(x_test))])"
   ]
  },
  {
   "cell_type": "markdown",
   "metadata": {},
   "source": [
    "## Log reg"
   ]
  },
  {
   "cell_type": "code",
   "execution_count": 42,
   "metadata": {},
   "outputs": [
    {
     "data": {
      "text/plain": [
       "LogisticRegression(class_weight='balanced')"
      ]
     },
     "execution_count": 42,
     "metadata": {},
     "output_type": "execute_result"
    }
   ],
   "source": [
    "lr_clf = LogisticRegression(class_weight='balanced')\n",
    "lr_clf.fit(x_train, y_train)"
   ]
  },
  {
   "cell_type": "code",
   "execution_count": 43,
   "metadata": {},
   "outputs": [],
   "source": [
    "predicted = lr_clf.predict(x_test)"
   ]
  },
  {
   "cell_type": "code",
   "execution_count": 44,
   "metadata": {},
   "outputs": [
    {
     "name": "stdout",
     "output_type": "stream",
     "text": [
      "                                                   precision    recall  f1-score   support\n",
      "\n",
      "                                         3D-ручки       0.00      0.00      0.00         1\n",
      "                                       DVD-плееры       0.00      0.00      0.00         2\n",
      "                                  FM-трансмиттеры       0.00      0.00      0.00         1\n",
      "                                 Flash-накопители       0.00      0.00      0.00         5\n",
      "                                       MP3 плееры       0.00      0.00      0.00         0\n",
      "                               Powerline адаптеры       0.00      0.00      0.00         1\n",
      "                                   RGBW усилители       0.00      0.00      0.00         3\n",
      "                                   SSD-накопители       0.00      0.00      0.00         0\n",
      "                                        Sim карты       0.00      0.00      0.00         2\n",
      "                                       Web-камеры       0.50      1.00      0.67         1\n",
      "                                   Wi-Fi-адаптеры       0.00      0.00      0.00         1\n",
      "                                         pH метры       0.00      0.00      0.00         1\n",
      "                               Автокресла детские       0.00      0.00      0.00         1\n",
      "                Автомобильные зарядные устройства       0.33      0.50      0.40         2\n",
      "                                      Автосканеры       0.00      0.00      0.00         1\n",
      "                                 Автохолодильники       0.00      0.00      0.00         0\n",
      "                                         Адаптеры       0.00      0.00      0.00         1\n",
      "                                        Аквариумы       0.00      0.00      0.00         2\n",
      "                  Аккумуляторы для квадрокоптеров       0.00      0.00      0.00         0\n",
      "              Аккумуляторы для электроинструмента       0.00      0.00      0.00         1\n",
      "                         Аксессуары для бижутерии       0.00      0.00      0.00         0\n",
      "                          Аксессуары для бильярда       0.00      0.00      0.00         0\n",
      "                   Аксессуары для детских горшков       0.00      0.00      0.00         0\n",
      "                         Аксессуары для коктейлей       0.00      0.00      0.00         1\n",
      "                             Аксессуары для кукол       0.00      0.00      0.00         1\n",
      "                         Аксессуары для рукоделия       0.00      0.00      0.00         0\n",
      "                        Аксессуары для фотосессий       0.00      0.00      0.00         1\n",
      "            Аксессуары к стульчикам для кормления       0.00      0.00      0.00         1\n",
      "                           Альбомы для творчества       0.00      0.00      0.00         0\n",
      "                                     Аминокислоты       0.00      0.00      0.00         2\n",
      "                          Амортизаторы для капота       0.00      0.00      0.00         4\n",
      "                                  Анальные пробки       0.00      0.00      0.00         0\n",
      "                                           Анкеры       0.00      0.00      0.00         0\n",
      "                            Антенны телевизионные       0.00      0.00      0.00         1\n",
      "                               Антисептики кожные       0.00      0.00      0.00         1\n",
      "                                        Антифризы       0.00      0.00      0.00         0\n",
      "                         Аппараты для сварки труб       0.00      0.00      0.00         0\n",
      "                              Арбалеты для отдыха       0.00      0.00      0.00         1\n",
      "                                Арки межкомнатные       1.00      1.00      1.00         1\n",
      "                                 Арматура сливная       0.00      0.00      0.00         1\n",
      "                            Арматура строительная       0.00      0.00      0.00         1\n",
      "              Ароматизаторы воздуха электрические       0.00      0.00      0.00         1\n",
      "                                         Артишоки       0.00      0.00      0.00         0\n",
      "                                Аэраторы газонные       0.33      0.20      0.25         5\n",
      "                              Аэраторы кровельные       0.00      0.00      0.00         0\n",
      "                                        Аэрографы       0.50      1.00      0.67         1\n",
      "                          Аэрографы косметические       0.00      0.00      0.00         1\n",
      "                                             БАДы       0.00      0.00      0.00         1\n",
      "                                        Багажники       0.00      0.00      0.00         1\n",
      "                                          Балетки       0.00      0.00      0.00         1\n",
      "                               Балки декоративные       0.00      0.00      0.00         1\n",
      "                        Бандажи послеоперационные       0.00      0.00      0.00         0\n",
      "                                         Банкетки       0.00      0.00      0.00         0\n",
      "                                        Барометры       0.00      0.00      0.00         1\n",
      "                                         Бассейны       0.00      0.00      0.00         2\n",
      "                             Батончики шоколадные       0.00      0.00      0.00         0\n",
      "                                   Батуты детские       0.00      0.00      0.00         0\n",
      "                                  Беговые дорожки       0.00      0.00      0.00         1\n",
      "                                           Бейджи       1.00      1.00      1.00         1\n",
      "                                        Бензопилы       0.00      0.00      0.00         0\n",
      "                                        Бензорезы       0.00      0.00      0.00         0\n",
      "                                    Бетономешалки       0.50      0.50      0.50         2\n",
      "                                             Биде       0.00      0.00      0.00         0\n",
      "                                 Биде электронные       0.00      0.00      0.00         1\n",
      "                                          Бинокли       0.00      0.00      0.00         1\n",
      "                                            Бисер       1.00      1.00      1.00         3\n",
      "                             Биты для шуруповерта       0.00      0.00      0.00         4\n",
      "                                         Блендеры       0.00      0.00      0.00         2\n",
      "                           Блинницы электрические       0.50      1.00      0.67         1\n",
      "                                            Блины       0.00      0.00      0.00         1\n",
      "                                        Блок-хаус       0.00      0.00      0.00         1\n",
      "                             Блоки газосиликатные       0.00      0.00      0.00         1\n",
      "                                  Блоки для троса       0.00      0.00      0.00         1\n",
      "                                    Блоки питания       0.00      0.00      0.00         3\n",
      "                                           Блузки       0.00      0.00      0.00         2\n",
      "                                        Болторезы       0.00      0.00      0.00         0\n",
      "                                            Болты       0.00      0.00      0.00         0\n",
      "                                  Болты секретные       0.00      0.00      0.00         1\n",
      "                                Бордюры для ванны       1.00      1.00      1.00         1\n",
      "                                        Босоножки       0.00      0.00      0.00         3\n",
      "                                          Ботинки       0.17      1.00      0.29         1\n",
      "                              Ботинки горнолыжные       0.00      0.00      0.00         1\n",
      "                                   Ботинки лыжные       0.00      0.00      0.00         1\n",
      "                                              Бра       1.00      0.50      0.67         2\n",
      "                                         Браслеты       0.00      0.00      0.00         0\n",
      "                            Браслеты безопасности       0.00      0.00      0.00         3\n",
      "                               Браслеты для часов       0.00      0.00      0.00         0\n",
      "                             Бритвы электрические       0.00      0.00      0.00         1\n",
      "                                     Брошюровщики       0.50      0.50      0.50         2\n",
      "                              Бруски шлифовальные       0.00      0.00      0.00         1\n",
      "                                            Брюки       0.00      0.00      0.00         4\n",
      "                                 Брюки спортивные       0.00      0.00      0.00         1\n",
      "                                  Будки для собак       1.00      1.00      1.00         1\n",
      "                                              Буи       1.00      1.00      1.00         1\n",
      "                                   Букеты из ягод       0.00      0.00      0.00         2\n",
      "                                   Буры по бетону       0.00      0.00      0.00         0\n",
      "                                            Бутсы       0.00      0.00      0.00         0\n",
      "                                          Бутылки       0.00      0.00      0.00         0\n",
      "                                 Бутылки для воды       0.00      0.00      0.00         2\n",
      "                          Бутылочки для кормления       1.00      0.67      0.80         3\n",
      "                                     Бюстгальтеры       0.00      0.00      0.00         1\n",
      "                               Вагинальные шарики       0.00      0.00      0.00         1\n",
      "                   Вакуумные очистители бассейнов       0.00      0.00      0.00         0\n",
      "                                 Вакуумные пакеты       0.00      0.00      0.00         0\n",
      "                                  Валики малярные       0.00      0.00      0.00         1\n",
      "                                 Ванночки детские       1.00      1.00      1.00         1\n",
      "                                          Варганы       0.00      0.00      0.00         1\n",
      "                                          Варежки       0.00      0.00      0.00         0\n",
      "                                          Варенье       0.00      0.00      0.00         0\n",
      "                                  Варочные панели       0.00      0.00      0.00         0\n",
      "                              Ведра хозяйственные       0.50      1.00      0.67         1\n",
      "                                            Веера       0.00      0.00      0.00         1\n",
      "                                       Велокамеры       0.00      0.00      0.00         1\n",
      "                          Велосипеды двухколесные       1.00      0.29      0.44         7\n",
      "                          Велосипеды трехколесные       0.00      0.00      0.00         2\n",
      "                                        Велосумки       0.00      0.00      0.00         1\n",
      "                           Вентили для радиаторов       1.00      0.50      0.67         2\n",
      "                                      Вентиляторы       0.00      0.00      0.00         1\n",
      "                Вентиляторы для систем вентиляции       0.00      0.00      0.00         0\n",
      "                            Вентиляторы студийные       0.00      0.00      0.00         0\n",
      "                                         Верстаки       1.00      1.00      1.00         1\n",
      "                                             Весы       0.00      0.00      0.00         0\n",
      "                                    Весы торговые       0.00      0.00      0.00         1\n",
      "                                 Вешалки на дверь       0.00      0.00      0.00         1\n",
      "                                        Вибраторы       0.00      0.00      0.00         2\n",
      "                                       Виброплиты       0.00      0.00      0.00         1\n",
      "                                      Видеоглазки       0.00      0.00      0.00         0\n",
      "                                       Видеодиски       0.00      0.00      0.00         0\n",
      "                                    Видеодомофоны       0.00      0.00      0.00         1\n",
      "                                       Видеокарты       1.00      0.20      0.33         5\n",
      "                  Видеорегистраторы автомобильные       0.00      0.00      0.00         4\n",
      "                                   Видеоэндоскопы       0.00      0.00      0.00         0\n",
      "                                    Вилки садовые       0.00      0.00      0.00         0\n",
      "                                             Вина       0.00      0.00      0.00         1\n",
      "                              Вина безалкогольные       0.00      0.00      0.00         1\n",
      "                              Виниловые пластинки       0.00      0.00      0.00         0\n",
      "                                   Виниловые полы       0.00      0.00      0.00         0\n",
      "                          Виниловые проигрыватели       0.00      0.00      0.00         0\n",
      "                                     Винные шкафы       0.00      0.00      0.00         1\n",
      "                                 Винты-конфирматы       0.00      0.00      0.00         0\n",
      "                                 Виртуальные очки       0.00      0.00      0.00         1\n",
      "                           Внешние SSD накопители       0.00      0.00      0.00         1\n",
      "                             Внешние аккумуляторы       0.00      0.00      0.00         1\n",
      "                            Внешние жесткие диски       1.00      0.50      0.67         2\n",
      "                                  Водонагреватели       0.00      0.00      0.00         3\n",
      "                              Водосточные системы       0.00      0.00      0.00         0\n",
      "                                     Воздуходувки       0.00      0.00      0.00         2\n",
      "                                   Воздушные змеи       1.00      1.00      1.00         1\n",
      "                                          Вольеры       0.00      0.00      0.00         0\n",
      "                           Воротники для животных       0.00      0.00      0.00         0\n",
      "                            Вставки искусственные       0.00      0.00      0.00         0\n",
      "                       Выключатели автоматические       0.00      0.00      0.00         2\n",
      "                         Выключатели механические       0.00      0.00      0.00         2\n",
      "                              Выносы велосипедные       0.00      0.00      0.00         2\n",
      "                                Выпрямители волос       1.00      1.00      1.00         1\n",
      "                                 Вытяжки кухонные       0.00      0.00      0.00         3\n",
      "                               Вышивальные машины       0.00      0.00      0.00         5\n",
      "                                 Вязальные машины       0.00      0.00      0.00         1\n",
      "                    Газовые горелки туристические       1.00      1.00      1.00         1\n",
      "                                    Газонокосилки       0.00      0.00      0.00         1\n",
      "                                            Гайки       0.00      0.00      0.00         1\n",
      "                                       Гайковерты       0.00      0.00      0.00         1\n",
      "                                           Гамаки       0.00      0.00      0.00         1\n",
      "                              Гамаки для животных       0.00      0.00      0.00         0\n",
      "                                          Гантели       0.00      0.00      0.00         0\n",
      "                                        Гарнитуры       0.00      0.00      0.00         6\n",
      "                                Гарнитуры душевые       0.00      0.00      0.00         1\n",
      "                                           Гвозди       0.67      1.00      0.80         2\n",
      "                                         Геймпады       0.00      0.00      0.00         1\n",
      "                                             Гели       0.00      0.00      0.00         0\n",
      "                       Генераторы водородной воды       0.00      0.00      0.00         0\n",
      "                                        Герметики       0.00      0.00      0.00         1\n",
      "                                       Гермомешки       0.00      0.00      0.00         0\n",
      "                                       Гигрометры       0.33      1.00      0.50         1\n",
      "                                    Гидроизоляции       0.00      0.00      0.00         1\n",
      "                                     Гидрокостюмы       0.75      1.00      0.86         3\n",
      "         Гидромассажные системы для душевых кабин       0.00      0.00      0.00         1\n",
      "                                         Гирлянды       0.00      0.00      0.00         0\n",
      "                                           Гитары       0.00      0.00      0.00         3\n",
      "                                Гладильные прессы       0.00      0.00      0.00         2\n",
      "                                   Глазки дверные       0.67      0.50      0.57         4\n",
      "                                       Глюкометры       0.00      0.00      0.00         1\n",
      "                                 Головки торцевые       0.00      0.00      0.00         1\n",
      "                                           Грабли       0.00      0.00      0.00         0\n",
      "                                          Граверы       0.00      0.00      0.00         1\n",
      "                             Графические планшеты       0.00      0.00      0.00         2\n",
      "                                           Грелки       1.00      1.00      1.00         1\n",
      "                                   Грелки детские       0.00      0.00      0.00         0\n",
      "                             Грелки туристические       0.00      0.00      0.00         1\n",
      "                                            Греча       0.00      0.00      0.00         1\n",
      "                                    Грили газовые       0.00      0.00      0.00         1\n",
      "                              Грили электрические       0.00      0.00      0.00         1\n",
      "                                           Грипсы       0.00      0.00      0.00         1\n",
      "                            Грунтовки аэрозольные       0.00      0.00      0.00         0\n",
      "              Грунты для аквариумов и террариумов       0.00      0.00      0.00         1\n",
      "                              Грунты для растений       0.00      0.00      0.00         0\n",
      "                                            Груши       0.00      0.00      0.00         0\n",
      "                                Грызаки для собак       0.00      0.00      0.00         0\n",
      "                                 Губки абразивные       0.00      0.00      0.00         0\n",
      "                                   Губки малярные       0.00      0.00      0.00         1\n",
      "                             Губки флористические       0.00      0.00      0.00         0\n",
      "                                       Дальномеры       0.50      1.00      0.67         2\n",
      "                                       Дарсонваль       0.00      0.00      0.00         1\n",
      "                                            Дартс       0.00      0.00      0.00         0\n",
      "                                 Датчики движения       0.00      0.00      0.00         1\n",
      "                          Датчики разбития стекла       0.00      0.00      0.00         0\n",
      "                                    Двери входные       0.00      0.00      0.00         0\n",
      "                               Двери межкомнатные       0.00      0.00      0.00         2\n",
      "                        Дверные замки электронные       0.00      0.00      0.00         1\n",
      "                              Дверцы для животных       0.00      0.00      0.00         1\n",
      "                    Двигатели для садовой техники       0.00      0.00      0.00         1\n",
      "                                      Дезодоранты       0.50      1.00      0.67         1\n",
      "                   Декодеры для управления светом       0.00      0.00      0.00         0\n",
      "                             Декор для творчества       0.00      0.00      0.00         1\n",
      "                        Держатели для баллончиков       0.00      0.00      0.00         1\n",
      "                             Держатели для ванной       0.00      0.00      0.00         0\n",
      "                             Держатели для зеркал       0.00      0.00      0.00         0\n",
      "                          Держатели для украшений       0.00      0.00      0.00         0\n",
      "                           Держатели канцелярские       0.00      0.00      0.00         1\n",
      "                               Держатели кухонные       0.00      0.00      0.00         1\n",
      "                      Дерматологические препараты       0.67      1.00      0.80         2\n",
      "                                  Детекторы валют       0.00      0.00      0.00         0\n",
      "                      Детские садовые инструменты       0.00      0.00      0.00         1\n",
      "                        Дефлекторы вентиляционные       0.00      0.00      0.00         0\n",
      "                                            Джемы       0.00      0.00      0.00         0\n",
      "                                           Джерси       0.00      0.00      0.00         0\n",
      "                                           Диваны       0.33      0.33      0.33         3\n",
      "                                      Динамометры       0.00      0.00      0.00         0\n",
      "                       Диски для штанг и гантелей       1.00      1.00      1.00         1\n",
      "                                   Диски колесные       0.50      0.33      0.40         3\n",
      "                                   Диски отрезные       0.00      0.00      0.00         0\n",
      "                                    Диски пильные       0.00      0.00      0.00         0\n",
      "                                   Диски с играми       1.00      0.50      0.67         2\n",
      "                    Диспенсеры для монтажных лент       0.00      0.00      0.00         0\n",
      "                                Дисплеи для камер       0.00      0.00      0.00         1\n",
      "                                     Дистилляторы       0.00      0.00      0.00         0\n",
      "                                Доводчики дверные       0.00      0.00      0.00         1\n",
      "                              Доводчики мебельные       0.00      0.00      0.00         1\n",
      "                                      Дождеватели       0.00      0.00      0.00         1\n",
      "                            Дождевики для колясок       0.00      0.00      0.00         1\n",
      "                              Дождевики для обуви       0.00      0.00      0.00         0\n",
      "                               Дозаторы шприцевые       0.00      0.00      0.00         0\n",
      "                                        Дозиметры       0.00      0.00      0.00         0\n",
      "                                Доильные аппараты       0.00      0.00      0.00         1\n",
      "                              Домашние кинотеатры       0.33      0.50      0.40         2\n",
      "                                 Домики для детей       0.00      0.00      0.00         1\n",
      "                                         Домкраты       0.00      0.00      0.00         2\n",
      "                                   Донные клапаны       1.00      0.50      0.67         2\n",
      "                          Дорожки балансировочные       0.00      0.00      0.00         0\n",
      "                      Доски гладильные встроенные       0.00      0.00      0.00         1\n",
      "                                Доски для биговки       0.00      0.00      0.00         0\n",
      "                              Доски для рисования       0.00      0.00      0.00         1\n",
      "                               Доски строительные       0.00      0.00      0.00         2\n",
      "                                            Дрели       1.00      0.20      0.33         5\n",
      "                    Другие жидкости для рукоделия       0.00      0.00      0.00         0\n",
      "              Другие хозяйственные принадлежности       0.00      0.00      0.00         1\n",
      "                     Другое торговое оборудование       0.00      0.00      0.00         0\n",
      "                                       Дым машины       0.00      0.00      0.00         1\n",
      "                                         Дымоходы       0.00      0.00      0.00         0\n",
      "                                      Ежедневники       0.00      0.00      0.00         0\n",
      "                                             Елки       0.00      0.00      0.00         1\n",
      "                         Емкости для воды садовые       0.00      0.00      0.00         1\n",
      "                       Емкости для масла и уксуса       0.00      0.00      0.00         1\n",
      "                             Емкости неполимерные       0.00      0.00      0.00         1\n",
      "                              Жала для паяльников       0.00      0.00      0.00         0\n",
      "                                          Жаровни       0.00      0.00      0.00         0\n",
      "                                  Железные дороги       0.00      0.00      0.00         1\n",
      "                                    Жесткие диски       0.00      0.00      0.00         1\n",
      "                         Жидкости для снятия лака       0.00      0.00      0.00         1\n",
      "                                           Жилеты       0.00      0.00      0.00         0\n",
      "                    Заглушки для ванны и раковины       0.00      0.00      0.00         1\n",
      "                                        Зажигалки       0.00      0.00      0.00         1\n",
      "                             Зажигалки бензиновые       0.00      0.00      0.00         0\n",
      "                            Зажимы для альпинизма       0.00      0.00      0.00         1\n",
      "                              Зажимы для опалубки       0.00      0.00      0.00         1\n",
      "                                Зажимы для тросов       0.00      0.00      0.00         0\n",
      "                               Зажимы для шлангов       0.00      0.00      0.00         1\n",
      "                                Заклепки вытяжные       0.00      0.00      0.00         0\n",
      "                                     Заклепочники       0.00      0.00      0.00         1\n",
      "                       Заменители грудного молока       0.00      0.00      0.00         1\n",
      "                               Замки велосипедные       0.00      0.00      0.00         1\n",
      "                                    Замки дверные       0.00      0.00      0.00         1\n",
      "                                   Замки навесные       0.00      0.00      0.00         0\n",
      "                                  Записные книжки       0.00      0.00      0.00         0\n",
      "                                         Заплатки       0.00      0.00      0.00         0\n",
      "                             Запчасти для батутов       0.00      0.00      0.00         0\n",
      "                    Запчасти для водонагревателей       0.00      0.00      0.00         0\n",
      "                     Запчасти для детских колясок       0.00      0.00      0.00         0\n",
      "                       Запчасти для кондиционеров       0.00      0.00      0.00         0\n",
      "                 Запчасти для мобильных телефонов       0.00      0.00      0.00         0\n",
      "                           Запчасти для переносок       0.00      0.00      0.00         1\n",
      "                     Запчасти для садовой техники       0.00      0.00      0.00         0\n",
      "                            Запчасти для самоката       0.00      0.00      0.00         0\n",
      "                 Запчасти для электроинструментов       0.00      0.00      0.00         1\n",
      "                      Запчасти для электромобилей       0.00      0.00      0.00         1\n",
      "              Зарядные станции для электромобилей       0.00      0.00      0.00         2\n",
      "                              Зарядные устройства       0.00      0.00      0.00         0\n",
      "            Зарядные устройства для аккумуляторов       0.00      0.00      0.00         1\n",
      "       Зарядные устройства для электроинструмента       0.00      0.00      0.00         0\n",
      "                             Защита груди женская       0.00      0.00      0.00         1\n",
      "                        Защита для купания малыша       0.00      0.00      0.00         0\n",
      "                                  Защитная пленка       0.00      0.00      0.00         0\n",
      "                       Защитные накладки для дома       0.00      0.00      0.00         0\n",
      "                                  Защитные стекла       0.00      0.00      0.00         0\n",
      "                                            Зонты       0.00      0.00      0.00         1\n",
      "                                 Зубила слесарные       0.00      0.00      0.00         2\n",
      "                                     Зубные пасты       0.00      0.00      0.00         1\n",
      "                                     ИВЛ-аппараты       0.00      0.00      0.00         1\n",
      "                                    Иглы для тату       0.00      0.00      0.00         1\n",
      "                                     Иглы швейные       0.50      1.00      0.67         1\n",
      "                                  Игровая техника       0.00      0.00      0.00         1\n",
      "                                  Игровые коврики       0.00      0.00      0.00         3\n",
      "                      Игровые комплексы для кошек       0.00      0.00      0.00         1\n",
      "                                  Игровые консоли       0.00      0.00      0.00         2\n",
      "                                   Игровые наборы       0.00      0.00      0.00         0\n",
      "                                  Игровые палатки       0.00      0.00      0.00         1\n",
      "                                Игрушечная посуда       0.00      0.00      0.00         2\n",
      "                                Игрушечные гаражи       0.00      0.00      0.00         0\n",
      "                           Игрушечные инструменты       0.17      1.00      0.29         1\n",
      "               Игрушечные музыкальные инструменты       0.00      0.00      0.00         2\n",
      "                              Игрушечные продукты       0.00      0.00      0.00         1\n",
      "                                          Известь       0.00      0.00      0.00         1\n",
      "                     Измельчители пищевых отходов       0.00      0.00      0.00         0\n",
      "                                         Изоленты       0.00      0.00      0.00         1\n",
      "                            Импульсные осветители       0.00      0.00      0.00         1\n",
      "                          Инверторы автомобильные       0.00      0.00      0.00         0\n",
      "                                       Ингаляторы       0.00      0.00      0.00         8\n",
      "                          Инсталляции для унитаза       0.00      0.00      0.00         0\n",
      "              Инструменты для выравнивания плитки       0.00      0.00      0.00         1\n",
      "                Инструменты для зачистки проводов       1.00      0.67      0.80         3\n",
      "                     Инструменты для пчеловодства       0.00      0.00      0.00         0\n",
      "                           Искусственные растения       0.00      0.00      0.00         1\n",
      "                 Источники бесперебойного питания       0.00      0.00      0.00         4\n",
      "                                Источники питания       0.00      0.00      0.00         0\n",
      "                                           Кабели       0.00      0.00      0.00         1\n",
      "                             Кабели электрические       0.00      0.00      0.00         0\n",
      "                                   Кабины душевые       0.00      0.00      0.00         1\n",
      "                                        Календари       1.00      1.00      1.00         1\n",
      "                                     Калькуляторы       0.00      0.00      0.00         0\n",
      "                                          Кальяны       0.50      0.50      0.50         2\n",
      "                     Камеры автомобильные для шин       0.00      0.00      0.00         0\n",
      "                           Камеры видеонаблюдения       0.00      0.00      0.00         4\n",
      "                                           Камины       0.00      0.00      0.00         1\n",
      "                        Канализационные установки       0.00      0.00      0.00         1\n",
      "                                Капсулы для монет       1.00      1.00      1.00         1\n",
      "                                             Капы       0.00      0.00      0.00         0\n",
      "                            Карабины строительные       0.50      1.00      0.67         1\n",
      "                                        Карандаши       0.67      1.00      0.80         2\n",
      "                           Карандаши механические       1.00      1.00      1.00         1\n",
      "                             Каретки велосипедные       0.00      0.00      0.00         0\n",
      "                               Кармашки в шкафчик       0.00      0.00      0.00         2\n",
      "                          Карнавальные аксессуары       0.00      0.00      0.00         0\n",
      "                      Карнавальные головные уборы       0.00      0.00      0.00         1\n",
      "                              Карнавальные ободки       0.00      0.00      0.00         1\n",
      "                              Карнавальные парики       0.00      0.00      0.00         1\n",
      "                                          Карнизы       1.00      1.00      1.00         2\n",
      "                                          Картины       0.75      1.00      0.86         3\n",
      "                               Картины по номерам       0.00      0.00      0.00         1\n",
      "                                        Картофель       0.00      0.00      0.00         0\n",
      "                                       Картридеры       0.00      0.00      0.00         0\n",
      "                          Картриджи для принтеров       0.00      0.00      0.00         2\n",
      "                                     Карты памяти       0.00      0.00      0.00         1\n",
      "                                         Кастрюли       0.00      0.00      0.00         1\n",
      "                                Катушки зажигания       0.00      0.00      0.00         0\n",
      "                               Катушки рыболовные       0.00      0.00      0.00         2\n",
      "                                   Качели детские       0.00      0.00      0.00         1\n",
      "                                 Качели подвесные       0.00      0.00      0.00         1\n",
      "                      Каши быстрого приготовления       0.00      0.00      0.00         1\n",
      "                                     Каши детские       0.00      0.00      0.00         1\n",
      "                                   Каши для собак       0.00      0.00      0.00         0\n",
      "                                            Кашпо       0.00      0.00      0.00         2\n",
      "                                  Кейсы для камер       0.00      0.00      0.00         0\n",
      "                                            Кексы       0.00      0.00      0.00         1\n",
      "                                           Кельмы       0.00      0.00      0.00         1\n",
      "                                          Кендамы       0.00      0.00      0.00         0\n",
      "                                         Керамзит       0.00      0.00      0.00         1\n",
      "                                     Керамогранит       0.50      1.00      0.67         1\n",
      "                                          Кернеры       0.00      0.00      0.00         2\n",
      "                                          Кетчупы       0.00      0.00      0.00         0\n",
      "                                   Кии бильярдные       0.00      0.00      0.00         1\n",
      "                                    Кинезио тейпы       0.00      0.00      0.00         1\n",
      "                             Кирпичи облицовочные       0.00      0.00      0.00         1\n",
      "                                           Кисели       0.00      0.00      0.00         0\n",
      "                                   Кисти для клея       0.00      0.00      0.00         0\n",
      "                              Кисти косметические       0.00      0.00      0.00         1\n",
      "                                   Кисти малярные       0.00      0.00      0.00         2\n",
      "                             Кисти художественные       0.00      0.00      0.00         1\n",
      "                                       Клавиатуры       1.00      1.00      1.00         1\n",
      "                                  Клапаны оконные       0.00      0.00      0.00         0\n",
      "                      Клей для напольных покрытий       0.00      0.00      0.00         0\n",
      "                                  Клей для плитки       0.00      0.00      0.00         2\n",
      "                                    Клейкие ленты       0.00      0.00      0.00         0\n",
      "                               Клещи строительные       0.00      0.00      0.00         1\n",
      "                                    Ключи гаечные       0.00      0.00      0.00         2\n",
      "                          Ключи трубные и газовые       0.00      0.00      0.00         0\n",
      "                               Ключи шестигранные       0.00      0.00      0.00         1\n",
      "                                           Клюшки       1.00      1.00      1.00         1\n",
      "                                         Кляймеры       0.00      0.00      0.00         1\n",
      "                                            Книги       0.00      0.00      0.00         4\n",
      "                                        Коверлоки       0.00      0.00      0.00         1\n",
      "                            Коврики автомобильные       0.00      0.00      0.00         1\n",
      "                                  Коврики детские       0.33      1.00      0.50         1\n",
      "                                 Коврики для мыши       0.00      0.00      0.00         0\n",
      "                                Коврики комнатные       0.50      0.50      0.50         2\n",
      "                            Коврики туристические       0.00      0.00      0.00         1\n",
      "                                         Ковролин       0.00      0.00      0.00         1\n",
      "                         Коконы для новорожденных       0.00      0.00      0.00         0\n",
      "                                          Колбасы       0.00      0.00      0.00         1\n",
      "                              Колеса промышленные       0.00      0.00      0.00         0\n",
      "                         Колодки для квадроциклов       0.00      0.00      0.00         0\n",
      "                                  Колодки обувные       0.00      0.00      0.00         1\n",
      "                                          Колонки       0.50      0.25      0.33         4\n",
      "                                Колпаки на колеса       0.00      0.00      0.00         2\n",
      "                                     Колтунорезки       0.00      0.00      0.00         0\n",
      "                                            Колье       0.00      0.00      0.00         1\n",
      "                                           Кольца       0.00      0.00      0.00         3\n",
      "                                Коляски для кукол       0.00      0.00      0.00         0\n",
      "                              Коляски прогулочные       0.50      0.25      0.33         4\n",
      "                                      Комбинезоны       0.00      0.00      0.00         1\n",
      "                                      Коммутаторы       0.00      0.00      0.00         1\n",
      "                               Комнатные растения       0.00      0.00      0.00         2\n",
      "                                          Компасы       1.00      1.00      1.00         1\n",
      "             Комплектующие для подвесного потолка       0.00      0.00      0.00         0\n",
      "            Комплектующие для сварочных аппаратов       0.00      0.00      0.00         0\n",
      "                   Комплектующие для теплых полов       0.00      0.00      0.00         1\n",
      "                                  Комплекты белья       0.00      0.00      0.00         0\n",
      "              Комплекты для купания новорожденных       0.00      0.00      0.00         1\n",
      "                    Комплекты заземления для дома       0.00      0.00      0.00         0\n",
      "                      Комплекты натяжного потолка       0.00      0.00      0.00         0\n",
      "                  Комплекты шумоизоляции для авто       0.00      0.00      0.00         0\n",
      "                          Композиции живых цветов       0.00      0.00      0.00         1\n",
      "                            Компрессорные станции       0.00      0.00      0.00         1\n",
      "                        Компрессоры для аквариума       0.00      0.00      0.00         0\n",
      "                                       Компьютеры       0.00      0.00      0.00         1\n",
      "                         Конвекторы внутрипольные       0.00      0.00      0.00         1\n",
      "                      Конверторы для автомагнитол       0.00      0.00      0.00         1\n",
      "                             Конверты для малышей       1.00      1.00      1.00         1\n",
      "                            Конденсаторы пусковые       0.00      0.00      0.00         0\n",
      "                             Кондиционеры воздуха       0.00      0.00      0.00         4\n",
      "                               Коннекторы садовые       0.00      0.00      0.00         0\n",
      "                                 Консервы овощные       0.00      0.00      0.00         1\n",
      "                                     Конструкторы       0.00      0.00      0.00         1\n",
      "                                Конструкторы LEGO       0.50      1.00      0.67         1\n",
      "                                 Контактные линзы       0.50      0.33      0.40         3\n",
      "                          Контейнеры из полимеров       0.00      0.00      0.00         0\n",
      "                          Контейнеры неполимерные       0.00      0.00      0.00         1\n",
      "                                  Конусы дорожные       0.00      0.00      0.00         1\n",
      "                                          Конфеты       0.00      0.00      0.00         1\n",
      "                          Концентраторы кислорода       0.00      0.00      0.00         0\n",
      "                                           Коньки       0.00      0.00      0.00         1\n",
      "                                          Коптеры       0.00      0.00      0.00         5\n",
      "                                        Коптильни       0.00      0.00      0.00         1\n",
      "                                            Коржи       0.00      0.00      0.00         0\n",
      "                            Корзины баскетбольные       0.00      0.00      0.00         0\n",
      "                                Корзины для белья       0.00      0.00      0.00         0\n",
      "                              Корзины для игрушек       0.00      0.00      0.00         0\n",
      "                                     Корм влажный       0.00      0.00      0.00         0\n",
      "                                       Корм сухой       0.00      0.00      0.00         1\n",
      "                            Кормушки для животных       0.00      0.00      0.00         1\n",
      "                              Кормушки рыболовные       0.00      0.00      0.00         1\n",
      "                                 Кормушки садовые       0.00      0.00      0.00         0\n",
      "                                  Коробки дверные       0.00      0.00      0.00         1\n",
      "                        Коробки распределительные       0.00      0.00      0.00         0\n",
      "                       Корпуса для жестких дисков       0.00      0.00      0.00         1\n",
      "                          Корпуса для компьютеров       0.50      0.67      0.57         3\n",
      "                     Корпусы под газовые счетчики       0.00      0.00      0.00         0\n",
      "                             Корректирующие ленты       1.00      1.00      1.00         1\n",
      "                           Корсеты ортопедические       0.00      0.00      0.00         1\n",
      "                           Косметические аппараты       0.00      0.00      0.00         0\n",
      "                                          Костюмы       0.67      1.00      0.80         2\n",
      "                                  Котлы отопления       0.00      0.00      0.00         0\n",
      "                                    Кофе зерновой       0.00      0.00      0.00         0\n",
      "                                        Кофеварки       0.50      0.50      0.50         2\n",
      "                              Кофеварки гейзерные       0.00      0.00      0.00         0\n",
      "                          Кофемолки электрические       0.00      0.00      0.00         1\n",
      "                             Кофточки для малышей       0.00      0.00      0.00         1\n",
      "                                       Кран-буксы       0.00      0.00      0.00         0\n",
      "                                    Краны шаровые       0.00      0.00      0.00         1\n",
      "                                 Краски для волос       0.00      0.00      0.00         3\n",
      "                             Краски для рисования       0.50      1.00      0.67         1\n",
      "                              Краски колеровочные       0.00      0.00      0.00         1\n",
      "                                     Краскопульты       0.00      0.00      0.00         1\n",
      "                                  Кремы для обуви       1.00      1.00      1.00         1\n",
      "                                Крепления для лыж       0.00      0.00      0.00         1\n",
      "                                           Кресла       0.00      0.00      0.00         2\n",
      "                                   Кресла детские       0.00      0.00      0.00         0\n",
      "                              Кресла компьютерные       0.50      0.50      0.50         2\n",
      "                              Кровати кемпинговые       0.50      1.00      0.67         1\n",
      "                                 Кровати надувные       0.00      0.00      0.00         1\n",
      "                              Кровля наплавляемая       0.00      0.00      0.00         3\n",
      "                       Кронштейны для телевизоров       0.00      0.00      0.00         1\n",
      "                                        Кроссовки       0.00      0.00      0.00         1\n",
      "                               Круги шлифовальные       0.00      0.00      0.00         0\n",
      "                                           Кружки       1.00      1.00      1.00         1\n",
      "                                 Крупа кукурузная       1.00      1.00      1.00         1\n",
      "                                  Крупа пшеничная       1.00      1.00      1.00         1\n",
      "                                           Крылья       0.00      0.00      0.00         0\n",
      "                                           Крышки       0.00      0.00      0.00         0\n",
      "                                Крючки рыболовные       0.00      0.00      0.00         1\n",
      "                           Кувалды для тренировок       0.00      0.00      0.00         1\n",
      "                                          Кувшины       0.00      0.00      0.00         2\n",
      "                                Куканы рыболовные       0.00      0.00      0.00         0\n",
      "                                            Куклы       0.50      0.50      0.50         2\n",
      "                                 Кукольные домики       0.00      0.00      0.00         1\n",
      "                                     Культиваторы       0.00      0.00      0.00         0\n",
      "                                       Курвиметры       0.00      0.00      0.00         1\n",
      "                                           Куртки       0.00      0.00      0.00         1\n",
      "                           Куртки сноубордические       0.00      0.00      0.00         1\n",
      "                           Кусторезы механические       0.00      0.00      0.00         1\n",
      "                                  Кухонные машины       0.00      0.00      0.00         2\n",
      "                   Лабораторные источники питания       0.00      0.00      0.00         0\n",
      "                                   Лаки для волос       0.00      0.00      0.00         0\n",
      "                                Лаки строительные       0.00      0.00      0.00         0\n",
      "                           Лакомства для животных       0.00      0.00      0.00         0\n",
      "                                          Ламинат       0.00      0.00      0.00         1\n",
      "                                       Ламинаторы       0.00      0.00      0.00         0\n",
      "                                         Лампочки       0.00      0.00      0.00         0\n",
      "                           Лампы для сушки ногтей       0.00      0.00      0.00         1\n",
      "                               Лампы от насекомых       0.00      0.00      0.00         0\n",
      "                                 Лежаки подкатные       0.00      0.00      0.00         1\n",
      "                     Лезвия для пистолетных ножей       0.00      0.00      0.00         2\n",
      "                                   Лейки для душа       0.00      0.00      0.00         0\n",
      "                                    Лейки садовые       0.00      0.00      0.00         0\n",
      "                               Ленты для принтера       1.00      1.00      1.00         1\n",
      "                              Ленты для рукоделия       0.00      0.00      0.00         0\n",
      "                             Ленты для эмбоссеров       0.00      0.00      0.00         1\n",
      "                                   Ленты малярные       0.00      0.00      0.00         1\n",
      "                                    Ленты чековые       0.00      0.00      0.00         1\n",
      "                                 Леска рыболовная       0.00      0.00      0.00         0\n",
      "                                   Лески для спиц       0.00      0.00      0.00         0\n",
      "                              Лески для триммеров       0.00      0.00      0.00         1\n",
      "                                         Лестницы       0.33      0.50      0.40         2\n",
      "                            Лестницы для животных       0.00      0.00      0.00         1\n",
      "                               Лестницы чердачные       0.00      0.00      0.00         1\n",
      "                                 Лечебное питание       0.00      0.00      0.00         1\n",
      "                                     Линзы в фары       0.00      0.00      0.00         1\n",
      "                             Линзы для экшн-камер       0.00      0.00      0.00         1\n",
      "                                         Линолеум       0.00      0.00      0.00         1\n",
      "                     Листы для коллекционирования       0.00      0.00      0.00         0\n",
      "                             Лопаты туристические       0.00      0.00      0.00         1\n",
      "                                Лотки для метизов       0.00      0.00      0.00         0\n",
      "                                             Луки       0.00      0.00      0.00         2\n",
      "                                     Лыжи беговые       0.00      0.00      0.00         1\n",
      "                                     Лыжные палки       0.00      0.00      0.00         1\n",
      "                             Люки канализационные       1.00      1.00      1.00         1\n",
      "                                 Люки ревизионные       0.00      0.00      0.00         0\n",
      "                                        Люксметры       1.00      1.00      1.00         1\n",
      "                                           Люстры       0.00      0.00      0.00         1\n",
      "                                              МФУ       0.25      0.20      0.22         5\n",
      "                                         Магнезия       0.00      0.00      0.00         1\n",
      "                                        Магнитолы       0.20      1.00      0.33         1\n",
      "                          Магнитолы автомобильные       0.00      0.00      0.00         0\n",
      "                                  Магниты бытовые       0.00      0.00      0.00         1\n",
      "                                      Мази лыжные       0.00      0.00      0.00         0\n",
      "                                          Мангалы       0.00      0.00      0.00         0\n",
      "                                         Манекены       1.00      0.33      0.50         3\n",
      "                        Манекены для парикмахеров       0.00      0.00      0.00         0\n",
      "                                Маникюрные наборы       0.00      0.00      0.00         0\n",
      "                                       Маринаторы       0.00      0.00      0.00         0\n",
      "                                          Маркеры       1.00      1.00      1.00         1\n",
      "                                         Мармелад       0.00      0.00      0.00         1\n",
      "                              Маски для сварщиков       0.00      0.00      0.00         2\n",
      "                              Маски косметические       0.00      0.00      0.00         1\n",
      "                             Масла гидравлические       0.00      0.00      0.00         0\n",
      "                     Масла для пневмоинструментов       0.00      0.00      0.00         1\n",
      "                        Масла для садовой техники       0.00      0.00      0.00         0\n",
      "                             Масло деревозащитное       0.00      0.00      0.00         1\n",
      "                          Массажеры электрические       0.00      0.00      0.00         3\n",
      "                                Материнские платы       0.50      0.25      0.33         4\n",
      "                                          Матрасы       0.00      0.00      0.00         1\n",
      "             Матрасы в кроватку для новорожденных       0.00      0.00      0.00         3\n",
      "                            Матрасы для переносок       0.00      0.00      0.00         1\n",
      "                                Матрасы для санок       0.00      0.00      0.00         1\n",
      "                   Машины для приготовления смеси       0.25      1.00      0.40         1\n",
      "                                      Мегаомметры       0.33      1.00      0.50         1\n",
      "                          Медиа на USB-накопителе       0.00      0.00      0.00         1\n",
      "                                        Медиаторы       0.00      0.00      0.00         0\n",
      "                                Медицинские карты       0.00      0.00      0.00         0\n",
      "                                      Мезороллеры       0.00      0.00      0.00         1\n",
      "                                            Мелки       0.00      0.00      0.00         1\n",
      "                              Мембраны кровельные       0.00      0.00      0.00         0\n",
      "                                        Метрономы       0.00      0.00      0.00         1\n",
      "                                 Мешки для мусора       0.00      0.00      0.00         0\n",
      "                               Мешки кондитерские       0.00      0.00      0.00         1\n",
      "                               Микроволновые печи       0.50      0.50      0.50         2\n",
      "                                     Микроомметры       0.00      0.00      0.00         1\n",
      "                                       Микроскопы       0.00      0.00      0.00         0\n",
      "                                        Микрофоны       0.00      0.00      0.00         3\n",
      "                                          Миксеры       0.00      0.00      0.00         0\n",
      "                            Миксеры для косметики       0.00      0.00      0.00         0\n",
      "                  Миксеры для строительных смесей       0.00      0.00      0.00         0\n",
      "                                        Мини-печи       0.00      0.00      0.00         3\n",
      "                                Мини-холодильники       0.00      0.00      0.00         5\n",
      "                               Миски для животных       0.00      0.00      0.00         1\n",
      "                                           Мишени       0.00      0.00      0.00         1\n",
      "                                           Мобили       0.00      0.00      0.00         1\n",
      "                               Мобильные телефоны       0.00      0.00      0.00         1\n",
      "                                    Модули памяти       0.00      0.00      0.00         1\n",
      "                          Мойки высокого давления       0.00      0.00      0.00         3\n",
      "                                  Мойки для кухни       0.00      0.00      0.00         5\n",
      "                                Молоко капсульное       0.00      0.00      0.00         1\n",
      "                                 Молоко сгущенное       0.00      0.00      0.00         0\n",
      "                                          Молотки       0.00      0.00      0.00         0\n",
      "                                 Молотки отбойные       0.00      0.00      0.00         1\n",
      "                                         Мониторы       0.00      0.00      0.00         3\n",
      "                                        Моноблоки       0.00      0.00      0.00         1\n",
      "                                       Монтировки       0.00      0.00      0.00         0\n",
      "                                       Мороженицы       0.00      0.00      0.00         0\n",
      "                                    Мосты для кия       0.00      0.00      0.00         0\n",
      "                                         Мотобуры       0.00      0.00      0.00         1\n",
      "                                        Мотопомпы       0.00      0.00      0.00         2\n",
      "                                           Мотыги       0.00      0.00      0.00         0\n",
      "                                Музыкальные диски       0.00      0.00      0.00         0\n",
      "                        Музыкальные проигрыватели       0.33      0.25      0.29         4\n",
      "                                      Мультиварки       0.00      0.00      0.00         2\n",
      "                                      Мультиметры       0.40      1.00      0.57         2\n",
      "                                   Мультистайлеры       0.00      0.00      0.00         0\n",
      "                                       Мультитулы       0.00      0.00      0.00         2\n",
      "                                    Муфты садовые       0.00      0.00      0.00         1\n",
      "                                             Мыши       1.00      1.00      1.00         2\n",
      "                                      Мягкие окна       0.00      0.00      0.00         0\n",
      "                                 Мясо охлажденное       0.00      0.00      0.00         0\n",
      "                          Мясорубки электрические       0.00      0.00      0.00         5\n",
      "                                  Мячи для гольфа       0.00      0.00      0.00         1\n",
      "                             Наборы автомобилиста       0.00      0.00      0.00         1\n",
      "                                Наборы балансиров       0.00      0.00      0.00         2\n",
      "                                  Наборы в роддом       0.00      0.00      0.00         1\n",
      "                             Наборы для выжигания       0.00      0.00      0.00         0\n",
      "                             Наборы для вышивания       0.00      0.00      0.00         2\n",
      "                            Наборы для глинтвейна       0.00      0.00      0.00         2\n",
      "                                Наборы для опытов       0.00      0.00      0.00         1\n",
      "                             Наборы для песочницы       0.00      0.00      0.00         1\n",
      "               Наборы для приготовления коктейлей       0.00      0.00      0.00         0\n",
      "                             Наборы для рисования       0.00      0.00      0.00         0\n",
      "               Наборы для ухода за новорожденными       0.00      0.00      0.00         0\n",
      "                     Наборы для чистки аквариумов       0.00      0.00      0.00         1\n",
      "                      Наборы игрушек для взрослых       0.00      0.00      0.00         0\n",
      "                              Наборы инструментов       1.00      0.33      0.50         3\n",
      "                          Наборы мебели для детей       0.00      0.00      0.00         1\n",
      "                  Наборы музыкальных инструментов       0.00      0.00      0.00         0\n",
      "                                 Накидки на ножки       0.00      0.00      0.00         1\n",
      "                              Накладки на костыли       0.00      0.00      0.00         0\n",
      "                             Наклейки интерьерные       0.00      0.00      0.00         0\n",
      "                            Наконечники кабельные       0.00      0.00      0.00         0\n",
      "                    Наконечники стоматологические       0.00      0.00      0.00         2\n",
      "                                    Наливные полы       0.50      1.00      0.67         1\n",
      "                                      Налокотники       0.00      0.00      0.00         0\n",
      "                                     Наматрасники       0.00      0.00      0.00         1\n",
      "                                       Напильники       1.00      1.00      1.00         1\n",
      "                  Наполнители для лотков и клеток       0.33      1.00      0.50         1\n",
      "                         Наполнители для подарков       0.00      0.00      0.00         1\n",
      "                           Направляющие мебельные       0.00      0.00      0.00         0\n",
      "                         Направляющие под каретку       0.00      0.00      0.00         1\n",
      "                                      Нарукавники       0.00      0.00      0.00         0\n",
      "                            Насадки для блендеров       0.00      0.00      0.00         1\n",
      "                              Насадки для гравера       0.00      0.00      0.00         1\n",
      "                            Насадки для пылесосов       0.00      0.00      0.00         1\n",
      "                                 Насадки на дрель       0.50      1.00      0.67         1\n",
      "                                  Насадки на кран       0.00      0.00      0.00         0\n",
      "                                  Насадки на член       0.00      0.00      0.00         1\n",
      "                               Насадки рыболовные       0.00      0.00      0.00         1\n",
      "                                 Насосы вакуумные       0.00      0.00      0.00         0\n",
      "                                 Насосы погружные       0.00      0.00      0.00         0\n",
      "                                Насосы спортивные       0.00      0.00      0.00         1\n",
      "                                  Настольные игры       0.00      0.00      0.00         1\n",
      "                                         Наушники       0.50      0.50      0.50         2\n",
      "                                      Негатоскопы       0.00      0.00      0.00         1\n",
      "                                          Неглиже       0.00      0.00      0.00         0\n",
      "                                         Нивелиры       0.00      0.00      0.00         5\n",
      "                           Нити для подтяжки лица       0.00      0.00      0.00         0\n",
      "                                  Ножи для шнеков       0.00      0.00      0.00         1\n",
      "                                Ножи канцелярские       0.00      0.00      0.00         0\n",
      "                                    Ножи кухонные       1.00      1.00      1.00         1\n",
      "                                  Ножи монтерские       0.00      0.00      0.00         1\n",
      "                                     Ножи садовые       0.00      0.00      0.00         0\n",
      "                               Ножи туристические       0.00      0.00      0.00         1\n",
      "                            Ножницы для рукоделия       0.00      0.00      0.00         1\n",
      "                     Ножницы для стрижки животных       0.00      0.00      0.00         1\n",
      "                           Ножницы парикмахерские       0.00      0.00      0.00         0\n",
      "                     Ножницы садовые механические       0.00      0.00      0.00         1\n",
      "                                         Ноутбуки       0.00      0.00      0.00         1\n",
      "                                 Обеденные группы       0.00      0.00      0.00         1\n",
      "                                     Обогреватели       0.00      0.00      0.00         5\n",
      "                                             Обои       0.00      0.00      0.00         0\n",
      "                Оболочки для колбас искусственные       0.00      0.00      0.00         0\n",
      "                               Обувь для животных       0.00      0.00      0.00         1\n",
      "                                        Объективы       0.00      0.00      0.00         3\n",
      "                                         Оверлоки       0.00      0.00      0.00         0\n",
      "                                     Огнетушители       0.00      0.00      0.00         1\n",
      "                             Ограничители оконные       0.00      0.00      0.00         0\n",
      "                                 Одежда для кукол       0.00      0.00      0.00         0\n",
      "                                           Одеяла       0.00      0.00      0.00         1\n",
      "                        Оздоровительная косметика       0.00      0.00      0.00         0\n",
      "                                         Окна ПВХ       0.00      0.00      0.00         3\n",
      "                                  Окна деревянные       0.00      0.00      0.00         1\n",
      "                                          Оправки       0.00      0.00      0.00         1\n",
      "                                     Опрессовщики       0.00      0.00      0.00         0\n",
      "                               Оптические приводы       0.50      1.00      0.67         2\n",
      "                              Органайзеры дверные       0.00      0.00      0.00         1\n",
      "                          Органайзеры для вышивки       0.00      0.00      0.00         0\n",
      "                           Органайзеры на сиденья       0.00      0.00      0.00         0\n",
      "                                        Оргстекла       0.00      0.00      0.00         0\n",
      "                                   Орехи в сиропе       0.00      0.00      0.00         1\n",
      "                               Освежители воздуха       1.00      1.00      1.00         1\n",
      "                           Основания для кроватей       0.25      0.50      0.33         2\n",
      "                             Основы для вышивания       0.33      1.00      0.50         1\n",
      "                            Отводы вентиляционные       0.00      0.00      0.00         1\n",
      "                                         Открытки       1.00      1.00      1.00         3\n",
      "                                         Отоскопы       0.00      0.00      0.00         0\n",
      "                                     Отпариватели       0.00      0.00      0.00         1\n",
      "                                           Отруби       0.00      0.00      0.00         0\n",
      "                               Охлаждение корпуса       0.00      0.00      0.00         1\n",
      "                            Охлаждение процессора       0.00      0.00      0.00         0\n",
      "                               Очистители воздуха       0.60      0.75      0.67         4\n",
      "                           Очистители для унитаза       0.00      0.00      0.00         1\n",
      "                                    Очки защитные       0.00      0.00      0.00         2\n",
      "                              Очки увеличительные       0.00      0.00      0.00         1\n",
      "                                         Ошейники       0.00      0.00      0.00         0\n",
      "                                  Ошейники эротик       0.00      0.00      0.00         1\n",
      "                                            Пазлы       1.00      1.00      1.00         1\n",
      "                            Пакеты полиэтиленовые       0.00      0.00      0.00         0\n",
      "                                          Палатки       1.00      0.50      0.67         8\n",
      "                                           Пальто       0.00      0.00      0.00         1\n",
      "                                          Пандусы       0.00      0.00      0.00         0\n",
      "                                           Парики       0.00      0.00      0.00         2\n",
      "                               Пароварка-блендеры       0.00      0.00      0.00         1\n",
      "                          Пароварки электрические       0.17      0.50      0.25         2\n",
      "                                   Парогенераторы       0.00      0.00      0.00         1\n",
      "                                    Парты детские       1.00      1.00      1.00         1\n",
      "                                  Пасты фруктовые       0.00      0.00      0.00         0\n",
      "                                        Паяльники       0.00      0.00      0.00         1\n",
      "                                 Паяльные станции       0.00      0.00      0.00         0\n",
      "                                           Педали       0.00      0.00      0.00         0\n",
      "                             Педали для барабанов       0.00      0.00      0.00         1\n",
      "                          Педали для тату машинки       0.00      0.00      0.00         0\n",
      "                                       Пепельницы       0.00      0.00      0.00         0\n",
      "                              Перегородки офисные       0.00      0.00      0.00         1\n",
      "                       Переключатели велосипедные       0.00      0.00      0.00         1\n",
      "                           Переноски для животных       0.00      0.00      0.00         1\n",
      "                             Переносные души-биде       0.00      0.00      0.00         0\n",
      "                                      Переходники       0.00      0.00      0.00         1\n",
      "                                         Перловка       0.00      0.00      0.00         0\n",
      "                                      Перфораторы       0.25      1.00      0.40         1\n",
      "                                 Перчатки рабочие       0.00      0.00      0.00         1\n",
      "                                 Перчатки садовые       0.00      0.00      0.00         1\n",
      "                                    Петли дверные       0.00      0.00      0.00         1\n",
      "                                  Петли мебельные       0.00      0.00      0.00         0\n",
      "                                    Петли-вешалки       0.00      0.00      0.00         1\n",
      "                                  Печенье детское       0.00      0.00      0.00         1\n",
      "                                    Печи для бани       0.00      0.00      0.00         1\n",
      "                               Печи туристические       0.50      0.33      0.40         3\n",
      "                                             Пиво       0.00      0.00      0.00         2\n",
      "                                           Пижамы       0.00      0.00      0.00         0\n",
      "                                Пилки для лобзика       0.00      0.00      0.00         2\n",
      "                                           Пилоны       0.00      0.00      0.00         1\n",
      "                                      Пилы ручные       0.00      0.00      0.00         2\n",
      "                                   Пилы сабельные       0.00      0.00      0.00         1\n",
      "                                Пилы строительные       0.00      0.00      0.00         8\n",
      "                          Писсуары сантехнические       0.00      0.00      0.00         1\n",
      "            Пистолеты для герметика электрические       0.00      0.00      0.00         0\n",
      "                           Пистолеты термоклеевые       0.00      0.00      0.00         1\n",
      "                                 Питьевые системы       0.00      0.00      0.00         1\n",
      "                         Планки для поликарбоната       0.00      0.00      0.00         0\n",
      "                                         Планшеты       0.00      0.00      0.00         1\n",
      "                                           Платки       0.00      0.00      0.00         0\n",
      "                                           Платья       0.00      0.00      0.00         1\n",
      "                                            Пледы       0.00      0.00      0.00         0\n",
      "                              Пленки изоляционные       1.00      1.00      1.00         1\n",
      "                                 Плитка мозаичная       0.00      0.00      0.00         1\n",
      "                                       Плиткорезы       1.00      1.00      1.00         1\n",
      "                                 Плиты настольные       0.00      0.00      0.00         0\n",
      "                              Плиты пазогребневые       0.00      0.00      0.00         1\n",
      "                                 Плиты с духовкой       0.00      0.00      0.00         1\n",
      "                                             Плов       0.00      0.00      0.00         1\n",
      "                                           Пломбы       0.00      0.00      0.00         0\n",
      "                                         Плоттеры       0.00      0.00      0.00         0\n",
      "                               Плунжерные клапаны       0.00      0.00      0.00         1\n",
      "                  Пневматические зачистные машины       0.00      0.00      0.00         0\n",
      "                            Пневматические оружия       0.00      0.00      0.00         3\n",
      "                                    Пневмолобзики       0.00      0.00      0.00         1\n",
      "                                       Пневмоножи       0.00      0.00      0.00         1\n",
      "                                  Пневмопистолеты       0.00      0.00      0.00         4\n",
      "                                   Пневмостеплеры       0.00      0.00      0.00         3\n",
      "                                 Пневмошлифмашины       0.00      0.00      0.00         1\n",
      "                               Поводки для жерлиц       0.00      0.00      0.00         1\n",
      "                                 Погодные станции       0.00      0.00      0.00         1\n",
      "                              Подвески бижутерные       0.00      0.00      0.00         1\n",
      "                         Подвески для скейтбордов       0.00      0.00      0.00         1\n",
      "                               Подгузники детские       0.00      0.00      0.00         0\n",
      "                               Поддоны для клетки       1.00      0.50      0.67         2\n",
      "                  Подложки для напольных покрытий       1.00      1.00      1.00         2\n",
      "                            Подножки велосипедные       0.00      0.00      0.00         0\n",
      "                             Подножки для колясок       0.00      0.00      0.00         0\n",
      "                                      Подоконники       0.00      0.00      0.00         1\n",
      "                                       Подрамники       0.00      0.00      0.00         0\n",
      "                               Подседельные штыри       0.00      0.00      0.00         1\n",
      "                              Подставки для ножей       0.00      0.00      0.00         1\n",
      "                          Подставки для ноутбуков       0.00      0.00      0.00         1\n",
      "                             Подставки под удочки       0.00      0.00      0.00         0\n",
      "                             Подушки декоративные       0.00      0.00      0.00         1\n",
      "                            Покрышки велосипедные       0.00      0.00      0.00         1\n",
      "                                 Полки для ванной       0.00      0.00      0.00         1\n",
      "                                  Полки мебельные       0.00      0.00      0.00         1\n",
      "                             Полосы металлические       0.50      1.00      0.67         1\n",
      "                                 Полотенца банные       1.00      1.00      1.00         1\n",
      "                                Полотенцесушители       0.00      0.00      0.00         0\n",
      "                        Полотна для сабельных пил       0.00      0.00      0.00         0\n",
      "                                      Полустельки       0.00      0.00      0.00         1\n",
      "                                          Поролон       0.00      0.00      0.00         1\n",
      "                                 Постельное белье       0.00      0.00      0.00         2\n",
      "                                     Походный душ       0.00      0.00      0.00         1\n",
      "                                   Почтовые марки       0.00      0.00      0.00         2\n",
      "                  Приборы экологического контроля       0.00      0.00      0.00         1\n",
      "                             Привязи страховочные       0.00      0.00      0.00         1\n",
      "                           Прикормочные кораблики       0.00      0.00      0.00         0\n",
      "                                         Принтеры       0.50      0.33      0.40         6\n",
      "                     Принтеры для печати этикеток       0.00      0.00      0.00         0\n",
      "                                           Припои       0.00      0.00      0.00         2\n",
      "               Природные материалы для творчества       0.00      0.00      0.00         1\n",
      "                          Присоски для аквариумов       0.67      1.00      0.80         2\n",
      "               Приспособления для надевания белья       0.00      0.00      0.00         0\n",
      "                Приспособления для прочистки труб       0.00      0.00      0.00         1\n",
      "                             Провода прикуривания       0.00      0.00      0.00         1\n",
      "                              Проволоки сварочные       0.00      0.00      0.00         1\n",
      "                          Программное обеспечение       0.00      0.00      0.00         0\n",
      "                                Программы питания       0.00      0.00      0.00         0\n",
      "                                        Проекторы       0.00      0.00      0.00         3\n",
      "                              Пропитки для одежды       0.00      0.00      0.00         0\n",
      "                                          Протеин       0.00      0.00      0.00         0\n",
      "                                         Противни       0.00      0.00      0.00         1\n",
      "                       Противоскользящие элементы       0.00      0.00      0.00         0\n",
      "                           Противоугонные системы       0.00      0.00      0.00         0\n",
      "                              Протяжки для кабеля       0.00      0.00      0.00         2\n",
      "                         Профили для гипсокартона       0.00      0.00      0.00         0\n",
      "                                       Процессоры       0.00      0.00      0.00         1\n",
      "                         Прочая дверная фурнитура       0.00      0.00      0.00         0\n",
      "                                         Пряности       0.00      0.00      0.00         1\n",
      "                                         Пуговицы       1.00      1.00      1.00         2\n",
      "                                Пуговичные машины       0.00      0.00      0.00         0\n",
      "                                      Пульсометры       0.00      0.00      0.00         2\n",
      "                           Пульты для дрессировки       0.00      0.00      0.00         0\n",
      "                          Пульты для светильников       0.00      0.00      0.00         0\n",
      "                                   Пульты игровые       0.00      0.00      0.00         0\n",
      "                             Пульты телевизионные       0.00      0.00      0.00         1\n",
      "                  Пульты управления сигнализацией       0.00      0.00      0.00         1\n",
      "                                             Пуфы       0.00      0.00      0.00         0\n",
      "                                            Пшено       0.00      0.00      0.00         1\n",
      "                        Пылесборники строительные       0.00      0.00      0.00         1\n",
      "                                         Пылесосы       0.00      0.00      0.00         5\n",
      "                              Пылесосы маникюрные       0.00      0.00      0.00         2\n",
      "                            Пылесосы строительные       0.00      0.00      0.00         1\n",
      "                           Пыльники автомобильные       0.00      0.00      0.00         0\n",
      "                                  Радар-детекторы       0.33      0.33      0.33         3\n",
      "                              Радиаторы отопления       0.00      0.00      0.00         4\n",
      "                                            Радио       0.00      0.00      0.00         0\n",
      "                                       Радио-часы       0.00      0.00      0.00         1\n",
      "                                        Радионяни       0.00      0.00      0.00         0\n",
      "                                     Радиостанции       0.50      0.50      0.50         2\n",
      "                         Радиоуправляемые игрушки       0.00      0.00      0.00         1\n",
      "                            Раздельные купальники       0.00      0.00      0.00         3\n",
      "                                          Ракетки       0.00      0.00      0.00         1\n",
      "                                         Раковины       0.00      0.00      0.00         3\n",
      "                 Рамки для розеток и выключателей       1.00      1.00      1.00         1\n",
      "                                      Раскладушки       0.00      0.00      0.00         1\n",
      "                                        Раскраски       0.00      0.00      0.00         1\n",
      "                           Распределители садовые       0.00      0.00      0.00         0\n",
      "                                     Растворители       0.00      0.00      0.00         0\n",
      "                                         Расчески       1.00      1.00      1.00         1\n",
      "                              Редукторы баллонные       0.00      0.00      0.00         1\n",
      "                                   Резаки газовые       0.00      0.00      0.00         2\n",
      "                                Резаки для бумаги       0.00      0.00      0.00         0\n",
      "                                          Резинки       0.00      0.00      0.00         0\n",
      "                            Резинки для рукоделия       0.00      0.00      0.00         3\n",
      "                                 Рейки нивелирные       0.00      0.00      0.00         0\n",
      "                                     Рекуператоры       0.00      0.00      0.00         1\n",
      "                            Реле давления насосов       0.00      0.00      0.00         1\n",
      "                                  Реле напряжения       0.00      0.00      0.00         0\n",
      "                                            Ремни       0.67      0.67      0.67         3\n",
      "                                  Ремни вариатора       0.50      1.00      0.67         1\n",
      "                          Ремни для фотоаппаратов       0.00      0.00      0.00         1\n",
      "                                         Ресиверы       0.50      1.00      0.67         1\n",
      "                           Ресиверы телевизионные       0.00      0.00      0.00         5\n",
      "                          Ресницы для наращивания       1.00      1.00      1.00         1\n",
      "                                  Роботы-пылесосы       0.00      0.00      0.00         2\n",
      "                                     Рога на руль       0.00      0.00      0.00         1\n",
      "                               Рогатки рыболовные       0.00      0.00      0.00         0\n",
      "                                          Розетки       0.50      0.50      0.50         2\n",
      "                                           Ролики       0.00      0.00      0.00         2\n",
      "                                            Роллы       0.00      0.00      0.00         1\n",
      "                                          Роутеры       0.33      0.17      0.22         6\n",
      "                                   Рубанки ручные       0.00      0.00      0.00         1\n",
      "                        Ружья для подводной охоты       1.00      0.50      0.67         2\n",
      "                                          Рулетки       0.00      0.00      0.00         2\n",
      "                                Рули велосипедные       0.00      0.00      0.00         1\n",
      "                                            Ручки       0.00      0.00      0.00         0\n",
      "                                    Ручки дверные       0.00      0.00      0.00         0\n",
      "                                Ручки для валиков       0.00      0.00      0.00         0\n",
      "                                   Рым-соединения       0.00      0.00      0.00         1\n",
      "                                          Рюкзаки       0.00      0.00      0.00         3\n",
      "                                Рюкзаки-переноски       0.50      1.00      0.67         1\n",
      "                                            Рюмки       0.00      0.00      0.00         1\n",
      "                                   СИПАП-аппараты       0.00      0.00      0.00         0\n",
      "                                             Сабо       0.00      0.00      0.00         1\n",
      "                                         Салфетки       0.00      0.00      0.00         0\n",
      "                           Салфетки для полировки       0.00      0.00      0.00         1\n",
      "                                         Самокаты       0.00      0.00      0.00         1\n",
      "                                    Санки-коляски       0.00      0.00      0.00         1\n",
      "                               Сварочные аппараты       1.00      0.25      0.40         4\n",
      "                                           Сверла       0.00      0.00      0.00         2\n",
      "                                      Светильники       0.00      0.00      0.00         1\n",
      "                  Световые планшеты для рисования       0.00      0.00      0.00         0\n",
      "                                       Светодиоды       0.00      0.00      0.00         0\n",
      "                                            Свечи       0.00      0.00      0.00         1\n",
      "                                  Свечи для торта       0.00      0.00      0.00         0\n",
      "                                          Свитеры       0.00      0.00      0.00         1\n",
      "                               Седла велосипедные       0.50      0.50      0.50         2\n",
      "                                            Сейфы       0.00      0.00      0.00         1\n",
      "                                         Секаторы       0.00      0.00      0.00         2\n",
      "                                      Секундомеры       1.00      1.00      1.00         1\n",
      "                                      Сендвичницы       0.00      0.00      0.00         1\n",
      "                              Сепараторы молочные       0.00      0.00      0.00         1\n",
      "                                  Сетевые фильтры       0.00      0.00      0.00         4\n",
      "                                Сетевые хранилища       0.00      0.00      0.00         0\n",
      "                               Сети маскировочные       0.00      0.00      0.00         0\n",
      "                                  Сетки для бритв       0.00      0.00      0.00         0\n",
      "                               Сетки строительные       0.00      0.00      0.00         2\n",
      "                                           Сеялки       0.00      0.00      0.00         1\n",
      "                               Сигнальные приборы       0.00      0.00      0.00         0\n",
      "                              Сиденья для унитаза       0.00      0.00      0.00         1\n",
      "                                      Синтезаторы       0.00      0.00      0.00         0\n",
      "                             Системы велосипедные       1.00      0.50      0.67         2\n",
      "                          Системы видеонаблюдения       0.00      0.00      0.00         2\n",
      "                   Системы охлаждения компьютеров       0.00      0.00      0.00         3\n",
      "                             Системы страховочные       0.00      0.00      0.00         0\n",
      "                                Системы умный дом       0.00      0.00      0.00         1\n",
      "                                             Сито       0.00      0.00      0.00         0\n",
      "                                           Сифоны       0.00      0.00      0.00         1\n",
      "                                          Сканеры       0.75      0.60      0.67         5\n",
      "                               Сканеры штрих-кода       0.33      1.00      0.50         1\n",
      "                                         Скатерти       0.00      0.00      0.00         1\n",
      "                                       Скейтборды       0.50      0.50      0.50         2\n",
      "                                         Скиммеры       0.00      0.00      0.00         1\n",
      "                                      Склерометры       0.00      0.00      0.00         0\n",
      "                    Скобы для мебельного степлера       0.00      0.00      0.00         2\n",
      "                                        Сковороды       0.00      0.00      0.00         1\n",
      "                            Скребки для аквариума       0.00      0.00      0.00         0\n",
      "                             Скребки строительные       0.00      0.00      0.00         0\n",
      "                                          Скрипки       0.00      0.00      0.00         1\n",
      "                                     Сливки сухие       0.00      0.00      0.00         1\n",
      "                               Слитные купальники       0.00      0.00      0.00         0\n",
      "                                Слуховые аппараты       0.00      0.00      0.00         1\n",
      "                             Смазки автомобильные       1.00      1.00      1.00         1\n",
      "                                       Смарт-часы       0.00      0.00      0.00         3\n",
      "                                        Смартфоны       0.00      0.00      0.00         8\n",
      "                     Сменные кассеты для фильтров       0.00      0.00      0.00         0\n",
      "                            Смеси для вторых блюд       0.00      0.00      0.00         0\n",
      "                               Смеси для десертов       0.00      0.00      0.00         0\n",
      "                                        Смесители       0.00      0.00      0.00         2\n",
      "                                    Снегоуборщики       0.00      0.00      0.00         3\n",
      "                                         Снежинки       0.00      0.00      0.00         0\n",
      "                                        Сноуборды       0.00      0.00      0.00         2\n",
      "                          Соединители вентканалов       0.50      1.00      0.67         1\n",
      "                                     Соки детские       0.00      0.00      0.00         1\n",
      "                      Соковыжималки электрические       1.00      0.50      0.67         2\n",
      "                              Солнцезащитные очки       0.00      0.00      0.00         3\n",
      "                               Сортировщики монет       0.00      0.00      0.00         1\n",
      "           Составы защитно-декоративные по дереву       0.00      0.00      0.00         0\n",
      "                                            Соусы       0.00      0.00      0.00         2\n",
      "                          Спальники туристические       0.00      0.00      0.00         4\n",
      "                                           Специи       0.50      1.00      0.67         1\n",
      "                 Спортивные крепежи для телефонов       0.00      0.00      0.00         0\n",
      "                                       Спринцовки       0.00      0.00      0.00         1\n",
      "                        Средства для роста бровей       0.00      0.00      0.00         0\n",
      "                              Средства для стирки       0.00      0.00      0.00         1\n",
      "                 Средства для уборки за животными       0.00      0.00      0.00         0\n",
      "                         Средства защиты растений       0.00      0.00      0.00         0\n",
      "                         Стабилизаторы напряжения       0.00      0.00      0.00         1\n",
      "                                          Стаканы       0.00      0.00      0.00         0\n",
      "                               Станки сверлильные       0.50      1.00      0.67         1\n",
      "                              Станции штукатурные       0.00      0.00      0.00         1\n",
      "                                   Стеклодомкраты       0.00      0.00      0.00         1\n",
      "                           Стеллажи туристические       0.00      0.00      0.00         1\n",
      "                              Стенки для гостиной       0.00      0.00      0.00         1\n",
      "                               Степлеры мебельные       0.00      0.00      0.00         0\n",
      "                            Стерилизаторы детские       0.00      0.00      0.00         2\n",
      "                                       Стетоскопы       0.00      0.00      0.00         1\n",
      "                                          Стилусы       0.00      0.00      0.00         0\n",
      "                                Стиральные машины       1.00      0.33      0.50         3\n",
      "                              Стойки для баллонов       0.00      0.00      0.00         0\n",
      "                       Столбики с вытяжной лентой       0.00      0.00      0.00         1\n",
      "                                   Столики винные       0.00      0.00      0.00         0\n",
      "                                 Столовое серебро       0.00      0.00      0.00         0\n",
      "                                            Столы       0.00      0.00      0.00         0\n",
      "                                  Столы массажные       0.00      0.00      0.00         2\n",
      "                              Столы туристические       1.00      1.00      1.00         1\n",
      "                                           Стразы       0.50      1.00      0.67         1\n",
      "                              Страхование техники       0.00      0.00      0.00         1\n",
      "                                Стрелы арбалетные       0.00      0.00      0.00         1\n",
      "                                        Стремянки       0.00      0.00      0.00         0\n",
      "                                        Струбцины       0.00      0.00      0.00         0\n",
      "                                           Стулья       0.00      0.00      0.00         1\n",
      "                                   Стулья детские       0.00      0.00      0.00         1\n",
      "                                  Стулья плетеные       0.00      0.00      0.00         0\n",
      "                                           Стяжка       0.00      0.00      0.00         1\n",
      "                                           Су-вид       0.00      0.00      0.00         1\n",
      "                                 Сувенирные вилки       0.00      0.00      0.00         0\n",
      "                                 Сувенирные ложки       0.00      0.00      0.00         1\n",
      "                                            Сумки       0.25      0.50      0.33         2\n",
      "                               Сумки строительные       1.00      1.00      1.00         1\n",
      "                                    Сумки-тележки       0.00      0.00      0.00         0\n",
      "                                   Сухие завтраки       0.00      0.00      0.00         0\n",
      "                               Сушилки для посуды       0.00      0.00      0.00         1\n",
      "                                 Сушильные машины       0.33      0.50      0.40         2\n",
      "                                  Сушки для обуви       0.00      0.00      0.00         0\n",
      "                                 Сушки для овощей       0.00      0.00      0.00         0\n",
      "                                 Счетчики банкнот       1.00      0.33      0.50         3\n",
      "                                    Счетчики газа       1.00      1.00      1.00         1\n",
      "                             Съемники подшипников       0.00      0.00      0.00         0\n",
      "                         Съемники стопорных колец       0.00      0.00      0.00         1\n",
      "                                Съемники фильтров       0.00      0.00      0.00         1\n",
      "                                   Сэндвич панели       0.00      0.00      0.00         0\n",
      "                                         Табуреты       0.00      0.00      0.00         1\n",
      "                            Таймеры для аквариума       0.00      0.00      0.00         1\n",
      "                              Таймеры электронные       0.00      0.00      0.00         1\n",
      "                                      Тали цепные       0.00      0.00      0.00         1\n",
      "                               Тали электрические       0.50      1.00      0.67         1\n",
      "                                          Танкини       0.00      0.00      0.00         1\n",
      "                              Тапочки одноразовые       0.00      0.00      0.00         0\n",
      "                                          Тарелки       0.00      0.00      0.00         1\n",
      "                              Тарелки музыкальные       0.00      0.00      0.00         2\n",
      "                                        Тахометры       0.20      1.00      0.33         1\n",
      "                          Тачскрины для планшетов       0.00      0.00      0.00         1\n",
      "                                         Твинсеты       0.00      0.00      0.00         0\n",
      "                                       Телевизоры       0.00      0.00      0.00         4\n",
      "                           Тележки гидравлические       0.00      0.00      0.00         0\n",
      "                              Тележки передвижные       0.00      0.00      0.00         0\n",
      "                                  Тележки садовые       0.00      0.00      0.00         1\n",
      "                                        Телескопы       0.00      0.00      0.00         2\n",
      "                                            Тенты       1.00      1.00      1.00         1\n",
      "                              Тенты автомобильные       0.00      0.00      0.00         0\n",
      "                                      Тепловизоры       0.33      1.00      0.50         1\n",
      "                                   Тепловые пушки       0.00      0.00      0.00         0\n",
      "                   Теплоизоляция для теплых полов       0.00      0.00      0.00         0\n",
      "                                 Теплоувлажнители       0.00      0.00      0.00         1\n",
      "                                      Теплые полы       0.00      0.00      0.00         1\n",
      "                                   Термокомплекты       0.00      0.00      0.00         1\n",
      "                                  Термоконтейнеры       0.00      0.00      0.00         2\n",
      "                              Термометры для воды       0.00      0.00      0.00         0\n",
      "                          Термометры для животных       0.00      0.00      0.00         1\n",
      "                               Термометры уличные       0.00      0.00      0.00         0\n",
      "                           Термометры электронные       0.00      0.00      0.00         1\n",
      "                                       Термосумки       0.00      0.00      0.00         2\n",
      "                         Термосумки для бутылочек       0.00      0.00      0.00         0\n",
      "                                          Термосы       1.00      0.50      0.67         2\n",
      "                                       Террариумы       0.00      0.00      0.00         1\n",
      "                       Тестеры воды для аквариума       0.00      0.00      0.00         0\n",
      "                                          Тетради       0.00      0.00      0.00         1\n",
      "                                            Тиски       0.00      0.00      0.00         1\n",
      "                              Ткани для рукоделия       0.00      0.00      0.00         0\n",
      "                                  Толщиномеры ЛКП       0.00      0.00      0.00         1\n",
      "                                       Тонкогубцы       0.00      0.00      0.00         1\n",
      "                                        Тонометры       0.00      0.00      0.00         1\n",
      "                             Топперы декоративные       0.00      0.00      0.00         0\n",
      "                    Тормоза механические дисковые       0.00      0.00      0.00         0\n",
      "                                  Тормозные ручки       0.00      0.00      0.00         0\n",
      "                                            Торты       0.00      0.00      0.00         0\n",
      "                                            Торфы       0.00      0.00      0.00         1\n",
      "                                          Тостеры       0.00      0.00      0.00         2\n",
      "                                          Точилки       0.00      0.00      0.00         1\n",
      "                                Точилки для ножей       0.00      0.00      0.00         0\n",
      "                                 Точильные станки       1.00      0.50      0.67         2\n",
      "                                   Травяные сборы       1.00      1.00      1.00         1\n",
      "                                   Трапы для душа       0.00      0.00      0.00         1\n",
      "                                        Тренажеры       0.00      0.00      0.00         1\n",
      "                       Тренажеры реабилитационные       0.00      0.00      0.00         1\n",
      "                          Тренажеры эллиптические       0.00      0.00      0.00         0\n",
      "                          Треугольники бильярдные       0.00      0.00      0.00         1\n",
      "                             Трещотки музыкальные       1.00      1.00      1.00         2\n",
      "                                         Триммеры       0.00      0.00      0.00         1\n",
      "                               Триммеры проводные       0.00      0.00      0.00         3\n",
      "                                 Триммеры садовые       0.00      0.00      0.00         3\n",
      "                          Тройники вентиляционные       0.00      0.00      0.00         2\n",
      "                           Тросы и ленты для авто       0.00      0.00      0.00         1\n",
      "                               Тросы строительные       0.00      0.00      0.00         1\n",
      "                                 Трубогибы ручные       0.00      0.00      0.00         0\n",
      "                                 Труборезы ручные       0.00      0.00      0.00         0\n",
      "                            Трубы для канализации       0.00      0.00      0.00         0\n",
      "                              Трубы металлические       0.00      0.00      0.00         1\n",
      "                                   Туалетная вода       0.00      0.00      0.00         2\n",
      "                                            Тумбы       0.00      0.00      0.00         0\n",
      "                                            Туфли       0.00      0.00      0.00         1\n",
      "                        Тягово-сцепные устройства       0.00      0.00      0.00         2\n",
      "                                      Увлажнители       0.00      0.00      0.00         1\n",
      "                                             Угги       0.00      0.00      0.00         1\n",
      "                                 Уголки крепежные       0.00      0.00      0.00         2\n",
      "                                  Уголь древесный       0.00      0.00      0.00         1\n",
      "                                   Угольные грили       0.00      0.00      0.00         0\n",
      "                                          Удилища       1.00      1.00      1.00         1\n",
      "                                       Удлинители       0.00      0.00      0.00         2\n",
      "                      Удлинители торцевых головок       0.00      0.00      0.00         1\n",
      "                   Укрывной материал для растений       0.00      0.00      0.00         1\n",
      "                                          Укулеле       0.00      0.00      0.00         0\n",
      "                                             Ульи       0.00      0.00      0.00         0\n",
      "Ультразвуковые приборы для проверки герметичности       0.00      0.00      0.00         0\n",
      "                                      Умывальники       0.00      0.00      0.00         0\n",
      "                                          Унитазы       0.00      0.00      0.00         1\n",
      "                                 Упаковки для яиц       0.00      0.00      0.00         0\n",
      "                               Упаковочная пленка       0.00      0.00      0.00         1\n",
      "                             Упаковщики вакуумные       0.00      0.00      0.00         0\n",
      "                             Уплотнители для окон       0.00      0.00      0.00         1\n",
      "                                  Уровни цифровые       0.00      0.00      0.00         3\n",
      "                          Усилители автомобильные       0.00      0.00      0.00         0\n",
      "                     Усилители мобильного сигнала       0.00      0.00      0.00         1\n",
      "                               Усилители мощности       0.00      0.00      0.00         0\n",
      "                          Усилители телевизионные       0.00      0.00      0.00         3\n",
      "                                      Утилизаторы       0.00      0.00      0.00         1\n",
      "                                            Утюги       0.33      0.50      0.40         2\n",
      "                                         Учебники       0.00      0.00      0.00         1\n",
      "                              Фанера строительная       0.00      0.00      0.00         2\n",
      "                                 Фартуки кухонные       0.00      0.00      0.00         0\n",
      "                                             Фата       0.00      0.00      0.00         0\n",
      "                                    Фены паяльные       0.00      0.00      0.00         0\n",
      "                                 Фены технические       0.00      0.00      0.00         0\n",
      "                                  Фигурки-игрушки       0.00      0.00      0.00         1\n",
      "                                Фигурные дыроколы       0.00      0.00      0.00         2\n",
      "                               Фиксаторы арматуры       0.00      0.00      0.00         0\n",
      "                                Фиксаторы дверные       0.00      0.00      0.00         1\n",
      "                            Фильтры для аквариума       0.00      0.00      0.00         0\n",
      "                                 Фильтры для воды       0.00      0.00      0.00         2\n",
      "                                 Фильтры для душа       0.00      0.00      0.00         1\n",
      "                            Фильтры магистральные       0.00      0.00      0.00         0\n",
      "                            Фискальные накопители       0.00      0.00      0.00         0\n",
      "                                          Фитинги       0.00      0.00      0.00         0\n",
      "                                            Флаги       0.00      0.00      0.00         1\n",
      "                                           Флейты       0.00      0.00      0.00         1\n",
      "                                Фонари спортивные       0.00      0.00      0.00         1\n",
      "                                            Фондю       1.00      1.00      1.00         1\n",
      "                                          Фонтаны       0.00      0.00      0.00         1\n",
      "                               Фоны для аквариума       0.00      0.00      0.00         1\n",
      "                              Формы для запекания       0.00      0.00      0.00         1\n",
      "                                 Формы для свечей       1.00      0.50      0.67         2\n",
      "                                     Фотоаппараты       0.00      0.00      0.00         0\n",
      "                                      Фотовспышки       0.00      0.00      0.00         0\n",
      "                                         Фотообои       0.00      0.00      0.00         0\n",
      "                                        Фоторамки       0.00      0.00      0.00         1\n",
      "                               Фоторамки цифровые       0.00      0.00      0.00         0\n",
      "                                          Фрезеры       0.00      0.00      0.00         1\n",
      "                                            Фрезы       0.00      0.00      0.00         1\n",
      "                                       Фритюрницы       0.00      0.00      0.00         1\n",
      "                            Фурнитура для игрушек       0.00      0.00      0.00         0\n",
      "                                            Халва       0.00      0.00      0.00         1\n",
      "                                        Хлебопечи       0.00      0.00      0.00         1\n",
      "                                  Хлорогенераторы       0.00      0.00      0.00         1\n",
      "                              Ходунки для малышей       0.00      0.00      0.00         1\n",
      "                                     Холодильники       0.50      0.25      0.33         4\n",
      "                              Холодильные витрины       0.00      0.00      0.00         1\n",
      "                                  Холодная сварка       0.00      0.00      0.00         1\n",
      "                                           Холсты       0.00      0.00      0.00         1\n",
      "                                     Хоппер-ковши       0.00      0.00      0.00         1\n",
      "                       ЦК Программное обеспечение       0.00      0.00      0.00         1\n",
      "                                           Цемент       0.00      0.00      0.00         2\n",
      "                                          Ценники       0.00      0.00      0.00         1\n",
      "                          Центрифуги лабораторные       0.00      0.00      0.00         3\n",
      "                                     Цепи для пил       0.00      0.00      0.00         1\n",
      "                                Цепи строительные       0.00      0.00      0.00         1\n",
      "                                  Цепочки на тело       0.00      0.00      0.00         1\n",
      "                                          Циркули       0.00      0.00      0.00         0\n",
      "                                   Цифровые ручки       0.00      0.00      0.00         1\n",
      "                                              Чай       0.00      0.00      0.00         1\n",
      "                            Чайники электрические       0.50      1.00      0.67         1\n",
      "                                    Часы наручные       0.80      1.00      0.89         4\n",
      "                                    Часы песочные       0.00      0.00      0.00         0\n",
      "                                 Часы электронные       0.00      0.00      0.00         1\n",
      "                                       Часы-кулон       0.00      0.00      0.00         1\n",
      "                                Чаши для кальянов       0.00      0.00      0.00         1\n",
      "                                         Чемоданы       0.00      0.00      0.00         1\n",
      "                             Чернила для принтера       0.00      0.00      0.00         1\n",
      "                    Чехлы для автомобильных колес       0.00      0.00      0.00         1\n",
      "                                  Чехлы для камер       0.00      0.00      0.00         0\n",
      "                                 Чехлы для мебели       0.00      0.00      0.00         1\n",
      "                   Чехлы для медицинских приборов       0.00      0.00      0.00         1\n",
      "              Чехлы для музыкального оборудования       0.00      0.00      0.00         1\n",
      "                              Чехлы для наушников       0.00      0.00      0.00         1\n",
      "                              Чехлы для ноутбуков       0.00      0.00      0.00         1\n",
      "                    Чехлы для чистки кондиционера       0.00      0.00      0.00         0\n",
      "                                  Чехлы на культю       0.00      0.00      0.00         0\n",
      "                                            Чипсы       0.00      0.00      0.00         0\n",
      "                             Шампуни для животных       0.00      0.00      0.00         1\n",
      "                                          Шампуры       0.00      0.00      0.00         0\n",
      "                             Шапочки для плавания       0.00      0.00      0.00         2\n",
      "                       Шарики для сухих бассейнов       0.00      0.00      0.00         1\n",
      "                                Шары для бильярда       0.00      0.00      0.00         1\n",
      "                               Шары для пейнтбола       0.00      0.00      0.00         1\n",
      "                                           Шашлык       0.00      0.00      0.00         0\n",
      "                                Швейная фурнитура       0.00      0.00      0.00         1\n",
      "                                   Швейные машины       0.00      0.00      0.00         2\n",
      "                                            Шилья       0.00      0.00      0.00         1\n",
      "                              Шилья для рукоделия       0.00      0.00      0.00         1\n",
      "                               Шины автомобильные       0.50      1.00      0.67         1\n",
      "                                          Шиньоны       0.00      0.00      0.00         1\n",
      "                                 Шипы для шиповок       0.00      0.00      0.00         1\n",
      "                                   Шипы ремонтные       0.00      0.00      0.00         0\n",
      "                                   Шифер волновой       0.00      0.00      0.00         0\n",
      "                                         Шкатулки       0.00      0.00      0.00         0\n",
      "                         Шкафы для ванной комнаты       0.00      0.00      0.00         0\n",
      "                    Шкафы для подогревания посуды       0.00      0.00      0.00         1\n",
      "                       Шкафы телекоммуникационные       0.00      0.00      0.00         1\n",
      "                                    Шкафы-кровати       0.00      0.00      0.00         0\n",
      "                             Шланги для аквариума       1.00      1.00      1.00         1\n",
      "                              Шланги для кальянов       0.00      0.00      0.00         1\n",
      "                      Шланги для стиральных машин       0.00      0.00      0.00         0\n",
      "                                   Шланги садовые       1.00      0.50      0.67         2\n",
      "                                 Шлемы спортивные       0.00      0.00      0.00         1\n",
      "                                       Шлиф-ленты       0.00      0.00      0.00         1\n",
      "                              Шлифовальные машины       0.00      0.00      0.00         3\n",
      "                                            Шнеки       1.00      0.50      0.67         4\n",
      "                                          Шницели       0.00      0.00      0.00         0\n",
      "                                   Шнуры плетеные       0.00      0.00      0.00         1\n",
      "                      Шпагат хозяйственно-бытовой       0.50      0.50      0.50         2\n",
      "                                        Шпатлевки       1.00      1.00      1.00         2\n",
      "                                Шпильки крепежные       0.00      0.00      0.00         1\n",
      "                                          Шредеры       0.00      0.00      0.00         1\n",
      "                                   Штангенциркули       0.00      0.00      0.00         2\n",
      "                                        Штангетки       0.00      0.00      0.00         0\n",
      "                                           Штанги       0.00      0.00      0.00         3\n",
      "                                 Шторы для ванной       0.00      0.00      0.00         0\n",
      "                                       Штукатурка       0.00      0.00      0.00         0\n",
      "                                          Штуцеры       0.00      0.00      0.00         0\n",
      "                                      Шуруповерты       0.00      0.00      0.00         1\n",
      "                                  Щетки для обуви       0.00      0.00      0.00         1\n",
      "                                 Щетки для уборки       0.00      0.00      0.00         1\n",
      "                           Щетки стеклоочистителя       0.00      0.00      0.00         1\n",
      "                                Щипцы для укладки       0.00      0.00      0.00         1\n",
      "                                   Щипцы кухонные       0.00      0.00      0.00         0\n",
      "                                   Щупы магнитные       0.00      0.00      0.00         1\n",
      "                            Экраны для проекторов       0.00      0.00      0.00         0\n",
      "                                      Экшн-камеры       0.00      0.00      0.00         2\n",
      "                       Электрические зубные щетки       0.00      0.00      0.00         2\n",
      "                                Электровелосипеды       0.00      0.00      0.00         1\n",
      "                                Электрогенераторы       0.00      0.00      0.00         3\n",
      "                                    Электрогитары       0.00      0.00      0.00         2\n",
      "                         Электроды для массажеров       1.00      1.00      1.00         1\n",
      "                               Электроквадроциклы       0.00      0.00      0.00         0\n",
      "                                   Электролобзики       0.00      0.00      0.00         2\n",
      "                                Электронные книги       0.00      0.00      0.00         0\n",
      "                               Электропилы цепные       0.00      0.00      0.00         0\n",
      "                                   Электрорубанки       1.00      0.67      0.80         3\n",
      "                                  Электросамокаты       0.00      0.00      0.00         1\n",
      "                                  Электросчетчики       0.00      0.00      0.00         0\n",
      "                                        Эспандеры       0.00      0.00      0.00         1\n",
      "                                         Этикетки       0.00      0.00      0.00         1\n",
      "                                         Этюдники       0.00      0.00      0.00         1\n",
      "                                             Юбки       0.00      0.00      0.00         2\n",
      "                               Ювелирные браслеты       0.00      0.00      0.00         1\n",
      "                                  Ювелирные броши       0.00      0.00      0.00         1\n",
      "                               Ювелирные подвески       0.00      0.00      0.00         0\n",
      "                                   Ювелирные часы       0.00      0.00      0.00         0\n",
      "                                             Яйца       0.00      0.00      0.00         1\n",
      "\n",
      "                                         accuracy                           0.17      1276\n",
      "                                        macro avg       0.10      0.11      0.10      1276\n",
      "                                     weighted avg       0.18      0.17      0.16      1276\n",
      "\n"
     ]
    }
   ],
   "source": [
    "print(classification_report(y_test, predicted))"
   ]
  },
  {
   "cell_type": "markdown",
   "metadata": {},
   "source": [
    "## RandomForest"
   ]
  },
  {
   "cell_type": "code",
   "execution_count": 46,
   "metadata": {},
   "outputs": [
    {
     "data": {
      "text/plain": [
       "RandomForestClassifier(max_features='sqrt')"
      ]
     },
     "execution_count": 46,
     "metadata": {},
     "output_type": "execute_result"
    }
   ],
   "source": [
    "forest_clf = RandomForestClassifier(n_estimators=100,\n",
    "                                    bootstrap=True,\n",
    "                                    max_features='sqrt')\n",
    "\n",
    "forest_clf.fit(x_train, y_train)"
   ]
  },
  {
   "cell_type": "code",
   "execution_count": 49,
   "metadata": {},
   "outputs": [],
   "source": [
    "rf_preds = forest_clf.predict(x_test)\n",
    "rf_probs = forest_clf.predict_proba(x_test)[:, 1]"
   ]
  },
  {
   "cell_type": "code",
   "execution_count": null,
   "metadata": {},
   "outputs": [],
   "source": []
  }
 ],
 "metadata": {
  "kernelspec": {
   "display_name": "Python 3.11.0 64-bit",
   "language": "python",
   "name": "python3"
  },
  "language_info": {
   "codemirror_mode": {
    "name": "ipython",
    "version": 3
   },
   "file_extension": ".py",
   "mimetype": "text/x-python",
   "name": "python",
   "nbconvert_exporter": "python",
   "pygments_lexer": "ipython3",
   "version": "3.11.0"
  },
  "orig_nbformat": 4,
  "vscode": {
   "interpreter": {
    "hash": "aee8b7b246df8f9039afb4144a1f6fd8d2ca17a180786b69acc140d282b71a49"
   }
  }
 },
 "nbformat": 4,
 "nbformat_minor": 2
}
