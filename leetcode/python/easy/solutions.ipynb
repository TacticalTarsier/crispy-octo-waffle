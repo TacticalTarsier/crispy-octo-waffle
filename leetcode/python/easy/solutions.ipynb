{
 "cells": [
  {
   "attachments": {},
   "cell_type": "markdown",
   "metadata": {},
   "source": [
    "# Add to Array-Form of Integer\n",
    "\n",
    "The array-form of an integer num is an array representing its digits in left to right order.\n",
    "\n",
    "For example, for num = 1321, the array form is [1,3,2,1].\n",
    "Given num, the array-form of an integer, and an integer k, return the array-form of the integer num + k."
   ]
  },
  {
   "cell_type": "code",
   "execution_count": 105,
   "metadata": {},
   "outputs": [],
   "source": [
    "class Solution:\n",
    "    def addToArrayForm(self, num: list[int], k: int) -> list[int]:\n",
    "        res = ''\n",
    "        for i in num:\n",
    "            res += str(i)\n",
    "        res_num = int(res)\n",
    "        return list(map(int, ''.join(str(res_num + k))))"
   ]
  },
  {
   "attachments": {},
   "cell_type": "markdown",
   "metadata": {},
   "source": [
    "# Two sum\n",
    "\n",
    "Given an array of integers nums and an integer target, return indices of the two numbers such that they add up to target.\n",
    "\n",
    "You may assume that each input would have exactly one solution, and you may not use the same element twice.\n",
    "\n",
    "You can return the answer in any order.\n",
    "\n",
    "Example:\n",
    "\n",
    "Input: nums = [2,7,11,15], target = 9\n",
    "Output: [0,1]\n",
    "Explanation: Because nums[0] + nums[1] == 9, we return [0, 1]"
   ]
  },
  {
   "cell_type": "code",
   "execution_count": 235,
   "metadata": {},
   "outputs": [],
   "source": [
    "from itertools import combinations\n",
    "\n",
    "\n",
    "class Solution:\n",
    "    def twoSum(self, nums: list[int], target: int) -> list[int]:\n",
    "        comb_list = list(combinations(nums, 2))\n",
    "        sums_list = list(map(sum, comb_list))\n",
    "        pair_of_nums_index = sums_list.index(target)\n",
    "        pair_of_numbers = comb_list[pair_of_nums_index]\n",
    "        \n",
    "        first_index = nums.index(pair_of_numbers[0])\n",
    "        nums[first_index] = None\n",
    "        second_index = nums.index(pair_of_numbers[1])\n",
    "        return [first_index, second_index]\n",
    "        \n"
   ]
  },
  {
   "cell_type": "code",
   "execution_count": 246,
   "metadata": {},
   "outputs": [],
   "source": [
    "test_list = [2, 3, 5, 10, 17, 20, 40]\n",
    "targed = 45"
   ]
  },
  {
   "cell_type": "code",
   "execution_count": 255,
   "metadata": {},
   "outputs": [],
   "source": [
    "import numpy as np\n",
    "import pandas as pd\n",
    "\n",
    "from scipy.stats import norm\n",
    "from matplotlib import pyplot as plt"
   ]
  },
  {
   "cell_type": "code",
   "execution_count": 309,
   "metadata": {},
   "outputs": [],
   "source": [
    "def get_bootstraped(data1: pd.Series, data2: pd.Series, statictic=np.mean, boot_it=1000, conf_level=0.95):\n",
    "    boot_len = max([len(data1), len(data2)])\n",
    "    boot_data = []\n",
    "    \n",
    "    for _ in range(boot_it):\n",
    "        samples_1 = data1.sample(boot_len, replace=True).values\n",
    "        samples_2 = data2.sample(boot_len, replace=True).values\n",
    "        \n",
    "        boot_data.append(statictic(samples_1 - samples_2))\n",
    "        \n",
    "    boot_df = pd.DataFrame(boot_data)\n",
    "        \n",
    "    left_quant = (1 - conf_level) / 2\n",
    "    right_quant = 1 - left_quant\n",
    "    \n",
    "    p1 = norm.cdf(x=0, loc=np.mean(boot_data), scale=np.std(boot_data))\n",
    "    p2 = norm.cdf(x=0, loc=-np.mean(boot_data), scale=np.std(boot_data))\n",
    "    \n",
    "    ci = boot_df.quantile([left_quant, right_quant])\n",
    "     \n",
    "    p_value = min(p1, p2) * 2\n",
    "    \n",
    "    # Визуализация\n",
    "    plt.hist(boot_df[0], bins = 50)\n",
    "\n",
    "    plt.style.use('ggplot')\n",
    "    plt.vlines(ci, ymin=0, ymax=boot_it * 0.07, linestyle='--', colors='blue')\n",
    "    plt.xlabel('boot_data')\n",
    "    plt.ylabel('frequency')\n",
    "    plt.title(\"Histogram of boot_data\")\n",
    "    plt.show()\n",
    "\n",
    "    return {\"boot_data\": boot_data,\n",
    "            \"ci\": ci,\n",
    "            \"p_value\": p_value} "
   ]
  },
  {
   "cell_type": "code",
   "execution_count": 358,
   "metadata": {},
   "outputs": [],
   "source": [
    "def binoninal_search(array, value):\n",
    "    low = 0\n",
    "    high = len(array) - 1\n",
    "\n",
    "    while low <= high:\n",
    "        mid = low + (high - low) // 2\n",
    "\n",
    "        if array[mid] == value:\n",
    "            return mid\n",
    "\n",
    "        elif array[mid] < value:\n",
    "            low = mid + 1\n",
    "\n",
    "        else:\n",
    "            high = mid - 1\n",
    "\n",
    "    return -1\n"
   ]
  },
  {
   "cell_type": "code",
   "execution_count": 360,
   "metadata": {},
   "outputs": [],
   "source": [
    "def bubble_sort(array):\n",
    "    for i in range(len(array)):\n",
    "        swapped = False\n",
    "        for j in range(len(array) - i - 1):\n",
    "            if array[j] > array[j + 1]:\n",
    "                temp = array[j]\n",
    "                array[j] = array[j + 1]\n",
    "                array[j + 1] = temp\n",
    "\n",
    "                swapped = True\n",
    "\n",
    "        if swapped == False:\n",
    "            break\n"
   ]
  },
  {
   "cell_type": "code",
   "execution_count": 382,
   "metadata": {},
   "outputs": [],
   "source": [
    "def get_max_cons(string_to_explore):\n",
    "    current = 0\n",
    "    max_cons = 0\n",
    "\n",
    "    for s in range(len(string_to_explore) - 1):\n",
    "        if string_to_explore[s] == string_to_explore[s + 1]:\n",
    "            current += 1\n",
    "        else:\n",
    "            max_cons = max(current, max_cons)\n",
    "            current = 0\n",
    "    return max_cons + 1"
   ]
  }
 ],
 "metadata": {
  "kernelspec": {
   "display_name": "standart_venv",
   "language": "python",
   "name": "python3"
  },
  "language_info": {
   "codemirror_mode": {
    "name": "ipython",
    "version": 3
   },
   "file_extension": ".py",
   "mimetype": "text/x-python",
   "name": "python",
   "nbconvert_exporter": "python",
   "pygments_lexer": "ipython3",
   "version": "3.10.8"
  },
  "orig_nbformat": 4,
  "vscode": {
   "interpreter": {
    "hash": "c57b58d0ca7def04f2ce30c1e3385a8f808fc9ae01ee7ba27c2e6ad732480a5f"
   }
  }
 },
 "nbformat": 4,
 "nbformat_minor": 2
}
