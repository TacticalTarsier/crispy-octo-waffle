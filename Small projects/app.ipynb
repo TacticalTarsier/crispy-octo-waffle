{
 "cells": [
  {
   "cell_type": "code",
   "execution_count": 1,
   "metadata": {
    "pycharm": {
     "name": "#%%\n"
    }
   },
   "outputs": [],
   "source": [
    "import pandas as pd\n",
    "import requests\n",
    "from urllib.parse import urlencode"
   ]
  },
  {
   "cell_type": "code",
   "execution_count": 2,
   "outputs": [],
   "source": [
    "# Чтение данных из облака\n",
    "def download_link(public_key):\n",
    "\n",
    "    base_url = 'https://cloud-api.yandex.net/v1/disk/public/resources/download?'\n",
    "    final_url = base_url + urlencode(dict(public_key=public_key))\n",
    "    response = requests.get(final_url)\n",
    "    download_url = response.json()['href']\n",
    "    return download_url"
   ],
   "metadata": {
    "collapsed": false,
    "pycharm": {
     "name": "#%%\n"
    }
   }
  },
  {
   "cell_type": "code",
   "execution_count": 3,
   "metadata": {
    "pycharm": {
     "name": "#%%\n"
    }
   },
   "outputs": [],
   "source": [
    "df = pd.read_csv(download_link('https://disk.yandex.ru/d/DnyWMTr6L6dENg'), parse_dates=['date'])"
   ]
  },
  {
   "cell_type": "code",
   "execution_count": 4,
   "metadata": {
    "pycharm": {
     "name": "#%%\n"
    }
   },
   "outputs": [
    {
     "data": {
      "text/plain": "date            datetime64[ns]\nevent                   object\npurchase_sum           float64\nos_name                 object\ndevice_id                int64\ngender                  object\ncity                    object\nutm_source              object\ndtype: object"
     },
     "execution_count": 4,
     "metadata": {},
     "output_type": "execute_result"
    }
   ],
   "source": [
    "df.dtypes"
   ]
  },
  {
   "cell_type": "markdown",
   "metadata": {
    "pycharm": {
     "name": "#%% md\n"
    }
   },
   "source": [
    "MAU февраля:"
   ]
  },
  {
   "cell_type": "code",
   "execution_count": 5,
   "metadata": {
    "pycharm": {
     "name": "#%%\n"
    }
   },
   "outputs": [],
   "source": [
    "df['month'] = df['date'].apply(lambda x: x.month)"
   ]
  },
  {
   "cell_type": "code",
   "execution_count": 6,
   "metadata": {
    "pycharm": {
     "name": "#%%\n"
    }
   },
   "outputs": [
    {
     "data": {
      "text/plain": "        date      event  purchase_sum  os_name  device_id  gender  \\\n0 2020-01-01  app_start           NaN  android     669460  female   \n1 2020-01-01  app_start           NaN      ios     833621    male   \n2 2020-01-01  app_start           NaN  android    1579237    male   \n3 2020-01-01  app_start           NaN  android    1737182  female   \n4 2020-01-01  app_start           NaN      ios    4029024  female   \n\n               city    utm_source  month  \n0            Moscow             -      1  \n1            Moscow        vk_ads      1  \n2  Saint-Petersburg       referal      1  \n3            Moscow  facebook_ads      1  \n4            Moscow  facebook_ads      1  ",
      "text/html": "<div>\n<style scoped>\n    .dataframe tbody tr th:only-of-type {\n        vertical-align: middle;\n    }\n\n    .dataframe tbody tr th {\n        vertical-align: top;\n    }\n\n    .dataframe thead th {\n        text-align: right;\n    }\n</style>\n<table border=\"1\" class=\"dataframe\">\n  <thead>\n    <tr style=\"text-align: right;\">\n      <th></th>\n      <th>date</th>\n      <th>event</th>\n      <th>purchase_sum</th>\n      <th>os_name</th>\n      <th>device_id</th>\n      <th>gender</th>\n      <th>city</th>\n      <th>utm_source</th>\n      <th>month</th>\n    </tr>\n  </thead>\n  <tbody>\n    <tr>\n      <th>0</th>\n      <td>2020-01-01</td>\n      <td>app_start</td>\n      <td>NaN</td>\n      <td>android</td>\n      <td>669460</td>\n      <td>female</td>\n      <td>Moscow</td>\n      <td>-</td>\n      <td>1</td>\n    </tr>\n    <tr>\n      <th>1</th>\n      <td>2020-01-01</td>\n      <td>app_start</td>\n      <td>NaN</td>\n      <td>ios</td>\n      <td>833621</td>\n      <td>male</td>\n      <td>Moscow</td>\n      <td>vk_ads</td>\n      <td>1</td>\n    </tr>\n    <tr>\n      <th>2</th>\n      <td>2020-01-01</td>\n      <td>app_start</td>\n      <td>NaN</td>\n      <td>android</td>\n      <td>1579237</td>\n      <td>male</td>\n      <td>Saint-Petersburg</td>\n      <td>referal</td>\n      <td>1</td>\n    </tr>\n    <tr>\n      <th>3</th>\n      <td>2020-01-01</td>\n      <td>app_start</td>\n      <td>NaN</td>\n      <td>android</td>\n      <td>1737182</td>\n      <td>female</td>\n      <td>Moscow</td>\n      <td>facebook_ads</td>\n      <td>1</td>\n    </tr>\n    <tr>\n      <th>4</th>\n      <td>2020-01-01</td>\n      <td>app_start</td>\n      <td>NaN</td>\n      <td>ios</td>\n      <td>4029024</td>\n      <td>female</td>\n      <td>Moscow</td>\n      <td>facebook_ads</td>\n      <td>1</td>\n    </tr>\n  </tbody>\n</table>\n</div>"
     },
     "execution_count": 6,
     "metadata": {},
     "output_type": "execute_result"
    }
   ],
   "source": [
    "df.head()"
   ]
  },
  {
   "cell_type": "code",
   "execution_count": 7,
   "metadata": {
    "pycharm": {
     "name": "#%%\n"
    }
   },
   "outputs": [
    {
     "data": {
      "text/plain": "   month  date  event  purchase_sum  os_name  device_id  gender  city  \\\n0      2    29      7          4358        2      75032       2     2   \n\n   utm_source  \n0           7  ",
      "text/html": "<div>\n<style scoped>\n    .dataframe tbody tr th:only-of-type {\n        vertical-align: middle;\n    }\n\n    .dataframe tbody tr th {\n        vertical-align: top;\n    }\n\n    .dataframe thead th {\n        text-align: right;\n    }\n</style>\n<table border=\"1\" class=\"dataframe\">\n  <thead>\n    <tr style=\"text-align: right;\">\n      <th></th>\n      <th>month</th>\n      <th>date</th>\n      <th>event</th>\n      <th>purchase_sum</th>\n      <th>os_name</th>\n      <th>device_id</th>\n      <th>gender</th>\n      <th>city</th>\n      <th>utm_source</th>\n    </tr>\n  </thead>\n  <tbody>\n    <tr>\n      <th>0</th>\n      <td>2</td>\n      <td>29</td>\n      <td>7</td>\n      <td>4358</td>\n      <td>2</td>\n      <td>75032</td>\n      <td>2</td>\n      <td>2</td>\n      <td>7</td>\n    </tr>\n  </tbody>\n</table>\n</div>"
     },
     "execution_count": 7,
     "metadata": {},
     "output_type": "execute_result"
    }
   ],
   "source": [
    "df[df['month'] == 2].groupby('month', as_index=False)\\\n",
    "    .nunique()"
   ]
  },
  {
   "cell_type": "markdown",
   "metadata": {
    "pycharm": {
     "name": "#%% md\n"
    }
   },
   "source": [
    "Количество установок в январе:"
   ]
  },
  {
   "cell_type": "code",
   "execution_count": 8,
   "metadata": {
    "pycharm": {
     "name": "#%%\n"
    }
   },
   "outputs": [
    {
     "data": {
      "text/plain": "80297"
     },
     "execution_count": 8,
     "metadata": {},
     "output_type": "execute_result"
    }
   ],
   "source": [
    "df.query(\"month == 1 & event == 'app_install'\").device_id.nunique()"
   ]
  },
  {
   "cell_type": "code",
   "execution_count": 9,
   "metadata": {
    "pycharm": {
     "name": "#%%\n"
    }
   },
   "outputs": [
    {
     "data": {
      "text/plain": "        date      event  purchase_sum  os_name  device_id  gender  \\\n0 2020-01-01  app_start           NaN  android     669460  female   \n1 2020-01-01  app_start           NaN      ios     833621    male   \n2 2020-01-01  app_start           NaN  android    1579237    male   \n3 2020-01-01  app_start           NaN  android    1737182  female   \n4 2020-01-01  app_start           NaN      ios    4029024  female   \n\n               city    utm_source  month  \n0            Moscow             -      1  \n1            Moscow        vk_ads      1  \n2  Saint-Petersburg       referal      1  \n3            Moscow  facebook_ads      1  \n4            Moscow  facebook_ads      1  ",
      "text/html": "<div>\n<style scoped>\n    .dataframe tbody tr th:only-of-type {\n        vertical-align: middle;\n    }\n\n    .dataframe tbody tr th {\n        vertical-align: top;\n    }\n\n    .dataframe thead th {\n        text-align: right;\n    }\n</style>\n<table border=\"1\" class=\"dataframe\">\n  <thead>\n    <tr style=\"text-align: right;\">\n      <th></th>\n      <th>date</th>\n      <th>event</th>\n      <th>purchase_sum</th>\n      <th>os_name</th>\n      <th>device_id</th>\n      <th>gender</th>\n      <th>city</th>\n      <th>utm_source</th>\n      <th>month</th>\n    </tr>\n  </thead>\n  <tbody>\n    <tr>\n      <th>0</th>\n      <td>2020-01-01</td>\n      <td>app_start</td>\n      <td>NaN</td>\n      <td>android</td>\n      <td>669460</td>\n      <td>female</td>\n      <td>Moscow</td>\n      <td>-</td>\n      <td>1</td>\n    </tr>\n    <tr>\n      <th>1</th>\n      <td>2020-01-01</td>\n      <td>app_start</td>\n      <td>NaN</td>\n      <td>ios</td>\n      <td>833621</td>\n      <td>male</td>\n      <td>Moscow</td>\n      <td>vk_ads</td>\n      <td>1</td>\n    </tr>\n    <tr>\n      <th>2</th>\n      <td>2020-01-01</td>\n      <td>app_start</td>\n      <td>NaN</td>\n      <td>android</td>\n      <td>1579237</td>\n      <td>male</td>\n      <td>Saint-Petersburg</td>\n      <td>referal</td>\n      <td>1</td>\n    </tr>\n    <tr>\n      <th>3</th>\n      <td>2020-01-01</td>\n      <td>app_start</td>\n      <td>NaN</td>\n      <td>android</td>\n      <td>1737182</td>\n      <td>female</td>\n      <td>Moscow</td>\n      <td>facebook_ads</td>\n      <td>1</td>\n    </tr>\n    <tr>\n      <th>4</th>\n      <td>2020-01-01</td>\n      <td>app_start</td>\n      <td>NaN</td>\n      <td>ios</td>\n      <td>4029024</td>\n      <td>female</td>\n      <td>Moscow</td>\n      <td>facebook_ads</td>\n      <td>1</td>\n    </tr>\n  </tbody>\n</table>\n</div>"
     },
     "execution_count": 9,
     "metadata": {},
     "output_type": "execute_result"
    }
   ],
   "source": [
    "df.head()"
   ]
  },
  {
   "cell_type": "markdown",
   "metadata": {
    "pycharm": {
     "name": "#%% md\n"
    }
   },
   "source": [
    "С какого платного маркетингового канала пришло больше всего новых пользователей?"
   ]
  },
  {
   "cell_type": "code",
   "execution_count": 13,
   "metadata": {
    "pycharm": {
     "name": "#%%\n"
    }
   },
   "outputs": [
    {
     "data": {
      "text/plain": "      utm_source  device_id\n0              -      52273\n6  yandex-direct      40712\n2     google_ads      38096\n5         vk_ads      34086\n3  instagram_ads      31048\n1   facebook_ads      25959\n4        referal      15926",
      "text/html": "<div>\n<style scoped>\n    .dataframe tbody tr th:only-of-type {\n        vertical-align: middle;\n    }\n\n    .dataframe tbody tr th {\n        vertical-align: top;\n    }\n\n    .dataframe thead th {\n        text-align: right;\n    }\n</style>\n<table border=\"1\" class=\"dataframe\">\n  <thead>\n    <tr style=\"text-align: right;\">\n      <th></th>\n      <th>utm_source</th>\n      <th>device_id</th>\n    </tr>\n  </thead>\n  <tbody>\n    <tr>\n      <th>0</th>\n      <td>-</td>\n      <td>52273</td>\n    </tr>\n    <tr>\n      <th>6</th>\n      <td>yandex-direct</td>\n      <td>40712</td>\n    </tr>\n    <tr>\n      <th>2</th>\n      <td>google_ads</td>\n      <td>38096</td>\n    </tr>\n    <tr>\n      <th>5</th>\n      <td>vk_ads</td>\n      <td>34086</td>\n    </tr>\n    <tr>\n      <th>3</th>\n      <td>instagram_ads</td>\n      <td>31048</td>\n    </tr>\n    <tr>\n      <th>1</th>\n      <td>facebook_ads</td>\n      <td>25959</td>\n    </tr>\n    <tr>\n      <th>4</th>\n      <td>referal</td>\n      <td>15926</td>\n    </tr>\n  </tbody>\n</table>\n</div>"
     },
     "execution_count": 13,
     "metadata": {},
     "output_type": "execute_result"
    }
   ],
   "source": [
    "df.groupby('utm_source', as_index=False)\\\n",
    "    .agg({'device_id': 'nunique'})\\\n",
    "    .sort_values('device_id', ascending=False)"
   ]
  },
  {
   "cell_type": "markdown",
   "metadata": {
    "pycharm": {
     "name": "#%% md\n"
    }
   },
   "source": [
    "Проанализируйте на каком этапе воронки отваливается бОльшая часть клиентов. Посмотрите отдельно сценарии для зарегистрированных и для незарегистрированных пользователей. На каком шаге отваливается больше всего зарегистрированных пользователей?\n"
   ]
  },
  {
   "cell_type": "code",
   "execution_count": 14,
   "metadata": {
    "pycharm": {
     "name": "#%%\n"
    }
   },
   "outputs": [
    {
     "data": {
      "text/plain": "         event  unique_users\n1    app_start        190884\n5       search        184488\n2  choose_item        155691\n0  app_install        154597\n6   tap_basket        125414\n4     register         78310\n3     purchase         70875",
      "text/html": "<div>\n<style scoped>\n    .dataframe tbody tr th:only-of-type {\n        vertical-align: middle;\n    }\n\n    .dataframe tbody tr th {\n        vertical-align: top;\n    }\n\n    .dataframe thead th {\n        text-align: right;\n    }\n</style>\n<table border=\"1\" class=\"dataframe\">\n  <thead>\n    <tr style=\"text-align: right;\">\n      <th></th>\n      <th>event</th>\n      <th>unique_users</th>\n    </tr>\n  </thead>\n  <tbody>\n    <tr>\n      <th>1</th>\n      <td>app_start</td>\n      <td>190884</td>\n    </tr>\n    <tr>\n      <th>5</th>\n      <td>search</td>\n      <td>184488</td>\n    </tr>\n    <tr>\n      <th>2</th>\n      <td>choose_item</td>\n      <td>155691</td>\n    </tr>\n    <tr>\n      <th>0</th>\n      <td>app_install</td>\n      <td>154597</td>\n    </tr>\n    <tr>\n      <th>6</th>\n      <td>tap_basket</td>\n      <td>125414</td>\n    </tr>\n    <tr>\n      <th>4</th>\n      <td>register</td>\n      <td>78310</td>\n    </tr>\n    <tr>\n      <th>3</th>\n      <td>purchase</td>\n      <td>70875</td>\n    </tr>\n  </tbody>\n</table>\n</div>"
     },
     "execution_count": 14,
     "metadata": {},
     "output_type": "execute_result"
    }
   ],
   "source": [
    "df.groupby('event', as_index=False)\\\n",
    "    .agg(unique_users=('device_id', 'nunique'))\\\n",
    "    .sort_values('unique_users', ascending=False)"
   ]
  }
 ],
 "metadata": {
  "interpreter": {
   "hash": "40d3a090f54c6569ab1632332b64b2c03c39dcf918b08424e98f38b5ae0af88f"
  },
  "kernelspec": {
   "display_name": "Python 3.9.7 ('base')",
   "language": "python",
   "name": "python3"
  },
  "language_info": {
   "codemirror_mode": {
    "name": "ipython",
    "version": 3
   },
   "file_extension": ".py",
   "mimetype": "text/x-python",
   "name": "python",
   "nbconvert_exporter": "python",
   "pygments_lexer": "ipython3",
   "version": "3.9.7"
  },
  "orig_nbformat": 4
 },
 "nbformat": 4,
 "nbformat_minor": 2
}