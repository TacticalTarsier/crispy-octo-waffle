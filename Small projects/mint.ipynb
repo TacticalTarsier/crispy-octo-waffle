{
 "cells": [
  {
   "cell_type": "code",
   "execution_count": 19,
   "metadata": {},
   "outputs": [],
   "source": [
    "import pandas as pd\n",
    "from sqlalchemy import create_engine\n",
    "import seaborn as sns\n",
    "import matplotlib.pyplot as plt\n",
    "from math import ceil\n",
    "from scipy.stats import ttest_ind\n",
    "from tqdm.notebook import tqdm"
   ]
  },
  {
   "cell_type": "markdown",
   "metadata": {},
   "source": [
    "## Подключение к данным"
   ]
  },
  {
   "cell_type": "code",
   "execution_count": 3,
   "metadata": {},
   "outputs": [],
   "source": [
    "driver = 'postgresql'\n",
    "port = '19277'\n",
    "user = 'reader'\n",
    "password = 'TzR1e|eTXcdRb*i'\n",
    "host = '3.64.150.15'\n",
    "db = 'db_production'\n",
    "\n",
    "cs = create_engine(f'{driver}://{user}:{password}@{host}:{port}/{db}')"
   ]
  },
  {
   "cell_type": "markdown",
   "metadata": {},
   "source": [
    "# Вопрос 1. Отдел трафика\n",
    "Мы хотим настроить таргетинг рекламы по полу и возрасту пользователей, чтобы закупать трафик максимально эффективно и прибыльно. На какой сегмент пользователей нам лучше всего настроить таргетинг?"
   ]
  },
  {
   "cell_type": "markdown",
   "metadata": {},
   "source": [
    "## Импорт данных"
   ]
  },
  {
   "cell_type": "code",
   "execution_count": 3,
   "metadata": {},
   "outputs": [],
   "source": [
    "users_query = '''\n",
    "        select id,\n",
    "               sex,\n",
    "               date_part('year', age(current_date, date_bd)) as age\n",
    "        from users as u\n",
    "        where sex is not null\n",
    "               and is_test = false\n",
    "               and date_bd is not null;\n",
    "        '''\n",
    "        \n",
    "users_df = pd.io.sql.read_sql(users_query, con=cs)"
   ]
  },
  {
   "cell_type": "code",
   "execution_count": 4,
   "metadata": {},
   "outputs": [],
   "source": [
    "transactions_query = '''\n",
    "                    select id,\n",
    "                           user_id,\n",
    "                           status,\n",
    "                           date(created_at) as date,\n",
    "                           amount\n",
    "                    from transactions\n",
    "                     '''\n",
    "                     \n",
    "transactions_df = pd.io.sql.read_sql(transactions_query, con=cs)"
   ]
  },
  {
   "cell_type": "code",
   "execution_count": 5,
   "metadata": {},
   "outputs": [],
   "source": [
    "successful_transactions = transactions_df.query(\"status == 'success'\")\\\n",
    "    .reset_index(drop=True)"
   ]
  },
  {
   "cell_type": "markdown",
   "metadata": {},
   "source": [
    "## Обработка данных"
   ]
  },
  {
   "cell_type": "code",
   "execution_count": 6,
   "metadata": {},
   "outputs": [
    {
     "data": {
      "text/plain": [
       "<AxesSubplot:xlabel='age', ylabel='Count'>"
      ]
     },
     "execution_count": 6,
     "metadata": {},
     "output_type": "execute_result"
    },
    {
     "data": {
      "image/png": "[encoded data removed]",
      "text/plain": [
       "<Figure size 720x360 with 1 Axes>"
      ]
     },
     "metadata": {
      "needs_background": "light"
     },
     "output_type": "display_data"
    }
   ],
   "source": [
    "plt.figure(figsize=(10, 5))\n",
    "sns.histplot(x=users_df['age'])"
   ]
  },
  {
   "cell_type": "markdown",
   "metadata": {},
   "source": [
    "Присутствуют явные аномалии - возраст более 100 лет. Избавимся от выбросов. В качестве границ примем 1.5 межквартильного размаха"
   ]
  },
  {
   "cell_type": "code",
   "execution_count": 7,
   "metadata": {},
   "outputs": [
    {
     "name": "stdout",
     "output_type": "stream",
     "text": [
      "102.0\n"
     ]
    }
   ],
   "source": [
    "IQR = users_df['age'].quantile(0.25) + users_df['age'].quantile(0.75)\n",
    "\n",
    "print(1.5 * IQR)"
   ]
  },
  {
   "cell_type": "markdown",
   "metadata": {},
   "source": [
    "Распределение по возрасту без учёта явных аномалий"
   ]
  },
  {
   "cell_type": "code",
   "execution_count": 8,
   "metadata": {},
   "outputs": [
    {
     "data": {
      "text/plain": [
       "<AxesSubplot:xlabel='age', ylabel='Count'>"
      ]
     },
     "execution_count": 8,
     "metadata": {},
     "output_type": "execute_result"
    },
    {
     "data": {
      "image/png": "[encoded data removed]",
      "text/plain": [
       "<Figure size 432x288 with 1 Axes>"
      ]
     },
     "metadata": {
      "needs_background": "light"
     },
     "output_type": "display_data"
    }
   ],
   "source": [
    "sns.histplot(x=users_df.query('age <= 1.5 * @IQR')['age'])"
   ]
  },
  {
   "cell_type": "markdown",
   "metadata": {},
   "source": [
    "Распределение по полу юзеров"
   ]
  },
  {
   "cell_type": "code",
   "execution_count": 9,
   "metadata": {},
   "outputs": [
    {
     "data": {
      "text/plain": [
       "<AxesSubplot:xlabel='sex', ylabel='count'>"
      ]
     },
     "execution_count": 9,
     "metadata": {},
     "output_type": "execute_result"
    },
    {
     "data": {
      "image/png": "[encoded data removed]",
      "text/plain": [
       "<Figure size 432x288 with 1 Axes>"
      ]
     },
     "metadata": {
      "needs_background": "light"
     },
     "output_type": "display_data"
    }
   ],
   "source": [
    "sns.countplot(x=users_df['sex'])"
   ]
  },
  {
   "cell_type": "markdown",
   "metadata": {},
   "source": [
    "Выясним, кто совершает покупки больше всего"
   ]
  },
  {
   "cell_type": "markdown",
   "metadata": {},
   "source": [
    "Ранее из данных были удалены юзеры, указавшие заведомо аномальный возраст. Выясним, на какую сумму они произвели транзакции."
   ]
  },
  {
   "cell_type": "code",
   "execution_count": 10,
   "metadata": {},
   "outputs": [
    {
     "data": {
      "text/html": [
       "<div>\n",
       "<style scoped>\n",
       "    .dataframe tbody tr th:only-of-type {\n",
       "        vertical-align: middle;\n",
       "    }\n",
       "\n",
       "    .dataframe tbody tr th {\n",
       "        vertical-align: top;\n",
       "    }\n",
       "\n",
       "    .dataframe thead th {\n",
       "        text-align: right;\n",
       "    }\n",
       "</style>\n",
       "<table border=\"1\" class=\"dataframe\">\n",
       "  <thead>\n",
       "    <tr style=\"text-align: right;\">\n",
       "      <th></th>\n",
       "      <th>user_id</th>\n",
       "      <th>amount_sum</th>\n",
       "    </tr>\n",
       "  </thead>\n",
       "  <tbody>\n",
       "    <tr>\n",
       "      <th>0</th>\n",
       "      <td>100172</td>\n",
       "      <td>936.0</td>\n",
       "    </tr>\n",
       "    <tr>\n",
       "      <th>1</th>\n",
       "      <td>100263</td>\n",
       "      <td>50.0</td>\n",
       "    </tr>\n",
       "    <tr>\n",
       "      <th>2</th>\n",
       "      <td>100579</td>\n",
       "      <td>25.0</td>\n",
       "    </tr>\n",
       "    <tr>\n",
       "      <th>3</th>\n",
       "      <td>100962</td>\n",
       "      <td>50.0</td>\n",
       "    </tr>\n",
       "  </tbody>\n",
       "</table>\n",
       "</div>"
      ],
      "text/plain": [
       "   user_id  amount_sum\n",
       "0   100172       936.0\n",
       "1   100263        50.0\n",
       "2   100579        25.0\n",
       "3   100962        50.0"
      ]
     },
     "execution_count": 10,
     "metadata": {},
     "output_type": "execute_result"
    }
   ],
   "source": [
    "users_df.query('age >= 1.5 * @IQR')\\\n",
    "    .merge(successful_transactions,\n",
    "           left_on='id',\n",
    "           right_on='user_id')\\\n",
    "    .groupby('user_id', as_index=False)\\\n",
    "    .agg(amount_sum=('amount', 'sum'))"
   ]
  },
  {
   "cell_type": "markdown",
   "metadata": {},
   "source": [
    "Следует проверить юзера с id 100172, так как указан аномальный возраст, при этом совершены покупки на крупную сумму."
   ]
  },
  {
   "cell_type": "markdown",
   "metadata": {},
   "source": [
    "Выясним, какие сочетания \"пол-возраст\" даёт наибольшую сумму успешных транзакций."
   ]
  },
  {
   "cell_type": "code",
   "execution_count": 11,
   "metadata": {},
   "outputs": [],
   "source": [
    "grouped_transactions_df = successful_transactions.groupby('user_id', as_index=False)\\\n",
    "    .agg(amount_sum=('amount', 'sum'))"
   ]
  },
  {
   "cell_type": "code",
   "execution_count": 12,
   "metadata": {},
   "outputs": [],
   "source": [
    "users_amount_sum_df = users_df[['id', 'sex', 'age']]\\\n",
    "    .merge(grouped_transactions_df,\n",
    "           how='left',\n",
    "           left_on='id',\n",
    "           right_on='user_id')\\\n",
    "    .drop('user_id', axis=1)\\\n",
    "    .fillna(0)"
   ]
  },
  {
   "cell_type": "code",
   "execution_count": 13,
   "metadata": {},
   "outputs": [],
   "source": [
    "pivot_amount_sum = users_amount_sum_df.pivot_table(index='age', columns='sex', values='amount_sum', aggfunc=sum, fill_value=0)"
   ]
  },
  {
   "cell_type": "code",
   "execution_count": 14,
   "metadata": {},
   "outputs": [
    {
     "data": {
      "text/html": [
       "<style type=\"text/css\">\n",
       "#T_976e0_row2_col1, #T_976e0_row23_col0 {\n",
       "  background-color: green;\n",
       "}\n",
       "</style>\n",
       "<table id=\"T_976e0_\">\n",
       "  <thead>\n",
       "    <tr>\n",
       "      <th class=\"index_name level0\" >sex</th>\n",
       "      <th class=\"col_heading level0 col0\" >f</th>\n",
       "      <th class=\"col_heading level0 col1\" >m</th>\n",
       "    </tr>\n",
       "    <tr>\n",
       "      <th class=\"index_name level0\" >age</th>\n",
       "      <th class=\"blank col0\" >&nbsp;</th>\n",
       "      <th class=\"blank col1\" >&nbsp;</th>\n",
       "    </tr>\n",
       "  </thead>\n",
       "  <tbody>\n",
       "    <tr>\n",
       "      <th id=\"T_976e0_level0_row0\" class=\"row_heading level0 row0\" >20.0</th>\n",
       "      <td id=\"T_976e0_row0_col0\" class=\"data row0 col0\" >386</td>\n",
       "      <td id=\"T_976e0_row0_col1\" class=\"data row0 col1\" >672</td>\n",
       "    </tr>\n",
       "    <tr>\n",
       "      <th id=\"T_976e0_level0_row1\" class=\"row_heading level0 row1\" >21.0</th>\n",
       "      <td id=\"T_976e0_row1_col0\" class=\"data row1 col0\" >8,749</td>\n",
       "      <td id=\"T_976e0_row1_col1\" class=\"data row1 col1\" >1,579</td>\n",
       "    </tr>\n",
       "    <tr>\n",
       "      <th id=\"T_976e0_level0_row2\" class=\"row_heading level0 row2\" >22.0</th>\n",
       "      <td id=\"T_976e0_row2_col0\" class=\"data row2 col0\" >50</td>\n",
       "      <td id=\"T_976e0_row2_col1\" class=\"data row2 col1\" >7,523</td>\n",
       "    </tr>\n",
       "    <tr>\n",
       "      <th id=\"T_976e0_level0_row3\" class=\"row_heading level0 row3\" >23.0</th>\n",
       "      <td id=\"T_976e0_row3_col0\" class=\"data row3 col0\" >160</td>\n",
       "      <td id=\"T_976e0_row3_col1\" class=\"data row3 col1\" >50</td>\n",
       "    </tr>\n",
       "    <tr>\n",
       "      <th id=\"T_976e0_level0_row4\" class=\"row_heading level0 row4\" >24.0</th>\n",
       "      <td id=\"T_976e0_row4_col0\" class=\"data row4 col0\" >0</td>\n",
       "      <td id=\"T_976e0_row4_col1\" class=\"data row4 col1\" >530</td>\n",
       "    </tr>\n",
       "    <tr>\n",
       "      <th id=\"T_976e0_level0_row5\" class=\"row_heading level0 row5\" >25.0</th>\n",
       "      <td id=\"T_976e0_row5_col0\" class=\"data row5 col0\" >165</td>\n",
       "      <td id=\"T_976e0_row5_col1\" class=\"data row5 col1\" >1,413</td>\n",
       "    </tr>\n",
       "    <tr>\n",
       "      <th id=\"T_976e0_level0_row6\" class=\"row_heading level0 row6\" >26.0</th>\n",
       "      <td id=\"T_976e0_row6_col0\" class=\"data row6 col0\" >135</td>\n",
       "      <td id=\"T_976e0_row6_col1\" class=\"data row6 col1\" >185</td>\n",
       "    </tr>\n",
       "    <tr>\n",
       "      <th id=\"T_976e0_level0_row7\" class=\"row_heading level0 row7\" >27.0</th>\n",
       "      <td id=\"T_976e0_row7_col0\" class=\"data row7 col0\" >50</td>\n",
       "      <td id=\"T_976e0_row7_col1\" class=\"data row7 col1\" >25</td>\n",
       "    </tr>\n",
       "    <tr>\n",
       "      <th id=\"T_976e0_level0_row8\" class=\"row_heading level0 row8\" >28.0</th>\n",
       "      <td id=\"T_976e0_row8_col0\" class=\"data row8 col0\" >1,229</td>\n",
       "      <td id=\"T_976e0_row8_col1\" class=\"data row8 col1\" >1,238</td>\n",
       "    </tr>\n",
       "    <tr>\n",
       "      <th id=\"T_976e0_level0_row9\" class=\"row_heading level0 row9\" >29.0</th>\n",
       "      <td id=\"T_976e0_row9_col0\" class=\"data row9 col0\" >900</td>\n",
       "      <td id=\"T_976e0_row9_col1\" class=\"data row9 col1\" >25</td>\n",
       "    </tr>\n",
       "    <tr>\n",
       "      <th id=\"T_976e0_level0_row10\" class=\"row_heading level0 row10\" >30.0</th>\n",
       "      <td id=\"T_976e0_row10_col0\" class=\"data row10 col0\" >657</td>\n",
       "      <td id=\"T_976e0_row10_col1\" class=\"data row10 col1\" >4,997</td>\n",
       "    </tr>\n",
       "    <tr>\n",
       "      <th id=\"T_976e0_level0_row11\" class=\"row_heading level0 row11\" >31.0</th>\n",
       "      <td id=\"T_976e0_row11_col0\" class=\"data row11 col0\" >260</td>\n",
       "      <td id=\"T_976e0_row11_col1\" class=\"data row11 col1\" >2,708</td>\n",
       "    </tr>\n",
       "    <tr>\n",
       "      <th id=\"T_976e0_level0_row12\" class=\"row_heading level0 row12\" >32.0</th>\n",
       "      <td id=\"T_976e0_row12_col0\" class=\"data row12 col0\" >1,008</td>\n",
       "      <td id=\"T_976e0_row12_col1\" class=\"data row12 col1\" >25</td>\n",
       "    </tr>\n",
       "    <tr>\n",
       "      <th id=\"T_976e0_level0_row13\" class=\"row_heading level0 row13\" >33.0</th>\n",
       "      <td id=\"T_976e0_row13_col0\" class=\"data row13 col0\" >510</td>\n",
       "      <td id=\"T_976e0_row13_col1\" class=\"data row13 col1\" >318</td>\n",
       "    </tr>\n",
       "    <tr>\n",
       "      <th id=\"T_976e0_level0_row14\" class=\"row_heading level0 row14\" >34.0</th>\n",
       "      <td id=\"T_976e0_row14_col0\" class=\"data row14 col0\" >442</td>\n",
       "      <td id=\"T_976e0_row14_col1\" class=\"data row14 col1\" >1,871</td>\n",
       "    </tr>\n",
       "    <tr>\n",
       "      <th id=\"T_976e0_level0_row15\" class=\"row_heading level0 row15\" >35.0</th>\n",
       "      <td id=\"T_976e0_row15_col0\" class=\"data row15 col0\" >1,724</td>\n",
       "      <td id=\"T_976e0_row15_col1\" class=\"data row15 col1\" >260</td>\n",
       "    </tr>\n",
       "    <tr>\n",
       "      <th id=\"T_976e0_level0_row16\" class=\"row_heading level0 row16\" >36.0</th>\n",
       "      <td id=\"T_976e0_row16_col0\" class=\"data row16 col0\" >928</td>\n",
       "      <td id=\"T_976e0_row16_col1\" class=\"data row16 col1\" >295</td>\n",
       "    </tr>\n",
       "    <tr>\n",
       "      <th id=\"T_976e0_level0_row17\" class=\"row_heading level0 row17\" >37.0</th>\n",
       "      <td id=\"T_976e0_row17_col0\" class=\"data row17 col0\" >1,369</td>\n",
       "      <td id=\"T_976e0_row17_col1\" class=\"data row17 col1\" >540</td>\n",
       "    </tr>\n",
       "    <tr>\n",
       "      <th id=\"T_976e0_level0_row18\" class=\"row_heading level0 row18\" >38.0</th>\n",
       "      <td id=\"T_976e0_row18_col0\" class=\"data row18 col0\" >792</td>\n",
       "      <td id=\"T_976e0_row18_col1\" class=\"data row18 col1\" >2,028</td>\n",
       "    </tr>\n",
       "    <tr>\n",
       "      <th id=\"T_976e0_level0_row19\" class=\"row_heading level0 row19\" >39.0</th>\n",
       "      <td id=\"T_976e0_row19_col0\" class=\"data row19 col0\" >275</td>\n",
       "      <td id=\"T_976e0_row19_col1\" class=\"data row19 col1\" >1,738</td>\n",
       "    </tr>\n",
       "    <tr>\n",
       "      <th id=\"T_976e0_level0_row20\" class=\"row_heading level0 row20\" >40.0</th>\n",
       "      <td id=\"T_976e0_row20_col0\" class=\"data row20 col0\" >1,171</td>\n",
       "      <td id=\"T_976e0_row20_col1\" class=\"data row20 col1\" >444</td>\n",
       "    </tr>\n",
       "    <tr>\n",
       "      <th id=\"T_976e0_level0_row21\" class=\"row_heading level0 row21\" >41.0</th>\n",
       "      <td id=\"T_976e0_row21_col0\" class=\"data row21 col0\" >885</td>\n",
       "      <td id=\"T_976e0_row21_col1\" class=\"data row21 col1\" >4,598</td>\n",
       "    </tr>\n",
       "    <tr>\n",
       "      <th id=\"T_976e0_level0_row22\" class=\"row_heading level0 row22\" >42.0</th>\n",
       "      <td id=\"T_976e0_row22_col0\" class=\"data row22 col0\" >100</td>\n",
       "      <td id=\"T_976e0_row22_col1\" class=\"data row22 col1\" >2,939</td>\n",
       "    </tr>\n",
       "    <tr>\n",
       "      <th id=\"T_976e0_level0_row23\" class=\"row_heading level0 row23\" >43.0</th>\n",
       "      <td id=\"T_976e0_row23_col0\" class=\"data row23 col0\" >21,180</td>\n",
       "      <td id=\"T_976e0_row23_col1\" class=\"data row23 col1\" >352</td>\n",
       "    </tr>\n",
       "    <tr>\n",
       "      <th id=\"T_976e0_level0_row24\" class=\"row_heading level0 row24\" >44.0</th>\n",
       "      <td id=\"T_976e0_row24_col0\" class=\"data row24 col0\" >6,313</td>\n",
       "      <td id=\"T_976e0_row24_col1\" class=\"data row24 col1\" >1,205</td>\n",
       "    </tr>\n",
       "    <tr>\n",
       "      <th id=\"T_976e0_level0_row25\" class=\"row_heading level0 row25\" >45.0</th>\n",
       "      <td id=\"T_976e0_row25_col0\" class=\"data row25 col0\" >3,641</td>\n",
       "      <td id=\"T_976e0_row25_col1\" class=\"data row25 col1\" >125</td>\n",
       "    </tr>\n",
       "    <tr>\n",
       "      <th id=\"T_976e0_level0_row26\" class=\"row_heading level0 row26\" >46.0</th>\n",
       "      <td id=\"T_976e0_row26_col0\" class=\"data row26 col0\" >142</td>\n",
       "      <td id=\"T_976e0_row26_col1\" class=\"data row26 col1\" >25</td>\n",
       "    </tr>\n",
       "    <tr>\n",
       "      <th id=\"T_976e0_level0_row27\" class=\"row_heading level0 row27\" >47.0</th>\n",
       "      <td id=\"T_976e0_row27_col0\" class=\"data row27 col0\" >4,241</td>\n",
       "      <td id=\"T_976e0_row27_col1\" class=\"data row27 col1\" >842</td>\n",
       "    </tr>\n",
       "    <tr>\n",
       "      <th id=\"T_976e0_level0_row28\" class=\"row_heading level0 row28\" >48.0</th>\n",
       "      <td id=\"T_976e0_row28_col0\" class=\"data row28 col0\" >4,167</td>\n",
       "      <td id=\"T_976e0_row28_col1\" class=\"data row28 col1\" >175</td>\n",
       "    </tr>\n",
       "    <tr>\n",
       "      <th id=\"T_976e0_level0_row29\" class=\"row_heading level0 row29\" >49.0</th>\n",
       "      <td id=\"T_976e0_row29_col0\" class=\"data row29 col0\" >185</td>\n",
       "      <td id=\"T_976e0_row29_col1\" class=\"data row29 col1\" >394</td>\n",
       "    </tr>\n",
       "    <tr>\n",
       "      <th id=\"T_976e0_level0_row30\" class=\"row_heading level0 row30\" >50.0</th>\n",
       "      <td id=\"T_976e0_row30_col0\" class=\"data row30 col0\" >50</td>\n",
       "      <td id=\"T_976e0_row30_col1\" class=\"data row30 col1\" >0</td>\n",
       "    </tr>\n",
       "    <tr>\n",
       "      <th id=\"T_976e0_level0_row31\" class=\"row_heading level0 row31\" >120.0</th>\n",
       "      <td id=\"T_976e0_row31_col0\" class=\"data row31 col0\" >0</td>\n",
       "      <td id=\"T_976e0_row31_col1\" class=\"data row31 col1\" >0</td>\n",
       "    </tr>\n",
       "    <tr>\n",
       "      <th id=\"T_976e0_level0_row32\" class=\"row_heading level0 row32\" >126.0</th>\n",
       "      <td id=\"T_976e0_row32_col0\" class=\"data row32 col0\" >0</td>\n",
       "      <td id=\"T_976e0_row32_col1\" class=\"data row32 col1\" >50</td>\n",
       "    </tr>\n",
       "    <tr>\n",
       "      <th id=\"T_976e0_level0_row33\" class=\"row_heading level0 row33\" >127.0</th>\n",
       "      <td id=\"T_976e0_row33_col0\" class=\"data row33 col0\" >0</td>\n",
       "      <td id=\"T_976e0_row33_col1\" class=\"data row33 col1\" >50</td>\n",
       "    </tr>\n",
       "    <tr>\n",
       "      <th id=\"T_976e0_level0_row34\" class=\"row_heading level0 row34\" >129.0</th>\n",
       "      <td id=\"T_976e0_row34_col0\" class=\"data row34 col0\" >0</td>\n",
       "      <td id=\"T_976e0_row34_col1\" class=\"data row34 col1\" >0</td>\n",
       "    </tr>\n",
       "    <tr>\n",
       "      <th id=\"T_976e0_level0_row35\" class=\"row_heading level0 row35\" >131.0</th>\n",
       "      <td id=\"T_976e0_row35_col0\" class=\"data row35 col0\" >0</td>\n",
       "      <td id=\"T_976e0_row35_col1\" class=\"data row35 col1\" >25</td>\n",
       "    </tr>\n",
       "    <tr>\n",
       "      <th id=\"T_976e0_level0_row36\" class=\"row_heading level0 row36\" >140.0</th>\n",
       "      <td id=\"T_976e0_row36_col0\" class=\"data row36 col0\" >0</td>\n",
       "      <td id=\"T_976e0_row36_col1\" class=\"data row36 col1\" >0</td>\n",
       "    </tr>\n",
       "    <tr>\n",
       "      <th id=\"T_976e0_level0_row37\" class=\"row_heading level0 row37\" >146.0</th>\n",
       "      <td id=\"T_976e0_row37_col0\" class=\"data row37 col0\" >936</td>\n",
       "      <td id=\"T_976e0_row37_col1\" class=\"data row37 col1\" >0</td>\n",
       "    </tr>\n",
       "  </tbody>\n",
       "</table>\n"
      ],
      "text/plain": [
       "<pandas.io.formats.style.Styler at 0x7fafd1070ee0>"
      ]
     },
     "execution_count": 14,
     "metadata": {},
     "output_type": "execute_result"
    }
   ],
   "source": [
    "# сумма успешных транзакций в разрезе групп\n",
    "\n",
    "pivot_amount_sum.style\\\n",
    "    .highlight_max(color='green')\\\n",
    "    .format('{:,}')"
   ]
  },
  {
   "cell_type": "code",
   "execution_count": 15,
   "metadata": {},
   "outputs": [
    {
     "data": {
      "text/html": [
       "<style type=\"text/css\">\n",
       "#T_f9a40_row0_col1, #T_f9a40_row20_col0 {\n",
       "  background-color: green;\n",
       "}\n",
       "</style>\n",
       "<table id=\"T_f9a40_\">\n",
       "  <thead>\n",
       "    <tr>\n",
       "      <th class=\"index_name level0\" >sex</th>\n",
       "      <th class=\"col_heading level0 col0\" >f</th>\n",
       "      <th class=\"col_heading level0 col1\" >m</th>\n",
       "    </tr>\n",
       "    <tr>\n",
       "      <th class=\"index_name level0\" >age</th>\n",
       "      <th class=\"blank col0\" >&nbsp;</th>\n",
       "      <th class=\"blank col1\" >&nbsp;</th>\n",
       "    </tr>\n",
       "  </thead>\n",
       "  <tbody>\n",
       "    <tr>\n",
       "      <th id=\"T_f9a40_level0_row0\" class=\"row_heading level0 row0\" >20.0</th>\n",
       "      <td id=\"T_f9a40_row0_col0\" class=\"data row0 col0\" >7</td>\n",
       "      <td id=\"T_f9a40_row0_col1\" class=\"data row0 col1\" >14</td>\n",
       "    </tr>\n",
       "    <tr>\n",
       "      <th id=\"T_f9a40_level0_row1\" class=\"row_heading level0 row1\" >21.0</th>\n",
       "      <td id=\"T_f9a40_row1_col0\" class=\"data row1 col0\" >9</td>\n",
       "      <td id=\"T_f9a40_row1_col1\" class=\"data row1 col1\" >8</td>\n",
       "    </tr>\n",
       "    <tr>\n",
       "      <th id=\"T_f9a40_level0_row2\" class=\"row_heading level0 row2\" >22.0</th>\n",
       "      <td id=\"T_f9a40_row2_col0\" class=\"data row2 col0\" >6</td>\n",
       "      <td id=\"T_f9a40_row2_col1\" class=\"data row2 col1\" >13</td>\n",
       "    </tr>\n",
       "    <tr>\n",
       "      <th id=\"T_f9a40_level0_row3\" class=\"row_heading level0 row3\" >23.0</th>\n",
       "      <td id=\"T_f9a40_row3_col0\" class=\"data row3 col0\" >8</td>\n",
       "      <td id=\"T_f9a40_row3_col1\" class=\"data row3 col1\" >4</td>\n",
       "    </tr>\n",
       "    <tr>\n",
       "      <th id=\"T_f9a40_level0_row4\" class=\"row_heading level0 row4\" >24.0</th>\n",
       "      <td id=\"T_f9a40_row4_col0\" class=\"data row4 col0\" >6</td>\n",
       "      <td id=\"T_f9a40_row4_col1\" class=\"data row4 col1\" >7</td>\n",
       "    </tr>\n",
       "    <tr>\n",
       "      <th id=\"T_f9a40_level0_row5\" class=\"row_heading level0 row5\" >25.0</th>\n",
       "      <td id=\"T_f9a40_row5_col0\" class=\"data row5 col0\" >5</td>\n",
       "      <td id=\"T_f9a40_row5_col1\" class=\"data row5 col1\" >8</td>\n",
       "    </tr>\n",
       "    <tr>\n",
       "      <th id=\"T_f9a40_level0_row6\" class=\"row_heading level0 row6\" >26.0</th>\n",
       "      <td id=\"T_f9a40_row6_col0\" class=\"data row6 col0\" >9</td>\n",
       "      <td id=\"T_f9a40_row6_col1\" class=\"data row6 col1\" >11</td>\n",
       "    </tr>\n",
       "    <tr>\n",
       "      <th id=\"T_f9a40_level0_row7\" class=\"row_heading level0 row7\" >27.0</th>\n",
       "      <td id=\"T_f9a40_row7_col0\" class=\"data row7 col0\" >2</td>\n",
       "      <td id=\"T_f9a40_row7_col1\" class=\"data row7 col1\" >4</td>\n",
       "    </tr>\n",
       "    <tr>\n",
       "      <th id=\"T_f9a40_level0_row8\" class=\"row_heading level0 row8\" >28.0</th>\n",
       "      <td id=\"T_f9a40_row8_col0\" class=\"data row8 col0\" >5</td>\n",
       "      <td id=\"T_f9a40_row8_col1\" class=\"data row8 col1\" >4</td>\n",
       "    </tr>\n",
       "    <tr>\n",
       "      <th id=\"T_f9a40_level0_row9\" class=\"row_heading level0 row9\" >29.0</th>\n",
       "      <td id=\"T_f9a40_row9_col0\" class=\"data row9 col0\" >8</td>\n",
       "      <td id=\"T_f9a40_row9_col1\" class=\"data row9 col1\" >6</td>\n",
       "    </tr>\n",
       "    <tr>\n",
       "      <th id=\"T_f9a40_level0_row10\" class=\"row_heading level0 row10\" >30.0</th>\n",
       "      <td id=\"T_f9a40_row10_col0\" class=\"data row10 col0\" >6</td>\n",
       "      <td id=\"T_f9a40_row10_col1\" class=\"data row10 col1\" >12</td>\n",
       "    </tr>\n",
       "    <tr>\n",
       "      <th id=\"T_f9a40_level0_row11\" class=\"row_heading level0 row11\" >31.0</th>\n",
       "      <td id=\"T_f9a40_row11_col0\" class=\"data row11 col0\" >3</td>\n",
       "      <td id=\"T_f9a40_row11_col1\" class=\"data row11 col1\" >6</td>\n",
       "    </tr>\n",
       "    <tr>\n",
       "      <th id=\"T_f9a40_level0_row12\" class=\"row_heading level0 row12\" >32.0</th>\n",
       "      <td id=\"T_f9a40_row12_col0\" class=\"data row12 col0\" >8</td>\n",
       "      <td id=\"T_f9a40_row12_col1\" class=\"data row12 col1\" >6</td>\n",
       "    </tr>\n",
       "    <tr>\n",
       "      <th id=\"T_f9a40_level0_row13\" class=\"row_heading level0 row13\" >33.0</th>\n",
       "      <td id=\"T_f9a40_row13_col0\" class=\"data row13 col0\" >4</td>\n",
       "      <td id=\"T_f9a40_row13_col1\" class=\"data row13 col1\" >9</td>\n",
       "    </tr>\n",
       "    <tr>\n",
       "      <th id=\"T_f9a40_level0_row14\" class=\"row_heading level0 row14\" >34.0</th>\n",
       "      <td id=\"T_f9a40_row14_col0\" class=\"data row14 col0\" >4</td>\n",
       "      <td id=\"T_f9a40_row14_col1\" class=\"data row14 col1\" >9</td>\n",
       "    </tr>\n",
       "    <tr>\n",
       "      <th id=\"T_f9a40_level0_row15\" class=\"row_heading level0 row15\" >35.0</th>\n",
       "      <td id=\"T_f9a40_row15_col0\" class=\"data row15 col0\" >5</td>\n",
       "      <td id=\"T_f9a40_row15_col1\" class=\"data row15 col1\" >8</td>\n",
       "    </tr>\n",
       "    <tr>\n",
       "      <th id=\"T_f9a40_level0_row16\" class=\"row_heading level0 row16\" >36.0</th>\n",
       "      <td id=\"T_f9a40_row16_col0\" class=\"data row16 col0\" >5</td>\n",
       "      <td id=\"T_f9a40_row16_col1\" class=\"data row16 col1\" >12</td>\n",
       "    </tr>\n",
       "    <tr>\n",
       "      <th id=\"T_f9a40_level0_row17\" class=\"row_heading level0 row17\" >37.0</th>\n",
       "      <td id=\"T_f9a40_row17_col0\" class=\"data row17 col0\" >10</td>\n",
       "      <td id=\"T_f9a40_row17_col1\" class=\"data row17 col1\" >9</td>\n",
       "    </tr>\n",
       "    <tr>\n",
       "      <th id=\"T_f9a40_level0_row18\" class=\"row_heading level0 row18\" >38.0</th>\n",
       "      <td id=\"T_f9a40_row18_col0\" class=\"data row18 col0\" >8</td>\n",
       "      <td id=\"T_f9a40_row18_col1\" class=\"data row18 col1\" >9</td>\n",
       "    </tr>\n",
       "    <tr>\n",
       "      <th id=\"T_f9a40_level0_row19\" class=\"row_heading level0 row19\" >39.0</th>\n",
       "      <td id=\"T_f9a40_row19_col0\" class=\"data row19 col0\" >5</td>\n",
       "      <td id=\"T_f9a40_row19_col1\" class=\"data row19 col1\" >7</td>\n",
       "    </tr>\n",
       "    <tr>\n",
       "      <th id=\"T_f9a40_level0_row20\" class=\"row_heading level0 row20\" >40.0</th>\n",
       "      <td id=\"T_f9a40_row20_col0\" class=\"data row20 col0\" >14</td>\n",
       "      <td id=\"T_f9a40_row20_col1\" class=\"data row20 col1\" >6</td>\n",
       "    </tr>\n",
       "    <tr>\n",
       "      <th id=\"T_f9a40_level0_row21\" class=\"row_heading level0 row21\" >41.0</th>\n",
       "      <td id=\"T_f9a40_row21_col0\" class=\"data row21 col0\" >9</td>\n",
       "      <td id=\"T_f9a40_row21_col1\" class=\"data row21 col1\" >4</td>\n",
       "    </tr>\n",
       "    <tr>\n",
       "      <th id=\"T_f9a40_level0_row22\" class=\"row_heading level0 row22\" >42.0</th>\n",
       "      <td id=\"T_f9a40_row22_col0\" class=\"data row22 col0\" >9</td>\n",
       "      <td id=\"T_f9a40_row22_col1\" class=\"data row22 col1\" >12</td>\n",
       "    </tr>\n",
       "    <tr>\n",
       "      <th id=\"T_f9a40_level0_row23\" class=\"row_heading level0 row23\" >43.0</th>\n",
       "      <td id=\"T_f9a40_row23_col0\" class=\"data row23 col0\" >9</td>\n",
       "      <td id=\"T_f9a40_row23_col1\" class=\"data row23 col1\" >9</td>\n",
       "    </tr>\n",
       "    <tr>\n",
       "      <th id=\"T_f9a40_level0_row24\" class=\"row_heading level0 row24\" >44.0</th>\n",
       "      <td id=\"T_f9a40_row24_col0\" class=\"data row24 col0\" >5</td>\n",
       "      <td id=\"T_f9a40_row24_col1\" class=\"data row24 col1\" >7</td>\n",
       "    </tr>\n",
       "    <tr>\n",
       "      <th id=\"T_f9a40_level0_row25\" class=\"row_heading level0 row25\" >45.0</th>\n",
       "      <td id=\"T_f9a40_row25_col0\" class=\"data row25 col0\" >5</td>\n",
       "      <td id=\"T_f9a40_row25_col1\" class=\"data row25 col1\" >6</td>\n",
       "    </tr>\n",
       "    <tr>\n",
       "      <th id=\"T_f9a40_level0_row26\" class=\"row_heading level0 row26\" >46.0</th>\n",
       "      <td id=\"T_f9a40_row26_col0\" class=\"data row26 col0\" >5</td>\n",
       "      <td id=\"T_f9a40_row26_col1\" class=\"data row26 col1\" >6</td>\n",
       "    </tr>\n",
       "    <tr>\n",
       "      <th id=\"T_f9a40_level0_row27\" class=\"row_heading level0 row27\" >47.0</th>\n",
       "      <td id=\"T_f9a40_row27_col0\" class=\"data row27 col0\" >11</td>\n",
       "      <td id=\"T_f9a40_row27_col1\" class=\"data row27 col1\" >8</td>\n",
       "    </tr>\n",
       "    <tr>\n",
       "      <th id=\"T_f9a40_level0_row28\" class=\"row_heading level0 row28\" >48.0</th>\n",
       "      <td id=\"T_f9a40_row28_col0\" class=\"data row28 col0\" >10</td>\n",
       "      <td id=\"T_f9a40_row28_col1\" class=\"data row28 col1\" >9</td>\n",
       "    </tr>\n",
       "    <tr>\n",
       "      <th id=\"T_f9a40_level0_row29\" class=\"row_heading level0 row29\" >49.0</th>\n",
       "      <td id=\"T_f9a40_row29_col0\" class=\"data row29 col0\" >4</td>\n",
       "      <td id=\"T_f9a40_row29_col1\" class=\"data row29 col1\" >11</td>\n",
       "    </tr>\n",
       "    <tr>\n",
       "      <th id=\"T_f9a40_level0_row30\" class=\"row_heading level0 row30\" >50.0</th>\n",
       "      <td id=\"T_f9a40_row30_col0\" class=\"data row30 col0\" >1</td>\n",
       "      <td id=\"T_f9a40_row30_col1\" class=\"data row30 col1\" >0</td>\n",
       "    </tr>\n",
       "    <tr>\n",
       "      <th id=\"T_f9a40_level0_row31\" class=\"row_heading level0 row31\" >120.0</th>\n",
       "      <td id=\"T_f9a40_row31_col0\" class=\"data row31 col0\" >0</td>\n",
       "      <td id=\"T_f9a40_row31_col1\" class=\"data row31 col1\" >1</td>\n",
       "    </tr>\n",
       "    <tr>\n",
       "      <th id=\"T_f9a40_level0_row32\" class=\"row_heading level0 row32\" >126.0</th>\n",
       "      <td id=\"T_f9a40_row32_col0\" class=\"data row32 col0\" >0</td>\n",
       "      <td id=\"T_f9a40_row32_col1\" class=\"data row32 col1\" >1</td>\n",
       "    </tr>\n",
       "    <tr>\n",
       "      <th id=\"T_f9a40_level0_row33\" class=\"row_heading level0 row33\" >127.0</th>\n",
       "      <td id=\"T_f9a40_row33_col0\" class=\"data row33 col0\" >0</td>\n",
       "      <td id=\"T_f9a40_row33_col1\" class=\"data row33 col1\" >1</td>\n",
       "    </tr>\n",
       "    <tr>\n",
       "      <th id=\"T_f9a40_level0_row34\" class=\"row_heading level0 row34\" >129.0</th>\n",
       "      <td id=\"T_f9a40_row34_col0\" class=\"data row34 col0\" >1</td>\n",
       "      <td id=\"T_f9a40_row34_col1\" class=\"data row34 col1\" >0</td>\n",
       "    </tr>\n",
       "    <tr>\n",
       "      <th id=\"T_f9a40_level0_row35\" class=\"row_heading level0 row35\" >131.0</th>\n",
       "      <td id=\"T_f9a40_row35_col0\" class=\"data row35 col0\" >0</td>\n",
       "      <td id=\"T_f9a40_row35_col1\" class=\"data row35 col1\" >1</td>\n",
       "    </tr>\n",
       "    <tr>\n",
       "      <th id=\"T_f9a40_level0_row36\" class=\"row_heading level0 row36\" >140.0</th>\n",
       "      <td id=\"T_f9a40_row36_col0\" class=\"data row36 col0\" >1</td>\n",
       "      <td id=\"T_f9a40_row36_col1\" class=\"data row36 col1\" >0</td>\n",
       "    </tr>\n",
       "    <tr>\n",
       "      <th id=\"T_f9a40_level0_row37\" class=\"row_heading level0 row37\" >146.0</th>\n",
       "      <td id=\"T_f9a40_row37_col0\" class=\"data row37 col0\" >1</td>\n",
       "      <td id=\"T_f9a40_row37_col1\" class=\"data row37 col1\" >0</td>\n",
       "    </tr>\n",
       "  </tbody>\n",
       "</table>\n"
      ],
      "text/plain": [
       "<pandas.io.formats.style.Styler at 0x7fafb2e5a4c0>"
      ]
     },
     "execution_count": 15,
     "metadata": {},
     "output_type": "execute_result"
    }
   ],
   "source": [
    "# колюичество юзеров в разрезе групп\n",
    "\n",
    "users_df.groupby(['age', 'sex'], as_index=False)\\\n",
    "    .agg(unique_users=('id', 'count'))\\\n",
    "    .pivot_table(index='age', columns='sex', values='unique_users', fill_value=0)\\\n",
    "    .style\\\n",
    "    .highlight_max(color='green')\\\n",
    "    .format('{:.0f}')"
   ]
  },
  {
   "cell_type": "code",
   "execution_count": 16,
   "metadata": {},
   "outputs": [
    {
     "data": {
      "text/html": [
       "<style type=\"text/css\">\n",
       "#T_946d0_row21_col1, #T_946d0_row23_col0 {\n",
       "  background-color: green;\n",
       "}\n",
       "</style>\n",
       "<table id=\"T_946d0_\">\n",
       "  <thead>\n",
       "    <tr>\n",
       "      <th class=\"index_name level0\" >sex</th>\n",
       "      <th class=\"col_heading level0 col0\" >f</th>\n",
       "      <th class=\"col_heading level0 col1\" >m</th>\n",
       "    </tr>\n",
       "    <tr>\n",
       "      <th class=\"index_name level0\" >age</th>\n",
       "      <th class=\"blank col0\" >&nbsp;</th>\n",
       "      <th class=\"blank col1\" >&nbsp;</th>\n",
       "    </tr>\n",
       "  </thead>\n",
       "  <tbody>\n",
       "    <tr>\n",
       "      <th id=\"T_946d0_level0_row0\" class=\"row_heading level0 row0\" >20.0</th>\n",
       "      <td id=\"T_946d0_row0_col0\" class=\"data row0 col0\" >55.1</td>\n",
       "      <td id=\"T_946d0_row0_col1\" class=\"data row0 col1\" >48.0</td>\n",
       "    </tr>\n",
       "    <tr>\n",
       "      <th id=\"T_946d0_level0_row1\" class=\"row_heading level0 row1\" >21.0</th>\n",
       "      <td id=\"T_946d0_row1_col0\" class=\"data row1 col0\" >972.1</td>\n",
       "      <td id=\"T_946d0_row1_col1\" class=\"data row1 col1\" >197.4</td>\n",
       "    </tr>\n",
       "    <tr>\n",
       "      <th id=\"T_946d0_level0_row2\" class=\"row_heading level0 row2\" >22.0</th>\n",
       "      <td id=\"T_946d0_row2_col0\" class=\"data row2 col0\" >8.3</td>\n",
       "      <td id=\"T_946d0_row2_col1\" class=\"data row2 col1\" >578.7</td>\n",
       "    </tr>\n",
       "    <tr>\n",
       "      <th id=\"T_946d0_level0_row3\" class=\"row_heading level0 row3\" >23.0</th>\n",
       "      <td id=\"T_946d0_row3_col0\" class=\"data row3 col0\" >20.0</td>\n",
       "      <td id=\"T_946d0_row3_col1\" class=\"data row3 col1\" >12.5</td>\n",
       "    </tr>\n",
       "    <tr>\n",
       "      <th id=\"T_946d0_level0_row4\" class=\"row_heading level0 row4\" >24.0</th>\n",
       "      <td id=\"T_946d0_row4_col0\" class=\"data row4 col0\" >0.0</td>\n",
       "      <td id=\"T_946d0_row4_col1\" class=\"data row4 col1\" >75.7</td>\n",
       "    </tr>\n",
       "    <tr>\n",
       "      <th id=\"T_946d0_level0_row5\" class=\"row_heading level0 row5\" >25.0</th>\n",
       "      <td id=\"T_946d0_row5_col0\" class=\"data row5 col0\" >33.0</td>\n",
       "      <td id=\"T_946d0_row5_col1\" class=\"data row5 col1\" >176.6</td>\n",
       "    </tr>\n",
       "    <tr>\n",
       "      <th id=\"T_946d0_level0_row6\" class=\"row_heading level0 row6\" >26.0</th>\n",
       "      <td id=\"T_946d0_row6_col0\" class=\"data row6 col0\" >15.0</td>\n",
       "      <td id=\"T_946d0_row6_col1\" class=\"data row6 col1\" >16.8</td>\n",
       "    </tr>\n",
       "    <tr>\n",
       "      <th id=\"T_946d0_level0_row7\" class=\"row_heading level0 row7\" >27.0</th>\n",
       "      <td id=\"T_946d0_row7_col0\" class=\"data row7 col0\" >25.0</td>\n",
       "      <td id=\"T_946d0_row7_col1\" class=\"data row7 col1\" >6.2</td>\n",
       "    </tr>\n",
       "    <tr>\n",
       "      <th id=\"T_946d0_level0_row8\" class=\"row_heading level0 row8\" >28.0</th>\n",
       "      <td id=\"T_946d0_row8_col0\" class=\"data row8 col0\" >245.8</td>\n",
       "      <td id=\"T_946d0_row8_col1\" class=\"data row8 col1\" >309.5</td>\n",
       "    </tr>\n",
       "    <tr>\n",
       "      <th id=\"T_946d0_level0_row9\" class=\"row_heading level0 row9\" >29.0</th>\n",
       "      <td id=\"T_946d0_row9_col0\" class=\"data row9 col0\" >112.5</td>\n",
       "      <td id=\"T_946d0_row9_col1\" class=\"data row9 col1\" >4.2</td>\n",
       "    </tr>\n",
       "    <tr>\n",
       "      <th id=\"T_946d0_level0_row10\" class=\"row_heading level0 row10\" >30.0</th>\n",
       "      <td id=\"T_946d0_row10_col0\" class=\"data row10 col0\" >109.5</td>\n",
       "      <td id=\"T_946d0_row10_col1\" class=\"data row10 col1\" >416.4</td>\n",
       "    </tr>\n",
       "    <tr>\n",
       "      <th id=\"T_946d0_level0_row11\" class=\"row_heading level0 row11\" >31.0</th>\n",
       "      <td id=\"T_946d0_row11_col0\" class=\"data row11 col0\" >86.7</td>\n",
       "      <td id=\"T_946d0_row11_col1\" class=\"data row11 col1\" >451.3</td>\n",
       "    </tr>\n",
       "    <tr>\n",
       "      <th id=\"T_946d0_level0_row12\" class=\"row_heading level0 row12\" >32.0</th>\n",
       "      <td id=\"T_946d0_row12_col0\" class=\"data row12 col0\" >126.0</td>\n",
       "      <td id=\"T_946d0_row12_col1\" class=\"data row12 col1\" >4.2</td>\n",
       "    </tr>\n",
       "    <tr>\n",
       "      <th id=\"T_946d0_level0_row13\" class=\"row_heading level0 row13\" >33.0</th>\n",
       "      <td id=\"T_946d0_row13_col0\" class=\"data row13 col0\" >127.5</td>\n",
       "      <td id=\"T_946d0_row13_col1\" class=\"data row13 col1\" >35.3</td>\n",
       "    </tr>\n",
       "    <tr>\n",
       "      <th id=\"T_946d0_level0_row14\" class=\"row_heading level0 row14\" >34.0</th>\n",
       "      <td id=\"T_946d0_row14_col0\" class=\"data row14 col0\" >110.5</td>\n",
       "      <td id=\"T_946d0_row14_col1\" class=\"data row14 col1\" >207.9</td>\n",
       "    </tr>\n",
       "    <tr>\n",
       "      <th id=\"T_946d0_level0_row15\" class=\"row_heading level0 row15\" >35.0</th>\n",
       "      <td id=\"T_946d0_row15_col0\" class=\"data row15 col0\" >344.8</td>\n",
       "      <td id=\"T_946d0_row15_col1\" class=\"data row15 col1\" >32.5</td>\n",
       "    </tr>\n",
       "    <tr>\n",
       "      <th id=\"T_946d0_level0_row16\" class=\"row_heading level0 row16\" >36.0</th>\n",
       "      <td id=\"T_946d0_row16_col0\" class=\"data row16 col0\" >185.6</td>\n",
       "      <td id=\"T_946d0_row16_col1\" class=\"data row16 col1\" >24.6</td>\n",
       "    </tr>\n",
       "    <tr>\n",
       "      <th id=\"T_946d0_level0_row17\" class=\"row_heading level0 row17\" >37.0</th>\n",
       "      <td id=\"T_946d0_row17_col0\" class=\"data row17 col0\" >136.9</td>\n",
       "      <td id=\"T_946d0_row17_col1\" class=\"data row17 col1\" >60.0</td>\n",
       "    </tr>\n",
       "    <tr>\n",
       "      <th id=\"T_946d0_level0_row18\" class=\"row_heading level0 row18\" >38.0</th>\n",
       "      <td id=\"T_946d0_row18_col0\" class=\"data row18 col0\" >99.0</td>\n",
       "      <td id=\"T_946d0_row18_col1\" class=\"data row18 col1\" >225.3</td>\n",
       "    </tr>\n",
       "    <tr>\n",
       "      <th id=\"T_946d0_level0_row19\" class=\"row_heading level0 row19\" >39.0</th>\n",
       "      <td id=\"T_946d0_row19_col0\" class=\"data row19 col0\" >55.0</td>\n",
       "      <td id=\"T_946d0_row19_col1\" class=\"data row19 col1\" >248.3</td>\n",
       "    </tr>\n",
       "    <tr>\n",
       "      <th id=\"T_946d0_level0_row20\" class=\"row_heading level0 row20\" >40.0</th>\n",
       "      <td id=\"T_946d0_row20_col0\" class=\"data row20 col0\" >83.6</td>\n",
       "      <td id=\"T_946d0_row20_col1\" class=\"data row20 col1\" >74.0</td>\n",
       "    </tr>\n",
       "    <tr>\n",
       "      <th id=\"T_946d0_level0_row21\" class=\"row_heading level0 row21\" >41.0</th>\n",
       "      <td id=\"T_946d0_row21_col0\" class=\"data row21 col0\" >98.3</td>\n",
       "      <td id=\"T_946d0_row21_col1\" class=\"data row21 col1\" >1149.5</td>\n",
       "    </tr>\n",
       "    <tr>\n",
       "      <th id=\"T_946d0_level0_row22\" class=\"row_heading level0 row22\" >42.0</th>\n",
       "      <td id=\"T_946d0_row22_col0\" class=\"data row22 col0\" >11.1</td>\n",
       "      <td id=\"T_946d0_row22_col1\" class=\"data row22 col1\" >244.9</td>\n",
       "    </tr>\n",
       "    <tr>\n",
       "      <th id=\"T_946d0_level0_row23\" class=\"row_heading level0 row23\" >43.0</th>\n",
       "      <td id=\"T_946d0_row23_col0\" class=\"data row23 col0\" >2353.3</td>\n",
       "      <td id=\"T_946d0_row23_col1\" class=\"data row23 col1\" >39.1</td>\n",
       "    </tr>\n",
       "    <tr>\n",
       "      <th id=\"T_946d0_level0_row24\" class=\"row_heading level0 row24\" >44.0</th>\n",
       "      <td id=\"T_946d0_row24_col0\" class=\"data row24 col0\" >1262.6</td>\n",
       "      <td id=\"T_946d0_row24_col1\" class=\"data row24 col1\" >172.1</td>\n",
       "    </tr>\n",
       "    <tr>\n",
       "      <th id=\"T_946d0_level0_row25\" class=\"row_heading level0 row25\" >45.0</th>\n",
       "      <td id=\"T_946d0_row25_col0\" class=\"data row25 col0\" >728.2</td>\n",
       "      <td id=\"T_946d0_row25_col1\" class=\"data row25 col1\" >20.8</td>\n",
       "    </tr>\n",
       "    <tr>\n",
       "      <th id=\"T_946d0_level0_row26\" class=\"row_heading level0 row26\" >46.0</th>\n",
       "      <td id=\"T_946d0_row26_col0\" class=\"data row26 col0\" >28.4</td>\n",
       "      <td id=\"T_946d0_row26_col1\" class=\"data row26 col1\" >4.2</td>\n",
       "    </tr>\n",
       "    <tr>\n",
       "      <th id=\"T_946d0_level0_row27\" class=\"row_heading level0 row27\" >47.0</th>\n",
       "      <td id=\"T_946d0_row27_col0\" class=\"data row27 col0\" >385.5</td>\n",
       "      <td id=\"T_946d0_row27_col1\" class=\"data row27 col1\" >105.2</td>\n",
       "    </tr>\n",
       "    <tr>\n",
       "      <th id=\"T_946d0_level0_row28\" class=\"row_heading level0 row28\" >48.0</th>\n",
       "      <td id=\"T_946d0_row28_col0\" class=\"data row28 col0\" >416.7</td>\n",
       "      <td id=\"T_946d0_row28_col1\" class=\"data row28 col1\" >19.4</td>\n",
       "    </tr>\n",
       "    <tr>\n",
       "      <th id=\"T_946d0_level0_row29\" class=\"row_heading level0 row29\" >49.0</th>\n",
       "      <td id=\"T_946d0_row29_col0\" class=\"data row29 col0\" >46.2</td>\n",
       "      <td id=\"T_946d0_row29_col1\" class=\"data row29 col1\" >35.8</td>\n",
       "    </tr>\n",
       "    <tr>\n",
       "      <th id=\"T_946d0_level0_row30\" class=\"row_heading level0 row30\" >50.0</th>\n",
       "      <td id=\"T_946d0_row30_col0\" class=\"data row30 col0\" >50.0</td>\n",
       "      <td id=\"T_946d0_row30_col1\" class=\"data row30 col1\" >nan</td>\n",
       "    </tr>\n",
       "    <tr>\n",
       "      <th id=\"T_946d0_level0_row31\" class=\"row_heading level0 row31\" >120.0</th>\n",
       "      <td id=\"T_946d0_row31_col0\" class=\"data row31 col0\" >nan</td>\n",
       "      <td id=\"T_946d0_row31_col1\" class=\"data row31 col1\" >0.0</td>\n",
       "    </tr>\n",
       "    <tr>\n",
       "      <th id=\"T_946d0_level0_row32\" class=\"row_heading level0 row32\" >126.0</th>\n",
       "      <td id=\"T_946d0_row32_col0\" class=\"data row32 col0\" >nan</td>\n",
       "      <td id=\"T_946d0_row32_col1\" class=\"data row32 col1\" >50.0</td>\n",
       "    </tr>\n",
       "    <tr>\n",
       "      <th id=\"T_946d0_level0_row33\" class=\"row_heading level0 row33\" >127.0</th>\n",
       "      <td id=\"T_946d0_row33_col0\" class=\"data row33 col0\" >nan</td>\n",
       "      <td id=\"T_946d0_row33_col1\" class=\"data row33 col1\" >50.0</td>\n",
       "    </tr>\n",
       "    <tr>\n",
       "      <th id=\"T_946d0_level0_row34\" class=\"row_heading level0 row34\" >129.0</th>\n",
       "      <td id=\"T_946d0_row34_col0\" class=\"data row34 col0\" >0.0</td>\n",
       "      <td id=\"T_946d0_row34_col1\" class=\"data row34 col1\" >nan</td>\n",
       "    </tr>\n",
       "    <tr>\n",
       "      <th id=\"T_946d0_level0_row35\" class=\"row_heading level0 row35\" >131.0</th>\n",
       "      <td id=\"T_946d0_row35_col0\" class=\"data row35 col0\" >nan</td>\n",
       "      <td id=\"T_946d0_row35_col1\" class=\"data row35 col1\" >25.0</td>\n",
       "    </tr>\n",
       "    <tr>\n",
       "      <th id=\"T_946d0_level0_row36\" class=\"row_heading level0 row36\" >140.0</th>\n",
       "      <td id=\"T_946d0_row36_col0\" class=\"data row36 col0\" >0.0</td>\n",
       "      <td id=\"T_946d0_row36_col1\" class=\"data row36 col1\" >nan</td>\n",
       "    </tr>\n",
       "    <tr>\n",
       "      <th id=\"T_946d0_level0_row37\" class=\"row_heading level0 row37\" >146.0</th>\n",
       "      <td id=\"T_946d0_row37_col0\" class=\"data row37 col0\" >936.0</td>\n",
       "      <td id=\"T_946d0_row37_col1\" class=\"data row37 col1\" >nan</td>\n",
       "    </tr>\n",
       "  </tbody>\n",
       "</table>\n"
      ],
      "text/plain": [
       "<pandas.io.formats.style.Styler at 0x7fafd1070550>"
      ]
     },
     "execution_count": 16,
     "metadata": {},
     "output_type": "execute_result"
    }
   ],
   "source": [
    "# доход в среднем на пользователя из группы\n",
    "\n",
    "pivot_amount_sum\\\n",
    "    .divide(users_df.groupby(['age', 'sex'], as_index=False)\\\n",
    "                    .agg(unique_users=('id', 'count'))\\\n",
    "                    .pivot_table(index='age', columns='sex', values='unique_users', fill_value=0))\\\n",
    "    .style\\\n",
    "    .highlight_max(color='green')\\\n",
    "    .format('{:.1f}')"
   ]
  },
  {
   "cell_type": "markdown",
   "metadata": {},
   "source": [
    "## Итоги\n",
    "\n",
    "Если смотреть только на денежные показатели (сумма успешных транзакций), следует обратить внимание на группы:\n",
    "\n",
    "1. Ж-40+;\n",
    "2. М-21...22;\n",
    "3. М-41...42.\n",
    "\n",
    "Так как они приносят больший доход. Также это довольно многочисленная группы юзеров. Если верить историческим данным, данная группа при привлечении трафика также покажет хорошие результаты (при расчёте показателей принималось, что все юзеры являются органическими, то есть ранее с ними не проводились целенаправленные коммуникации)"
   ]
  },
  {
   "cell_type": "markdown",
   "metadata": {},
   "source": [
    "# Вопрос 2. Отдел маркетинга\n",
    "\n",
    "Мы хотим запустить программу лояльности с 5 уровнями. Уровень присваивается в зависимости от суммы потраченных пользователем денег. Какие пороги уровней сделать и почему?"
   ]
  },
  {
   "cell_type": "markdown",
   "metadata": {},
   "source": [
    "Если рассматривать только суммы потраченных денег, логичным решением кажется RFM-сегментация юзеров (для лУчших результатов желательно также разделить юзеров по частоте и давности последней активности).\n",
    "\n",
    "Данное разделение позволит эффективно строить коммуникации с каждой из групп, что в дальнейшем позволит, например, перенести юзера из более низкой группы в более высокую.\n",
    "\n",
    "В качестве порогов примем квантили распределения."
   ]
  },
  {
   "cell_type": "code",
   "execution_count": 17,
   "metadata": {},
   "outputs": [],
   "source": [
    "# обозначим границы для групп\n",
    "\n",
    "users_amount_sum_df = users_amount_sum_df.query('amount_sum > 0')\n",
    "\n",
    "M1 = users_amount_sum_df['amount_sum'].quantile(0.2)\n",
    "M2 = users_amount_sum_df['amount_sum'].quantile(0.4)\n",
    "M3 = users_amount_sum_df['amount_sum'].quantile(0.6)\n",
    "M4 = users_amount_sum_df['amount_sum'].quantile(0.8)"
   ]
  },
  {
   "cell_type": "code",
   "execution_count": 18,
   "metadata": {},
   "outputs": [
    {
     "data": {
      "text/plain": [
       "<AxesSubplot:ylabel='Frequency'>"
      ]
     },
     "execution_count": 18,
     "metadata": {},
     "output_type": "execute_result"
    },
    {
     "data": {
      "image/png": "[encoded data removed]",
      "text/plain": [
       "<Figure size 432x288 with 1 Axes>"
      ]
     },
     "metadata": {
      "needs_background": "light"
     },
     "output_type": "display_data"
    }
   ],
   "source": [
    "users_amount_sum_df['amount_sum'].plot(kind='hist')"
   ]
  },
  {
   "cell_type": "code",
   "execution_count": 19,
   "metadata": {},
   "outputs": [],
   "source": [
    "def get_monetary(val):\n",
    "    \n",
    "    if val == 0 or val <= M1:\n",
    "        return 1\n",
    "    elif M1 < val <= M2:\n",
    "        return 2\n",
    "    elif M2 < val <= M3:\n",
    "        return 3\n",
    "    elif M3 < val <= M4:\n",
    "        return 4\n",
    "    elif val > M4:\n",
    "        return 5"
   ]
  },
  {
   "cell_type": "code",
   "execution_count": 20,
   "metadata": {},
   "outputs": [],
   "source": [
    "users_amount_sum_df['monetary'] = users_amount_sum_df['amount_sum'].apply(lambda x: get_monetary(x))"
   ]
  },
  {
   "cell_type": "code",
   "execution_count": 21,
   "metadata": {},
   "outputs": [
    {
     "data": {
      "text/html": [
       "<div>\n",
       "<style scoped>\n",
       "    .dataframe tbody tr th:only-of-type {\n",
       "        vertical-align: middle;\n",
       "    }\n",
       "\n",
       "    .dataframe tbody tr th {\n",
       "        vertical-align: top;\n",
       "    }\n",
       "\n",
       "    .dataframe thead th {\n",
       "        text-align: right;\n",
       "    }\n",
       "</style>\n",
       "<table border=\"1\" class=\"dataframe\">\n",
       "  <thead>\n",
       "    <tr style=\"text-align: right;\">\n",
       "      <th></th>\n",
       "      <th>id</th>\n",
       "      <th>sex</th>\n",
       "      <th>age</th>\n",
       "      <th>amount_sum</th>\n",
       "      <th>monetary</th>\n",
       "    </tr>\n",
       "  </thead>\n",
       "  <tbody>\n",
       "    <tr>\n",
       "      <th>0</th>\n",
       "      <td>100049</td>\n",
       "      <td>f</td>\n",
       "      <td>35.0</td>\n",
       "      <td>50.0</td>\n",
       "      <td>2</td>\n",
       "    </tr>\n",
       "    <tr>\n",
       "      <th>2</th>\n",
       "      <td>100053</td>\n",
       "      <td>m</td>\n",
       "      <td>47.0</td>\n",
       "      <td>25.0</td>\n",
       "      <td>1</td>\n",
       "    </tr>\n",
       "    <tr>\n",
       "      <th>9</th>\n",
       "      <td>100066</td>\n",
       "      <td>f</td>\n",
       "      <td>36.0</td>\n",
       "      <td>742.0</td>\n",
       "      <td>5</td>\n",
       "    </tr>\n",
       "    <tr>\n",
       "      <th>11</th>\n",
       "      <td>100069</td>\n",
       "      <td>m</td>\n",
       "      <td>36.0</td>\n",
       "      <td>25.0</td>\n",
       "      <td>1</td>\n",
       "    </tr>\n",
       "    <tr>\n",
       "      <th>13</th>\n",
       "      <td>100077</td>\n",
       "      <td>f</td>\n",
       "      <td>38.0</td>\n",
       "      <td>50.0</td>\n",
       "      <td>2</td>\n",
       "    </tr>\n",
       "  </tbody>\n",
       "</table>\n",
       "</div>"
      ],
      "text/plain": [
       "        id sex   age  amount_sum  monetary\n",
       "0   100049   f  35.0        50.0         2\n",
       "2   100053   m  47.0        25.0         1\n",
       "9   100066   f  36.0       742.0         5\n",
       "11  100069   m  36.0        25.0         1\n",
       "13  100077   f  38.0        50.0         2"
      ]
     },
     "execution_count": 21,
     "metadata": {},
     "output_type": "execute_result"
    }
   ],
   "source": [
    "users_amount_sum_df.head()"
   ]
  },
  {
   "cell_type": "code",
   "execution_count": 22,
   "metadata": {},
   "outputs": [
    {
     "data": {
      "text/plain": [
       "<AxesSubplot:>"
      ]
     },
     "execution_count": 22,
     "metadata": {},
     "output_type": "execute_result"
    },
    {
     "data": {
      "image/png": "[encoded data removed]",
      "text/plain": [
       "<Figure size 432x288 with 1 Axes>"
      ]
     },
     "metadata": {
      "needs_background": "light"
     },
     "output_type": "display_data"
    }
   ],
   "source": [
    "users_amount_sum_df['monetary'].value_counts()\\\n",
    "    .sort_index()\\\n",
    "    .plot(kind='bar')"
   ]
  },
  {
   "cell_type": "markdown",
   "metadata": {},
   "source": [
    "# Вопрос 3. Отдел трафика\n",
    "\n",
    "За каждого пользователя, который совершил платеж на проекте, мы платим рекламной сети. Какую сумму мы можем себе позволить платить за каждого привлеченного пользователя, если учесть, что горизонт окупаемости должен быть не больше 1 месяца?"
   ]
  },
  {
   "cell_type": "code",
   "execution_count": 23,
   "metadata": {},
   "outputs": [],
   "source": [
    "successful_transactions['date'] = pd.to_datetime(successful_transactions['date'])"
   ]
  },
  {
   "cell_type": "code",
   "execution_count": 24,
   "metadata": {},
   "outputs": [],
   "source": [
    "successful_transactions['y_m'] = successful_transactions['date'].dt.strftime('%Y-%m')"
   ]
  },
  {
   "cell_type": "code",
   "execution_count": 25,
   "metadata": {},
   "outputs": [
    {
     "data": {
      "text/html": [
       "<div>\n",
       "<style scoped>\n",
       "    .dataframe tbody tr th:only-of-type {\n",
       "        vertical-align: middle;\n",
       "    }\n",
       "\n",
       "    .dataframe tbody tr th {\n",
       "        vertical-align: top;\n",
       "    }\n",
       "\n",
       "    .dataframe thead th {\n",
       "        text-align: right;\n",
       "    }\n",
       "</style>\n",
       "<table border=\"1\" class=\"dataframe\">\n",
       "  <thead>\n",
       "    <tr style=\"text-align: right;\">\n",
       "      <th></th>\n",
       "      <th>y_m</th>\n",
       "      <th>month_amount</th>\n",
       "    </tr>\n",
       "  </thead>\n",
       "  <tbody>\n",
       "    <tr>\n",
       "      <th>0</th>\n",
       "      <td>2001-10</td>\n",
       "      <td>1777.0</td>\n",
       "    </tr>\n",
       "    <tr>\n",
       "      <th>1</th>\n",
       "      <td>2001-11</td>\n",
       "      <td>3336.0</td>\n",
       "    </tr>\n",
       "    <tr>\n",
       "      <th>2</th>\n",
       "      <td>2001-12</td>\n",
       "      <td>4172.0</td>\n",
       "    </tr>\n",
       "    <tr>\n",
       "      <th>3</th>\n",
       "      <td>2002-01</td>\n",
       "      <td>1084.0</td>\n",
       "    </tr>\n",
       "    <tr>\n",
       "      <th>4</th>\n",
       "      <td>2002-02</td>\n",
       "      <td>426.0</td>\n",
       "    </tr>\n",
       "    <tr>\n",
       "      <th>5</th>\n",
       "      <td>2002-03</td>\n",
       "      <td>50.0</td>\n",
       "    </tr>\n",
       "    <tr>\n",
       "      <th>6</th>\n",
       "      <td>2002-04</td>\n",
       "      <td>828.0</td>\n",
       "    </tr>\n",
       "    <tr>\n",
       "      <th>7</th>\n",
       "      <td>2002-05</td>\n",
       "      <td>348.0</td>\n",
       "    </tr>\n",
       "    <tr>\n",
       "      <th>8</th>\n",
       "      <td>2002-06</td>\n",
       "      <td>905.0</td>\n",
       "    </tr>\n",
       "    <tr>\n",
       "      <th>9</th>\n",
       "      <td>2002-07</td>\n",
       "      <td>350.0</td>\n",
       "    </tr>\n",
       "    <tr>\n",
       "      <th>10</th>\n",
       "      <td>2002-08</td>\n",
       "      <td>50.0</td>\n",
       "    </tr>\n",
       "    <tr>\n",
       "      <th>11</th>\n",
       "      <td>2002-09</td>\n",
       "      <td>229.0</td>\n",
       "    </tr>\n",
       "    <tr>\n",
       "      <th>12</th>\n",
       "      <td>2002-10</td>\n",
       "      <td>75.0</td>\n",
       "    </tr>\n",
       "    <tr>\n",
       "      <th>13</th>\n",
       "      <td>2021-09</td>\n",
       "      <td>110.0</td>\n",
       "    </tr>\n",
       "    <tr>\n",
       "      <th>14</th>\n",
       "      <td>2021-10</td>\n",
       "      <td>1256.0</td>\n",
       "    </tr>\n",
       "    <tr>\n",
       "      <th>15</th>\n",
       "      <td>2021-11</td>\n",
       "      <td>8385.0</td>\n",
       "    </tr>\n",
       "    <tr>\n",
       "      <th>16</th>\n",
       "      <td>2021-12</td>\n",
       "      <td>13062.0</td>\n",
       "    </tr>\n",
       "    <tr>\n",
       "      <th>17</th>\n",
       "      <td>2022-01</td>\n",
       "      <td>18613.0</td>\n",
       "    </tr>\n",
       "    <tr>\n",
       "      <th>18</th>\n",
       "      <td>2022-02</td>\n",
       "      <td>17167.0</td>\n",
       "    </tr>\n",
       "    <tr>\n",
       "      <th>19</th>\n",
       "      <td>2022-03</td>\n",
       "      <td>17368.0</td>\n",
       "    </tr>\n",
       "    <tr>\n",
       "      <th>20</th>\n",
       "      <td>2022-04</td>\n",
       "      <td>17299.0</td>\n",
       "    </tr>\n",
       "    <tr>\n",
       "      <th>21</th>\n",
       "      <td>2022-05</td>\n",
       "      <td>18733.0</td>\n",
       "    </tr>\n",
       "    <tr>\n",
       "      <th>22</th>\n",
       "      <td>2022-06</td>\n",
       "      <td>22572.0</td>\n",
       "    </tr>\n",
       "    <tr>\n",
       "      <th>23</th>\n",
       "      <td>2022-07</td>\n",
       "      <td>20553.0</td>\n",
       "    </tr>\n",
       "    <tr>\n",
       "      <th>24</th>\n",
       "      <td>2022-08</td>\n",
       "      <td>16281.0</td>\n",
       "    </tr>\n",
       "    <tr>\n",
       "      <th>25</th>\n",
       "      <td>2022-09</td>\n",
       "      <td>12295.0</td>\n",
       "    </tr>\n",
       "    <tr>\n",
       "      <th>26</th>\n",
       "      <td>2022-10</td>\n",
       "      <td>9264.0</td>\n",
       "    </tr>\n",
       "    <tr>\n",
       "      <th>27</th>\n",
       "      <td>2022-11</td>\n",
       "      <td>5188.0</td>\n",
       "    </tr>\n",
       "    <tr>\n",
       "      <th>28</th>\n",
       "      <td>2022-12</td>\n",
       "      <td>314.0</td>\n",
       "    </tr>\n",
       "  </tbody>\n",
       "</table>\n",
       "</div>"
      ],
      "text/plain": [
       "        y_m  month_amount\n",
       "0   2001-10        1777.0\n",
       "1   2001-11        3336.0\n",
       "2   2001-12        4172.0\n",
       "3   2002-01        1084.0\n",
       "4   2002-02         426.0\n",
       "5   2002-03          50.0\n",
       "6   2002-04         828.0\n",
       "7   2002-05         348.0\n",
       "8   2002-06         905.0\n",
       "9   2002-07         350.0\n",
       "10  2002-08          50.0\n",
       "11  2002-09         229.0\n",
       "12  2002-10          75.0\n",
       "13  2021-09         110.0\n",
       "14  2021-10        1256.0\n",
       "15  2021-11        8385.0\n",
       "16  2021-12       13062.0\n",
       "17  2022-01       18613.0\n",
       "18  2022-02       17167.0\n",
       "19  2022-03       17368.0\n",
       "20  2022-04       17299.0\n",
       "21  2022-05       18733.0\n",
       "22  2022-06       22572.0\n",
       "23  2022-07       20553.0\n",
       "24  2022-08       16281.0\n",
       "25  2022-09       12295.0\n",
       "26  2022-10        9264.0\n",
       "27  2022-11        5188.0\n",
       "28  2022-12         314.0"
      ]
     },
     "execution_count": 25,
     "metadata": {},
     "output_type": "execute_result"
    }
   ],
   "source": [
    "successful_transactions.groupby('y_m', as_index=False)\\\n",
    "    .agg(month_amount=('amount', 'sum'))"
   ]
  },
  {
   "cell_type": "markdown",
   "metadata": {},
   "source": [
    "В данных чётко видно разделение на два периода, при этом показатели по суммарным транзакциям за месяц сильно отличаются. При расчёте окупаемости будем принимать второй период: от 2021 года, так как более ранние данные, скорее всего, внесут ошибку"
   ]
  },
  {
   "cell_type": "code",
   "execution_count": 26,
   "metadata": {},
   "outputs": [],
   "source": [
    "marketing_df = successful_transactions.query(\"date >= '2022-01-09'\")"
   ]
  },
  {
   "cell_type": "code",
   "execution_count": 27,
   "metadata": {},
   "outputs": [
    {
     "name": "stdout",
     "output_type": "stream",
     "text": [
      "14288.75\n"
     ]
    }
   ],
   "source": [
    "mean_month_sum = marketing_df.groupby('y_m', as_index=False)\\\n",
    "    .agg(month_amount=('amount', 'sum'))\\\n",
    "    ['month_amount'].mean()\n",
    "    \n",
    "print(mean_month_sum)"
   ]
  },
  {
   "cell_type": "markdown",
   "metadata": {},
   "source": [
    "Для расчёта окупаемости трафика возпользуемся метрикой ROIS\n",
    "\n",
    "$$ROIS = \\frac{ценность \\ конверсии} {затраты \\ на \\ рекламу} * 100\\%$$\n",
    "\n",
    "Для точки безубыточности ROIS должен быть равен 1, то есть за каждый вложенный в рекламу рубль компания получает 1 рубль прибыли.\n",
    "\n",
    "Стоит учитывать, что данная метрика не учитывает издержки при продаже товара/оказании услуги. Издержки в данном задании неизвестны, потому \n",
    "\n",
    "для расчёта примем их равными 0.\n",
    "\n",
    "Если учтём, что ценность конверсии = прибыль за месяц, то для точки безубыточности мы можем тратить не более $14288.75$ у.е.\n",
    "\n",
    "Для расчёта расходов на клиента воспользуемся метрикой CAC\n",
    "\n",
    "$$CAC = \\frac {расходы \\ на \\ маркетинг} {количество \\ привлечённых \\ клиентов}$$"
   ]
  },
  {
   "cell_type": "code",
   "execution_count": 28,
   "metadata": {},
   "outputs": [],
   "source": [
    "# среднее кол-во привлечённых юзеров за месяц \n",
    "\n",
    "acquisition_mean = ceil(marketing_df.groupby('user_id', as_index=False)\\\n",
    "    ['y_m']\\\n",
    "    .min()\\\n",
    "    .groupby('y_m', as_index=False)\\\n",
    "    ['user_id']\\\n",
    "    .nunique()\\\n",
    "    ['user_id'].mean())"
   ]
  },
  {
   "cell_type": "code",
   "execution_count": 29,
   "metadata": {},
   "outputs": [
    {
     "name": "stdout",
     "output_type": "stream",
     "text": [
      "386.18243243243245\n"
     ]
    }
   ],
   "source": [
    "CAC = mean_month_sum / acquisition_mean\n",
    "\n",
    "print(CAC)"
   ]
  },
  {
   "cell_type": "markdown",
   "metadata": {},
   "source": [
    "## Итоги\n",
    "\n",
    "По имеющимся данным, для точки безубыточности компания не может тратить на привлечение одного юзера более $386.18$ уе"
   ]
  },
  {
   "cell_type": "code",
   "execution_count": 5,
   "metadata": {},
   "outputs": [],
   "source": [
    "users_q = '''\n",
    "        select campaign_id,\n",
    "            uid,\n",
    "            sum(created_sum) as deps_sum\n",
    "        from vc_campaign_user_executions      as vcue\n",
    "                join vc_billing_transactions as vcbt on vcbt.user_id = vcue.uid and\n",
    "                                                        (process_data -> 'context' ->> 'transactionId')::int = vcbt.id\n",
    "            and vcbt.status = 'payed'\n",
    "        where campaign_id in (2382, 2502)\n",
    "        group by 1, 2\n",
    "            '''\n",
    "            \n",
    "users_df = pd.io.sql.read_sql(users_q, cs)"
   ]
  },
  {
   "cell_type": "code",
   "execution_count": 12,
   "metadata": {},
   "outputs": [],
   "source": [
    "test_data = users_df.query('campaign_id == 2382')"
   ]
  },
  {
   "cell_type": "code",
   "execution_count": 14,
   "metadata": {},
   "outputs": [
    {
     "data": {
      "text/html": [
       "<div>\n",
       "<style scoped>\n",
       "    .dataframe tbody tr th:only-of-type {\n",
       "        vertical-align: middle;\n",
       "    }\n",
       "\n",
       "    .dataframe tbody tr th {\n",
       "        vertical-align: top;\n",
       "    }\n",
       "\n",
       "    .dataframe thead th {\n",
       "        text-align: right;\n",
       "    }\n",
       "</style>\n",
       "<table border=\"1\" class=\"dataframe\">\n",
       "  <thead>\n",
       "    <tr style=\"text-align: right;\">\n",
       "      <th></th>\n",
       "      <th>campaign_id</th>\n",
       "      <th>uid</th>\n",
       "      <th>deps_sum</th>\n",
       "    </tr>\n",
       "  </thead>\n",
       "  <tbody>\n",
       "    <tr>\n",
       "      <th>0</th>\n",
       "      <td>2382</td>\n",
       "      <td>8078671</td>\n",
       "      <td>95.0</td>\n",
       "    </tr>\n",
       "    <tr>\n",
       "      <th>1</th>\n",
       "      <td>2382</td>\n",
       "      <td>8111636</td>\n",
       "      <td>400.0</td>\n",
       "    </tr>\n",
       "    <tr>\n",
       "      <th>2</th>\n",
       "      <td>2382</td>\n",
       "      <td>8132595</td>\n",
       "      <td>100.0</td>\n",
       "    </tr>\n",
       "    <tr>\n",
       "      <th>3</th>\n",
       "      <td>2382</td>\n",
       "      <td>8156792</td>\n",
       "      <td>50.0</td>\n",
       "    </tr>\n",
       "    <tr>\n",
       "      <th>4</th>\n",
       "      <td>2382</td>\n",
       "      <td>8193072</td>\n",
       "      <td>340.0</td>\n",
       "    </tr>\n",
       "  </tbody>\n",
       "</table>\n",
       "</div>"
      ],
      "text/plain": [
       "   campaign_id      uid  deps_sum\n",
       "0         2382  8078671      95.0\n",
       "1         2382  8111636     400.0\n",
       "2         2382  8132595     100.0\n",
       "3         2382  8156792      50.0\n",
       "4         2382  8193072     340.0"
      ]
     },
     "execution_count": 14,
     "metadata": {},
     "output_type": "execute_result"
    }
   ],
   "source": [
    "test_data.head()"
   ]
  },
  {
   "cell_type": "code",
   "execution_count": 20,
   "metadata": {},
   "outputs": [],
   "source": [
    "def aa_test(group_a, group_b, test_num=10000, users_num=500):\n",
    "    '''\n",
    "    Проверка корректности сплитования с помощью многократного проведения t-теста.\n",
    "\n",
    "    :param test_num: кол-во тестов\n",
    "    :param users_num: кол-во юзеров в каждом тесте\n",
    "    :param group_a: группа 1\n",
    "    :param group_b: группа 2\n",
    "    :return: ДФ с результатами теста, процент ложноположительного срабатывания\n",
    "    '''\n",
    "\n",
    "    # создание ДФ с результатами тестов\n",
    "    index = 0\n",
    "    res_df = pd.DataFrame(columns=['t_stat', 'p_value'])\n",
    "\n",
    "    # цикл проведения тестов\n",
    "    for _ in tqdm(range(test_num)):\n",
    "\n",
    "        test_res = {'t_stat': ttest_ind(group_a.sample(users_num, replace=True),\n",
    "                                        group_b.sample(users_num, replace=True),\n",
    "                                        equal_var=False)[0],\n",
    "                    'p_value': ttest_ind(group_a.sample(users_num, replace=True),\n",
    "                                         group_b.sample(users_num, replace=True),\n",
    "                                         equal_var=False)[1]}\n",
    "        res_df = res_df.append(pd.DataFrame(data=test_res,\n",
    "                                            index=[index]))\n",
    "        index += 1\n",
    "\n",
    "    fpr = sum(res_df.p_value <= 0.05) / res_df.shape[0]\n",
    "\n",
    "    return res_df, fpr"
   ]
  }
 ],
 "metadata": {
  "kernelspec": {
   "display_name": "standart_venv",
   "language": "python",
   "name": "python3"
  },
  "language_info": {
   "codemirror_mode": {
    "name": "ipython",
    "version": 3
   },
   "file_extension": ".py",
   "mimetype": "text/x-python",
   "name": "python",
   "nbconvert_exporter": "python",
   "pygments_lexer": "ipython3",
   "version": "3.10.8"
  },
  "orig_nbformat": 4,
  "vscode": {
   "interpreter": {
    "hash": "c57b58d0ca7def04f2ce30c1e3385a8f808fc9ae01ee7ba27c2e6ad732480a5f"
   }
  }
 },
 "nbformat": 4,
 "nbformat_minor": 2
}
