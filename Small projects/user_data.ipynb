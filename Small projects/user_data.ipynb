{
 "cells": [
  {
   "cell_type": "code",
   "execution_count": 2,
   "metadata": {
    "pycharm": {
     "name": "#%%\n"
    }
   },
   "outputs": [],
   "source": [
    "import pandas as pd\n",
    "import seaborn as sns\n",
    "import matplotlib.pyplot as plt\n",
    "import requests\n",
    "from urllib.parse import urlencode"
   ]
  },
  {
   "cell_type": "code",
   "execution_count": 3,
   "outputs": [],
   "source": [
    "# Чтение данных из облака\n",
    "def download_link(public_key):\n",
    "\n",
    "    base_url = 'https://cloud-api.yandex.net/v1/disk/public/resources/download?'\n",
    "    final_url = base_url + urlencode(dict(public_key=public_key))\n",
    "    response = requests.get(final_url)\n",
    "    download_url = response.json()['href']\n",
    "    return download_url"
   ],
   "metadata": {
    "collapsed": false,
    "pycharm": {
     "name": "#%%\n"
    }
   }
  },
  {
   "cell_type": "code",
   "execution_count": 4,
   "metadata": {
    "pycharm": {
     "name": "#%%\n"
    }
   },
   "outputs": [],
   "source": [
    "user_data = pd.read_csv(download_link('https://disk.yandex.ru/d/W9c3IWXItRzNkw'))\n",
    "logs = pd.read_csv(download_link('https://disk.yandex.ru/d/jAB5Ho5fljqKuw'))"
   ]
  },
  {
   "cell_type": "code",
   "execution_count": 5,
   "metadata": {
    "pycharm": {
     "name": "#%%\n"
    }
   },
   "outputs": [
    {
     "data": {
      "text/plain": "client     0\npremium    0\nage        0\ndtype: int64"
     },
     "execution_count": 5,
     "metadata": {},
     "output_type": "execute_result"
    }
   ],
   "source": [
    "user_data.isnull().sum()"
   ]
  },
  {
   "cell_type": "code",
   "execution_count": 6,
   "metadata": {
    "pycharm": {
     "name": "#%%\n"
    }
   },
   "outputs": [
    {
     "data": {
      "text/plain": "client      0\nsuccess     0\nplatform    0\ntime        0\ndtype: int64"
     },
     "execution_count": 6,
     "metadata": {},
     "output_type": "execute_result"
    }
   ],
   "source": [
    "logs.isnull().sum()"
   ]
  },
  {
   "cell_type": "markdown",
   "metadata": {
    "pycharm": {
     "name": "#%% md\n"
    }
   },
   "source": [
    "Сколько уникальных значений принимает переменная platform?"
   ]
  },
  {
   "cell_type": "code",
   "execution_count": 7,
   "metadata": {
    "pycharm": {
     "name": "#%%\n"
    }
   },
   "outputs": [
    {
     "data": {
      "text/plain": "3"
     },
     "execution_count": 7,
     "metadata": {},
     "output_type": "execute_result"
    }
   ],
   "source": [
    "logs.platform.nunique()"
   ]
  },
  {
   "cell_type": "markdown",
   "metadata": {
    "pycharm": {
     "name": "#%% md\n"
    }
   },
   "source": [
    "Какой клиент совершил больше всего успешных операций?"
   ]
  },
  {
   "cell_type": "code",
   "execution_count": 23,
   "metadata": {
    "pycharm": {
     "name": "#%%\n"
    }
   },
   "outputs": [
    {
     "data": {
      "text/plain": "      client  success_operations\n332    12179                  41\n810    28719                  41\n1020   36165                  41\n1487   52870                  41\n1758   61468                  41\n1759   61473                  41\n2231   78349                  41\n2345   82563                  41\n2626   92584                  41",
      "text/html": "<div>\n<style scoped>\n    .dataframe tbody tr th:only-of-type {\n        vertical-align: middle;\n    }\n\n    .dataframe tbody tr th {\n        vertical-align: top;\n    }\n\n    .dataframe thead th {\n        text-align: right;\n    }\n</style>\n<table border=\"1\" class=\"dataframe\">\n  <thead>\n    <tr style=\"text-align: right;\">\n      <th></th>\n      <th>client</th>\n      <th>success_operations</th>\n    </tr>\n  </thead>\n  <tbody>\n    <tr>\n      <th>332</th>\n      <td>12179</td>\n      <td>41</td>\n    </tr>\n    <tr>\n      <th>810</th>\n      <td>28719</td>\n      <td>41</td>\n    </tr>\n    <tr>\n      <th>1020</th>\n      <td>36165</td>\n      <td>41</td>\n    </tr>\n    <tr>\n      <th>1487</th>\n      <td>52870</td>\n      <td>41</td>\n    </tr>\n    <tr>\n      <th>1758</th>\n      <td>61468</td>\n      <td>41</td>\n    </tr>\n    <tr>\n      <th>1759</th>\n      <td>61473</td>\n      <td>41</td>\n    </tr>\n    <tr>\n      <th>2231</th>\n      <td>78349</td>\n      <td>41</td>\n    </tr>\n    <tr>\n      <th>2345</th>\n      <td>82563</td>\n      <td>41</td>\n    </tr>\n    <tr>\n      <th>2626</th>\n      <td>92584</td>\n      <td>41</td>\n    </tr>\n  </tbody>\n</table>\n</div>"
     },
     "execution_count": 23,
     "metadata": {},
     "output_type": "execute_result"
    }
   ],
   "source": [
    "logs.query('success == True') \\\n",
    "    .groupby('client', as_index=False) \\\n",
    "    .agg({'success': 'count'}) \\\n",
    "    .rename(columns={'success': 'success_operations'}) \\\n",
    "    .query('success_operations == 41') \\\n",
    "    .sort_values('client') "
   ]
  },
  {
   "cell_type": "markdown",
   "metadata": {
    "pycharm": {
     "name": "#%% md\n"
    }
   },
   "source": [
    "С какой платформы осуществляется наибольшее количество успешных операций?"
   ]
  },
  {
   "cell_type": "code",
   "execution_count": 24,
   "metadata": {
    "pycharm": {
     "name": "#%%\n"
    }
   },
   "outputs": [
    {
     "data": {
      "text/plain": "platform\nphone       0.611778\ncomputer    0.334444\ntablet      0.053778\ndtype: float64"
     },
     "execution_count": 24,
     "metadata": {},
     "output_type": "execute_result"
    }
   ],
   "source": [
    "logs.value_counts('platform', normalize=True)"
   ]
  },
  {
   "cell_type": "markdown",
   "metadata": {
    "pycharm": {
     "name": "#%% md\n"
    }
   },
   "source": [
    "Какая платформа наиболее популярна среди премиумных клиентов?"
   ]
  },
  {
   "cell_type": "code",
   "execution_count": 25,
   "metadata": {
    "pycharm": {
     "name": "#%%\n"
    }
   },
   "outputs": [
    {
     "data": {
      "text/plain": "   client  success  platform        time\n0   40177     True     phone  1585412212\n1   61468     True     phone  1585425658\n2   35604    False     phone  1585459894\n3    9961     True     phone  1585400189\n4   10931     True  computer  1585468629",
      "text/html": "<div>\n<style scoped>\n    .dataframe tbody tr th:only-of-type {\n        vertical-align: middle;\n    }\n\n    .dataframe tbody tr th {\n        vertical-align: top;\n    }\n\n    .dataframe thead th {\n        text-align: right;\n    }\n</style>\n<table border=\"1\" class=\"dataframe\">\n  <thead>\n    <tr style=\"text-align: right;\">\n      <th></th>\n      <th>client</th>\n      <th>success</th>\n      <th>platform</th>\n      <th>time</th>\n    </tr>\n  </thead>\n  <tbody>\n    <tr>\n      <th>0</th>\n      <td>40177</td>\n      <td>True</td>\n      <td>phone</td>\n      <td>1585412212</td>\n    </tr>\n    <tr>\n      <th>1</th>\n      <td>61468</td>\n      <td>True</td>\n      <td>phone</td>\n      <td>1585425658</td>\n    </tr>\n    <tr>\n      <th>2</th>\n      <td>35604</td>\n      <td>False</td>\n      <td>phone</td>\n      <td>1585459894</td>\n    </tr>\n    <tr>\n      <th>3</th>\n      <td>9961</td>\n      <td>True</td>\n      <td>phone</td>\n      <td>1585400189</td>\n    </tr>\n    <tr>\n      <th>4</th>\n      <td>10931</td>\n      <td>True</td>\n      <td>computer</td>\n      <td>1585468629</td>\n    </tr>\n  </tbody>\n</table>\n</div>"
     },
     "execution_count": 25,
     "metadata": {},
     "output_type": "execute_result"
    }
   ],
   "source": [
    "logs.head()"
   ]
  },
  {
   "cell_type": "code",
   "execution_count": 26,
   "metadata": {
    "pycharm": {
     "name": "#%%\n"
    }
   },
   "outputs": [
    {
     "data": {
      "text/plain": "platform\nphone    246\ndtype: int64"
     },
     "execution_count": 26,
     "metadata": {},
     "output_type": "execute_result"
    }
   ],
   "source": [
    "user_data.merge(logs, how='inner', on='client') \\\n",
    "    .query('premium == True') \\\n",
    "    .value_counts('platform') \\\n",
    "    .head(1)"
   ]
  },
  {
   "cell_type": "code",
   "execution_count": 27,
   "metadata": {
    "pycharm": {
     "name": "#%%\n"
    }
   },
   "outputs": [],
   "source": [
    "merged_df = user_data.merge(logs, on='client')"
   ]
  },
  {
   "cell_type": "code",
   "execution_count": 28,
   "metadata": {
    "pycharm": {
     "name": "#%%\n"
    }
   },
   "outputs": [
    {
     "data": {
      "text/plain": "   client  premium  age  success  platform        time\n0   46346    False   58     True     phone  1585452839\n1    4391    False   55    False     phone  1585409861\n2   27372    False   64    False     phone  1585446018\n3   11989    False   44     True  computer  1585403698\n4   60664    False   49     True     phone  1585406918",
      "text/html": "<div>\n<style scoped>\n    .dataframe tbody tr th:only-of-type {\n        vertical-align: middle;\n    }\n\n    .dataframe tbody tr th {\n        vertical-align: top;\n    }\n\n    .dataframe thead th {\n        text-align: right;\n    }\n</style>\n<table border=\"1\" class=\"dataframe\">\n  <thead>\n    <tr style=\"text-align: right;\">\n      <th></th>\n      <th>client</th>\n      <th>premium</th>\n      <th>age</th>\n      <th>success</th>\n      <th>platform</th>\n      <th>time</th>\n    </tr>\n  </thead>\n  <tbody>\n    <tr>\n      <th>0</th>\n      <td>46346</td>\n      <td>False</td>\n      <td>58</td>\n      <td>True</td>\n      <td>phone</td>\n      <td>1585452839</td>\n    </tr>\n    <tr>\n      <th>1</th>\n      <td>4391</td>\n      <td>False</td>\n      <td>55</td>\n      <td>False</td>\n      <td>phone</td>\n      <td>1585409861</td>\n    </tr>\n    <tr>\n      <th>2</th>\n      <td>27372</td>\n      <td>False</td>\n      <td>64</td>\n      <td>False</td>\n      <td>phone</td>\n      <td>1585446018</td>\n    </tr>\n    <tr>\n      <th>3</th>\n      <td>11989</td>\n      <td>False</td>\n      <td>44</td>\n      <td>True</td>\n      <td>computer</td>\n      <td>1585403698</td>\n    </tr>\n    <tr>\n      <th>4</th>\n      <td>60664</td>\n      <td>False</td>\n      <td>49</td>\n      <td>True</td>\n      <td>phone</td>\n      <td>1585406918</td>\n    </tr>\n  </tbody>\n</table>\n</div>"
     },
     "execution_count": 28,
     "metadata": {},
     "output_type": "execute_result"
    }
   ],
   "source": [
    "merged_df.head()"
   ]
  },
  {
   "cell_type": "code",
   "execution_count": 29,
   "metadata": {
    "pycharm": {
     "name": "#%%\n"
    }
   },
   "outputs": [],
   "source": [
    "merged_df_premium = merged_df.query('premium == True')"
   ]
  },
  {
   "cell_type": "code",
   "execution_count": 30,
   "metadata": {
    "pycharm": {
     "name": "#%%\n"
    }
   },
   "outputs": [],
   "source": [
    "merged_df_usual = merged_df.query('premium == False')"
   ]
  },
  {
   "cell_type": "code",
   "execution_count": 31,
   "metadata": {
    "pycharm": {
     "name": "#%%\n"
    }
   },
   "outputs": [
    {
     "name": "stderr",
     "output_type": "stream",
     "text": [
      "/opt/anaconda3/lib/python3.9/site-packages/seaborn/distributions.py:2619: FutureWarning: `distplot` is a deprecated function and will be removed in a future version. Please adapt your code to use either `displot` (a figure-level function with similar flexibility) or `histplot` (an axes-level function for histograms).\n",
      "  warnings.warn(msg, FutureWarning)\n",
      "/opt/anaconda3/lib/python3.9/site-packages/seaborn/distributions.py:2619: FutureWarning: `distplot` is a deprecated function and will be removed in a future version. Please adapt your code to use either `displot` (a figure-level function with similar flexibility) or `histplot` (an axes-level function for histograms).\n",
      "  warnings.warn(msg, FutureWarning)\n"
     ]
    },
    {
     "data": {
      "text/plain": "<AxesSubplot:xlabel='age', ylabel='Density'>"
     },
     "execution_count": 31,
     "metadata": {},
     "output_type": "execute_result"
    },
    {
     "data": {
      "text/plain": "<Figure size 432x288 with 1 Axes>",
      "image/png": "[encoded data removed]"
     },
     "metadata": {},
     "output_type": "display_data"
    }
   ],
   "source": [
    "sns.distplot(merged_df_premium.age)\n",
    "sns.distplot(merged_df_usual.age)"
   ]
  },
  {
   "cell_type": "code",
   "execution_count": 32,
   "metadata": {
    "pycharm": {
     "name": "#%%\n"
    }
   },
   "outputs": [
    {
     "data": {
      "text/plain": "   client  premium  age  success  platform        time\n0   46346    False   58     True     phone  1585452839\n1    4391    False   55    False     phone  1585409861\n2   27372    False   64    False     phone  1585446018\n3   11989    False   44     True  computer  1585403698\n4   60664    False   49     True     phone  1585406918",
      "text/html": "<div>\n<style scoped>\n    .dataframe tbody tr th:only-of-type {\n        vertical-align: middle;\n    }\n\n    .dataframe tbody tr th {\n        vertical-align: top;\n    }\n\n    .dataframe thead th {\n        text-align: right;\n    }\n</style>\n<table border=\"1\" class=\"dataframe\">\n  <thead>\n    <tr style=\"text-align: right;\">\n      <th></th>\n      <th>client</th>\n      <th>premium</th>\n      <th>age</th>\n      <th>success</th>\n      <th>platform</th>\n      <th>time</th>\n    </tr>\n  </thead>\n  <tbody>\n    <tr>\n      <th>0</th>\n      <td>46346</td>\n      <td>False</td>\n      <td>58</td>\n      <td>True</td>\n      <td>phone</td>\n      <td>1585452839</td>\n    </tr>\n    <tr>\n      <th>1</th>\n      <td>4391</td>\n      <td>False</td>\n      <td>55</td>\n      <td>False</td>\n      <td>phone</td>\n      <td>1585409861</td>\n    </tr>\n    <tr>\n      <th>2</th>\n      <td>27372</td>\n      <td>False</td>\n      <td>64</td>\n      <td>False</td>\n      <td>phone</td>\n      <td>1585446018</td>\n    </tr>\n    <tr>\n      <th>3</th>\n      <td>11989</td>\n      <td>False</td>\n      <td>44</td>\n      <td>True</td>\n      <td>computer</td>\n      <td>1585403698</td>\n    </tr>\n    <tr>\n      <th>4</th>\n      <td>60664</td>\n      <td>False</td>\n      <td>49</td>\n      <td>True</td>\n      <td>phone</td>\n      <td>1585406918</td>\n    </tr>\n  </tbody>\n</table>\n</div>"
     },
     "execution_count": 32,
     "metadata": {},
     "output_type": "execute_result"
    }
   ],
   "source": [
    "merged_df.head()"
   ]
  },
  {
   "cell_type": "code",
   "execution_count": 33,
   "metadata": {
    "pycharm": {
     "name": "#%%\n"
    }
   },
   "outputs": [],
   "source": [
    "operations_df = merged_df.groupby('client', as_index=False) \\\n",
    "        .agg({'success': 'count', 'client': 'count'})"
   ]
  },
  {
   "cell_type": "code",
   "execution_count": 34,
   "metadata": {
    "pycharm": {
     "name": "#%%\n"
    }
   },
   "outputs": [
    {
     "name": "stderr",
     "output_type": "stream",
     "text": [
      "/opt/anaconda3/lib/python3.9/site-packages/seaborn/distributions.py:2619: FutureWarning: `distplot` is a deprecated function and will be removed in a future version. Please adapt your code to use either `displot` (a figure-level function with similar flexibility) or `histplot` (an axes-level function for histograms).\n",
      "  warnings.warn(msg, FutureWarning)\n"
     ]
    },
    {
     "data": {
      "text/plain": "<AxesSubplot:xlabel='success', ylabel='Density'>"
     },
     "execution_count": 34,
     "metadata": {},
     "output_type": "execute_result"
    },
    {
     "data": {
      "text/plain": "<Figure size 432x288 with 1 Axes>",
      "image/png": "[encoded data removed]"
     },
     "metadata": {},
     "output_type": "display_data"
    }
   ],
   "source": [
    "sns.distplot(operations_df.success)"
   ]
  },
  {
   "cell_type": "markdown",
   "metadata": {
    "pycharm": {
     "name": "#%% md\n"
    }
   },
   "source": [
    "Визуализируйте число успешных операций, сделанных на платформе computer, в зависимости от возраста, используя sns.countplot. По оси x – возраст, y – число успешных операций. Если размер графика получается небольшим, можно добавить plt.figure(figsize=(12, 8)) в начало соответствующей ячейки. "
   ]
  },
  {
   "cell_type": "code",
   "execution_count": 35,
   "metadata": {
    "pycharm": {
     "name": "#%%\n"
    }
   },
   "outputs": [
    {
     "data": {
      "text/plain": "    age  platform  success\n3    44  computer     True\n12   24  computer     True\n14   40  computer     True\n20   35  computer     True\n26   48  computer     True",
      "text/html": "<div>\n<style scoped>\n    .dataframe tbody tr th:only-of-type {\n        vertical-align: middle;\n    }\n\n    .dataframe tbody tr th {\n        vertical-align: top;\n    }\n\n    .dataframe thead th {\n        text-align: right;\n    }\n</style>\n<table border=\"1\" class=\"dataframe\">\n  <thead>\n    <tr style=\"text-align: right;\">\n      <th></th>\n      <th>age</th>\n      <th>platform</th>\n      <th>success</th>\n    </tr>\n  </thead>\n  <tbody>\n    <tr>\n      <th>3</th>\n      <td>44</td>\n      <td>computer</td>\n      <td>True</td>\n    </tr>\n    <tr>\n      <th>12</th>\n      <td>24</td>\n      <td>computer</td>\n      <td>True</td>\n    </tr>\n    <tr>\n      <th>14</th>\n      <td>40</td>\n      <td>computer</td>\n      <td>True</td>\n    </tr>\n    <tr>\n      <th>20</th>\n      <td>35</td>\n      <td>computer</td>\n      <td>True</td>\n    </tr>\n    <tr>\n      <th>26</th>\n      <td>48</td>\n      <td>computer</td>\n      <td>True</td>\n    </tr>\n  </tbody>\n</table>\n</div>"
     },
     "execution_count": 35,
     "metadata": {},
     "output_type": "execute_result"
    }
   ],
   "source": [
    "age_computer_df = merged_df[['age', 'platform', 'success']].query(\"platform == 'computer' and success == True\")\n",
    "age_computer_df.head()"
   ]
  },
  {
   "cell_type": "code",
   "execution_count": 41,
   "outputs": [
    {
     "data": {
      "text/plain": "<AxesSubplot:xlabel='age', ylabel='count'>"
     },
     "execution_count": 41,
     "metadata": {},
     "output_type": "execute_result"
    },
    {
     "data": {
      "text/plain": "<Figure size 1080x576 with 1 Axes>",
      "image/png": "[encoded data removed]"
     },
     "metadata": {},
     "output_type": "display_data"
    }
   ],
   "source": [
    "plt.figure(figsize=(15, 8))\n",
    "sns.countplot(x='age',\n",
    "              data=age_computer_df,\n",
    "              color='g')"
   ],
   "metadata": {
    "collapsed": false,
    "pycharm": {
     "name": "#%%\n"
    }
   }
  },
  {
   "cell_type": "code",
   "execution_count": null,
   "outputs": [],
   "source": [],
   "metadata": {
    "collapsed": false,
    "pycharm": {
     "name": "#%%\n"
    }
   }
  }
 ],
 "metadata": {
  "interpreter": {
   "hash": "40d3a090f54c6569ab1632332b64b2c03c39dcf918b08424e98f38b5ae0af88f"
  },
  "kernelspec": {
   "display_name": "Python 3.9.7 64-bit ('base': conda)",
   "language": "python",
   "name": "python3"
  },
  "language_info": {
   "codemirror_mode": {
    "name": "ipython",
    "version": 3
   },
   "file_extension": ".py",
   "mimetype": "text/x-python",
   "name": "python",
   "nbconvert_exporter": "python",
   "pygments_lexer": "ipython3",
   "version": "3.9.7"
  },
  "orig_nbformat": 4
 },
 "nbformat": 4,
 "nbformat_minor": 2
}