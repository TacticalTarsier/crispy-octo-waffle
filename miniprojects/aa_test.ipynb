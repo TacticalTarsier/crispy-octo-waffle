{
 "cells": [
  {
   "cell_type": "code",
   "execution_count": 3,
   "metadata": {
    "pycharm": {
     "name": "#%%\n"
    }
   },
   "outputs": [],
   "source": [
    "import numpy as np\n",
    "import pandas as pd\n",
    "from scipy import stats\n",
    "import matplotlib.pyplot as plt\n",
    "from tqdm.auto import tqdm\n",
    "import requests\n",
    "from urllib.parse import urlencode"
   ]
  },
  {
   "cell_type": "code",
   "execution_count": 4,
   "outputs": [],
   "source": [
    "# Чтение данных из облака\n",
    "def download_link(public_key):\n",
    "\n",
    "    base_url = 'https://cloud-api.yandex.net/v1/disk/public/resources/download?'\n",
    "    final_url = base_url + urlencode(dict(public_key=public_key))\n",
    "    response = requests.get(final_url)\n",
    "    download_url = response.json()['href']\n",
    "    return download_url"
   ],
   "metadata": {
    "collapsed": false,
    "pycharm": {
     "name": "#%%\n"
    }
   }
  },
  {
   "cell_type": "code",
   "execution_count": 5,
   "metadata": {
    "pycharm": {
     "name": "#%%\n"
    }
   },
   "outputs": [],
   "source": [
    "df = pd.read_csv(download_link('https://disk.yandex.ru/d/31XYRde1spiTHw'),\n",
    "        sep = ';', index_col=0)"
   ]
  },
  {
   "cell_type": "code",
   "execution_count": 6,
   "metadata": {
    "pycharm": {
     "name": "#%%\n"
    }
   },
   "outputs": [
    {
     "data": {
      "text/plain": "                                uid  experimentVariant version  purchase\n1  c4ca4238a0b923820dcc509a6f75849b                  1  v2.8.0         0\n2  c81e728d9d4c2f636f067f89cc14862c                  0  v2.9.0         0\n3  eccbc87e4b5ce2fe28308fd9f2a7baf3                  1  v2.9.0         0\n4  a87ff679a2f3e71d9181a67b7542122c                  1  v2.8.0         0\n5  e4da3b7fbbce2345d7772b0674a318d5                  1  v2.8.0         0",
      "text/html": "<div>\n<style scoped>\n    .dataframe tbody tr th:only-of-type {\n        vertical-align: middle;\n    }\n\n    .dataframe tbody tr th {\n        vertical-align: top;\n    }\n\n    .dataframe thead th {\n        text-align: right;\n    }\n</style>\n<table border=\"1\" class=\"dataframe\">\n  <thead>\n    <tr style=\"text-align: right;\">\n      <th></th>\n      <th>uid</th>\n      <th>experimentVariant</th>\n      <th>version</th>\n      <th>purchase</th>\n    </tr>\n  </thead>\n  <tbody>\n    <tr>\n      <th>1</th>\n      <td>c4ca4238a0b923820dcc509a6f75849b</td>\n      <td>1</td>\n      <td>v2.8.0</td>\n      <td>0</td>\n    </tr>\n    <tr>\n      <th>2</th>\n      <td>c81e728d9d4c2f636f067f89cc14862c</td>\n      <td>0</td>\n      <td>v2.9.0</td>\n      <td>0</td>\n    </tr>\n    <tr>\n      <th>3</th>\n      <td>eccbc87e4b5ce2fe28308fd9f2a7baf3</td>\n      <td>1</td>\n      <td>v2.9.0</td>\n      <td>0</td>\n    </tr>\n    <tr>\n      <th>4</th>\n      <td>a87ff679a2f3e71d9181a67b7542122c</td>\n      <td>1</td>\n      <td>v2.8.0</td>\n      <td>0</td>\n    </tr>\n    <tr>\n      <th>5</th>\n      <td>e4da3b7fbbce2345d7772b0674a318d5</td>\n      <td>1</td>\n      <td>v2.8.0</td>\n      <td>0</td>\n    </tr>\n  </tbody>\n</table>\n</div>"
     },
     "execution_count": 6,
     "metadata": {},
     "output_type": "execute_result"
    }
   ],
   "source": [
    "df.head()"
   ]
  },
  {
   "cell_type": "code",
   "execution_count": 7,
   "metadata": {
    "pycharm": {
     "name": "#%%\n"
    }
   },
   "outputs": [
    {
     "data": {
      "text/plain": "uid                  object\nexperimentVariant     int64\nversion              object\npurchase              int64\ndtype: object"
     },
     "execution_count": 7,
     "metadata": {},
     "output_type": "execute_result"
    }
   ],
   "source": [
    "df.dtypes"
   ]
  },
  {
   "cell_type": "code",
   "execution_count": 8,
   "metadata": {
    "pycharm": {
     "name": "#%%\n"
    }
   },
   "outputs": [
    {
     "data": {
      "text/plain": "  0%|          | 0/1000 [00:00<?, ?it/s]",
      "application/vnd.jupyter.widget-view+json": {
       "version_major": 2,
       "version_minor": 0,
       "model_id": "736058aa2bd145539296b5fd7d74adda"
      }
     },
     "metadata": {},
     "output_type": "display_data"
    },
    {
     "data": {
      "text/plain": "<Figure size 432x288 with 1 Axes>",
      "image/png": "[encoded data removed]"
     },
     "metadata": {},
     "output_type": "display_data"
    },
    {
     "name": "stdout",
     "output_type": "stream",
     "text": [
      "FPR = 0.925\n"
     ]
    }
   ],
   "source": [
    "n = 100000\n",
    "simulations = 1000\n",
    "n_s = 1000\n",
    "res = []\n",
    "\n",
    "# Запуск симуляций A/A теста\n",
    "\n",
    "for i in tqdm(range(simulations)):\n",
    "    s1 = df.query('experimentVariant == 1').purchase.sample(n_s, replace = False).values\n",
    "    s0 = df.query('experimentVariant == 0').purchase.sample(n_s, replace = False).values\n",
    "    res.append(stats.ttest_ind(s1, s0, equal_var = False)[1]) # сохраняем pvalue\n",
    "\n",
    "plt.hist(res, bins = 50)\n",
    "plt.style.use('ggplot')\n",
    "plt.xlabel('pvalues')\n",
    "plt.ylabel('frequency')\n",
    "plt.title(\"Histogram of ttest A/A simulations \")\n",
    "plt.show()\n",
    "\n",
    "# Проверяем, что количество ложноположительных случаев не превышает альфа\n",
    "FPR = sum(np.array(res) < 0.05) / simulations\n",
    "print(f'FPR = {FPR}')"
   ]
  },
  {
   "cell_type": "code",
   "execution_count": 9,
   "metadata": {
    "pycharm": {
     "name": "#%%\n"
    }
   },
   "outputs": [
    {
     "data": {
      "text/plain": "array(['v2.8.0', 'v2.9.0', 'v3.7.4.0', 'v3.8.0.0'], dtype=object)"
     },
     "execution_count": 9,
     "metadata": {},
     "output_type": "execute_result"
    }
   ],
   "source": [
    "df.version.unique()"
   ]
  },
  {
   "cell_type": "code",
   "execution_count": 10,
   "metadata": {
    "pycharm": {
     "name": "#%%\n"
    }
   },
   "outputs": [
    {
     "data": {
      "text/plain": "    version  experimentVariant  purchase\n0    v2.8.0           0.501624  0.023372\n1    v2.9.0           0.502338  0.072973\n2  v3.7.4.0           0.501009  0.061484\n3  v3.8.0.0           0.517621  0.060319",
      "text/html": "<div>\n<style scoped>\n    .dataframe tbody tr th:only-of-type {\n        vertical-align: middle;\n    }\n\n    .dataframe tbody tr th {\n        vertical-align: top;\n    }\n\n    .dataframe thead th {\n        text-align: right;\n    }\n</style>\n<table border=\"1\" class=\"dataframe\">\n  <thead>\n    <tr style=\"text-align: right;\">\n      <th></th>\n      <th>version</th>\n      <th>experimentVariant</th>\n      <th>purchase</th>\n    </tr>\n  </thead>\n  <tbody>\n    <tr>\n      <th>0</th>\n      <td>v2.8.0</td>\n      <td>0.501624</td>\n      <td>0.023372</td>\n    </tr>\n    <tr>\n      <th>1</th>\n      <td>v2.9.0</td>\n      <td>0.502338</td>\n      <td>0.072973</td>\n    </tr>\n    <tr>\n      <th>2</th>\n      <td>v3.7.4.0</td>\n      <td>0.501009</td>\n      <td>0.061484</td>\n    </tr>\n    <tr>\n      <th>3</th>\n      <td>v3.8.0.0</td>\n      <td>0.517621</td>\n      <td>0.060319</td>\n    </tr>\n  </tbody>\n</table>\n</div>"
     },
     "execution_count": 10,
     "metadata": {},
     "output_type": "execute_result"
    }
   ],
   "source": [
    "df.groupby('version', as_index=False)\\\n",
    "    .mean()"
   ]
  },
  {
   "cell_type": "markdown",
   "metadata": {
    "pycharm": {
     "name": "#%% md\n"
    }
   },
   "source": [
    "Конверсия версии V2.8.0 сильно отличается от конверсий остальных приложений. Вероятно, проблема в этом"
   ]
  },
  {
   "cell_type": "code",
   "execution_count": 11,
   "metadata": {
    "pycharm": {
     "name": "#%%\n"
    }
   },
   "outputs": [
    {
     "data": {
      "text/plain": "  0%|          | 0/1000 [00:00<?, ?it/s]",
      "application/vnd.jupyter.widget-view+json": {
       "version_major": 2,
       "version_minor": 0,
       "model_id": "0ae406ccd6334caba19e23f7578c0619"
      }
     },
     "metadata": {},
     "output_type": "display_data"
    },
    {
     "data": {
      "text/plain": "<Figure size 432x288 with 1 Axes>",
      "image/png": "[encoded data removed]"
     },
     "metadata": {},
     "output_type": "display_data"
    },
    {
     "name": "stdout",
     "output_type": "stream",
     "text": [
      "FPR = 1.0\n",
      "6.2623698797723645e-12\n"
     ]
    }
   ],
   "source": [
    "res = []\n",
    "\n",
    "for i in tqdm(range(simulations)):\n",
    "    s1 = df.query(\"experimentVariant == 1 & version == 'v2.8.0'\").purchase.sample(n_s, replace = False).values\n",
    "    s0 = df.query(\"experimentVariant == 0 & version == 'v2.8.0'\").purchase.sample(n_s, replace = False).values\n",
    "    res.append(stats.ttest_ind(s1, s0, equal_var = False)[1]) # сохраняем pvalue\n",
    "\n",
    "plt.hist(res, bins = 50)\n",
    "plt.style.use('ggplot')\n",
    "plt.xlabel('pvalues')\n",
    "plt.ylabel('frequency')\n",
    "plt.title(\"Histogram of ttest A/A simulations \")\n",
    "plt.show()\n",
    "\n",
    "# Проверяем, что количество ложноположительных случаев не превышает альфа\n",
    "FPR = sum(np.array(res) < 0.05) / simulations\n",
    "print(f'FPR = {FPR}')\n",
    "print(res[0])"
   ]
  },
  {
   "cell_type": "code",
   "execution_count": 12,
   "metadata": {
    "pycharm": {
     "name": "#%%\n"
    }
   },
   "outputs": [
    {
     "data": {
      "text/plain": "  0%|          | 0/1000 [00:00<?, ?it/s]",
      "application/vnd.jupyter.widget-view+json": {
       "version_major": 2,
       "version_minor": 0,
       "model_id": "5aaef917902d4d7b9660aa4fbbaa9e36"
      }
     },
     "metadata": {},
     "output_type": "display_data"
    },
    {
     "data": {
      "text/plain": "<Figure size 432x288 with 1 Axes>",
      "image/png": "[encoded data removed]"
     },
     "metadata": {},
     "output_type": "display_data"
    },
    {
     "name": "stdout",
     "output_type": "stream",
     "text": [
      "FPR = 0.048\n",
      "0.39027647382424435\n"
     ]
    }
   ],
   "source": [
    "res = []\n",
    "\n",
    "for i in tqdm(range(simulations)):\n",
    "    s1 = df.query(\"experimentVariant == 1 & version == 'v2.9.0'\").purchase.sample(n_s, replace = False).values\n",
    "    s0 = df.query(\"experimentVariant == 0 & version == 'v2.9.0'\").purchase.sample(n_s, replace = False).values\n",
    "    res.append(stats.ttest_ind(s1, s0, equal_var = False)[1]) # сохраняем pvalue\n",
    "\n",
    "plt.hist(res, bins = 50)\n",
    "plt.style.use('ggplot')\n",
    "plt.xlabel('pvalues')\n",
    "plt.ylabel('frequency')\n",
    "plt.title(\"Histogram of ttest A/A simulations \")\n",
    "plt.show()\n",
    "\n",
    "# Проверяем, что количество ложноположительных случаев не превышает альфа\n",
    "FPR = sum(np.array(res) < 0.05) / simulations\n",
    "print(f'FPR = {FPR}')\n",
    "print(res[0])"
   ]
  },
  {
   "cell_type": "code",
   "execution_count": 13,
   "metadata": {
    "pycharm": {
     "name": "#%%\n"
    }
   },
   "outputs": [
    {
     "data": {
      "text/plain": "  0%|          | 0/1000 [00:00<?, ?it/s]",
      "application/vnd.jupyter.widget-view+json": {
       "version_major": 2,
       "version_minor": 0,
       "model_id": "1569db5b5db94a49a534b3161d05406d"
      }
     },
     "metadata": {},
     "output_type": "display_data"
    },
    {
     "data": {
      "text/plain": "<Figure size 432x288 with 1 Axes>",
      "image/png": "[encoded data removed]"
     },
     "metadata": {},
     "output_type": "display_data"
    },
    {
     "name": "stdout",
     "output_type": "stream",
     "text": [
      "FPR = 0.036\n",
      "0.3540567310273762\n"
     ]
    }
   ],
   "source": [
    "res = []\n",
    "\n",
    "for i in tqdm(range(simulations)):\n",
    "    s1 = df.query(\"experimentVariant == 1 & version == 'v3.7.4.0'\").purchase.sample(n_s, replace = False).values\n",
    "    s0 = df.query(\"experimentVariant == 0 & version == 'v3.7.4.0'\").purchase.sample(n_s, replace = False).values\n",
    "    res.append(stats.ttest_ind(s1, s0, equal_var = False)[1]) # сохраняем pvalue\n",
    "\n",
    "plt.hist(res, bins = 50)\n",
    "plt.style.use('ggplot')\n",
    "plt.xlabel('pvalues')\n",
    "plt.ylabel('frequency')\n",
    "plt.title(\"Histogram of ttest A/A simulations \")\n",
    "plt.show()\n",
    "\n",
    "# Проверяем, что количество ложноположительных случаев не превышает альфа\n",
    "FPR = sum(np.array(res) < 0.05) / simulations\n",
    "print(f'FPR = {FPR}')\n",
    "print(res[0])"
   ]
  },
  {
   "cell_type": "code",
   "execution_count": 14,
   "metadata": {
    "pycharm": {
     "name": "#%%\n"
    }
   },
   "outputs": [
    {
     "data": {
      "text/plain": "  0%|          | 0/1000 [00:00<?, ?it/s]",
      "application/vnd.jupyter.widget-view+json": {
       "version_major": 2,
       "version_minor": 0,
       "model_id": "9c10946c915643a2af608f3d77f318d5"
      }
     },
     "metadata": {},
     "output_type": "display_data"
    },
    {
     "data": {
      "text/plain": "<Figure size 432x288 with 1 Axes>",
      "image/png": "[encoded data removed]"
     },
     "metadata": {},
     "output_type": "display_data"
    },
    {
     "name": "stdout",
     "output_type": "stream",
     "text": [
      "FPR = 0.036\n",
      "0.5662083116569944\n"
     ]
    }
   ],
   "source": [
    "res = []\n",
    "\n",
    "for i in tqdm(range(simulations)):\n",
    "    s1 = df.query(\"experimentVariant == 1 & version == 'v3.8.0.0'\").purchase.sample(n_s, replace = False).values\n",
    "    s0 = df.query(\"experimentVariant == 0 & version == 'v3.8.0.0'\").purchase.sample(n_s, replace = False).values\n",
    "    res.append(stats.ttest_ind(s1, s0, equal_var = False)[1]) # сохраняем pvalue\n",
    "\n",
    "plt.hist(res, bins = 50)\n",
    "plt.style.use('ggplot')\n",
    "plt.xlabel('pvalues')\n",
    "plt.ylabel('frequency')\n",
    "plt.title(\"Histogram of ttest A/A simulations \")\n",
    "plt.show()\n",
    "\n",
    "# Проверяем, что количество ложноположительных случаев не превышает альфа\n",
    "FRP = sum(np.array(res) < 0.05) / simulations\n",
    "print(f'FPR = {FPR}')\n",
    "print(res[0])"
   ]
  },
  {
   "cell_type": "markdown",
   "metadata": {
    "pycharm": {
     "name": "#%% md\n"
    }
   },
   "source": [
    "В вычислении p-value выявлена аномалия в выборке версии v2.8.0"
   ]
  },
  {
   "cell_type": "code",
   "execution_count": 15,
   "metadata": {
    "pycharm": {
     "name": "#%%\n"
    }
   },
   "outputs": [
    {
     "data": {
      "text/plain": "  0%|          | 0/1000 [00:00<?, ?it/s]",
      "application/vnd.jupyter.widget-view+json": {
       "version_major": 2,
       "version_minor": 0,
       "model_id": "5e2c62fe0818474aa09248ebde82a171"
      }
     },
     "metadata": {},
     "output_type": "display_data"
    },
    {
     "data": {
      "text/plain": "<Figure size 432x288 with 1 Axes>",
      "image/png": "[encoded data removed]"
     },
     "metadata": {},
     "output_type": "display_data"
    },
    {
     "name": "stdout",
     "output_type": "stream",
     "text": [
      "FPR = 0.036\n"
     ]
    }
   ],
   "source": [
    "res = []\n",
    "\n",
    "for i in tqdm(range(simulations)):\n",
    "    s1 = df.query(\"experimentVariant == 1 & version != 'v2.8.0'\").purchase.sample(n_s, replace = False).values\n",
    "    s0 = df.query(\"experimentVariant == 0 & version != 'v2.8.0'\").purchase.sample(n_s, replace = False).values\n",
    "    res.append(stats.ttest_ind(s1, s0, equal_var = False)[1]) # сохраняем pvalue\n",
    "\n",
    "plt.hist(res, bins = 50)\n",
    "plt.style.use('ggplot')\n",
    "plt.xlabel('pvalues')\n",
    "plt.ylabel('frequency')\n",
    "plt.title(\"Histogram of ttest A/A simulations \")\n",
    "plt.show()\n",
    "\n",
    "# Проверяем, что количество ложноположительных случаев не превышает альфа\n",
    "FPP = sum(np.array(res) < 0.05) / simulations\n",
    "print(f'FPR = {FPR}')"
   ]
  },
  {
   "cell_type": "markdown",
   "metadata": {
    "pycharm": {
     "name": "#%% md\n"
    }
   },
   "source": [
    "Вывод: всё починилось, FPR менее выбранного уровня значимости."
   ]
  },
  {
   "cell_type": "markdown",
   "metadata": {
    "pycharm": {
     "name": "#%% md\n"
    }
   },
   "source": []
  }
 ],
 "metadata": {
  "kernelspec": {
   "display_name": "Python 3",
   "language": "python",
   "name": "python3"
  },
  "language_info": {
   "codemirror_mode": {
    "name": "ipython",
    "version": 3
   },
   "file_extension": ".py",
   "mimetype": "text/x-python",
   "name": "python",
   "nbconvert_exporter": "python",
   "pygments_lexer": "ipython3",
   "version": "3.9.7"
  }
 },
 "nbformat": 4,
 "nbformat_minor": 4
}