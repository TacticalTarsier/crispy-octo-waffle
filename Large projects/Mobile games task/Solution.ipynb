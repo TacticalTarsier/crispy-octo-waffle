{
 "cells": [
  {
   "cell_type": "code",
   "execution_count": 1,
   "metadata": {
    "pycharm": {
     "name": "#%%\n"
    }
   },
   "outputs": [],
   "source": [
    "# import libs\n",
    "import pandas as pd\n",
    "import numpy as np\n",
    "import seaborn as sns\n",
    "from tqdm.notebook import tqdm_notebook\n",
    "import matplotlib.pyplot as plt\n",
    "import datetime as dt\n",
    "from scipy.stats import norm, chi2_contingency\n",
    "import requests\n",
    "from urllib.parse import urlencode\n"
   ]
  },
  {
   "cell_type": "code",
   "execution_count": 2,
   "metadata": {
    "pycharm": {
     "name": "#%%\n"
    }
   },
   "outputs": [],
   "source": [
    "# Чтение данных из облака\n",
    "def download_link(public_key):\n",
    "\n",
    "    base_url = 'https://cloud-api.yandex.net/v1/disk/public/resources/download?'\n",
    "    final_url = base_url + urlencode(dict(public_key=public_key))\n",
    "    response = requests.get(final_url)\n",
    "    download_url = response.json()['href']\n",
    "    return download_url"
   ]
  },
  {
   "cell_type": "code",
   "execution_count": 3,
   "metadata": {
    "collapsed": false,
    "pycharm": {
     "name": "#%%\n"
    }
   },
   "outputs": [],
   "source": [
    "# Загрузка данных\n",
    "reg_date_df = pd.read_csv(download_link('https://disk.yandex.ru/d/4a8ZnvApDsAiXQ'), sep=';')\n",
    "auth_date_df = pd.read_csv(download_link('https://disk.yandex.ru/d/mQkHtQuHLrXQbQ'), sep=';')"
   ]
  },
  {
   "cell_type": "markdown",
   "metadata": {
    "pycharm": {
     "name": "#%% md\n"
    }
   },
   "source": [
    "Задание 1.\n",
    "Написать функцию, которая будет считать retention игроков (по дням от даты регистрации игрока)"
   ]
  },
  {
   "cell_type": "code",
   "execution_count": 4,
   "metadata": {
    "pycharm": {
     "name": "#%%\n"
    }
   },
   "outputs": [],
   "source": [
    "# Конвертирование даты для дальнейшей работы\n",
    "reg_date_df['reg_date'] = reg_date_df.reg_ts.apply(lambda x: dt.datetime.fromtimestamp(x))\n",
    "reg_date_df['reg_date'] = reg_date_df.reg_date.apply(lambda x: dt.date(x.year, x.month, x.day))\n",
    "\n",
    "auth_date_df['auth_date'] = auth_date_df.auth_ts.apply(lambda x: dt.datetime.fromtimestamp(x))\n",
    "auth_date_df['auth_date'] = auth_date_df.auth_date.apply(lambda x: dt.date(x.year, x.month, x.day))"
   ]
  },
  {
   "cell_type": "code",
   "execution_count": 5,
   "metadata": {
    "pycharm": {
     "name": "#%%\n"
    }
   },
   "outputs": [],
   "source": [
    "merged_df = reg_date_df[['uid', 'reg_date']].merge(auth_date_df[['uid', 'auth_date']])"
   ]
  },
  {
   "cell_type": "code",
   "execution_count": 6,
   "metadata": {
    "pycharm": {
     "name": "#%%\n"
    }
   },
   "outputs": [],
   "source": [
    "merged_df['date_diff'] = (merged_df.auth_date - merged_df.reg_date).apply(lambda x: x.days)"
   ]
  },
  {
   "cell_type": "code",
   "execution_count": 7,
   "metadata": {
    "pycharm": {
     "name": "#%%\n"
    }
   },
   "outputs": [
    {
     "data": {
      "text/plain": [
       "<AxesSubplot:title={'center':'unique users by reg_date'}, xlabel='reg_date', ylabel='nunique users'>"
      ]
     },
     "execution_count": 7,
     "metadata": {},
     "output_type": "execute_result"
    },
    {
     "data": {
      "image/png": "[encoded data removed]",
      "text/plain": [
       "<Figure size 432x288 with 1 Axes>"
      ]
     },
     "metadata": {},
     "output_type": "display_data"
    }
   ],
   "source": [
    "# Долгое время в когортах было малое кол-во зарегистрировавшихся пользователей.\n",
    "# Для первоначальной фильтрации посмотрим, в какой год примерно рост пользователей стал значительным.\n",
    "\n",
    "merged_df.groupby('reg_date', as_index=False)\\\n",
    "    .agg(nunique=('uid', 'nunique'))\\\n",
    "    .plot(x='reg_date', \n",
    "          y='nunique',\n",
    "          title = 'unique users by reg_date',\n",
    "          ylabel='nunique users')"
   ]
  },
  {
   "cell_type": "code",
   "execution_count": 8,
   "metadata": {
    "pycharm": {
     "name": "#%%\n"
    }
   },
   "outputs": [],
   "source": [
    "def get_cohort_analysis(df, date_diff=10, start_analysis_date='2016-01-01'):\n",
    "    \"\"\"\n",
    "    Функция рассчитывает Retention по когортам. Когорта - день регистрации.\n",
    "    Для уменьшения итоговой таблицы принята фильтрация: стандартно указан Retention первых 10 дней с момента регистрации, когорты в расчёте от 2016 года.\n",
    "    :param df: исследуемый ДФ;\n",
    "    :param date_diff: диапазон от даты регистрации до указанного дня для отображения retention;\n",
    "    :param start_analysis_date: дата начала исследования.\n",
    "    \"\"\"\n",
    "    start_analysis_date = pd.to_datetime(start_analysis_date).date()\n",
    "\n",
    "    grouped_df = df.query(\"date_diff <= @date_diff & reg_date >= @start_analysis_date\")\\\n",
    "        .groupby(['reg_date', 'date_diff'], as_index=False)\\\n",
    "        .agg(unique_ids=('uid', 'nunique'))\\\n",
    "        .rename(columns={'date_diff': 'days_after_reg'})\n",
    "\n",
    "    cohort_counts = grouped_df.pivot_table(index='reg_date', columns='days_after_reg', values='unique_ids', fill_value=0)\n",
    "    cohort_size = cohort_counts.iloc[:,0]\n",
    "\n",
    "    retention_table = cohort_counts.divide(cohort_size, axis=0).round(3) * 100\n",
    "    retention_table.insert(0, 'cohort_size', cohort_size)\n",
    "\n",
    "    return retention_table"
   ]
  },
  {
   "cell_type": "code",
   "execution_count": 9,
   "metadata": {
    "pycharm": {
     "name": "#%%\n"
    }
   },
   "outputs": [
    {
     "data": {
      "text/html": [
       "<div>\n",
       "<style scoped>\n",
       "    .dataframe tbody tr th:only-of-type {\n",
       "        vertical-align: middle;\n",
       "    }\n",
       "\n",
       "    .dataframe tbody tr th {\n",
       "        vertical-align: top;\n",
       "    }\n",
       "\n",
       "    .dataframe thead th {\n",
       "        text-align: right;\n",
       "    }\n",
       "</style>\n",
       "<table border=\"1\" class=\"dataframe\">\n",
       "  <thead>\n",
       "    <tr style=\"text-align: right;\">\n",
       "      <th>days_after_reg</th>\n",
       "      <th>cohort_size</th>\n",
       "      <th>0</th>\n",
       "      <th>1</th>\n",
       "      <th>2</th>\n",
       "      <th>3</th>\n",
       "      <th>4</th>\n",
       "      <th>5</th>\n",
       "      <th>6</th>\n",
       "      <th>7</th>\n",
       "      <th>8</th>\n",
       "      <th>9</th>\n",
       "      <th>10</th>\n",
       "    </tr>\n",
       "    <tr>\n",
       "      <th>reg_date</th>\n",
       "      <th></th>\n",
       "      <th></th>\n",
       "      <th></th>\n",
       "      <th></th>\n",
       "      <th></th>\n",
       "      <th></th>\n",
       "      <th></th>\n",
       "      <th></th>\n",
       "      <th></th>\n",
       "      <th></th>\n",
       "      <th></th>\n",
       "      <th></th>\n",
       "    </tr>\n",
       "  </thead>\n",
       "  <tbody>\n",
       "    <tr>\n",
       "      <th>1998-11-18</th>\n",
       "      <td>1</td>\n",
       "      <td>100.0</td>\n",
       "      <td>0.0</td>\n",
       "      <td>0.0</td>\n",
       "      <td>0.0</td>\n",
       "      <td>0.0</td>\n",
       "      <td>0.0</td>\n",
       "      <td>0.0</td>\n",
       "      <td>0.0</td>\n",
       "      <td>0.0</td>\n",
       "      <td>0.0</td>\n",
       "      <td>0.0</td>\n",
       "    </tr>\n",
       "    <tr>\n",
       "      <th>1999-07-23</th>\n",
       "      <td>1</td>\n",
       "      <td>100.0</td>\n",
       "      <td>0.0</td>\n",
       "      <td>100.0</td>\n",
       "      <td>0.0</td>\n",
       "      <td>0.0</td>\n",
       "      <td>0.0</td>\n",
       "      <td>0.0</td>\n",
       "      <td>0.0</td>\n",
       "      <td>100.0</td>\n",
       "      <td>0.0</td>\n",
       "      <td>0.0</td>\n",
       "    </tr>\n",
       "    <tr>\n",
       "      <th>2000-01-14</th>\n",
       "      <td>1</td>\n",
       "      <td>100.0</td>\n",
       "      <td>0.0</td>\n",
       "      <td>0.0</td>\n",
       "      <td>0.0</td>\n",
       "      <td>0.0</td>\n",
       "      <td>0.0</td>\n",
       "      <td>0.0</td>\n",
       "      <td>0.0</td>\n",
       "      <td>0.0</td>\n",
       "      <td>0.0</td>\n",
       "      <td>0.0</td>\n",
       "    </tr>\n",
       "    <tr>\n",
       "      <th>2000-05-28</th>\n",
       "      <td>1</td>\n",
       "      <td>100.0</td>\n",
       "      <td>0.0</td>\n",
       "      <td>0.0</td>\n",
       "      <td>0.0</td>\n",
       "      <td>0.0</td>\n",
       "      <td>0.0</td>\n",
       "      <td>0.0</td>\n",
       "      <td>0.0</td>\n",
       "      <td>0.0</td>\n",
       "      <td>0.0</td>\n",
       "      <td>0.0</td>\n",
       "    </tr>\n",
       "    <tr>\n",
       "      <th>2000-09-16</th>\n",
       "      <td>1</td>\n",
       "      <td>100.0</td>\n",
       "      <td>0.0</td>\n",
       "      <td>0.0</td>\n",
       "      <td>0.0</td>\n",
       "      <td>0.0</td>\n",
       "      <td>0.0</td>\n",
       "      <td>0.0</td>\n",
       "      <td>0.0</td>\n",
       "      <td>0.0</td>\n",
       "      <td>0.0</td>\n",
       "      <td>0.0</td>\n",
       "    </tr>\n",
       "    <tr>\n",
       "      <th>...</th>\n",
       "      <td>...</td>\n",
       "      <td>...</td>\n",
       "      <td>...</td>\n",
       "      <td>...</td>\n",
       "      <td>...</td>\n",
       "      <td>...</td>\n",
       "      <td>...</td>\n",
       "      <td>...</td>\n",
       "      <td>...</td>\n",
       "      <td>...</td>\n",
       "      <td>...</td>\n",
       "      <td>...</td>\n",
       "    </tr>\n",
       "    <tr>\n",
       "      <th>2020-09-19</th>\n",
       "      <td>1633</td>\n",
       "      <td>100.0</td>\n",
       "      <td>1.8</td>\n",
       "      <td>3.6</td>\n",
       "      <td>4.7</td>\n",
       "      <td>4.1</td>\n",
       "      <td>0.0</td>\n",
       "      <td>0.0</td>\n",
       "      <td>0.0</td>\n",
       "      <td>0.0</td>\n",
       "      <td>0.0</td>\n",
       "      <td>0.0</td>\n",
       "    </tr>\n",
       "    <tr>\n",
       "      <th>2020-09-20</th>\n",
       "      <td>1636</td>\n",
       "      <td>100.0</td>\n",
       "      <td>2.3</td>\n",
       "      <td>4.3</td>\n",
       "      <td>3.5</td>\n",
       "      <td>0.0</td>\n",
       "      <td>0.0</td>\n",
       "      <td>0.0</td>\n",
       "      <td>0.0</td>\n",
       "      <td>0.0</td>\n",
       "      <td>0.0</td>\n",
       "      <td>0.0</td>\n",
       "    </tr>\n",
       "    <tr>\n",
       "      <th>2020-09-21</th>\n",
       "      <td>1638</td>\n",
       "      <td>100.0</td>\n",
       "      <td>1.8</td>\n",
       "      <td>3.2</td>\n",
       "      <td>0.0</td>\n",
       "      <td>0.0</td>\n",
       "      <td>0.0</td>\n",
       "      <td>0.0</td>\n",
       "      <td>0.0</td>\n",
       "      <td>0.0</td>\n",
       "      <td>0.0</td>\n",
       "      <td>0.0</td>\n",
       "    </tr>\n",
       "    <tr>\n",
       "      <th>2020-09-22</th>\n",
       "      <td>1641</td>\n",
       "      <td>100.0</td>\n",
       "      <td>1.3</td>\n",
       "      <td>0.0</td>\n",
       "      <td>0.0</td>\n",
       "      <td>0.0</td>\n",
       "      <td>0.0</td>\n",
       "      <td>0.0</td>\n",
       "      <td>0.0</td>\n",
       "      <td>0.0</td>\n",
       "      <td>0.0</td>\n",
       "      <td>0.0</td>\n",
       "    </tr>\n",
       "    <tr>\n",
       "      <th>2020-09-23</th>\n",
       "      <td>1253</td>\n",
       "      <td>100.0</td>\n",
       "      <td>0.0</td>\n",
       "      <td>0.0</td>\n",
       "      <td>0.0</td>\n",
       "      <td>0.0</td>\n",
       "      <td>0.0</td>\n",
       "      <td>0.0</td>\n",
       "      <td>0.0</td>\n",
       "      <td>0.0</td>\n",
       "      <td>0.0</td>\n",
       "      <td>0.0</td>\n",
       "    </tr>\n",
       "  </tbody>\n",
       "</table>\n",
       "<p>5110 rows × 12 columns</p>\n",
       "</div>"
      ],
      "text/plain": [
       "days_after_reg  cohort_size      0    1      2    3    4    5    6    7  \\\n",
       "reg_date                                                                  \n",
       "1998-11-18                1  100.0  0.0    0.0  0.0  0.0  0.0  0.0  0.0   \n",
       "1999-07-23                1  100.0  0.0  100.0  0.0  0.0  0.0  0.0  0.0   \n",
       "2000-01-14                1  100.0  0.0    0.0  0.0  0.0  0.0  0.0  0.0   \n",
       "2000-05-28                1  100.0  0.0    0.0  0.0  0.0  0.0  0.0  0.0   \n",
       "2000-09-16                1  100.0  0.0    0.0  0.0  0.0  0.0  0.0  0.0   \n",
       "...                     ...    ...  ...    ...  ...  ...  ...  ...  ...   \n",
       "2020-09-19             1633  100.0  1.8    3.6  4.7  4.1  0.0  0.0  0.0   \n",
       "2020-09-20             1636  100.0  2.3    4.3  3.5  0.0  0.0  0.0  0.0   \n",
       "2020-09-21             1638  100.0  1.8    3.2  0.0  0.0  0.0  0.0  0.0   \n",
       "2020-09-22             1641  100.0  1.3    0.0  0.0  0.0  0.0  0.0  0.0   \n",
       "2020-09-23             1253  100.0  0.0    0.0  0.0  0.0  0.0  0.0  0.0   \n",
       "\n",
       "days_after_reg      8    9   10  \n",
       "reg_date                         \n",
       "1998-11-18        0.0  0.0  0.0  \n",
       "1999-07-23      100.0  0.0  0.0  \n",
       "2000-01-14        0.0  0.0  0.0  \n",
       "2000-05-28        0.0  0.0  0.0  \n",
       "2000-09-16        0.0  0.0  0.0  \n",
       "...               ...  ...  ...  \n",
       "2020-09-19        0.0  0.0  0.0  \n",
       "2020-09-20        0.0  0.0  0.0  \n",
       "2020-09-21        0.0  0.0  0.0  \n",
       "2020-09-22        0.0  0.0  0.0  \n",
       "2020-09-23        0.0  0.0  0.0  \n",
       "\n",
       "[5110 rows x 12 columns]"
      ]
     },
     "execution_count": 9,
     "metadata": {},
     "output_type": "execute_result"
    }
   ],
   "source": [
    "get_cohort_analysis(merged_df, 10, '1995-01-01')"
   ]
  },
  {
   "cell_type": "markdown",
   "metadata": {
    "pycharm": {
     "name": "#%% md\n"
    }
   },
   "source": [
    "Задание 2\n",
    "Имеются результаты A/B теста, в котором двум группам пользователей предлагались различные наборы акционных предложений. Известно, что ARPU в тестовой группе выше на 5%, чем в контрольной. При этом в контрольной группе 1928 игроков из 202103 оказались платящими, а в тестовой – 1805 из 202667.\n",
    "\n",
    "Какой набор предложений можно считать лучшим? Какие метрики стоит проанализировать для принятия правильного решения и как?"
   ]
  },
  {
   "cell_type": "code",
   "execution_count": 10,
   "metadata": {
    "pycharm": {
     "name": "#%%\n"
    }
   },
   "outputs": [],
   "source": [
    "# Чтение данных\n",
    "def download_link(public_key):\n",
    "\n",
    "    base_url = 'https://cloud-api.yandex.net/v1/disk/public/resources/download?'\n",
    "    final_url = base_url + urlencode(dict(public_key=public_key))\n",
    "    response = requests.get(final_url)\n",
    "    download_url = response.json()['href']\n",
    "    return download_url\n",
    "\n",
    "test_data_link = 'https://disk.yandex.ru/d/12gk_ATEeBZm4A'"
   ]
  },
  {
   "cell_type": "code",
   "execution_count": 11,
   "metadata": {
    "pycharm": {
     "name": "#%%\n"
    }
   },
   "outputs": [],
   "source": [
    "test_data = pd.read_csv(download_link(test_data_link), sep=';')"
   ]
  },
  {
   "cell_type": "code",
   "execution_count": 12,
   "metadata": {
    "pycharm": {
     "name": "#%%\n"
    }
   },
   "outputs": [
    {
     "name": "stdout",
     "output_type": "stream",
     "text": [
      "<class 'pandas.core.frame.DataFrame'>\n",
      "RangeIndex: 404770 entries, 0 to 404769\n",
      "Data columns (total 3 columns):\n",
      " #   Column     Non-Null Count   Dtype \n",
      "---  ------     --------------   ----- \n",
      " 0   user_id    404770 non-null  int64 \n",
      " 1   revenue    404770 non-null  int64 \n",
      " 2   testgroup  404770 non-null  object\n",
      "dtypes: int64(2), object(1)\n",
      "memory usage: 9.3+ MB\n"
     ]
    }
   ],
   "source": [
    "test_data.info()"
   ]
  },
  {
   "cell_type": "code",
   "execution_count": 13,
   "metadata": {
    "pycharm": {
     "name": "#%%\n"
    }
   },
   "outputs": [],
   "source": [
    "# Разделим на группы\n",
    "a_group = test_data.query(\"testgroup == 'a'\")[['user_id', 'revenue']]\n",
    "b_group = test_data.query(\"testgroup == 'b'\")[['user_id', 'revenue']]"
   ]
  },
  {
   "cell_type": "code",
   "execution_count": 14,
   "metadata": {
    "pycharm": {
     "name": "#%%\n"
    }
   },
   "outputs": [
    {
     "data": {
      "text/html": [
       "<div>\n",
       "<style scoped>\n",
       "    .dataframe tbody tr th:only-of-type {\n",
       "        vertical-align: middle;\n",
       "    }\n",
       "\n",
       "    .dataframe tbody tr th {\n",
       "        vertical-align: top;\n",
       "    }\n",
       "\n",
       "    .dataframe thead th {\n",
       "        text-align: right;\n",
       "    }\n",
       "</style>\n",
       "<table border=\"1\" class=\"dataframe\">\n",
       "  <thead>\n",
       "    <tr style=\"text-align: right;\">\n",
       "      <th></th>\n",
       "      <th>user_id</th>\n",
       "      <th>revenue</th>\n",
       "    </tr>\n",
       "  </thead>\n",
       "  <tbody>\n",
       "    <tr>\n",
       "      <th>count</th>\n",
       "      <td>202103.000000</td>\n",
       "      <td>202103.000000</td>\n",
       "    </tr>\n",
       "    <tr>\n",
       "      <th>mean</th>\n",
       "      <td>202555.909843</td>\n",
       "      <td>25.413720</td>\n",
       "    </tr>\n",
       "    <tr>\n",
       "      <th>std</th>\n",
       "      <td>116802.329266</td>\n",
       "      <td>920.768137</td>\n",
       "    </tr>\n",
       "    <tr>\n",
       "      <th>min</th>\n",
       "      <td>2.000000</td>\n",
       "      <td>0.000000</td>\n",
       "    </tr>\n",
       "    <tr>\n",
       "      <th>25%</th>\n",
       "      <td>101502.500000</td>\n",
       "      <td>0.000000</td>\n",
       "    </tr>\n",
       "    <tr>\n",
       "      <th>50%</th>\n",
       "      <td>202988.000000</td>\n",
       "      <td>0.000000</td>\n",
       "    </tr>\n",
       "    <tr>\n",
       "      <th>75%</th>\n",
       "      <td>303559.000000</td>\n",
       "      <td>0.000000</td>\n",
       "    </tr>\n",
       "    <tr>\n",
       "      <th>max</th>\n",
       "      <td>404769.000000</td>\n",
       "      <td>37433.000000</td>\n",
       "    </tr>\n",
       "  </tbody>\n",
       "</table>\n",
       "</div>"
      ],
      "text/plain": [
       "             user_id        revenue\n",
       "count  202103.000000  202103.000000\n",
       "mean   202555.909843      25.413720\n",
       "std    116802.329266     920.768137\n",
       "min         2.000000       0.000000\n",
       "25%    101502.500000       0.000000\n",
       "50%    202988.000000       0.000000\n",
       "75%    303559.000000       0.000000\n",
       "max    404769.000000   37433.000000"
      ]
     },
     "execution_count": 14,
     "metadata": {},
     "output_type": "execute_result"
    }
   ],
   "source": [
    "a_group.describe()"
   ]
  },
  {
   "cell_type": "code",
   "execution_count": 15,
   "metadata": {
    "pycharm": {
     "name": "#%%\n"
    }
   },
   "outputs": [
    {
     "data": {
      "text/html": [
       "<div>\n",
       "<style scoped>\n",
       "    .dataframe tbody tr th:only-of-type {\n",
       "        vertical-align: middle;\n",
       "    }\n",
       "\n",
       "    .dataframe tbody tr th {\n",
       "        vertical-align: top;\n",
       "    }\n",
       "\n",
       "    .dataframe thead th {\n",
       "        text-align: right;\n",
       "    }\n",
       "</style>\n",
       "<table border=\"1\" class=\"dataframe\">\n",
       "  <thead>\n",
       "    <tr style=\"text-align: right;\">\n",
       "      <th></th>\n",
       "      <th>user_id</th>\n",
       "      <th>revenue</th>\n",
       "    </tr>\n",
       "  </thead>\n",
       "  <tbody>\n",
       "    <tr>\n",
       "      <th>count</th>\n",
       "      <td>202667.000000</td>\n",
       "      <td>202667.000000</td>\n",
       "    </tr>\n",
       "    <tr>\n",
       "      <th>mean</th>\n",
       "      <td>202215.564389</td>\n",
       "      <td>26.751287</td>\n",
       "    </tr>\n",
       "    <tr>\n",
       "      <th>std</th>\n",
       "      <td>116891.926690</td>\n",
       "      <td>287.324162</td>\n",
       "    </tr>\n",
       "    <tr>\n",
       "      <th>min</th>\n",
       "      <td>1.000000</td>\n",
       "      <td>0.000000</td>\n",
       "    </tr>\n",
       "    <tr>\n",
       "      <th>25%</th>\n",
       "      <td>100855.500000</td>\n",
       "      <td>0.000000</td>\n",
       "    </tr>\n",
       "    <tr>\n",
       "      <th>50%</th>\n",
       "      <td>201821.000000</td>\n",
       "      <td>0.000000</td>\n",
       "    </tr>\n",
       "    <tr>\n",
       "      <th>75%</th>\n",
       "      <td>303602.500000</td>\n",
       "      <td>0.000000</td>\n",
       "    </tr>\n",
       "    <tr>\n",
       "      <th>max</th>\n",
       "      <td>404770.000000</td>\n",
       "      <td>4000.000000</td>\n",
       "    </tr>\n",
       "  </tbody>\n",
       "</table>\n",
       "</div>"
      ],
      "text/plain": [
       "             user_id        revenue\n",
       "count  202667.000000  202667.000000\n",
       "mean   202215.564389      26.751287\n",
       "std    116891.926690     287.324162\n",
       "min         1.000000       0.000000\n",
       "25%    100855.500000       0.000000\n",
       "50%    201821.000000       0.000000\n",
       "75%    303602.500000       0.000000\n",
       "max    404770.000000    4000.000000"
      ]
     },
     "execution_count": 15,
     "metadata": {},
     "output_type": "execute_result"
    }
   ],
   "source": [
    "b_group.describe()"
   ]
  },
  {
   "cell_type": "code",
   "execution_count": 16,
   "metadata": {
    "pycharm": {
     "name": "#%%\n"
    }
   },
   "outputs": [
    {
     "data": {
      "text/html": [
       "<div>\n",
       "<style scoped>\n",
       "    .dataframe tbody tr th:only-of-type {\n",
       "        vertical-align: middle;\n",
       "    }\n",
       "\n",
       "    .dataframe tbody tr th {\n",
       "        vertical-align: top;\n",
       "    }\n",
       "\n",
       "    .dataframe thead th {\n",
       "        text-align: right;\n",
       "    }\n",
       "</style>\n",
       "<table border=\"1\" class=\"dataframe\">\n",
       "  <thead>\n",
       "    <tr style=\"text-align: right;\">\n",
       "      <th></th>\n",
       "      <th>testgroup</th>\n",
       "      <th>nunuqie_users</th>\n",
       "      <th>paying_users</th>\n",
       "      <th>percent_of_paying_users</th>\n",
       "    </tr>\n",
       "  </thead>\n",
       "  <tbody>\n",
       "    <tr>\n",
       "      <th>0</th>\n",
       "      <td>a</td>\n",
       "      <td>202103</td>\n",
       "      <td>1928</td>\n",
       "      <td>0.95</td>\n",
       "    </tr>\n",
       "    <tr>\n",
       "      <th>1</th>\n",
       "      <td>b</td>\n",
       "      <td>202667</td>\n",
       "      <td>1805</td>\n",
       "      <td>0.89</td>\n",
       "    </tr>\n",
       "  </tbody>\n",
       "</table>\n",
       "</div>"
      ],
      "text/plain": [
       "  testgroup  nunuqie_users  paying_users  percent_of_paying_users\n",
       "0         a         202103          1928                     0.95\n",
       "1         b         202667          1805                     0.89"
      ]
     },
     "execution_count": 16,
     "metadata": {},
     "output_type": "execute_result"
    }
   ],
   "source": [
    "# Проверим указанные в задании данные\n",
    "paying_users = test_data.query('revenue > 0')\\\n",
    "    .groupby('testgroup', as_index=False)\\\n",
    "    .agg(paying_users=('user_id', 'nunique'))\n",
    "\n",
    "grouped_test_data = test_data.groupby('testgroup', as_index=False)\\\n",
    "    .agg(nunuqie_users=('user_id', 'nunique'))\\\n",
    "    .merge(paying_users)\n",
    "\n",
    "grouped_test_data['percent_of_paying_users'] = round(grouped_test_data['paying_users'] * 100 / grouped_test_data['nunuqie_users'], 2)\n",
    "\n",
    "grouped_test_data"
   ]
  },
  {
   "cell_type": "code",
   "execution_count": 17,
   "metadata": {
    "pycharm": {
     "name": "#%%\n"
    }
   },
   "outputs": [
    {
     "data": {
      "text/plain": [
       "<AxesSubplot:xlabel='revenue', ylabel='Count'>"
      ]
     },
     "execution_count": 17,
     "metadata": {},
     "output_type": "execute_result"
    },
    {
     "data": {
      "image/png": "[encoded data removed]",
      "text/plain": [
       "<Figure size 720x720 with 1 Axes>"
      ]
     },
     "metadata": {},
     "output_type": "display_data"
    }
   ],
   "source": [
    "plt.figure(figsize=(10, 10))\n",
    "sns.histplot(data=test_data.query('revenue > 0'), x='revenue', hue='testgroup')"
   ]
  },
  {
   "cell_type": "markdown",
   "metadata": {
    "pycharm": {
     "name": "#%% md\n"
    }
   },
   "source": [
    "Группа А имеет разделение на 2 сильно отличные группы. При этом пересечение с группой Б отсутствует.\n",
    "<br> Рассмотрим группы подробнее."
   ]
  },
  {
   "cell_type": "code",
   "execution_count": 18,
   "metadata": {
    "pycharm": {
     "name": "#%%\n"
    }
   },
   "outputs": [
    {
     "data": {
      "text/plain": [
       "Text(0.5, 1.0, 'A group. Revenue >= 500')"
      ]
     },
     "execution_count": 18,
     "metadata": {},
     "output_type": "execute_result"
    },
    {
     "data": {
      "image/png": "[encoded data removed]",
      "text/plain": [
       "<Figure size 1440x720 with 2 Axes>"
      ]
     },
     "metadata": {},
     "output_type": "display_data"
    }
   ],
   "source": [
    "fig, axes = plt.subplots(1, 2, figsize=(20, 10))\n",
    "\n",
    "plt.rcParams.update({'font.size': 10})\n",
    "\n",
    "sns.histplot(ax=axes[0], data=test_data.query(\"0 < revenue < 500 & testgroup == 'a'\"), x='revenue')\n",
    "sns.histplot(ax=axes[1], data=test_data.query(\"revenue >= 500 & testgroup == 'a'\"), x='revenue')\n",
    "\n",
    "\n",
    "axes[0].set_title('A group. 0 < Revenue < 500')\n",
    "axes[1].set_title('A group. Revenue >= 500')"
   ]
  },
  {
   "cell_type": "code",
   "execution_count": 19,
   "metadata": {
    "pycharm": {
     "name": "#%%\n"
    }
   },
   "outputs": [
    {
     "data": {
      "text/plain": [
       "Text(0.5, 1.0, 'B group. Revenue > 0')"
      ]
     },
     "execution_count": 19,
     "metadata": {},
     "output_type": "execute_result"
    },
    {
     "data": {
      "image/png": "[encoded data removed]",
      "text/plain": [
       "<Figure size 720x360 with 1 Axes>"
      ]
     },
     "metadata": {},
     "output_type": "display_data"
    }
   ],
   "source": [
    "plt.figure(figsize=(10, 5))\n",
    "sns.histplot(data=test_data.query(\"revenue > 0 & testgroup == 'b'\"), x='revenue', color='g').set_title('B group. Revenue > 0')"
   ]
  },
  {
   "cell_type": "code",
   "execution_count": 20,
   "metadata": {
    "pycharm": {
     "name": "#%%\n"
    }
   },
   "outputs": [],
   "source": [
    "# Объявим функцию, которая позволит проверять гипотезы с помощью бутстрапа\n",
    "def get_bootstrap(\n",
    "        data_column_1, # числовые значения первой выборки\n",
    "        data_column_2, # числовые значения второй выборки\n",
    "        boot_it = 1000, # количество бутстрэп-подвыборок\n",
    "        statistic = np.mean, # интересующая нас статистика\n",
    "        bootstrap_conf_level = 0.95, # уровень значимости\n",
    "        need_tqdm = True,\n",
    "        need_viz = True\n",
    "):\n",
    "    boot_len = max([len(data_column_1), len(data_column_2)])\n",
    "    boot_data = []\n",
    "\n",
    "    if need_tqdm:\n",
    "\n",
    "        for _ in tqdm_notebook(range(boot_it)): # извлекаем подвыборки\n",
    "            samples_1 = data_column_1.sample(\n",
    "                boot_len,\n",
    "                replace = True # параметр возвращения\n",
    "            ).values\n",
    "\n",
    "            samples_2 = data_column_2.sample(\n",
    "                boot_len,\n",
    "                replace = True\n",
    "            ).values\n",
    "\n",
    "            boot_data.append(statistic(samples_1-samples_2)) # mean() - применяем статистику\n",
    "\n",
    "    else:\n",
    "\n",
    "        for _ in range(boot_it): # извлекаем подвыборки\n",
    "            samples_1 = data_column_1.sample(\n",
    "                boot_len,\n",
    "                replace = True # параметр возвращения\n",
    "            ).values\n",
    "\n",
    "            samples_2 = data_column_2.sample(\n",
    "                boot_len,\n",
    "                replace = True\n",
    "            ).values\n",
    "\n",
    "            boot_data.append(statistic(samples_1-samples_2)) # mean() - применяем статистику\n",
    "\n",
    "    pd_boot_data = pd.DataFrame(boot_data)\n",
    "\n",
    "    left_quant = (1 - bootstrap_conf_level)/2\n",
    "    right_quant = 1 - (1 - bootstrap_conf_level) / 2\n",
    "    ci = pd_boot_data.quantile([left_quant, right_quant])\n",
    "\n",
    "    p_1 = norm.cdf(\n",
    "        x = 0,\n",
    "        loc = np.mean(boot_data),\n",
    "        scale = np.std(boot_data)\n",
    "    )\n",
    "    p_2 = norm.cdf(\n",
    "        x = 0,\n",
    "        loc = -np.mean(boot_data),\n",
    "        scale = np.std(boot_data)\n",
    "    )\n",
    "    p_value = min(p_1, p_2) * 2\n",
    "    if need_viz:\n",
    "\n",
    "        # Визуализация\n",
    "        plt.hist(pd_boot_data[0], bins = 50)\n",
    "\n",
    "        plt.style.use('ggplot')\n",
    "        plt.vlines(ci,ymin=0, ymax=50, linestyle='--', colors='blue')\n",
    "        plt.xlabel('boot_data')\n",
    "        plt.ylabel('frequency')\n",
    "        plt.title(\"Histogram of boot_data\")\n",
    "        plt.show()\n",
    "\n",
    "    return {\"boot_data\": boot_data,\n",
    "            \"ci\": ci,\n",
    "            \"p_value\": p_value}"
   ]
  },
  {
   "cell_type": "code",
   "execution_count": 21,
   "metadata": {
    "collapsed": false,
    "pycharm": {
     "name": "#%%\n"
    }
   },
   "outputs": [
    {
     "data": {
      "application/vnd.jupyter.widget-view+json": {
       "model_id": "ff1f8f369eb141a6a31ea444ca04fa1a",
       "version_major": 2,
       "version_minor": 0
      },
      "text/plain": [
       "  0%|          | 0/1000 [00:00<?, ?it/s]"
      ]
     },
     "metadata": {},
     "output_type": "display_data"
    },
    {
     "data": {
      "image/png": "[encoded data removed]",
      "text/plain": [
       "<Figure size 432x288 with 1 Axes>"
      ]
     },
     "metadata": {},
     "output_type": "display_data"
    }
   ],
   "source": [
    "booted_test_data = get_bootstrap(a_group, b_group)"
   ]
  },
  {
   "cell_type": "code",
   "execution_count": 22,
   "metadata": {
    "collapsed": false,
    "pycharm": {
     "name": "#%%\n"
    }
   },
   "outputs": [
    {
     "data": {
      "text/plain": [
       "0.37327610100837616"
      ]
     },
     "execution_count": 22,
     "metadata": {},
     "output_type": "execute_result"
    }
   ],
   "source": [
    "booted_test_data['p_value']"
   ]
  },
  {
   "cell_type": "markdown",
   "metadata": {
    "collapsed": false,
    "pycharm": {
     "name": "#%% md\n"
    }
   },
   "source": [
    "Проведение теста показало, что изменение среднего чека не является стат. значимым.\n",
    "При этом изменилось соотношение платящих/неплатящих пользователей. Выясним, является ли этот результат стат. значимым.\n",
    "\n",
    "Использовател bootstrap в данном случае уже не сможем, так как \"заплатил/не заплатил\" является категорийной переменной. Используем тест хи-вкадрат."
   ]
  },
  {
   "cell_type": "code",
   "execution_count": 23,
   "metadata": {
    "collapsed": false,
    "pycharm": {
     "name": "#%%\n"
    }
   },
   "outputs": [],
   "source": [
    "test_data['payed'] = test_data.revenue.apply(lambda x: 1 if x > 0 else 0)"
   ]
  },
  {
   "cell_type": "code",
   "execution_count": 24,
   "metadata": {
    "collapsed": false,
    "pycharm": {
     "name": "#%%\n"
    }
   },
   "outputs": [],
   "source": [
    "obs = pd.crosstab(test_data.payed, test_data.testgroup)"
   ]
  },
  {
   "cell_type": "code",
   "execution_count": 25,
   "metadata": {
    "collapsed": false,
    "pycharm": {
     "name": "#%%\n"
    }
   },
   "outputs": [],
   "source": [
    "chi2, p, dof, ex = chi2_contingency(obs, correction=False)"
   ]
  },
  {
   "cell_type": "code",
   "execution_count": 26,
   "metadata": {
    "collapsed": false,
    "pycharm": {
     "name": "#%%\n"
    }
   },
   "outputs": [
    {
     "data": {
      "text/plain": [
       "0.0350285246428554"
      ]
     },
     "execution_count": 26,
     "metadata": {},
     "output_type": "execute_result"
    }
   ],
   "source": [
    "p"
   ]
  },
  {
   "cell_type": "code",
   "execution_count": 27,
   "metadata": {
    "collapsed": false,
    "pycharm": {
     "name": "#%%\n"
    }
   },
   "outputs": [
    {
     "data": {
      "text/html": [
       "<div>\n",
       "<style scoped>\n",
       "    .dataframe tbody tr th:only-of-type {\n",
       "        vertical-align: middle;\n",
       "    }\n",
       "\n",
       "    .dataframe tbody tr th {\n",
       "        vertical-align: top;\n",
       "    }\n",
       "\n",
       "    .dataframe thead th {\n",
       "        text-align: right;\n",
       "    }\n",
       "</style>\n",
       "<table border=\"1\" class=\"dataframe\">\n",
       "  <thead>\n",
       "    <tr style=\"text-align: right;\">\n",
       "      <th>testgroup</th>\n",
       "      <th>a</th>\n",
       "      <th>b</th>\n",
       "    </tr>\n",
       "    <tr>\n",
       "      <th>payed</th>\n",
       "      <th></th>\n",
       "      <th></th>\n",
       "    </tr>\n",
       "  </thead>\n",
       "  <tbody>\n",
       "    <tr>\n",
       "      <th>0</th>\n",
       "      <td>200175</td>\n",
       "      <td>200862</td>\n",
       "    </tr>\n",
       "    <tr>\n",
       "      <th>1</th>\n",
       "      <td>1928</td>\n",
       "      <td>1805</td>\n",
       "    </tr>\n",
       "  </tbody>\n",
       "</table>\n",
       "</div>"
      ],
      "text/plain": [
       "testgroup       a       b\n",
       "payed                    \n",
       "0          200175  200862\n",
       "1            1928    1805"
      ]
     },
     "execution_count": 27,
     "metadata": {},
     "output_type": "execute_result"
    }
   ],
   "source": [
    "obs"
   ]
  },
  {
   "cell_type": "code",
   "execution_count": 28,
   "metadata": {
    "collapsed": false,
    "pycharm": {
     "name": "#%%\n"
    }
   },
   "outputs": [
    {
     "data": {
      "text/plain": [
       "array([[200239.10075104, 200797.89924896],\n",
       "       [  1863.89924896,   1869.10075104]])"
      ]
     },
     "execution_count": 28,
     "metadata": {},
     "output_type": "execute_result"
    }
   ],
   "source": [
    "ex"
   ]
  },
  {
   "cell_type": "markdown",
   "metadata": {
    "collapsed": false,
    "pycharm": {
     "name": "#%% md\n"
    }
   },
   "source": [
    "P-value < 0.05, следовательно результат является стат. значимым: конверсия в платёж снизилась в группе B.\n",
    "\n",
    "Итог\n",
    "Чек стат. значимо не вырос, но при этом стат. значимо уменьшилась конверсия в платёж.  Лучшим набором можно считать набор группы А."
   ]
  },
  {
   "cell_type": "markdown",
   "metadata": {
    "pycharm": {
     "name": "#%% md\n"
    }
   },
   "source": [
    "Задание 3\n",
    "В игре Plants & Gardens каждый месяц проводятся тематические события, ограниченные по времени. В них игроки могут получить уникальные предметы для сада и персонажей, дополнительные монеты или бонусы. Для получения награды требуется пройти ряд уровней за определенное время. С помощью каких метрик можно оценить результаты последнего прошедшего события?\n",
    "\n",
    "Предположим, в другом событии мы усложнили механику событий так, что при каждой неудачной попытке выполнения уровня игрок будет откатываться на несколько уровней назад. Изменится ли набор метрик оценки результата? Если да, то как?"
   ]
  },
  {
   "cell_type": "markdown",
   "metadata": {
    "collapsed": false,
    "pycharm": {
     "name": "#%% md\n"
    }
   },
   "source": [
    "**Ответ:**\n",
    "\n",
    "Так как не указано, с чем проводится сравнение последнего прошедшего события, предположу, что сравнение происходит с игркой вне ивентов.\n",
    "1. Так как имеется ограничение по времени и при этом требуется пройти ряд уровней за определённое время, **время сессии** игрока значимо увеличится.\n",
    "2. Уникальные бонусы и награды должны привлечь игроков, которые, хоть и нечасто играют, зайдут только для того, чтобы получить эти бонусы. Поэтому **retention** тоже можно принять в качестве оценки. Так как привлекаются игроки, **DAW**, **WAU** (в зависимости от периода проведения ивента) увеличатся.\n",
    "3. Если увеличивается время сессии, увеличивается и вероятность покупки игроком внутриигровой валюты или какой-либо помощи, необходимой для прохождения уровней. Поэтому **revenue** можно принять в качестве метрики. Из этого следует, что **ARP(P)U** также должны увеличиться.\n",
    "4. Воронка прохождений уровней, участвующих в ивенте, должна измениться: количество пользователей, прошедших N уровней, должно увеличиться.\n",
    "\n",
    "Если усложнить механику и допустить, что игрок сможет уйти в \"минус\" по уровням, а бонусы будут настолько хороши, что можно и рискнуть:\n",
    "1. Предполагаю, что **время сессии** всё равно должно увеличиться.\n",
    "2. **Retention** также можно использовать в качестве метрики.\n",
    "3. **Revenue**, **ARP(P)U** в качестве метрик стоит использовать. Возможно, на более поздних уровнях, когда велик шанс проиграть, но и бонус значим, люди будут совершать больше покупок, чтобы не спуститься вниз.\n",
    "4. Воронка в этом случае, как мне кажется, сместится на начальные уровни, где одновременно велик шанс получить бонус, и шанс проиграть минимален.\n",
    "\n",
    "Как мне кажется, усложнение механики - это довольно опасно. Постоянных игроков это может оттолкнуть от участия в ивенте из-за рисков, а привлекать новых игроков возможными потерями изначально не стоит. На своей памяти ни одного такого ивента даже и не припомню, что говорит о том, что способ не слишком действенный."
   ]
  }
 ],
 "metadata": {
  "kernelspec": {
   "display_name": "standart_venv",
   "language": "python",
   "name": "python3"
  },
  "language_info": {
   "codemirror_mode": {
    "name": "ipython",
    "version": 3
   },
   "file_extension": ".py",
   "mimetype": "text/x-python",
   "name": "python",
   "nbconvert_exporter": "python",
   "pygments_lexer": "ipython3",
   "version": "3.10.8"
  },
  "vscode": {
   "interpreter": {
    "hash": "c57b58d0ca7def04f2ce30c1e3385a8f808fc9ae01ee7ba27c2e6ad732480a5f"
   }
  }
 },
 "nbformat": 4,
 "nbformat_minor": 2
}
