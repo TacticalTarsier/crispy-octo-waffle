{
 "cells": [
  {
   "cell_type": "code",
   "execution_count": 1,
   "outputs": [],
   "source": [
    "import pandas as pd\n",
    "import pandahouse\n",
    "import seaborn as sns\n",
    "from scipy.stats import ttest_ind\n",
    "from tqdm.notebook import tqdm"
   ],
   "metadata": {
    "collapsed": false,
    "pycharm": {
     "name": "#%%\n"
    }
   }
  },
  {
   "cell_type": "code",
   "execution_count": 2,
   "outputs": [],
   "source": [
    "connection = {\n",
    "    'host': 'https://clickhouse.lab.karpov.courses',\n",
    "    'password': 'dpo_python_2020',\n",
    "    'user': 'student',\n",
    "    'database': 'simulator_20220620.feed_actions'}"
   ],
   "metadata": {
    "collapsed": false,
    "pycharm": {
     "name": "#%%\n"
    }
   }
  },
  {
   "cell_type": "code",
   "execution_count": 3,
   "outputs": [],
   "source": [
    "q = '''\n",
    "SELECT exp_group,\n",
    "    user_id,\n",
    "    sum(action = 'like') as likes,\n",
    "    sum(action = 'view') as views,\n",
    "    likes/views as ctr\n",
    "FROM simulator_20220620.feed_actions\n",
    "WHERE toDate(time) between '2022-05-17' and '2022-05-23'\n",
    "    and exp_group in (2,3)\n",
    "GROUP BY exp_group, user_id\n",
    "'''"
   ],
   "metadata": {
    "collapsed": false,
    "pycharm": {
     "name": "#%%\n"
    }
   }
  },
  {
   "cell_type": "code",
   "execution_count": 4,
   "outputs": [],
   "source": [
    "df = pandahouse.read_clickhouse(q, connection=connection)"
   ],
   "metadata": {
    "collapsed": false,
    "pycharm": {
     "name": "#%%\n"
    }
   }
  },
  {
   "cell_type": "code",
   "execution_count": 5,
   "outputs": [
    {
     "data": {
      "text/plain": "   exp_group  user_id  likes  views       ctr\n0          3   115383     11     36  0.305556\n1          3   123580     15     92  0.163043\n2          2   131473     26    148  0.175676\n3          2    23985     12     66  0.181818\n4          2    24523     17    120  0.141667",
      "text/html": "<div>\n<style scoped>\n    .dataframe tbody tr th:only-of-type {\n        vertical-align: middle;\n    }\n\n    .dataframe tbody tr th {\n        vertical-align: top;\n    }\n\n    .dataframe thead th {\n        text-align: right;\n    }\n</style>\n<table border=\"1\" class=\"dataframe\">\n  <thead>\n    <tr style=\"text-align: right;\">\n      <th></th>\n      <th>exp_group</th>\n      <th>user_id</th>\n      <th>likes</th>\n      <th>views</th>\n      <th>ctr</th>\n    </tr>\n  </thead>\n  <tbody>\n    <tr>\n      <th>0</th>\n      <td>3</td>\n      <td>115383</td>\n      <td>11</td>\n      <td>36</td>\n      <td>0.305556</td>\n    </tr>\n    <tr>\n      <th>1</th>\n      <td>3</td>\n      <td>123580</td>\n      <td>15</td>\n      <td>92</td>\n      <td>0.163043</td>\n    </tr>\n    <tr>\n      <th>2</th>\n      <td>2</td>\n      <td>131473</td>\n      <td>26</td>\n      <td>148</td>\n      <td>0.175676</td>\n    </tr>\n    <tr>\n      <th>3</th>\n      <td>2</td>\n      <td>23985</td>\n      <td>12</td>\n      <td>66</td>\n      <td>0.181818</td>\n    </tr>\n    <tr>\n      <th>4</th>\n      <td>2</td>\n      <td>24523</td>\n      <td>17</td>\n      <td>120</td>\n      <td>0.141667</td>\n    </tr>\n  </tbody>\n</table>\n</div>"
     },
     "execution_count": 5,
     "metadata": {},
     "output_type": "execute_result"
    }
   ],
   "source": [
    "df.head()"
   ],
   "metadata": {
    "collapsed": false,
    "pycharm": {
     "name": "#%%\n"
    }
   }
  },
  {
   "cell_type": "code",
   "execution_count": 6,
   "outputs": [
    {
     "data": {
      "text/plain": "   exp_group  users  mean_ctr\n0          2   8480  0.218246\n1          3   8569  0.219161",
      "text/html": "<div>\n<style scoped>\n    .dataframe tbody tr th:only-of-type {\n        vertical-align: middle;\n    }\n\n    .dataframe tbody tr th {\n        vertical-align: top;\n    }\n\n    .dataframe thead th {\n        text-align: right;\n    }\n</style>\n<table border=\"1\" class=\"dataframe\">\n  <thead>\n    <tr style=\"text-align: right;\">\n      <th></th>\n      <th>exp_group</th>\n      <th>users</th>\n      <th>mean_ctr</th>\n    </tr>\n  </thead>\n  <tbody>\n    <tr>\n      <th>0</th>\n      <td>2</td>\n      <td>8480</td>\n      <td>0.218246</td>\n    </tr>\n    <tr>\n      <th>1</th>\n      <td>3</td>\n      <td>8569</td>\n      <td>0.219161</td>\n    </tr>\n  </tbody>\n</table>\n</div>"
     },
     "execution_count": 6,
     "metadata": {},
     "output_type": "execute_result"
    }
   ],
   "source": [
    "# Проверим метрики в группах\n",
    "df.groupby('exp_group', as_index=False)\\\n",
    "    .agg(users=('user_id', 'nunique'),\n",
    "         mean_ctr=('ctr', 'mean'))"
   ],
   "metadata": {
    "collapsed": false,
    "pycharm": {
     "name": "#%%\n"
    }
   }
  },
  {
   "cell_type": "code",
   "execution_count": 7,
   "outputs": [
    {
     "data": {
      "text/plain": "<AxesSubplot:xlabel='ctr', ylabel='Count'>"
     },
     "execution_count": 7,
     "metadata": {},
     "output_type": "execute_result"
    },
    {
     "data": {
      "text/plain": "<Figure size 720x720 with 1 Axes>",
      "image/png": "[encoded data removed]"
     },
     "metadata": {},
     "output_type": "display_data"
    }
   ],
   "source": [
    "# Распределение ctr по группам\n",
    "sns.set(rc={'figure.figsize': (10, 10)})\n",
    "\n",
    "sns.histplot(data=df,\n",
    "             x='ctr',\n",
    "             hue='exp_group',\n",
    "             alpha=0.7,\n",
    "             palette=['r', 'g'])"
   ],
   "metadata": {
    "collapsed": false,
    "pycharm": {
     "name": "#%%\n"
    }
   }
  },
  {
   "cell_type": "code",
   "execution_count": 8,
   "outputs": [],
   "source": [
    "group_2 = df.query('exp_group == 2')\n",
    "group_3 = df.query('exp_group == 3')"
   ],
   "metadata": {
    "collapsed": false,
    "pycharm": {
     "name": "#%%\n"
    }
   }
  },
  {
   "cell_type": "code",
   "execution_count": 62,
   "outputs": [],
   "source": [
    "def aa_test(group_a, group_b, test_num=10000, users_num=500):\n",
    "    '''\n",
    "    Проверка корректности сплитования с помощью многократного проведения t-теста.\n",
    "\n",
    "    :param test_num: кол-во тестов\n",
    "    :param users_num: кол-во юзеров в каждом тесте\n",
    "    :param group_a: группа 1\n",
    "    :param group_b: группа 2\n",
    "    :return: ДФ с результатами теста, процент ложноположительного срабатывания\n",
    "    '''\n",
    "\n",
    "    # создание ДФ с результатами тестов\n",
    "    index = 0\n",
    "    res_df = pd.DataFrame(columns=['t_stat', 'p_value'])\n",
    "\n",
    "    # цикл проведения тестов\n",
    "    for _ in tqdm(range(test_num)):\n",
    "\n",
    "        test_res = {'t_stat': ttest_ind(group_a.sample(users_num, replace=True),\n",
    "                                        group_b.sample(users_num, replace=True),\n",
    "                                        equal_var=False)[0],\n",
    "                    'p_value': ttest_ind(group_a.sample(users_num, replace=True),\n",
    "                                         group_b.sample(users_num, replace=True),\n",
    "                                         equal_var=False)[1]}\n",
    "        res_df = res_df.append(pd.DataFrame(data=test_res,\n",
    "                                            index=[index]))\n",
    "        index += 1\n",
    "\n",
    "    fpr = sum(res_df.p_value <= 0.05) / res_df.shape[0]\n",
    "\n",
    "    return res_df, fpr"
   ],
   "metadata": {
    "collapsed": false,
    "pycharm": {
     "name": "#%%\n"
    }
   }
  },
  {
   "cell_type": "code",
   "execution_count": 63,
   "outputs": [
    {
     "data": {
      "text/plain": "  0%|          | 0/10000 [00:00<?, ?it/s]",
      "application/vnd.jupyter.widget-view+json": {
       "version_major": 2,
       "version_minor": 0,
       "model_id": "a48425296f4645878d2050b461292d25"
      }
     },
     "metadata": {},
     "output_type": "display_data"
    }
   ],
   "source": [
    "aa_df, fpr = aa_test(group_2.ctr, group_3.ctr)"
   ],
   "metadata": {
    "collapsed": false,
    "pycharm": {
     "name": "#%%\n"
    }
   }
  },
  {
   "cell_type": "code",
   "execution_count": 64,
   "outputs": [
    {
     "data": {
      "text/plain": "0.0551"
     },
     "execution_count": 64,
     "metadata": {},
     "output_type": "execute_result"
    }
   ],
   "source": [
    "fpr"
   ],
   "metadata": {
    "collapsed": false,
    "pycharm": {
     "name": "#%%\n"
    }
   }
  },
  {
   "cell_type": "markdown",
   "source": [
    "По итогам проведения А/А теста можно утверждать, что система сплитования работает не слишком корректно, так как уровень ложноположительного срабатывания выше принятого уровня стат. значимости."
   ],
   "metadata": {
    "collapsed": false,
    "pycharm": {
     "name": "#%% md\n"
    }
   }
  }
 ],
 "metadata": {
  "kernelspec": {
   "display_name": "Python 3",
   "language": "python",
   "name": "python3"
  },
  "language_info": {
   "codemirror_mode": {
    "name": "ipython",
    "version": 2
   },
   "file_extension": ".py",
   "mimetype": "text/x-python",
   "name": "python",
   "nbconvert_exporter": "python",
   "pygments_lexer": "ipython2",
   "version": "2.7.6"
  }
 },
 "nbformat": 4,
 "nbformat_minor": 0
}