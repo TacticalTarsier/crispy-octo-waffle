{
 "cells": [
  {
   "cell_type": "code",
   "execution_count": 3,
   "metadata": {
    "pycharm": {
     "name": "#%%\n"
    }
   },
   "outputs": [],
   "source": [
    "import pandas as pd\n",
    "import statsmodels.api as sm\n",
    "import statsmodels.formula.api as smf\n",
    "import requests\n",
    "from urllib.parse import urlencode"
   ]
  },
  {
   "cell_type": "code",
   "execution_count": 4,
   "outputs": [],
   "source": [
    "# Чтение данных из облака\n",
    "def download_link(public_key):\n",
    "       base_url = 'https://cloud-api.yandex.net/v1/disk/public/resources/download?'\n",
    "       final_url = base_url + urlencode(dict(public_key=public_key))\n",
    "       response = requests.get(final_url)\n",
    "       download_url = response.json()['href']\n",
    "       return download_url"
   ],
   "metadata": {
    "collapsed": false,
    "pycharm": {
     "name": "#%%\n"
    }
   }
  },
  {
   "cell_type": "code",
   "execution_count": 5,
   "metadata": {
    "pycharm": {
     "name": "#%%\n"
    }
   },
   "outputs": [],
   "source": [
    "df = pd.read_csv(download_link('https://disk.yandex.ru/d/pV0bTSI8g2imOQ'))"
   ]
  },
  {
   "cell_type": "markdown",
   "metadata": {
    "pycharm": {
     "name": "#%% md\n"
    }
   },
   "source": [
    "Сколько пропущенных значений встретилось в датасете?"
   ]
  },
  {
   "cell_type": "code",
   "execution_count": 6,
   "metadata": {
    "pycharm": {
     "name": "#%%\n"
    }
   },
   "outputs": [
    {
     "data": {
      "text/plain": "car_ID              0\nsymboling           0\nCarName             0\nfueltype            0\naspiration          0\ndoornumber          0\ncarbody             0\ndrivewheel          0\nenginelocation      0\nwheelbase           0\ncarlength           0\ncarwidth            0\ncarheight           0\ncurbweight          0\nenginetype          0\ncylindernumber      0\nenginesize          0\nfuelsystem          0\nboreratio           0\nstroke              0\ncompressionratio    0\nhorsepower          0\npeakrpm             0\ncitympg             0\nhighwaympg          0\nprice               0\ndtype: int64"
     },
     "execution_count": 6,
     "metadata": {},
     "output_type": "execute_result"
    }
   ],
   "source": [
    "df.isna().sum()"
   ]
  },
  {
   "cell_type": "markdown",
   "metadata": {
    "pycharm": {
     "name": "#%% md\n"
    }
   },
   "source": [
    "Использовать полное название машины – не самый хороший вариант, поэтому создадим новый признак – марку автомобиля (company). Для этого используйте столбец CarName, разбейте значения ячеек по пробелу и запишите в колонку первый элемент. Например:\n",
    "\n",
    "'audi 100 ls' → 'audi'\n",
    "Сколько всего уникальных марок машины встречается в датасете? Столбец CarName с полным названием машины удалите из датасета, а также car_ID, они не пригодятся для дальнейшего анализа."
   ]
  },
  {
   "cell_type": "code",
   "execution_count": 7,
   "metadata": {
    "pycharm": {
     "name": "#%%\n"
    }
   },
   "outputs": [
    {
     "data": {
      "text/plain": "   car_ID  symboling                   CarName fueltype aspiration doornumber  \\\n0       1          3        alfa-romero giulia      gas        std        two   \n1       2          3       alfa-romero stelvio      gas        std        two   \n2       3          1  alfa-romero Quadrifoglio      gas        std        two   \n3       4          2               audi 100 ls      gas        std       four   \n4       5          2                audi 100ls      gas        std       four   \n\n       carbody drivewheel enginelocation  wheelbase  ...  enginesize  \\\n0  convertible        rwd          front       88.6  ...         130   \n1  convertible        rwd          front       88.6  ...         130   \n2    hatchback        rwd          front       94.5  ...         152   \n3        sedan        fwd          front       99.8  ...         109   \n4        sedan        4wd          front       99.4  ...         136   \n\n   fuelsystem  boreratio  stroke compressionratio horsepower  peakrpm citympg  \\\n0        mpfi       3.47    2.68              9.0        111     5000      21   \n1        mpfi       3.47    2.68              9.0        111     5000      21   \n2        mpfi       2.68    3.47              9.0        154     5000      19   \n3        mpfi       3.19    3.40             10.0        102     5500      24   \n4        mpfi       3.19    3.40              8.0        115     5500      18   \n\n   highwaympg    price  \n0          27  13495.0  \n1          27  16500.0  \n2          26  16500.0  \n3          30  13950.0  \n4          22  17450.0  \n\n[5 rows x 26 columns]",
      "text/html": "<div>\n<style scoped>\n    .dataframe tbody tr th:only-of-type {\n        vertical-align: middle;\n    }\n\n    .dataframe tbody tr th {\n        vertical-align: top;\n    }\n\n    .dataframe thead th {\n        text-align: right;\n    }\n</style>\n<table border=\"1\" class=\"dataframe\">\n  <thead>\n    <tr style=\"text-align: right;\">\n      <th></th>\n      <th>car_ID</th>\n      <th>symboling</th>\n      <th>CarName</th>\n      <th>fueltype</th>\n      <th>aspiration</th>\n      <th>doornumber</th>\n      <th>carbody</th>\n      <th>drivewheel</th>\n      <th>enginelocation</th>\n      <th>wheelbase</th>\n      <th>...</th>\n      <th>enginesize</th>\n      <th>fuelsystem</th>\n      <th>boreratio</th>\n      <th>stroke</th>\n      <th>compressionratio</th>\n      <th>horsepower</th>\n      <th>peakrpm</th>\n      <th>citympg</th>\n      <th>highwaympg</th>\n      <th>price</th>\n    </tr>\n  </thead>\n  <tbody>\n    <tr>\n      <th>0</th>\n      <td>1</td>\n      <td>3</td>\n      <td>alfa-romero giulia</td>\n      <td>gas</td>\n      <td>std</td>\n      <td>two</td>\n      <td>convertible</td>\n      <td>rwd</td>\n      <td>front</td>\n      <td>88.6</td>\n      <td>...</td>\n      <td>130</td>\n      <td>mpfi</td>\n      <td>3.47</td>\n      <td>2.68</td>\n      <td>9.0</td>\n      <td>111</td>\n      <td>5000</td>\n      <td>21</td>\n      <td>27</td>\n      <td>13495.0</td>\n    </tr>\n    <tr>\n      <th>1</th>\n      <td>2</td>\n      <td>3</td>\n      <td>alfa-romero stelvio</td>\n      <td>gas</td>\n      <td>std</td>\n      <td>two</td>\n      <td>convertible</td>\n      <td>rwd</td>\n      <td>front</td>\n      <td>88.6</td>\n      <td>...</td>\n      <td>130</td>\n      <td>mpfi</td>\n      <td>3.47</td>\n      <td>2.68</td>\n      <td>9.0</td>\n      <td>111</td>\n      <td>5000</td>\n      <td>21</td>\n      <td>27</td>\n      <td>16500.0</td>\n    </tr>\n    <tr>\n      <th>2</th>\n      <td>3</td>\n      <td>1</td>\n      <td>alfa-romero Quadrifoglio</td>\n      <td>gas</td>\n      <td>std</td>\n      <td>two</td>\n      <td>hatchback</td>\n      <td>rwd</td>\n      <td>front</td>\n      <td>94.5</td>\n      <td>...</td>\n      <td>152</td>\n      <td>mpfi</td>\n      <td>2.68</td>\n      <td>3.47</td>\n      <td>9.0</td>\n      <td>154</td>\n      <td>5000</td>\n      <td>19</td>\n      <td>26</td>\n      <td>16500.0</td>\n    </tr>\n    <tr>\n      <th>3</th>\n      <td>4</td>\n      <td>2</td>\n      <td>audi 100 ls</td>\n      <td>gas</td>\n      <td>std</td>\n      <td>four</td>\n      <td>sedan</td>\n      <td>fwd</td>\n      <td>front</td>\n      <td>99.8</td>\n      <td>...</td>\n      <td>109</td>\n      <td>mpfi</td>\n      <td>3.19</td>\n      <td>3.40</td>\n      <td>10.0</td>\n      <td>102</td>\n      <td>5500</td>\n      <td>24</td>\n      <td>30</td>\n      <td>13950.0</td>\n    </tr>\n    <tr>\n      <th>4</th>\n      <td>5</td>\n      <td>2</td>\n      <td>audi 100ls</td>\n      <td>gas</td>\n      <td>std</td>\n      <td>four</td>\n      <td>sedan</td>\n      <td>4wd</td>\n      <td>front</td>\n      <td>99.4</td>\n      <td>...</td>\n      <td>136</td>\n      <td>mpfi</td>\n      <td>3.19</td>\n      <td>3.40</td>\n      <td>8.0</td>\n      <td>115</td>\n      <td>5500</td>\n      <td>18</td>\n      <td>22</td>\n      <td>17450.0</td>\n    </tr>\n  </tbody>\n</table>\n<p>5 rows × 26 columns</p>\n</div>"
     },
     "execution_count": 7,
     "metadata": {},
     "output_type": "execute_result"
    }
   ],
   "source": [
    "df.head()"
   ]
  },
  {
   "cell_type": "code",
   "execution_count": 8,
   "metadata": {
    "pycharm": {
     "name": "#%%\n"
    }
   },
   "outputs": [],
   "source": [
    "df['company'] = df.CarName.apply(lambda x: x.split(' ')[0])"
   ]
  },
  {
   "cell_type": "code",
   "execution_count": 9,
   "metadata": {
    "pycharm": {
     "name": "#%%\n"
    }
   },
   "outputs": [
    {
     "data": {
      "text/plain": "28"
     },
     "execution_count": 9,
     "metadata": {},
     "output_type": "execute_result"
    }
   ],
   "source": [
    "df.company.nunique()"
   ]
  },
  {
   "cell_type": "markdown",
   "metadata": {
    "pycharm": {
     "name": "#%% md\n"
    }
   },
   "source": [
    "Теперь внимательнее посмотрите на уникальные значения company. Часть из них оказалась с ошибками!\n",
    "\n",
    "'maxda' → 'mazda'\n",
    "'Nissan' → 'nissan'\n",
    "'porcshce' → 'porsche'\n",
    "'toyouta' → 'toyota'\n",
    "'vokswagen' & 'vw' → 'volkswagen'\n",
    "Сколько уникальных производителей осталось в итоге?"
   ]
  },
  {
   "cell_type": "code",
   "execution_count": 10,
   "metadata": {
    "pycharm": {
     "name": "#%%\n"
    }
   },
   "outputs": [
    {
     "data": {
      "text/plain": "array(['alfa-romero', 'audi', 'bmw', 'chevrolet', 'dodge', 'honda',\n       'isuzu', 'jaguar', 'maxda', 'mazda', 'buick', 'mercury',\n       'mitsubishi', 'Nissan', 'nissan', 'peugeot', 'plymouth', 'porsche',\n       'porcshce', 'renault', 'saab', 'subaru', 'toyota', 'toyouta',\n       'vokswagen', 'volkswagen', 'vw', 'volvo'], dtype=object)"
     },
     "execution_count": 10,
     "metadata": {},
     "output_type": "execute_result"
    }
   ],
   "source": [
    "df.company.unique()"
   ]
  },
  {
   "cell_type": "markdown",
   "metadata": {
    "pycharm": {
     "name": "#%% md\n"
    }
   },
   "source": [
    "Отлично! Чтобы не перегружать модель большим количеством предикторов, оставим только часть из них:\n",
    "\n",
    "'company', 'fueltype', 'aspiration','carbody', 'drivewheel', 'wheelbase', 'carlength','carwidth', 'curbweight', 'enginetype', 'cylindernumber', 'enginesize', 'boreratio','horsepower'\n",
    "также не забыв про то, что мы предсказываем – 'price'. \n",
    "\n",
    "После этого посчитайте корреляцию между price и другими переменными. Чему равна корреляция между price и horsepower? Ответ округлите до 2 знаков после точки."
   ]
  },
  {
   "cell_type": "code",
   "execution_count": 11,
   "metadata": {
    "pycharm": {
     "name": "#%%\n"
    }
   },
   "outputs": [],
   "source": [
    "df_to_analyze = df[['company', 'fueltype', 'aspiration', 'carbody', 'drivewheel', 'wheelbase', 'carlength', \n",
    "                    'carwidth', 'curbweight', 'enginetype', 'cylindernumber', 'enginesize', 'boreratio', 'horsepower', 'price']]"
   ]
  },
  {
   "cell_type": "code",
   "execution_count": 12,
   "metadata": {
    "pycharm": {
     "name": "#%%\n"
    }
   },
   "outputs": [
    {
     "data": {
      "text/plain": "            wheelbase  carlength  carwidth  curbweight  enginesize  boreratio  \\\nwheelbase    1.000000   0.874587  0.795144    0.776386    0.569329   0.488750   \ncarlength    0.874587   1.000000  0.841118    0.877728    0.683360   0.606454   \ncarwidth     0.795144   0.841118  1.000000    0.867032    0.735433   0.559150   \ncurbweight   0.776386   0.877728  0.867032    1.000000    0.850594   0.648480   \nenginesize   0.569329   0.683360  0.735433    0.850594    1.000000   0.583774   \nboreratio    0.488750   0.606454  0.559150    0.648480    0.583774   1.000000   \nhorsepower   0.353294   0.552623  0.640732    0.750739    0.809769   0.573677   \nprice        0.577816   0.682920  0.759325    0.835305    0.874145   0.553173   \n\n            horsepower     price  \nwheelbase     0.353294  0.577816  \ncarlength     0.552623  0.682920  \ncarwidth      0.640732  0.759325  \ncurbweight    0.750739  0.835305  \nenginesize    0.809769  0.874145  \nboreratio     0.573677  0.553173  \nhorsepower    1.000000  0.808139  \nprice         0.808139  1.000000  ",
      "text/html": "<div>\n<style scoped>\n    .dataframe tbody tr th:only-of-type {\n        vertical-align: middle;\n    }\n\n    .dataframe tbody tr th {\n        vertical-align: top;\n    }\n\n    .dataframe thead th {\n        text-align: right;\n    }\n</style>\n<table border=\"1\" class=\"dataframe\">\n  <thead>\n    <tr style=\"text-align: right;\">\n      <th></th>\n      <th>wheelbase</th>\n      <th>carlength</th>\n      <th>carwidth</th>\n      <th>curbweight</th>\n      <th>enginesize</th>\n      <th>boreratio</th>\n      <th>horsepower</th>\n      <th>price</th>\n    </tr>\n  </thead>\n  <tbody>\n    <tr>\n      <th>wheelbase</th>\n      <td>1.000000</td>\n      <td>0.874587</td>\n      <td>0.795144</td>\n      <td>0.776386</td>\n      <td>0.569329</td>\n      <td>0.488750</td>\n      <td>0.353294</td>\n      <td>0.577816</td>\n    </tr>\n    <tr>\n      <th>carlength</th>\n      <td>0.874587</td>\n      <td>1.000000</td>\n      <td>0.841118</td>\n      <td>0.877728</td>\n      <td>0.683360</td>\n      <td>0.606454</td>\n      <td>0.552623</td>\n      <td>0.682920</td>\n    </tr>\n    <tr>\n      <th>carwidth</th>\n      <td>0.795144</td>\n      <td>0.841118</td>\n      <td>1.000000</td>\n      <td>0.867032</td>\n      <td>0.735433</td>\n      <td>0.559150</td>\n      <td>0.640732</td>\n      <td>0.759325</td>\n    </tr>\n    <tr>\n      <th>curbweight</th>\n      <td>0.776386</td>\n      <td>0.877728</td>\n      <td>0.867032</td>\n      <td>1.000000</td>\n      <td>0.850594</td>\n      <td>0.648480</td>\n      <td>0.750739</td>\n      <td>0.835305</td>\n    </tr>\n    <tr>\n      <th>enginesize</th>\n      <td>0.569329</td>\n      <td>0.683360</td>\n      <td>0.735433</td>\n      <td>0.850594</td>\n      <td>1.000000</td>\n      <td>0.583774</td>\n      <td>0.809769</td>\n      <td>0.874145</td>\n    </tr>\n    <tr>\n      <th>boreratio</th>\n      <td>0.488750</td>\n      <td>0.606454</td>\n      <td>0.559150</td>\n      <td>0.648480</td>\n      <td>0.583774</td>\n      <td>1.000000</td>\n      <td>0.573677</td>\n      <td>0.553173</td>\n    </tr>\n    <tr>\n      <th>horsepower</th>\n      <td>0.353294</td>\n      <td>0.552623</td>\n      <td>0.640732</td>\n      <td>0.750739</td>\n      <td>0.809769</td>\n      <td>0.573677</td>\n      <td>1.000000</td>\n      <td>0.808139</td>\n    </tr>\n    <tr>\n      <th>price</th>\n      <td>0.577816</td>\n      <td>0.682920</td>\n      <td>0.759325</td>\n      <td>0.835305</td>\n      <td>0.874145</td>\n      <td>0.553173</td>\n      <td>0.808139</td>\n      <td>1.000000</td>\n    </tr>\n  </tbody>\n</table>\n</div>"
     },
     "execution_count": 12,
     "metadata": {},
     "output_type": "execute_result"
    }
   ],
   "source": [
    "df_to_analyze.corr()"
   ]
  },
  {
   "cell_type": "code",
   "execution_count": 13,
   "metadata": {
    "pycharm": {
     "name": "#%%\n"
    }
   },
   "outputs": [
    {
     "data": {
      "text/plain": "       company fueltype aspiration      carbody drivewheel  wheelbase  \\\n0  alfa-romero      gas        std  convertible        rwd       88.6   \n1  alfa-romero      gas        std  convertible        rwd       88.6   \n2  alfa-romero      gas        std    hatchback        rwd       94.5   \n3         audi      gas        std        sedan        fwd       99.8   \n4         audi      gas        std        sedan        4wd       99.4   \n\n   carlength  carwidth  curbweight enginetype cylindernumber  enginesize  \\\n0      168.8      64.1        2548       dohc           four         130   \n1      168.8      64.1        2548       dohc           four         130   \n2      171.2      65.5        2823       ohcv            six         152   \n3      176.6      66.2        2337        ohc           four         109   \n4      176.6      66.4        2824        ohc           five         136   \n\n   boreratio  horsepower    price  \n0       3.47         111  13495.0  \n1       3.47         111  16500.0  \n2       2.68         154  16500.0  \n3       3.19         102  13950.0  \n4       3.19         115  17450.0  ",
      "text/html": "<div>\n<style scoped>\n    .dataframe tbody tr th:only-of-type {\n        vertical-align: middle;\n    }\n\n    .dataframe tbody tr th {\n        vertical-align: top;\n    }\n\n    .dataframe thead th {\n        text-align: right;\n    }\n</style>\n<table border=\"1\" class=\"dataframe\">\n  <thead>\n    <tr style=\"text-align: right;\">\n      <th></th>\n      <th>company</th>\n      <th>fueltype</th>\n      <th>aspiration</th>\n      <th>carbody</th>\n      <th>drivewheel</th>\n      <th>wheelbase</th>\n      <th>carlength</th>\n      <th>carwidth</th>\n      <th>curbweight</th>\n      <th>enginetype</th>\n      <th>cylindernumber</th>\n      <th>enginesize</th>\n      <th>boreratio</th>\n      <th>horsepower</th>\n      <th>price</th>\n    </tr>\n  </thead>\n  <tbody>\n    <tr>\n      <th>0</th>\n      <td>alfa-romero</td>\n      <td>gas</td>\n      <td>std</td>\n      <td>convertible</td>\n      <td>rwd</td>\n      <td>88.6</td>\n      <td>168.8</td>\n      <td>64.1</td>\n      <td>2548</td>\n      <td>dohc</td>\n      <td>four</td>\n      <td>130</td>\n      <td>3.47</td>\n      <td>111</td>\n      <td>13495.0</td>\n    </tr>\n    <tr>\n      <th>1</th>\n      <td>alfa-romero</td>\n      <td>gas</td>\n      <td>std</td>\n      <td>convertible</td>\n      <td>rwd</td>\n      <td>88.6</td>\n      <td>168.8</td>\n      <td>64.1</td>\n      <td>2548</td>\n      <td>dohc</td>\n      <td>four</td>\n      <td>130</td>\n      <td>3.47</td>\n      <td>111</td>\n      <td>16500.0</td>\n    </tr>\n    <tr>\n      <th>2</th>\n      <td>alfa-romero</td>\n      <td>gas</td>\n      <td>std</td>\n      <td>hatchback</td>\n      <td>rwd</td>\n      <td>94.5</td>\n      <td>171.2</td>\n      <td>65.5</td>\n      <td>2823</td>\n      <td>ohcv</td>\n      <td>six</td>\n      <td>152</td>\n      <td>2.68</td>\n      <td>154</td>\n      <td>16500.0</td>\n    </tr>\n    <tr>\n      <th>3</th>\n      <td>audi</td>\n      <td>gas</td>\n      <td>std</td>\n      <td>sedan</td>\n      <td>fwd</td>\n      <td>99.8</td>\n      <td>176.6</td>\n      <td>66.2</td>\n      <td>2337</td>\n      <td>ohc</td>\n      <td>four</td>\n      <td>109</td>\n      <td>3.19</td>\n      <td>102</td>\n      <td>13950.0</td>\n    </tr>\n    <tr>\n      <th>4</th>\n      <td>audi</td>\n      <td>gas</td>\n      <td>std</td>\n      <td>sedan</td>\n      <td>4wd</td>\n      <td>99.4</td>\n      <td>176.6</td>\n      <td>66.4</td>\n      <td>2824</td>\n      <td>ohc</td>\n      <td>five</td>\n      <td>136</td>\n      <td>3.19</td>\n      <td>115</td>\n      <td>17450.0</td>\n    </tr>\n  </tbody>\n</table>\n</div>"
     },
     "execution_count": 13,
     "metadata": {},
     "output_type": "execute_result"
    }
   ],
   "source": [
    "df_to_analyze.head()"
   ]
  },
  {
   "cell_type": "code",
   "execution_count": 14,
   "metadata": {
    "pycharm": {
     "name": "#%%\n"
    }
   },
   "outputs": [
    {
     "data": {
      "text/plain": "company            object\nfueltype           object\naspiration         object\ncarbody            object\ndrivewheel         object\nwheelbase         float64\ncarlength         float64\ncarwidth          float64\ncurbweight          int64\nenginetype         object\ncylindernumber     object\nenginesize          int64\nboreratio         float64\nhorsepower          int64\nprice             float64\ndtype: object"
     },
     "execution_count": 14,
     "metadata": {},
     "output_type": "execute_result"
    }
   ],
   "source": [
    "df_to_analyze.dtypes"
   ]
  },
  {
   "cell_type": "code",
   "execution_count": 15,
   "metadata": {
    "pycharm": {
     "name": "#%%\n"
    }
   },
   "outputs": [],
   "source": [
    "df_dummy = pd.get_dummies(data=df_to_analyze[['company', 'fueltype', 'aspiration', 'carbody', 'drivewheel', 'enginetype', 'cylindernumber']],\n",
    "                            drop_first = True)"
   ]
  },
  {
   "cell_type": "code",
   "execution_count": 16,
   "metadata": {
    "pycharm": {
     "name": "#%%\n"
    }
   },
   "outputs": [
    {
     "data": {
      "text/plain": "   company_alfa-romero  company_audi  company_bmw  company_buick  \\\n0                    1             0            0              0   \n1                    1             0            0              0   \n2                    1             0            0              0   \n3                    0             1            0              0   \n4                    0             1            0              0   \n\n   company_chevrolet  company_dodge  company_honda  company_isuzu  \\\n0                  0              0              0              0   \n1                  0              0              0              0   \n2                  0              0              0              0   \n3                  0              0              0              0   \n4                  0              0              0              0   \n\n   company_jaguar  company_maxda  ...  enginetype_ohc  enginetype_ohcf  \\\n0               0              0  ...               0                0   \n1               0              0  ...               0                0   \n2               0              0  ...               0                0   \n3               0              0  ...               1                0   \n4               0              0  ...               1                0   \n\n   enginetype_ohcv  enginetype_rotor  cylindernumber_five  \\\n0                0                 0                    0   \n1                0                 0                    0   \n2                1                 0                    0   \n3                0                 0                    0   \n4                0                 0                    1   \n\n   cylindernumber_four  cylindernumber_six  cylindernumber_three  \\\n0                    1                   0                     0   \n1                    1                   0                     0   \n2                    0                   1                     0   \n3                    1                   0                     0   \n4                    0                   0                     0   \n\n   cylindernumber_twelve  cylindernumber_two  \n0                      0                   0  \n1                      0                   0  \n2                      0                   0  \n3                      0                   0  \n4                      0                   0  \n\n[5 rows x 47 columns]",
      "text/html": "<div>\n<style scoped>\n    .dataframe tbody tr th:only-of-type {\n        vertical-align: middle;\n    }\n\n    .dataframe tbody tr th {\n        vertical-align: top;\n    }\n\n    .dataframe thead th {\n        text-align: right;\n    }\n</style>\n<table border=\"1\" class=\"dataframe\">\n  <thead>\n    <tr style=\"text-align: right;\">\n      <th></th>\n      <th>company_alfa-romero</th>\n      <th>company_audi</th>\n      <th>company_bmw</th>\n      <th>company_buick</th>\n      <th>company_chevrolet</th>\n      <th>company_dodge</th>\n      <th>company_honda</th>\n      <th>company_isuzu</th>\n      <th>company_jaguar</th>\n      <th>company_maxda</th>\n      <th>...</th>\n      <th>enginetype_ohc</th>\n      <th>enginetype_ohcf</th>\n      <th>enginetype_ohcv</th>\n      <th>enginetype_rotor</th>\n      <th>cylindernumber_five</th>\n      <th>cylindernumber_four</th>\n      <th>cylindernumber_six</th>\n      <th>cylindernumber_three</th>\n      <th>cylindernumber_twelve</th>\n      <th>cylindernumber_two</th>\n    </tr>\n  </thead>\n  <tbody>\n    <tr>\n      <th>0</th>\n      <td>1</td>\n      <td>0</td>\n      <td>0</td>\n      <td>0</td>\n      <td>0</td>\n      <td>0</td>\n      <td>0</td>\n      <td>0</td>\n      <td>0</td>\n      <td>0</td>\n      <td>...</td>\n      <td>0</td>\n      <td>0</td>\n      <td>0</td>\n      <td>0</td>\n      <td>0</td>\n      <td>1</td>\n      <td>0</td>\n      <td>0</td>\n      <td>0</td>\n      <td>0</td>\n    </tr>\n    <tr>\n      <th>1</th>\n      <td>1</td>\n      <td>0</td>\n      <td>0</td>\n      <td>0</td>\n      <td>0</td>\n      <td>0</td>\n      <td>0</td>\n      <td>0</td>\n      <td>0</td>\n      <td>0</td>\n      <td>...</td>\n      <td>0</td>\n      <td>0</td>\n      <td>0</td>\n      <td>0</td>\n      <td>0</td>\n      <td>1</td>\n      <td>0</td>\n      <td>0</td>\n      <td>0</td>\n      <td>0</td>\n    </tr>\n    <tr>\n      <th>2</th>\n      <td>1</td>\n      <td>0</td>\n      <td>0</td>\n      <td>0</td>\n      <td>0</td>\n      <td>0</td>\n      <td>0</td>\n      <td>0</td>\n      <td>0</td>\n      <td>0</td>\n      <td>...</td>\n      <td>0</td>\n      <td>0</td>\n      <td>1</td>\n      <td>0</td>\n      <td>0</td>\n      <td>0</td>\n      <td>1</td>\n      <td>0</td>\n      <td>0</td>\n      <td>0</td>\n    </tr>\n    <tr>\n      <th>3</th>\n      <td>0</td>\n      <td>1</td>\n      <td>0</td>\n      <td>0</td>\n      <td>0</td>\n      <td>0</td>\n      <td>0</td>\n      <td>0</td>\n      <td>0</td>\n      <td>0</td>\n      <td>...</td>\n      <td>1</td>\n      <td>0</td>\n      <td>0</td>\n      <td>0</td>\n      <td>0</td>\n      <td>1</td>\n      <td>0</td>\n      <td>0</td>\n      <td>0</td>\n      <td>0</td>\n    </tr>\n    <tr>\n      <th>4</th>\n      <td>0</td>\n      <td>1</td>\n      <td>0</td>\n      <td>0</td>\n      <td>0</td>\n      <td>0</td>\n      <td>0</td>\n      <td>0</td>\n      <td>0</td>\n      <td>0</td>\n      <td>...</td>\n      <td>1</td>\n      <td>0</td>\n      <td>0</td>\n      <td>0</td>\n      <td>1</td>\n      <td>0</td>\n      <td>0</td>\n      <td>0</td>\n      <td>0</td>\n      <td>0</td>\n    </tr>\n  </tbody>\n</table>\n<p>5 rows × 47 columns</p>\n</div>"
     },
     "execution_count": 16,
     "metadata": {},
     "output_type": "execute_result"
    }
   ],
   "source": [
    "df_dummy.head()"
   ]
  },
  {
   "cell_type": "code",
   "execution_count": 17,
   "metadata": {
    "pycharm": {
     "name": "#%%\n"
    }
   },
   "outputs": [],
   "source": [
    "non_categorical = df_to_analyze[['wheelbase', 'carlength', 'carwidth', 'curbweight', 'enginesize', 'boreratio', 'horsepower', 'price']]"
   ]
  },
  {
   "cell_type": "code",
   "execution_count": 18,
   "metadata": {
    "pycharm": {
     "name": "#%%\n"
    }
   },
   "outputs": [],
   "source": [
    "ready_to_feet_df = pd.concat([non_categorical, df_dummy], axis=1)"
   ]
  },
  {
   "cell_type": "code",
   "execution_count": 19,
   "metadata": {
    "pycharm": {
     "name": "#%%\n"
    }
   },
   "outputs": [
    {
     "data": {
      "text/plain": "Index(['wheelbase', 'carlength', 'carwidth', 'curbweight', 'enginesize',\n       'boreratio', 'horsepower', 'price', 'company_alfa-romero',\n       'company_audi', 'company_bmw', 'company_buick', 'company_chevrolet',\n       'company_dodge', 'company_honda', 'company_isuzu', 'company_jaguar',\n       'company_maxda', 'company_mazda', 'company_mercury',\n       'company_mitsubishi', 'company_nissan', 'company_peugeot',\n       'company_plymouth', 'company_porcshce', 'company_porsche',\n       'company_renault', 'company_saab', 'company_subaru', 'company_toyota',\n       'company_toyouta', 'company_vokswagen', 'company_volkswagen',\n       'company_volvo', 'company_vw', 'fueltype_gas', 'aspiration_turbo',\n       'carbody_hardtop', 'carbody_hatchback', 'carbody_sedan',\n       'carbody_wagon', 'drivewheel_fwd', 'drivewheel_rwd', 'enginetype_dohcv',\n       'enginetype_l', 'enginetype_ohc', 'enginetype_ohcf', 'enginetype_ohcv',\n       'enginetype_rotor', 'cylindernumber_five', 'cylindernumber_four',\n       'cylindernumber_six', 'cylindernumber_three', 'cylindernumber_twelve',\n       'cylindernumber_two'],\n      dtype='object')"
     },
     "execution_count": 19,
     "metadata": {},
     "output_type": "execute_result"
    }
   ],
   "source": [
    "ready_to_feet_df.columns"
   ]
  },
  {
   "cell_type": "markdown",
   "metadata": {
    "pycharm": {
     "name": "#%% md\n"
    }
   },
   "source": [
    "Сначала построим небольшую модель всего с одним предиктором цены (price) – horsepower.\n",
    "\n",
    "Какой процент изменчивости объясняет полученная модель? (округлите до целого)"
   ]
  },
  {
   "cell_type": "code",
   "execution_count": 20,
   "metadata": {
    "pycharm": {
     "name": "#%%\n"
    }
   },
   "outputs": [
    {
     "name": "stdout",
     "output_type": "stream",
     "text": [
      "                            OLS Regression Results                            \n",
      "==============================================================================\n",
      "Dep. Variable:                  price   R-squared:                       0.653\n",
      "Model:                            OLS   Adj. R-squared:                  0.651\n",
      "Method:                 Least Squares   F-statistic:                     382.2\n",
      "Date:                Wed, 06 Jul 2022   Prob (F-statistic):           1.48e-48\n",
      "Time:                        22:43:09   Log-Likelihood:                -2024.0\n",
      "No. Observations:                 205   AIC:                             4052.\n",
      "Df Residuals:                     203   BIC:                             4059.\n",
      "Df Model:                           1                                         \n",
      "Covariance Type:            nonrobust                                         \n",
      "==============================================================================\n",
      "                 coef    std err          t      P>|t|      [0.025      0.975]\n",
      "------------------------------------------------------------------------------\n",
      "Intercept  -3721.7615    929.849     -4.003      0.000   -5555.163   -1888.360\n",
      "horsepower   163.2631      8.351     19.549      0.000     146.796     179.730\n",
      "==============================================================================\n",
      "Omnibus:                       47.741   Durbin-Watson:                   0.792\n",
      "Prob(Omnibus):                  0.000   Jarque-Bera (JB):               91.702\n",
      "Skew:                           1.141   Prob(JB):                     1.22e-20\n",
      "Kurtosis:                       5.352   Cond. No.                         314.\n",
      "==============================================================================\n",
      "\n",
      "Notes:\n",
      "[1] Standard Errors assume that the covariance matrix of the errors is correctly specified.\n"
     ]
    }
   ],
   "source": [
    "results = smf.ols('price ~ horsepower', ready_to_feet_df).fit()\n",
    "print(results.summary())"
   ]
  },
  {
   "cell_type": "markdown",
   "metadata": {
    "pycharm": {
     "name": "#%% md\n"
    }
   },
   "source": [
    "Теперь – две модели:\n",
    "\n",
    "модель со всеми предикторами\n",
    "модель со всеми предикторами, кроме марок машин\n",
    "Обратите внимание на изменения в R \n",
    "2\n",
    " , коэффициентах и их значимости. Какую модель лучше оставить? "
   ]
  },
  {
   "cell_type": "code",
   "execution_count": 21,
   "metadata": {
    "pycharm": {
     "name": "#%%\n"
    }
   },
   "outputs": [
    {
     "name": "stdout",
     "output_type": "stream",
     "text": [
      "                            OLS Regression Results                            \n",
      "==============================================================================\n",
      "Dep. Variable:                  price   R-squared:                       0.960\n",
      "Model:                            OLS   Adj. R-squared:                  0.947\n",
      "Method:                 Least Squares   F-statistic:                     70.67\n",
      "Date:                Wed, 06 Jul 2022   Prob (F-statistic):           3.98e-84\n",
      "Time:                        22:43:09   Log-Likelihood:                -1801.8\n",
      "No. Observations:                 205   AIC:                             3710.\n",
      "Df Residuals:                     152   BIC:                             3886.\n",
      "Df Model:                          52                                         \n",
      "Covariance Type:            nonrobust                                         \n",
      "=========================================================================================\n",
      "                            coef    std err          t      P>|t|      [0.025      0.975]\n",
      "-----------------------------------------------------------------------------------------\n",
      "const                 -3.729e+04   1.23e+04     -3.025      0.003   -6.16e+04   -1.29e+04\n",
      "wheelbase               135.3746     77.904      1.738      0.084     -18.539     289.289\n",
      "carlength              -113.2444     49.529     -2.286      0.024    -211.098     -15.391\n",
      "carwidth                835.0375    220.433      3.788      0.000     399.530    1270.545\n",
      "curbweight                4.1605      1.606      2.590      0.011       0.987       7.334\n",
      "enginesize               59.2528     23.998      2.469      0.015      11.840     106.666\n",
      "boreratio             -4299.0285   1782.042     -2.412      0.017   -7819.798    -778.259\n",
      "horsepower               34.9164     18.327      1.905      0.059      -1.293      71.126\n",
      "company_alfa-romero    2851.6989   2452.891      1.163      0.247   -1994.462    7697.860\n",
      "company_audi           2943.6774   2399.396      1.227      0.222   -1796.794    7684.149\n",
      "company_bmw            1.054e+04   2198.169      4.795      0.000    6196.995    1.49e+04\n",
      "company_buick          5953.0954   2847.535      2.091      0.038     327.237    1.16e+04\n",
      "company_chevrolet       466.2557   2294.692      0.203      0.839   -4067.353    4999.865\n",
      "company_dodge          -445.3438   2008.326     -0.222      0.825   -4413.182    3522.494\n",
      "company_honda           240.8296   1984.419      0.121      0.904   -3679.775    4161.434\n",
      "company_isuzu          1652.2667   2129.251      0.776      0.439   -2554.482    5859.015\n",
      "company_jaguar         5331.5953   3091.691      1.724      0.087    -776.639    1.14e+04\n",
      "company_maxda           -31.0741   2297.739     -0.014      0.989   -4570.703    4508.555\n",
      "company_mazda          1539.5140   1973.224      0.780      0.436   -2358.973    5438.001\n",
      "company_mercury        -132.2553   2879.850     -0.046      0.963   -5821.958    5557.447\n",
      "company_mitsubishi    -1089.2096   1984.685     -0.549      0.584   -5010.339    2831.920\n",
      "company_nissan         1179.5349   1935.488      0.609      0.543   -2644.396    5003.466\n",
      "company_peugeot        -694.0821   2267.862     -0.306      0.760   -5174.683    3786.519\n",
      "company_plymouth       -460.4264   2024.764     -0.227      0.820   -4460.741    3539.888\n",
      "company_porcshce       5549.4506   3769.569      1.472      0.143   -1898.064     1.3e+04\n",
      "company_porsche        7459.1616   2902.972      2.569      0.011    1723.778    1.32e+04\n",
      "company_renault        -292.1060   2351.329     -0.124      0.901   -4937.612    4353.400\n",
      "company_saab           3307.9718   2176.843      1.520      0.131    -992.803    7608.747\n",
      "company_subaru        -9735.6399   3671.579     -2.652      0.009    -1.7e+04   -2481.723\n",
      "company_toyota            5.9887   1937.368      0.003      0.998   -3821.658    3833.635\n",
      "company_toyouta       -1222.1759   2861.968     -0.427      0.670   -6876.548    4432.196\n",
      "company_vokswagen      -672.7108   2736.969     -0.246      0.806   -6080.124    4734.702\n",
      "company_volkswagen      170.6396   2012.924      0.085      0.933   -3806.282    4147.561\n",
      "company_volvo          2682.8604   2155.087      1.245      0.215   -1574.933    6940.654\n",
      "company_vw             1550.4888   2384.125      0.650      0.516   -3159.813    6260.790\n",
      "fueltype_gas           -318.8558    933.832     -0.341      0.733   -2163.823    1526.111\n",
      "aspiration_turbo        590.0966    689.957      0.855      0.394    -773.048    1953.241\n",
      "carbody_hardtop       -1997.5142   1317.135     -1.517      0.131   -4599.769     604.741\n",
      "carbody_hatchback     -2536.1871   1196.673     -2.119      0.036   -4900.447    -171.927\n",
      "carbody_sedan         -1716.2422   1263.046     -1.359      0.176   -4211.634     779.149\n",
      "carbody_wagon         -2204.3555   1326.683     -1.662      0.099   -4825.475     416.764\n",
      "drivewheel_fwd         -143.3355    897.773     -0.160      0.873   -1917.060    1630.389\n",
      "drivewheel_rwd          300.5001   1051.426      0.286      0.775   -1776.795    2377.795\n",
      "enginetype_dohcv      -9160.7085   4414.618     -2.075      0.040   -1.79e+04    -438.774\n",
      "enginetype_l           -516.1313   1635.004     -0.316      0.753   -3746.399    2714.136\n",
      "enginetype_ohc         -376.3354   1075.943     -0.350      0.727   -2502.070    1749.399\n",
      "enginetype_ohcf        1.087e+04   2863.495      3.796      0.000    5212.876    1.65e+04\n",
      "enginetype_ohcv       -2717.7762   1272.132     -2.136      0.034   -5231.120    -204.432\n",
      "enginetype_rotor       -567.2206   2152.785     -0.263      0.793   -4820.465    3686.024\n",
      "cylindernumber_five   -5845.6014   2960.191     -1.975      0.050   -1.17e+04       2.829\n",
      "cylindernumber_four   -4478.3944   3625.460     -1.235      0.219   -1.16e+04    2684.406\n",
      "cylindernumber_six    -5962.2574   2683.427     -2.222      0.028   -1.13e+04    -660.628\n",
      "cylindernumber_three    177.9508   2989.756      0.060      0.953   -5728.893    6084.794\n",
      "cylindernumber_twelve -8321.3238   3669.368     -2.268      0.025   -1.56e+04   -1071.775\n",
      "cylindernumber_two     -567.2206   2152.785     -0.263      0.793   -4820.465    3686.024\n",
      "==============================================================================\n",
      "Omnibus:                       83.233   Durbin-Watson:                   1.418\n",
      "Prob(Omnibus):                  0.000   Jarque-Bera (JB):              538.248\n",
      "Skew:                           1.396   Prob(JB):                    1.32e-117\n",
      "Kurtosis:                      10.431   Cond. No.                     1.02e+16\n",
      "==============================================================================\n",
      "\n",
      "Notes:\n",
      "[1] Standard Errors assume that the covariance matrix of the errors is correctly specified.\n",
      "[2] The smallest eigenvalue is 1.35e-23. This might indicate that there are\n",
      "strong multicollinearity problems or that the design matrix is singular.\n"
     ]
    },
    {
     "name": "stderr",
     "output_type": "stream",
     "text": [
      "/opt/anaconda3/lib/python3.9/site-packages/statsmodels/tsa/tsatools.py:142: FutureWarning: In a future version of pandas all arguments of concat except for the argument 'objs' will be keyword-only\n",
      "  x = pd.concat(x[::order], 1)\n"
     ]
    }
   ],
   "source": [
    "X = sm.add_constant(ready_to_feet_df.drop(columns='price'))\n",
    "Y = ready_to_feet_df.price\n",
    "model = sm.OLS(Y, X)\n",
    "results = model.fit()\n",
    "print(results.summary())"
   ]
  },
  {
   "cell_type": "code",
   "execution_count": 22,
   "metadata": {
    "pycharm": {
     "name": "#%%\n"
    }
   },
   "outputs": [
    {
     "name": "stdout",
     "output_type": "stream",
     "text": [
      "                            OLS Regression Results                            \n",
      "==============================================================================\n",
      "Dep. Variable:                  price   R-squared:                       0.911\n",
      "Model:                            OLS   Adj. R-squared:                  0.898\n",
      "Method:                 Least Squares   F-statistic:                     72.93\n",
      "Date:                Wed, 06 Jul 2022   Prob (F-statistic):           2.12e-80\n",
      "Time:                        22:43:09   Log-Likelihood:                -1885.0\n",
      "No. Observations:                 205   AIC:                             3822.\n",
      "Df Residuals:                     179   BIC:                             3908.\n",
      "Df Model:                          25                                         \n",
      "Covariance Type:            nonrobust                                         \n",
      "=========================================================================================\n",
      "                            coef    std err          t      P>|t|      [0.025      0.975]\n",
      "-----------------------------------------------------------------------------------------\n",
      "const                 -1.506e+04   1.31e+04     -1.146      0.253    -4.1e+04    1.09e+04\n",
      "wheelbase                25.4951     86.196      0.296      0.768    -144.596     195.586\n",
      "carlength               -66.8898     50.637     -1.321      0.188    -166.812      33.032\n",
      "carwidth                560.2195    256.744      2.182      0.030      53.586    1066.853\n",
      "curbweight                4.3519      1.727      2.520      0.013       0.944       7.760\n",
      "enginesize               25.6765     22.279      1.153      0.251     -18.287      69.640\n",
      "boreratio             -1913.6949   1750.914     -1.093      0.276   -5368.782    1541.393\n",
      "horsepower               82.9002     16.873      4.913      0.000      49.605     116.195\n",
      "fueltype_gas          -2265.8794    987.031     -2.296      0.023   -4213.593    -318.166\n",
      "aspiration_turbo      -1253.9900    796.784     -1.574      0.117   -2826.289     318.308\n",
      "carbody_hatchback     -2416.9148    937.962     -2.577      0.011   -4267.799    -566.030\n",
      "carbody_sedan          -979.1103    969.830     -1.010      0.314   -2892.881     934.660\n",
      "carbody_wagon         -2085.2801   1165.084     -1.790      0.075   -4384.347     213.787\n",
      "drivewheel_fwd          650.9496   1127.959      0.577      0.565   -1574.858    2876.757\n",
      "drivewheel_rwd         2189.1329   1239.321      1.766      0.079    -256.426    4634.692\n",
      "enginetype_dohcv       -1.85e+04   4568.307     -4.050      0.000   -2.75e+04   -9487.875\n",
      "enginetype_l           1744.3083   1339.553      1.302      0.195    -899.039    4387.656\n",
      "enginetype_ohc         3599.4914    894.252      4.025      0.000    1834.858    5364.125\n",
      "enginetype_ohcf        4910.7844   1391.511      3.529      0.001    2164.907    7656.661\n",
      "enginetype_ohcv       -5539.4701   1345.920     -4.116      0.000   -8195.381   -2883.559\n",
      "enginetype_rotor      -6209.3037   2071.726     -2.997      0.003   -1.03e+04   -2121.155\n",
      "cylindernumber_five   -1.506e+04   2891.457     -5.209      0.000   -2.08e+04   -9354.851\n",
      "cylindernumber_four   -1.735e+04   3253.434     -5.331      0.000   -2.38e+04   -1.09e+04\n",
      "cylindernumber_six    -1.272e+04   2284.347     -5.567      0.000   -1.72e+04   -8209.786\n",
      "cylindernumber_three  -1.055e+04   4787.620     -2.204      0.029      -2e+04   -1103.629\n",
      "cylindernumber_twelve -1.218e+04   3433.635     -3.547      0.000    -1.9e+04   -5404.734\n",
      "cylindernumber_two    -6209.3037   2071.726     -2.997      0.003   -1.03e+04   -2121.155\n",
      "==============================================================================\n",
      "Omnibus:                       18.925   Durbin-Watson:                   1.242\n",
      "Prob(Omnibus):                  0.000   Jarque-Bera (JB):               65.459\n",
      "Skew:                           0.161   Prob(JB):                     6.11e-15\n",
      "Kurtosis:                       5.750   Cond. No.                     1.02e+16\n",
      "==============================================================================\n",
      "\n",
      "Notes:\n",
      "[1] Standard Errors assume that the covariance matrix of the errors is correctly specified.\n",
      "[2] The smallest eigenvalue is 1.35e-23. This might indicate that there are\n",
      "strong multicollinearity problems or that the design matrix is singular.\n"
     ]
    },
    {
     "name": "stderr",
     "output_type": "stream",
     "text": [
      "/opt/anaconda3/lib/python3.9/site-packages/statsmodels/tsa/tsatools.py:142: FutureWarning: In a future version of pandas all arguments of concat except for the argument 'objs' will be keyword-only\n",
      "  x = pd.concat(x[::order], 1)\n"
     ]
    }
   ],
   "source": [
    "X = sm.add_constant(ready_to_feet_df.drop(columns=['price', 'company_alfa-romero',\n",
    "       'company_audi', 'company_bmw', 'company_buick', 'company_chevrolet',\n",
    "       'company_dodge', 'company_honda', 'company_isuzu', 'company_jaguar',\n",
    "       'company_maxda', 'company_mazda', 'company_mercury',\n",
    "       'company_mitsubishi', 'company_nissan', 'company_peugeot',\n",
    "       'company_plymouth', 'company_porcshce', 'company_porsche',\n",
    "       'company_renault', 'company_saab', 'company_subaru', 'company_toyota',\n",
    "       'company_toyouta', 'company_vokswagen', 'company_volkswagen',\n",
    "       'company_volvo', 'company_vw',\n",
    "       'carbody_hardtop']))\n",
    "Y = ready_to_feet_df.price\n",
    "model = sm.OLS(Y, X)\n",
    "results = model.fit()\n",
    "print(results.summary())"
   ]
  },
  {
   "cell_type": "code",
   "execution_count": 22,
   "metadata": {
    "pycharm": {
     "name": "#%%\n"
    }
   },
   "outputs": [],
   "source": []
  }
 ],
 "metadata": {
  "interpreter": {
   "hash": "40d3a090f54c6569ab1632332b64b2c03c39dcf918b08424e98f38b5ae0af88f"
  },
  "kernelspec": {
   "display_name": "Python 3.9.7 ('base')",
   "language": "python",
   "name": "python3"
  },
  "language_info": {
   "codemirror_mode": {
    "name": "ipython",
    "version": 3
   },
   "file_extension": ".py",
   "mimetype": "text/x-python",
   "name": "python",
   "nbconvert_exporter": "python",
   "pygments_lexer": "ipython3",
   "version": "3.9.7"
  },
  "orig_nbformat": 4
 },
 "nbformat": 4,
 "nbformat_minor": 2
}