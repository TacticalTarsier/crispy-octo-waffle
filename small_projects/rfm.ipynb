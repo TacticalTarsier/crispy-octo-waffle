{
 "cells": [
  {
   "cell_type": "code",
   "execution_count": 52,
   "metadata": {
    "pycharm": {
     "name": "#%%\n"
    }
   },
   "outputs": [],
   "source": [
    "import pandas as pd\n",
    "import requests\n",
    "from urllib.parse import urlencode"
   ]
  },
  {
   "cell_type": "code",
   "execution_count": 53,
   "outputs": [],
   "source": [
    "# Чтение данных из облака\n",
    "def download_link(public_key):\n",
    "\n",
    "    base_url = 'https://cloud-api.yandex.net/v1/disk/public/resources/download?'\n",
    "    final_url = base_url + urlencode(dict(public_key=public_key))\n",
    "    response = requests.get(final_url)\n",
    "    download_url = response.json()['href']\n",
    "    return download_url"
   ],
   "metadata": {
    "collapsed": false,
    "pycharm": {
     "name": "#%%\n"
    }
   }
  },
  {
   "cell_type": "code",
   "execution_count": 54,
   "metadata": {
    "pycharm": {
     "name": "#%%\n"
    }
   },
   "outputs": [
    {
     "name": "stderr",
     "output_type": "stream",
     "text": [
      "/opt/anaconda3/lib/python3.9/site-packages/IPython/core/interactiveshell.py:3444: DtypeWarning: Columns (1) have mixed types.Specify dtype option on import or set low_memory=False.\n",
      "  exec(code_obj, self.user_global_ns, self.user_ns)\n"
     ]
    }
   ],
   "source": [
    "df = pd.read_csv(download_link('https://disk.yandex.ru/d/GOLy9SzTS7OQnQ'),\n",
    "    parse_dates=['InvoiceDate'])"
   ]
  },
  {
   "cell_type": "code",
   "execution_count": 55,
   "metadata": {
    "pycharm": {
     "name": "#%%\n"
    }
   },
   "outputs": [
    {
     "data": {
      "text/plain": "InvoiceNo               object\nCustomerCode            object\nInvoiceDate     datetime64[ns]\nAmount                 float64\ndtype: object"
     },
     "execution_count": 55,
     "metadata": {},
     "output_type": "execute_result"
    }
   ],
   "source": [
    "df.dtypes"
   ]
  },
  {
   "cell_type": "code",
   "execution_count": 56,
   "metadata": {
    "pycharm": {
     "name": "#%%\n"
    }
   },
   "outputs": [],
   "source": [
    "df['InvoiceNo'] = df['InvoiceNo'].apply(str)\n",
    "df['CustomerCode'] = df['CustomerCode'].apply(str)"
   ]
  },
  {
   "cell_type": "markdown",
   "metadata": {
    "pycharm": {
     "name": "#%% md\n"
    }
   },
   "source": [
    "Какое максимальное кол-во покупок было совершено одним пользователем?"
   ]
  },
  {
   "cell_type": "code",
   "execution_count": 57,
   "metadata": {
    "pycharm": {
     "name": "#%%\n"
    }
   },
   "outputs": [
    {
     "data": {
      "text/plain": "      CustomerCode  InvoiceNo\n89388     19057820        204",
      "text/html": "<div>\n<style scoped>\n    .dataframe tbody tr th:only-of-type {\n        vertical-align: middle;\n    }\n\n    .dataframe tbody tr th {\n        vertical-align: top;\n    }\n\n    .dataframe thead th {\n        text-align: right;\n    }\n</style>\n<table border=\"1\" class=\"dataframe\">\n  <thead>\n    <tr style=\"text-align: right;\">\n      <th></th>\n      <th>CustomerCode</th>\n      <th>InvoiceNo</th>\n    </tr>\n  </thead>\n  <tbody>\n    <tr>\n      <th>89388</th>\n      <td>19057820</td>\n      <td>204</td>\n    </tr>\n  </tbody>\n</table>\n</div>"
     },
     "execution_count": 57,
     "metadata": {},
     "output_type": "execute_result"
    }
   ],
   "source": [
    "df.groupby('CustomerCode', as_index=False)\\\n",
    "    .agg({'InvoiceNo': lambda x: len(x)})\\\n",
    "    .sort_values('InvoiceNo', ascending=False)\\\n",
    "    .head(1)"
   ]
  },
  {
   "cell_type": "code",
   "execution_count": 58,
   "metadata": {
    "pycharm": {
     "name": "#%%\n"
    }
   },
   "outputs": [],
   "source": [
    "# Max date in the DF\n",
    "max_date = df['InvoiceDate'].max()"
   ]
  },
  {
   "cell_type": "code",
   "execution_count": 59,
   "metadata": {
    "pycharm": {
     "name": "#%%\n"
    }
   },
   "outputs": [
    {
     "data": {
      "text/plain": "        InvoiceNo CustomerCode InvoiceDate   Amount\n0  C0011810010001     19067290  2020-09-01  1716.00\n1  C0011810010017     13233933  2020-09-01  1489.74\n2  C0011810010020     99057968  2020-09-01   151.47\n3  C0011810010021     80007276  2020-09-01   146.72\n4  C0011810010024     13164076  2020-09-01   104.00",
      "text/html": "<div>\n<style scoped>\n    .dataframe tbody tr th:only-of-type {\n        vertical-align: middle;\n    }\n\n    .dataframe tbody tr th {\n        vertical-align: top;\n    }\n\n    .dataframe thead th {\n        text-align: right;\n    }\n</style>\n<table border=\"1\" class=\"dataframe\">\n  <thead>\n    <tr style=\"text-align: right;\">\n      <th></th>\n      <th>InvoiceNo</th>\n      <th>CustomerCode</th>\n      <th>InvoiceDate</th>\n      <th>Amount</th>\n    </tr>\n  </thead>\n  <tbody>\n    <tr>\n      <th>0</th>\n      <td>C0011810010001</td>\n      <td>19067290</td>\n      <td>2020-09-01</td>\n      <td>1716.00</td>\n    </tr>\n    <tr>\n      <th>1</th>\n      <td>C0011810010017</td>\n      <td>13233933</td>\n      <td>2020-09-01</td>\n      <td>1489.74</td>\n    </tr>\n    <tr>\n      <th>2</th>\n      <td>C0011810010020</td>\n      <td>99057968</td>\n      <td>2020-09-01</td>\n      <td>151.47</td>\n    </tr>\n    <tr>\n      <th>3</th>\n      <td>C0011810010021</td>\n      <td>80007276</td>\n      <td>2020-09-01</td>\n      <td>146.72</td>\n    </tr>\n    <tr>\n      <th>4</th>\n      <td>C0011810010024</td>\n      <td>13164076</td>\n      <td>2020-09-01</td>\n      <td>104.00</td>\n    </tr>\n  </tbody>\n</table>\n</div>"
     },
     "execution_count": 59,
     "metadata": {},
     "output_type": "execute_result"
    }
   ],
   "source": [
    "df.head()"
   ]
  },
  {
   "cell_type": "code",
   "execution_count": 60,
   "metadata": {
    "pycharm": {
     "name": "#%%\n"
    }
   },
   "outputs": [],
   "source": [
    "rfm_df = df.groupby('CustomerCode', as_index=False)\\\n",
    "    .agg(recency=('InvoiceDate', lambda x: (max_date - x.max()).days),\n",
    "         frequency=('Amount', lambda x: len(x)),\n",
    "         monetary=('Amount', 'sum'))"
   ]
  },
  {
   "cell_type": "code",
   "execution_count": 61,
   "metadata": {
    "pycharm": {
     "name": "#%%\n"
    }
   },
   "outputs": [
    {
     "data": {
      "text/plain": "123733"
     },
     "execution_count": 61,
     "metadata": {},
     "output_type": "execute_result"
    }
   ],
   "source": [
    "df['CustomerCode'].nunique()"
   ]
  },
  {
   "cell_type": "code",
   "execution_count": 62,
   "outputs": [
    {
     "data": {
      "text/plain": "  CustomerCode  recency  frequency  monetary\n0     02213019       19          1   1609.20\n1     02213042       22          3   9685.48\n2     02213071       29          1    415.00\n3     02213088       23          1    305.00\n4     02213092       25          1   1412.88",
      "text/html": "<div>\n<style scoped>\n    .dataframe tbody tr th:only-of-type {\n        vertical-align: middle;\n    }\n\n    .dataframe tbody tr th {\n        vertical-align: top;\n    }\n\n    .dataframe thead th {\n        text-align: right;\n    }\n</style>\n<table border=\"1\" class=\"dataframe\">\n  <thead>\n    <tr style=\"text-align: right;\">\n      <th></th>\n      <th>CustomerCode</th>\n      <th>recency</th>\n      <th>frequency</th>\n      <th>monetary</th>\n    </tr>\n  </thead>\n  <tbody>\n    <tr>\n      <th>0</th>\n      <td>02213019</td>\n      <td>19</td>\n      <td>1</td>\n      <td>1609.20</td>\n    </tr>\n    <tr>\n      <th>1</th>\n      <td>02213042</td>\n      <td>22</td>\n      <td>3</td>\n      <td>9685.48</td>\n    </tr>\n    <tr>\n      <th>2</th>\n      <td>02213071</td>\n      <td>29</td>\n      <td>1</td>\n      <td>415.00</td>\n    </tr>\n    <tr>\n      <th>3</th>\n      <td>02213088</td>\n      <td>23</td>\n      <td>1</td>\n      <td>305.00</td>\n    </tr>\n    <tr>\n      <th>4</th>\n      <td>02213092</td>\n      <td>25</td>\n      <td>1</td>\n      <td>1412.88</td>\n    </tr>\n  </tbody>\n</table>\n</div>"
     },
     "execution_count": 62,
     "metadata": {},
     "output_type": "execute_result"
    }
   ],
   "source": [
    "rfm_df.head()"
   ],
   "metadata": {
    "collapsed": false,
    "pycharm": {
     "name": "#%%\n"
    }
   }
  },
  {
   "cell_type": "markdown",
   "metadata": {
    "pycharm": {
     "name": "#%% md\n"
    }
   },
   "source": [
    "Какая верхняя граница у суммы покупок у пользователей с классом 4 в подсегменте М?\n",
    "Какая нижняя граница у количества покупок у пользователей с классом 1 в подсегменте F? <br>\n",
    "Какое максимальное количество дней может пройти с момента последней покупки для того, чтобы пользователь попал в класс 2 в подсегменте R?"
   ]
  },
  {
   "cell_type": "code",
   "execution_count": 63,
   "metadata": {
    "pycharm": {
     "name": "#%%\n"
    }
   },
   "outputs": [],
   "source": [
    "quantiles_table = rfm_df.quantile(q=[0.25, 0.5, 0.75])"
   ]
  },
  {
   "cell_type": "code",
   "execution_count": 64,
   "metadata": {
    "pycharm": {
     "name": "#%%\n"
    }
   },
   "outputs": [
    {
     "data": {
      "text/plain": "      recency  frequency  monetary\n0.25      2.0        1.0    765.00\n0.50      8.0        2.0   1834.48\n0.75     16.0        3.0   4008.84",
      "text/html": "<div>\n<style scoped>\n    .dataframe tbody tr th:only-of-type {\n        vertical-align: middle;\n    }\n\n    .dataframe tbody tr th {\n        vertical-align: top;\n    }\n\n    .dataframe thead th {\n        text-align: right;\n    }\n</style>\n<table border=\"1\" class=\"dataframe\">\n  <thead>\n    <tr style=\"text-align: right;\">\n      <th></th>\n      <th>recency</th>\n      <th>frequency</th>\n      <th>monetary</th>\n    </tr>\n  </thead>\n  <tbody>\n    <tr>\n      <th>0.25</th>\n      <td>2.0</td>\n      <td>1.0</td>\n      <td>765.00</td>\n    </tr>\n    <tr>\n      <th>0.50</th>\n      <td>8.0</td>\n      <td>2.0</td>\n      <td>1834.48</td>\n    </tr>\n    <tr>\n      <th>0.75</th>\n      <td>16.0</td>\n      <td>3.0</td>\n      <td>4008.84</td>\n    </tr>\n  </tbody>\n</table>\n</div>"
     },
     "execution_count": 64,
     "metadata": {},
     "output_type": "execute_result"
    }
   ],
   "source": [
    "quantiles_table"
   ]
  },
  {
   "cell_type": "code",
   "execution_count": 65,
   "metadata": {
    "pycharm": {
     "name": "#%%\n"
    }
   },
   "outputs": [],
   "source": [
    "def RClass(value,parameter_name,quantiles_table):\n",
    "    if value <= quantiles_table[parameter_name][0.25]:\n",
    "        return 1\n",
    "    elif value <= quantiles_table[parameter_name][0.50]:\n",
    "        return 2\n",
    "    elif value <= quantiles_table[parameter_name][0.75]: \n",
    "        return 3\n",
    "    else:\n",
    "        return 4\n",
    "\n",
    "def FMClass(value, parameter_name,quantiles_table):\n",
    "    if value <= quantiles_table[parameter_name][0.25]:\n",
    "        return 4\n",
    "    elif value <= quantiles_table[parameter_name][0.50]:\n",
    "        return 3\n",
    "    elif value <= quantiles_table[parameter_name][0.75]: \n",
    "        return 2\n",
    "    else:\n",
    "        return 1\n"
   ]
  },
  {
   "cell_type": "code",
   "execution_count": 66,
   "metadata": {
    "pycharm": {
     "name": "#%%\n"
    }
   },
   "outputs": [],
   "source": [
    "rfm_df['R_Quartile'] = rfm_df['recency'].apply(RClass, args=('recency',quantiles_table))\n",
    "\n",
    "rfm_df['F_Quartile'] = rfm_df['frequency'].apply(FMClass, args=('frequency',quantiles_table))\n",
    "\n",
    "rfm_df['M_Quartile'] = rfm_df['monetary'].apply(FMClass, args=('monetary',quantiles_table))\n",
    "\n",
    "rfm_df['RFMClass'] = rfm_df.R_Quartile.map(str) + rfm_df.F_Quartile.map(str) + rfm_df.M_Quartile.map(str)"
   ]
  },
  {
   "cell_type": "code",
   "execution_count": 67,
   "outputs": [
    {
     "data": {
      "text/plain": "  CustomerCode  recency  frequency  monetary  R_Quartile  F_Quartile  \\\n0     02213019       19          1   1609.20           4           4   \n1     02213042       22          3   9685.48           4           2   \n2     02213071       29          1    415.00           4           4   \n3     02213088       23          1    305.00           4           4   \n4     02213092       25          1   1412.88           4           4   \n\n   M_Quartile RFMClass  \n0           3      443  \n1           1      421  \n2           4      444  \n3           4      444  \n4           3      443  ",
      "text/html": "<div>\n<style scoped>\n    .dataframe tbody tr th:only-of-type {\n        vertical-align: middle;\n    }\n\n    .dataframe tbody tr th {\n        vertical-align: top;\n    }\n\n    .dataframe thead th {\n        text-align: right;\n    }\n</style>\n<table border=\"1\" class=\"dataframe\">\n  <thead>\n    <tr style=\"text-align: right;\">\n      <th></th>\n      <th>CustomerCode</th>\n      <th>recency</th>\n      <th>frequency</th>\n      <th>monetary</th>\n      <th>R_Quartile</th>\n      <th>F_Quartile</th>\n      <th>M_Quartile</th>\n      <th>RFMClass</th>\n    </tr>\n  </thead>\n  <tbody>\n    <tr>\n      <th>0</th>\n      <td>02213019</td>\n      <td>19</td>\n      <td>1</td>\n      <td>1609.20</td>\n      <td>4</td>\n      <td>4</td>\n      <td>3</td>\n      <td>443</td>\n    </tr>\n    <tr>\n      <th>1</th>\n      <td>02213042</td>\n      <td>22</td>\n      <td>3</td>\n      <td>9685.48</td>\n      <td>4</td>\n      <td>2</td>\n      <td>1</td>\n      <td>421</td>\n    </tr>\n    <tr>\n      <th>2</th>\n      <td>02213071</td>\n      <td>29</td>\n      <td>1</td>\n      <td>415.00</td>\n      <td>4</td>\n      <td>4</td>\n      <td>4</td>\n      <td>444</td>\n    </tr>\n    <tr>\n      <th>3</th>\n      <td>02213088</td>\n      <td>23</td>\n      <td>1</td>\n      <td>305.00</td>\n      <td>4</td>\n      <td>4</td>\n      <td>4</td>\n      <td>444</td>\n    </tr>\n    <tr>\n      <th>4</th>\n      <td>02213092</td>\n      <td>25</td>\n      <td>1</td>\n      <td>1412.88</td>\n      <td>4</td>\n      <td>4</td>\n      <td>3</td>\n      <td>443</td>\n    </tr>\n  </tbody>\n</table>\n</div>"
     },
     "execution_count": 67,
     "metadata": {},
     "output_type": "execute_result"
    }
   ],
   "source": [
    "rfm_df.head()"
   ],
   "metadata": {
    "collapsed": false,
    "pycharm": {
     "name": "#%%\n"
    }
   }
  },
  {
   "cell_type": "code",
   "execution_count": 68,
   "metadata": {
    "pycharm": {
     "name": "#%%\n"
    }
   },
   "outputs": [
    {
     "data": {
      "text/plain": "   RFMClass  CustomerCode  recency  frequency  monetary  R_Quartile  \\\n32      311          1609        8         16      1607           1   \n\n    F_Quartile  M_Quartile  \n32           1           1  ",
      "text/html": "<div>\n<style scoped>\n    .dataframe tbody tr th:only-of-type {\n        vertical-align: middle;\n    }\n\n    .dataframe tbody tr th {\n        vertical-align: top;\n    }\n\n    .dataframe thead th {\n        text-align: right;\n    }\n</style>\n<table border=\"1\" class=\"dataframe\">\n  <thead>\n    <tr style=\"text-align: right;\">\n      <th></th>\n      <th>RFMClass</th>\n      <th>CustomerCode</th>\n      <th>recency</th>\n      <th>frequency</th>\n      <th>monetary</th>\n      <th>R_Quartile</th>\n      <th>F_Quartile</th>\n      <th>M_Quartile</th>\n    </tr>\n  </thead>\n  <tbody>\n    <tr>\n      <th>32</th>\n      <td>311</td>\n      <td>1609</td>\n      <td>8</td>\n      <td>16</td>\n      <td>1607</td>\n      <td>1</td>\n      <td>1</td>\n      <td>1</td>\n    </tr>\n  </tbody>\n</table>\n</div>"
     },
     "execution_count": 68,
     "metadata": {},
     "output_type": "execute_result"
    }
   ],
   "source": [
    "rfm_df.groupby('RFMClass', as_index=False)\\\n",
    "    .nunique()\\\n",
    "    .query(\"RFMClass == '311'\")"
   ]
  },
  {
   "cell_type": "markdown",
   "metadata": {
    "pycharm": {
     "name": "#%% md\n"
    }
   },
   "source": [
    "В каком RFM-сегменте самое большое кол-во пользователей? <br>\n",
    "В каком RFM-сегменте самое маленькое кол-во пользователей? <br>\n",
    "Какое количество пользователей попало в самый малочисленный сегмент?"
   ]
  },
  {
   "cell_type": "code",
   "execution_count": 73,
   "outputs": [
    {
     "data": {
      "text/plain": "  CustomerCode  recency  frequency  monetary  R_Quartile  F_Quartile  \\\n0     02213019       19          1   1609.20           4           4   \n1     02213042       22          3   9685.48           4           2   \n2     02213071       29          1    415.00           4           4   \n3     02213088       23          1    305.00           4           4   \n4     02213092       25          1   1412.88           4           4   \n\n   M_Quartile RFMClass  \n0           3      443  \n1           1      421  \n2           4      444  \n3           4      444  \n4           3      443  ",
      "text/html": "<div>\n<style scoped>\n    .dataframe tbody tr th:only-of-type {\n        vertical-align: middle;\n    }\n\n    .dataframe tbody tr th {\n        vertical-align: top;\n    }\n\n    .dataframe thead th {\n        text-align: right;\n    }\n</style>\n<table border=\"1\" class=\"dataframe\">\n  <thead>\n    <tr style=\"text-align: right;\">\n      <th></th>\n      <th>CustomerCode</th>\n      <th>recency</th>\n      <th>frequency</th>\n      <th>monetary</th>\n      <th>R_Quartile</th>\n      <th>F_Quartile</th>\n      <th>M_Quartile</th>\n      <th>RFMClass</th>\n    </tr>\n  </thead>\n  <tbody>\n    <tr>\n      <th>0</th>\n      <td>02213019</td>\n      <td>19</td>\n      <td>1</td>\n      <td>1609.20</td>\n      <td>4</td>\n      <td>4</td>\n      <td>3</td>\n      <td>443</td>\n    </tr>\n    <tr>\n      <th>1</th>\n      <td>02213042</td>\n      <td>22</td>\n      <td>3</td>\n      <td>9685.48</td>\n      <td>4</td>\n      <td>2</td>\n      <td>1</td>\n      <td>421</td>\n    </tr>\n    <tr>\n      <th>2</th>\n      <td>02213071</td>\n      <td>29</td>\n      <td>1</td>\n      <td>415.00</td>\n      <td>4</td>\n      <td>4</td>\n      <td>4</td>\n      <td>444</td>\n    </tr>\n    <tr>\n      <th>3</th>\n      <td>02213088</td>\n      <td>23</td>\n      <td>1</td>\n      <td>305.00</td>\n      <td>4</td>\n      <td>4</td>\n      <td>4</td>\n      <td>444</td>\n    </tr>\n    <tr>\n      <th>4</th>\n      <td>02213092</td>\n      <td>25</td>\n      <td>1</td>\n      <td>1412.88</td>\n      <td>4</td>\n      <td>4</td>\n      <td>3</td>\n      <td>443</td>\n    </tr>\n  </tbody>\n</table>\n</div>"
     },
     "execution_count": 73,
     "metadata": {},
     "output_type": "execute_result"
    }
   ],
   "source": [
    "rfm_df.head()"
   ],
   "metadata": {
    "collapsed": false,
    "pycharm": {
     "name": "#%%\n"
    }
   }
  },
  {
   "cell_type": "code",
   "execution_count": 70,
   "metadata": {
    "pycharm": {
     "name": "#%%\n"
    }
   },
   "outputs": [],
   "source": [
    "grouped_rfm = rfm_df.groupby('RFMClass', as_index=False)\\\n",
    "    .agg(nunique_users=('CustomerCode', 'nunique'))\\\n",
    "    .sort_values('nunique_users', ascending=False)"
   ]
  },
  {
   "cell_type": "code",
   "execution_count": 71,
   "outputs": [
    {
     "data": {
      "text/plain": "RFMClass           444\nnunique_users    10624\nName: 63, dtype: object"
     },
     "execution_count": 71,
     "metadata": {},
     "output_type": "execute_result"
    }
   ],
   "source": [
    "grouped_rfm.loc[grouped_rfm.nunique_users.idxmax()]"
   ],
   "metadata": {
    "collapsed": false,
    "pycharm": {
     "name": "#%%\n"
    }
   }
  },
  {
   "cell_type": "code",
   "execution_count": 72,
   "outputs": [
    {
     "data": {
      "text/plain": "RFMClass         414\nnunique_users      2\nName: 51, dtype: object"
     },
     "execution_count": 72,
     "metadata": {},
     "output_type": "execute_result"
    }
   ],
   "source": [
    "grouped_rfm.loc[grouped_rfm.nunique_users.idxmin()]"
   ],
   "metadata": {
    "collapsed": false,
    "pycharm": {
     "name": "#%%\n"
    }
   }
  }
 ],
 "metadata": {
  "interpreter": {
   "hash": "40d3a090f54c6569ab1632332b64b2c03c39dcf918b08424e98f38b5ae0af88f"
  },
  "kernelspec": {
   "display_name": "Python 3.9.7 ('base')",
   "language": "python",
   "name": "python3"
  },
  "language_info": {
   "codemirror_mode": {
    "name": "ipython",
    "version": 3
   },
   "file_extension": ".py",
   "mimetype": "text/x-python",
   "name": "python",
   "nbconvert_exporter": "python",
   "pygments_lexer": "ipython3",
   "version": "3.9.7"
  },
  "orig_nbformat": 4
 },
 "nbformat": 4,
 "nbformat_minor": 2
}